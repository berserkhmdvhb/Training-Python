{
 "cells": [
  {
   "cell_type": "markdown",
   "id": "9f0877ca",
   "metadata": {},
   "source": [
    "# Chapter 7. Functions as First-Class Objects\n",
    "---"
   ]
  },
  {
   "cell_type": "markdown",
   "id": "f2124e16",
   "metadata": {},
   "source": [
    "## ToC\n",
    "\n",
    "[Objectives](#objectives)  \n",
    "\n",
    "1. [Treating a Function Like an Object](#variables-are-not-boxes)  \n",
    "2. [Higher-Order Functions](#higher-order-functions)  \n",
    "    2.1. [Modern Replacements for map, filter, and reduce](#modern-replacements-for-map-filter-and-reduce)\n",
    "---"
   ]
  },
  {
   "cell_type": "markdown",
   "id": "224aacb8",
   "metadata": {},
   "source": [
    "## Objectives"
   ]
  },
  {
   "cell_type": "markdown",
   "id": "bc8b8f92",
   "metadata": {},
   "source": [
    "Functions in Python are first-class objects. Programming language researchers define\n",
    "a “first-class object” as a program entity that can be:\n",
    "- Created at runtime\n",
    "- Assigned to a variable or element in a data structure\n",
    "- Passed as an argument to a function\n",
    "- Returned as the result of a function\n",
    "\n",
    "Integers, strings, and dictionaries are other examples of first-class objects in Python. \n",
    "\n",
    "The term “first-class functions” is widely used as shorthand for\n",
    "“functions as first-class objects.” (not ideal)"
   ]
  },
  {
   "cell_type": "markdown",
   "id": "243e2802",
   "metadata": {},
   "source": [
    "![Figure 1](https://raw.githubusercontent.com/berserkhmdvhb/Training-Python/main/figures/Part_II/1.PNG)"
   ]
  },
  {
   "cell_type": "markdown",
   "id": "7ba096f4",
   "metadata": {},
   "source": [
    "[Link](https://www.fluentpython.com/extra/function-introspection/)"
   ]
  },
  {
   "cell_type": "markdown",
   "id": "f4bd690c",
   "metadata": {},
   "source": [
    "## Treating a Function Like an Object"
   ]
  },
  {
   "cell_type": "markdown",
   "id": "d193e8e8",
   "metadata": {},
   "source": [
    "Following example shows that Python functions are objects."
   ]
  },
  {
   "cell_type": "code",
   "execution_count": 1,
   "id": "ba85463f",
   "metadata": {},
   "outputs": [],
   "source": [
    "def factorial(n):\n",
    "    \"\"\"returns n!\"\"\"\n",
    "    return 1 if n < 2 else n * factorial(n - 1)"
   ]
  },
  {
   "cell_type": "code",
   "execution_count": 2,
   "id": "7e5ad964",
   "metadata": {},
   "outputs": [
    {
     "data": {
      "text/plain": [
       "1405006117752879898543142606244511569936384000000000"
      ]
     },
     "execution_count": 2,
     "metadata": {},
     "output_type": "execute_result"
    }
   ],
   "source": [
    "factorial(42)"
   ]
  },
  {
   "cell_type": "code",
   "execution_count": 3,
   "id": "784a052f",
   "metadata": {},
   "outputs": [
    {
     "data": {
      "text/plain": [
       "'returns n!'"
      ]
     },
     "execution_count": 3,
     "metadata": {},
     "output_type": "execute_result"
    }
   ],
   "source": [
    "factorial.__doc__"
   ]
  },
  {
   "cell_type": "code",
   "execution_count": 4,
   "id": "d85f82db",
   "metadata": {},
   "outputs": [
    {
     "data": {
      "text/plain": [
       "function"
      ]
     },
     "execution_count": 4,
     "metadata": {},
     "output_type": "execute_result"
    }
   ],
   "source": [
    "type(factorial)"
   ]
  },
  {
   "cell_type": "markdown",
   "id": "9bf67338",
   "metadata": {},
   "source": [
    "Following code shows the “first class” nature of a function object. We can also pass factorial as an argument\n",
    "to the [map](https://docs.python.org/3/library/functions.html#map) function. Calling `map(function, iterable)` returns an iterable\n",
    "where each item is the result of calling the first argument (a function) to successive\n",
    "elements of the second argument (an iterable), `range(10)` in this example"
   ]
  },
  {
   "cell_type": "code",
   "execution_count": 5,
   "id": "a9906659",
   "metadata": {},
   "outputs": [],
   "source": [
    "fact = factorial"
   ]
  },
  {
   "cell_type": "code",
   "execution_count": 6,
   "id": "f108eef1",
   "metadata": {},
   "outputs": [
    {
     "data": {
      "text/plain": [
       "<function __main__.factorial(n)>"
      ]
     },
     "execution_count": 6,
     "metadata": {},
     "output_type": "execute_result"
    }
   ],
   "source": [
    "fact"
   ]
  },
  {
   "cell_type": "code",
   "execution_count": 7,
   "id": "942426f7",
   "metadata": {},
   "outputs": [
    {
     "data": {
      "text/plain": [
       "120"
      ]
     },
     "execution_count": 7,
     "metadata": {},
     "output_type": "execute_result"
    }
   ],
   "source": [
    "fact(5)"
   ]
  },
  {
   "cell_type": "code",
   "execution_count": 8,
   "id": "8e2134f9",
   "metadata": {},
   "outputs": [
    {
     "data": {
      "text/plain": [
       "<map at 0x1e0bf603a00>"
      ]
     },
     "execution_count": 8,
     "metadata": {},
     "output_type": "execute_result"
    }
   ],
   "source": [
    "map(factorial, range(11))"
   ]
  },
  {
   "cell_type": "code",
   "execution_count": 9,
   "id": "cccb455a",
   "metadata": {},
   "outputs": [
    {
     "data": {
      "text/plain": [
       "[1, 1, 2, 6, 24, 120, 720, 5040, 40320, 362880, 3628800]"
      ]
     },
     "execution_count": 9,
     "metadata": {},
     "output_type": "execute_result"
    }
   ],
   "source": [
    "list(map(factorial, range(11)))"
   ]
  },
  {
   "cell_type": "markdown",
   "id": "f36b9b82",
   "metadata": {},
   "source": [
    "## Higher-Order Functions"
   ]
  },
  {
   "cell_type": "markdown",
   "id": "aaedcd39",
   "metadata": {},
   "source": [
    "A function that takes a function as an argument or returns a function as the result is a *higher-order function*. One example is `map`. Another is the\n",
    "built-in function `sorted`: the optional key argument lets you provide a function (e.g., `len`) to be applied to each item for sorting, as show in `list.sort Versus the sorted Built-In` in notebook `Part_I/Chapter_02_ArrayOfSequences/03_Slicing_PlusAsteriksSigns.ipynb`.\n"
   ]
  },
  {
   "cell_type": "code",
   "execution_count": 10,
   "id": "6ab25f95",
   "metadata": {},
   "outputs": [
    {
     "data": {
      "text/plain": [
       "['fig', 'apple', 'cherry', 'banana', 'raspberry', 'strawberry']"
      ]
     },
     "execution_count": 10,
     "metadata": {},
     "output_type": "execute_result"
    }
   ],
   "source": [
    "fruits = ['strawberry', 'fig', 'apple', 'cherry', 'raspberry', 'banana']\n",
    "sorted(fruits, key=len)"
   ]
  },
  {
   "cell_type": "code",
   "execution_count": 11,
   "id": "802bf8e6",
   "metadata": {},
   "outputs": [
    {
     "data": {
      "text/plain": [
       "'gnitset'"
      ]
     },
     "execution_count": 11,
     "metadata": {},
     "output_type": "execute_result"
    }
   ],
   "source": [
    "def reverse(word):\n",
    "    return word[::-1]\n",
    "\n",
    "reverse('testing')"
   ]
  },
  {
   "cell_type": "code",
   "execution_count": 12,
   "id": "14b62b77",
   "metadata": {},
   "outputs": [
    {
     "data": {
      "text/plain": [
       "['banana', 'apple', 'fig', 'raspberry', 'strawberry', 'cherry']"
      ]
     },
     "execution_count": 12,
     "metadata": {},
     "output_type": "execute_result"
    }
   ],
   "source": [
    "sorted(fruits, key=reverse)"
   ]
  },
  {
   "cell_type": "markdown",
   "id": "4b6d7f1d",
   "metadata": {},
   "source": [
    "In the functional programming paradigm, some of the best known higher-order\n",
    "functions are `map`, `filter`, `reduce`, and `apply`. If you need to\n",
    "call a function with a dynamic set of arguments, you can write `fn(*args, **kwargs)` instead of `apply(fn, args, kwargs)`."
   ]
  },
  {
   "cell_type": "markdown",
   "id": "8fa1ebd8",
   "metadata": {},
   "source": [
    "### Modern Replacements for map, filter, and reduce"
   ]
  },
  {
   "cell_type": "markdown",
   "id": "48f52183",
   "metadata": {},
   "source": []
  }
 ],
 "metadata": {
  "kernelspec": {
   "display_name": "env_train",
   "language": "python",
   "name": "python3"
  },
  "language_info": {
   "codemirror_mode": {
    "name": "ipython",
    "version": 3
   },
   "file_extension": ".py",
   "mimetype": "text/x-python",
   "name": "python",
   "nbconvert_exporter": "python",
   "pygments_lexer": "ipython3",
   "version": "3.12.2"
  }
 },
 "nbformat": 4,
 "nbformat_minor": 5
}

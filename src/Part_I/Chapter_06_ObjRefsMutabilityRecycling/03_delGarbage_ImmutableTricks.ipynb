{
 "cells": [
  {
   "cell_type": "markdown",
   "id": "caa6cf7a",
   "metadata": {},
   "source": [
    "# Chapter 5. Object References, Mutability, and Recycling\n",
    "---"
   ]
  },
  {
   "cell_type": "markdown",
   "id": "0c20f2c7",
   "metadata": {},
   "source": [
    "## ToC\n",
    "\n",
    "1. [del and Garbage Collection](#del-and-garbage-collection)\n",
    "---"
   ]
  },
  {
   "cell_type": "markdown",
   "id": "a6457752",
   "metadata": {},
   "source": [
    "## del and Garbage Collection"
   ]
  },
  {
   "cell_type": "markdown",
   "id": "9cb63685",
   "metadata": {},
   "source": [
    "The first strange fact about `del` is that it’s not a function, it’s a statement. We write\n",
    "`del x` and not `del(x)`—although the latter also works, but only because the expressions\n",
    "`x` and `(x)` usually mean the same thing in Python.\n",
    "\n",
    "The second surprising fact is that `del` deletes references, not objects. Python’s\n",
    "garbage collector may discard an object from memory as an indirect result of del, if\n",
    "the deleted variable was the last reference to the object. Rebinding a variable may also\n",
    "cause the number of references to an object to reach zero, causing its destruction."
   ]
  },
  {
   "cell_type": "code",
   "execution_count": 17,
   "id": "a522cf40",
   "metadata": {},
   "outputs": [
    {
     "data": {
      "text/plain": [
       "[1, 2]"
      ]
     },
     "execution_count": 17,
     "metadata": {},
     "output_type": "execute_result"
    }
   ],
   "source": [
    "a = [1, 2]\n",
    "b = a\n",
    "del a \n",
    "b"
   ]
  },
  {
   "cell_type": "markdown",
   "id": "f925926b",
   "metadata": {},
   "source": [
    "Rebinding b to a different object removes the last remaining reference to `[1, 2]`.\n",
    "Now the garbage collector can discard that object:"
   ]
  },
  {
   "cell_type": "code",
   "execution_count": 18,
   "id": "ff636106",
   "metadata": {},
   "outputs": [],
   "source": [
    "b = [3]"
   ]
  },
  {
   "cell_type": "markdown",
   "id": "cf0752aa",
   "metadata": {},
   "source": [
    "![Figure 95](https://raw.githubusercontent.com/berserkhmdvhb/Training-Python/main/figures/Part_I/95.PNG)"
   ]
  },
  {
   "cell_type": "markdown",
   "id": "8b05ce44",
   "metadata": {},
   "source": [
    "In CPython, the primary algorithm for garbage collection is reference counting. Essentially, each object keeps count of how many references point to it. As soon as that refcount reaches zero, the object is immediately destroyed: CPython calls the `__del__` method on the object (if defined) and then frees the memory allocated to the object. In CPython 2.0, a generational garbage collection algorithm was added to\n",
    "detect groups of objects involved in reference cycles. Other implementations of Python have more sophisticated\n",
    "garbage collectors that do not rely on reference counting, which means the __del__\n",
    "method may not be called immediately when there are no more references to the\n",
    "object. See [“PyPy, Garbage Collection, and a Deadlock”](https://fpy.li/6-7)."
   ]
  },
  {
   "cell_type": "markdown",
   "id": "f408e3d8",
   "metadata": {},
   "source": [
    "To demonstrate the end of an object’s life, `weakref.finalize` register a callback function to be called when an object is destroyed. See example:"
   ]
  },
  {
   "cell_type": "code",
   "execution_count": 21,
   "id": "9393acf9",
   "metadata": {},
   "outputs": [
    {
     "data": {
      "text/plain": [
       "True"
      ]
     },
     "execution_count": 21,
     "metadata": {},
     "output_type": "execute_result"
    }
   ],
   "source": [
    "import weakref\n",
    "s1 = {1, 2, 3}\n",
    "s2 = s1\n",
    "def bye():\n",
    "    print('...like tears in the rain.')\n",
    "\n",
    "ender = weakref.finalize(s1, bye)\n",
    "ender.alive"
   ]
  },
  {
   "cell_type": "code",
   "execution_count": 22,
   "id": "bec86fba",
   "metadata": {},
   "outputs": [
    {
     "data": {
      "text/plain": [
       "True"
      ]
     },
     "execution_count": 22,
     "metadata": {},
     "output_type": "execute_result"
    }
   ],
   "source": [
    "del s1\n",
    "ender.alive"
   ]
  },
  {
   "cell_type": "code",
   "execution_count": 23,
   "id": "4c879dc3",
   "metadata": {},
   "outputs": [
    {
     "name": "stdout",
     "output_type": "stream",
     "text": [
      "...like tears in the rain.\n"
     ]
    }
   ],
   "source": [
    "s2 = 'spam'"
   ]
  },
  {
   "cell_type": "code",
   "execution_count": 24,
   "id": "6da8b372",
   "metadata": {},
   "outputs": [
    {
     "data": {
      "text/plain": [
       "False"
      ]
     },
     "execution_count": 24,
     "metadata": {},
     "output_type": "execute_result"
    }
   ],
   "source": [
    "ender.alive"
   ]
  },
  {
   "cell_type": "markdown",
   "id": "a241a67b",
   "metadata": {},
   "source": [
    "The previous example demonstrates that `del` does not delete objects, but\n",
    "objects may be deleted as a consequence of being unreachable after `del` is used."
   ]
  },
  {
   "cell_type": "markdown",
   "id": "1b724e2d",
   "metadata": {},
   "source": [
    "### Tricks Python Plays with Immutables"
   ]
  },
  {
   "cell_type": "markdown",
   "id": "71747abc",
   "metadata": {},
   "source": [
    "I was surprised to learn that, for a tuple `t`, `t[:]` does not make a copy, but returns a\n",
    "reference to the same object. You also get a reference to the same tuple if you write `tuple(t)`."
   ]
  },
  {
   "cell_type": "code",
   "execution_count": 25,
   "id": "ec9faac1",
   "metadata": {},
   "outputs": [
    {
     "data": {
      "text/plain": [
       "True"
      ]
     },
     "execution_count": 25,
     "metadata": {},
     "output_type": "execute_result"
    }
   ],
   "source": [
    "t1 = (1, 2, 3)\n",
    "t2 = tuple(t1)\n",
    "t2 is t1"
   ]
  },
  {
   "cell_type": "code",
   "execution_count": 26,
   "id": "27eec2ab",
   "metadata": {},
   "outputs": [
    {
     "data": {
      "text/plain": [
       "True"
      ]
     },
     "execution_count": 26,
     "metadata": {},
     "output_type": "execute_result"
    }
   ],
   "source": [
    "t3 = t1[:]\n",
    "t3 is t1"
   ]
  },
  {
   "cell_type": "markdown",
   "id": "b547e37f",
   "metadata": {},
   "source": [
    "The same behavior can be observed with instances of `str`, `bytes`, and `frozenset`.\n",
    "Note that a frozenset is not a sequence, so `fs[:]` does not work if `fs` is a `frozenset`.\n",
    "But `fs.copy()` has the same effect: it cheats and returns a reference to the same\n",
    "object, and not a copy at all!"
   ]
  },
  {
   "cell_type": "code",
   "execution_count": 27,
   "id": "7ae564fe",
   "metadata": {},
   "outputs": [
    {
     "data": {
      "text/plain": [
       "False"
      ]
     },
     "execution_count": 27,
     "metadata": {},
     "output_type": "execute_result"
    }
   ],
   "source": [
    "t1 = (1, 2, 3)\n",
    "t3 = (1, 2, 3)\n",
    "t3 is t1"
   ]
  },
  {
   "cell_type": "code",
   "execution_count": 28,
   "id": "80a9aa9c",
   "metadata": {},
   "outputs": [
    {
     "data": {
      "text/plain": [
       "True"
      ]
     },
     "execution_count": 28,
     "metadata": {},
     "output_type": "execute_result"
    }
   ],
   "source": [
    "s1 = 'ABC'\n",
    "s2 = 'ABC'\n",
    "s2 is s1"
   ]
  },
  {
   "cell_type": "markdown",
   "id": "a8252199",
   "metadata": {},
   "source": [
    "The sharing of string literals is an optimization technique called *interning*."
   ]
  },
  {
   "cell_type": "markdown",
   "id": "3cfc2892",
   "metadata": {},
   "source": [
    "![Figure 96](https://raw.githubusercontent.com/berserkhmdvhb/Training-Python/main/figures/Part_I/96.PNG)"
   ]
  }
 ],
 "metadata": {
  "kernelspec": {
   "display_name": "env_train",
   "language": "python",
   "name": "python3"
  },
  "language_info": {
   "codemirror_mode": {
    "name": "ipython",
    "version": 3
   },
   "file_extension": ".py",
   "mimetype": "text/x-python",
   "name": "python",
   "nbconvert_exporter": "python",
   "pygments_lexer": "ipython3",
   "version": "3.12.2"
  }
 },
 "nbformat": 4,
 "nbformat_minor": 5
}

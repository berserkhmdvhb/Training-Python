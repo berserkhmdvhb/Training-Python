{
 "cells": [
  {
   "cell_type": "markdown",
   "id": "19e4da62",
   "metadata": {},
   "source": [
    "# Chapter 5. Object References, Mutability, and Recycling\n",
    "---"
   ]
  },
  {
   "cell_type": "markdown",
   "id": "daeecb56",
   "metadata": {},
   "source": [
    "## ToC\n",
    "\n",
    "[Objectives](#objectives)  \n",
    "\n",
    "1. [Variables Are Not Boxes](#variables-are-not-boxes)\n",
    "2. [Identity, Equality, and Aliases](#identity-equality-and-aliases)\n",
    "\n",
    "---"
   ]
  },
  {
   "cell_type": "markdown",
   "id": "22e657d1",
   "metadata": {},
   "source": [
    "## Objectives"
   ]
  },
  {
   "cell_type": "markdown",
   "id": "b8f85069",
   "metadata": {},
   "source": [
    "A name is not the object; a name is a separate thing. We start the chapter by presenting a metaphor for variables in Python: variables are labels, not boxes. We then discuss the concepts of object identity, value, and aliasing. A surprising trait of tuples is revealed: they are immutable but their values may change. This leads to a discussion of shallow and deep copies. References and function parameters are our\n",
    "next theme: the problem with mutable parameter defaults and the safe handling of\n",
    "mutable arguments passed by clients of our functions. The last sections of the chapter cover garbage collection, the del command, and a selection of tricks that Python plays with immutable objects."
   ]
  },
  {
   "cell_type": "markdown",
   "id": "67b53f9b",
   "metadata": {},
   "source": [
    "## Variables Are Not Boxes"
   ]
  },
  {
   "cell_type": "markdown",
   "id": "667aa196",
   "metadata": {},
   "source": [
    "Python variables are like reference variables in Java; a better metaphor is to think of variables as labels with names attached to objects.\n",
    "\n",
    "**Example:** In following, variables a and b hold references to the same list, not copies of the list"
   ]
  },
  {
   "cell_type": "code",
   "execution_count": 6,
   "id": "47df203a",
   "metadata": {},
   "outputs": [
    {
     "name": "stdout",
     "output_type": "stream",
     "text": [
      "id(a): 1945982105984\n",
      "id(b): 1945982105984\n"
     ]
    },
    {
     "data": {
      "text/plain": [
       "[1, 2, 3, 4]"
      ]
     },
     "execution_count": 6,
     "metadata": {},
     "output_type": "execute_result"
    }
   ],
   "source": [
    "a = [1, 2, 3]\n",
    "b = a\n",
    "print(\"id(a):\", id(a))\n",
    "print(\"id(b):\", id(b))\n",
    "a.append(4)\n",
    "b"
   ]
  },
  {
   "cell_type": "markdown",
   "id": "b2c09135",
   "metadata": {},
   "source": [
    "![Figure 85](https://raw.githubusercontent.com/berserkhmdvhb/Training-Python/main/figures/Part_I/85.PNG)"
   ]
  },
  {
   "cell_type": "markdown",
   "id": "7fa1853a",
   "metadata": {},
   "source": [
    "Therefore, the `b = a` statement does not copy the contents of box `a` into box `b`. It attaches the label `b` to the object that already has the label `a`. With reference variables, it makes much more sense to say that the variable is assigned to an object, and not the other way around. After all, the object is created before the assignment.\n",
    "\n",
    "Since the verb “to assign” is used in contradictory ways, a useful alternative is “to\n",
    "bind”: Python’s assignment statement `x = …` **binds** the x name to the object created\n",
    "or referenced on the righthand side."
   ]
  },
  {
   "cell_type": "markdown",
   "id": "8533b910",
   "metadata": {},
   "source": [
    "**Example 6-2** Variables are bound to objects only after the objects are created"
   ]
  },
  {
   "cell_type": "code",
   "execution_count": 2,
   "id": "eec1d9e5",
   "metadata": {},
   "outputs": [],
   "source": [
    "class Gizmo:\n",
    "    def __init__(self):\n",
    "        print(f'Gizmo id: {id(self)}')"
   ]
  },
  {
   "cell_type": "code",
   "execution_count": 27,
   "id": "6e10d256",
   "metadata": {},
   "outputs": [
    {
     "name": "stdout",
     "output_type": "stream",
     "text": [
      "Gizmo id: 1945977298464\n"
     ]
    }
   ],
   "source": [
    "# the output Gizmo id: … is a side effect of creating a Gizmo instance.\n",
    "x = Gizmo()"
   ]
  },
  {
   "cell_type": "code",
   "execution_count": 28,
   "id": "2cc19e33",
   "metadata": {},
   "outputs": [
    {
     "data": {
      "text/plain": [
       "1945977298464"
      ]
     },
     "execution_count": 28,
     "metadata": {},
     "output_type": "execute_result"
    }
   ],
   "source": [
    "id(x)"
   ]
  },
  {
   "cell_type": "markdown",
   "id": "bf7add35",
   "metadata": {},
   "source": [
    "Here is proof that a second Gizmo was actually instantiated before the multiplication\n",
    "was attempted."
   ]
  },
  {
   "cell_type": "code",
   "execution_count": 29,
   "id": "b76c6a06",
   "metadata": {},
   "outputs": [
    {
     "name": "stdout",
     "output_type": "stream",
     "text": [
      "Gizmo id: 1945975719552\n"
     ]
    },
    {
     "ename": "TypeError",
     "evalue": "unsupported operand type(s) for *: 'Gizmo' and 'int'",
     "output_type": "error",
     "traceback": [
      "\u001b[31m---------------------------------------------------------------------------\u001b[39m",
      "\u001b[31mTypeError\u001b[39m                                 Traceback (most recent call last)",
      "\u001b[36mCell\u001b[39m\u001b[36m \u001b[39m\u001b[32mIn[29]\u001b[39m\u001b[32m, line 1\u001b[39m\n\u001b[32m----> \u001b[39m\u001b[32m1\u001b[39m y = \u001b[43mGizmo\u001b[49m\u001b[43m(\u001b[49m\u001b[43m)\u001b[49m\u001b[43m \u001b[49m\u001b[43m*\u001b[49m\u001b[43m \u001b[49m\u001b[32;43m10\u001b[39;49m\n",
      "\u001b[31mTypeError\u001b[39m: unsupported operand type(s) for *: 'Gizmo' and 'int'"
     ]
    }
   ],
   "source": [
    "y = Gizmo() * 10 # type:ignore"
   ]
  },
  {
   "cell_type": "code",
   "execution_count": 18,
   "id": "b2368d4b",
   "metadata": {},
   "outputs": [
    {
     "data": {
      "text/plain": [
       "['Gizmo',\n",
       " 'In',\n",
       " 'Out',\n",
       " '_',\n",
       " '_1',\n",
       " '_14',\n",
       " '_17',\n",
       " '_4',\n",
       " '_5',\n",
       " '_6',\n",
       " '_9',\n",
       " '__',\n",
       " '___',\n",
       " '__builtin__',\n",
       " '__builtins__',\n",
       " '__doc__',\n",
       " '__loader__',\n",
       " '__name__',\n",
       " '__package__',\n",
       " '__spec__',\n",
       " '__vsc_ipynb_file__',\n",
       " '_dh',\n",
       " '_i',\n",
       " '_i1',\n",
       " '_i10',\n",
       " '_i11',\n",
       " '_i12',\n",
       " '_i13',\n",
       " '_i14',\n",
       " '_i15',\n",
       " '_i16',\n",
       " '_i17',\n",
       " '_i18',\n",
       " '_i2',\n",
       " '_i3',\n",
       " '_i4',\n",
       " '_i5',\n",
       " '_i6',\n",
       " '_i7',\n",
       " '_i8',\n",
       " '_i9',\n",
       " '_ih',\n",
       " '_ii',\n",
       " '_iii',\n",
       " '_oh',\n",
       " 'a',\n",
       " 'b',\n",
       " 'exit',\n",
       " 'get_ipython',\n",
       " 'open',\n",
       " 'quit',\n",
       " 'x']"
      ]
     },
     "execution_count": 18,
     "metadata": {},
     "output_type": "execute_result"
    }
   ],
   "source": [
    "dir()"
   ]
  },
  {
   "cell_type": "markdown",
   "id": "41b80ccc",
   "metadata": {},
   "source": [
    "But variable `y` was never created, because the exception happened while the\n",
    "righthand side of the assignment was being evaluated. Another way to evidence this:\n"
   ]
  },
  {
   "cell_type": "code",
   "execution_count": 3,
   "id": "3cf81b17",
   "metadata": {},
   "outputs": [
    {
     "name": "stdout",
     "output_type": "stream",
     "text": [
      "Gizmo id: 2418083323280\n",
      "Caught TypeError\n",
      "True\n",
      "False\n"
     ]
    }
   ],
   "source": [
    "try:\n",
    "    x = Gizmo()\n",
    "    y = x * 10\n",
    "except TypeError:\n",
    "    print(\"Caught TypeError\")\n",
    "\n",
    "print('x' in locals())  # True\n",
    "print('y' in locals())  # False"
   ]
  },
  {
   "cell_type": "markdown",
   "id": "c212386b",
   "metadata": {},
   "source": [
    "![Figure 86](https://raw.githubusercontent.com/berserkhmdvhb/Training-Python/main/figures/Part_I/86.PNG)"
   ]
  },
  {
   "cell_type": "markdown",
   "id": "1de406f8",
   "metadata": {},
   "source": [
    "## Identity, Equality, and Aliases"
   ]
  },
  {
   "cell_type": "code",
   "execution_count": 4,
   "id": "7af6f159",
   "metadata": {},
   "outputs": [],
   "source": [
    "charles = {'name': 'Charles L. Dodgson', 'born': 1832}\n",
    "lewis = charles"
   ]
  },
  {
   "cell_type": "code",
   "execution_count": 5,
   "id": "87dea540",
   "metadata": {},
   "outputs": [
    {
     "data": {
      "text/plain": [
       "True"
      ]
     },
     "execution_count": 5,
     "metadata": {},
     "output_type": "execute_result"
    }
   ],
   "source": [
    "lewis is charles"
   ]
  },
  {
   "cell_type": "code",
   "execution_count": 6,
   "id": "99c43e4a",
   "metadata": {},
   "outputs": [
    {
     "data": {
      "text/plain": [
       "(2418089400896, 2418089400896)"
      ]
     },
     "execution_count": 6,
     "metadata": {},
     "output_type": "execute_result"
    }
   ],
   "source": [
    "id(charles), id(lewis)"
   ]
  },
  {
   "cell_type": "code",
   "execution_count": 7,
   "id": "3115e822",
   "metadata": {},
   "outputs": [],
   "source": [
    "lewis['balance'] = 950"
   ]
  },
  {
   "cell_type": "code",
   "execution_count": 8,
   "id": "202b7608",
   "metadata": {},
   "outputs": [
    {
     "data": {
      "text/plain": [
       "{'name': 'Charles L. Dodgson', 'born': 1832, 'balance': 950}"
      ]
     },
     "execution_count": 8,
     "metadata": {},
     "output_type": "execute_result"
    }
   ],
   "source": [
    "charles"
   ]
  },
  {
   "cell_type": "code",
   "execution_count": 9,
   "id": "01333e3e",
   "metadata": {},
   "outputs": [],
   "source": [
    "alex = {'name': 'Charles L. Dodgson', 'born': 1832, 'balance': 950}"
   ]
  },
  {
   "cell_type": "code",
   "execution_count": 10,
   "id": "53f94df4",
   "metadata": {},
   "outputs": [
    {
     "data": {
      "text/plain": [
       "True"
      ]
     },
     "execution_count": 10,
     "metadata": {},
     "output_type": "execute_result"
    }
   ],
   "source": [
    "alex == charles"
   ]
  },
  {
   "cell_type": "code",
   "execution_count": 11,
   "id": "d813e7d7",
   "metadata": {},
   "outputs": [
    {
     "data": {
      "text/plain": [
       "True"
      ]
     },
     "execution_count": 11,
     "metadata": {},
     "output_type": "execute_result"
    }
   ],
   "source": [
    "alex is not charles"
   ]
  },
  {
   "cell_type": "code",
   "execution_count": 12,
   "id": "afd2a819",
   "metadata": {},
   "outputs": [
    {
     "name": "stdout",
     "output_type": "stream",
     "text": [
      "2418089327040\n",
      "2418089400896\n"
     ]
    }
   ],
   "source": [
    "print(id(alex))\n",
    "print(id(charles))"
   ]
  },
  {
   "cell_type": "markdown",
   "id": "d44b6458",
   "metadata": {},
   "source": [
    "![Figure 87](https://raw.githubusercontent.com/berserkhmdvhb/Training-Python/main/figures/Part_I/87.PNG)"
   ]
  },
  {
   "cell_type": "markdown",
   "id": "7426fd29",
   "metadata": {},
   "source": [
    "Example above was an example of *aliasing*. `lewis` and `charles` are aliases:\n",
    "two variables bound to the same object. On the other hand, `alex` is not an alias for `charles`. The objects bound to `alex` and `charles` have the same value—that's what `==` compares—but they have different\n",
    "identities."
   ]
  },
  {
   "cell_type": "markdown",
   "id": "d87d3142",
   "metadata": {},
   "source": [
    "An object’s identity never changes once it has been created; you may think of it as the\n",
    "object’s address in memory. The is operator compares the identity of two objects; the\n",
    "`id()` function returns an integer representing its identity."
   ]
  },
  {
   "cell_type": "code",
   "execution_count": null,
   "id": "868165f6",
   "metadata": {},
   "outputs": [],
   "source": []
  },
  {
   "cell_type": "code",
   "execution_count": null,
   "id": "0614ae82",
   "metadata": {},
   "outputs": [],
   "source": []
  },
  {
   "cell_type": "markdown",
   "id": "22cd3af9",
   "metadata": {},
   "source": []
  }
 ],
 "metadata": {
  "kernelspec": {
   "display_name": "env_train",
   "language": "python",
   "name": "python3"
  },
  "language_info": {
   "codemirror_mode": {
    "name": "ipython",
    "version": 3
   },
   "file_extension": ".py",
   "mimetype": "text/x-python",
   "name": "python",
   "nbconvert_exporter": "python",
   "pygments_lexer": "ipython3",
   "version": "3.12.2"
  }
 },
 "nbformat": 4,
 "nbformat_minor": 5
}

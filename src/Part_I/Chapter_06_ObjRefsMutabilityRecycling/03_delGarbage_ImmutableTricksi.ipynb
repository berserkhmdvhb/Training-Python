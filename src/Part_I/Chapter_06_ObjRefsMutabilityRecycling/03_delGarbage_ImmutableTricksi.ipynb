{
 "cells": [
  {
   "cell_type": "markdown",
   "id": "caa6cf7a",
   "metadata": {},
   "source": [
    "# Chapter 5. Object References, Mutability, and Recycling\n",
    "---"
   ]
  },
  {
   "cell_type": "markdown",
   "id": "0c20f2c7",
   "metadata": {},
   "source": [
    "## ToC\n",
    "\n",
    "1. [del and Garbage Collection](#del-and-garbage-collection)\n",
    "---"
   ]
  },
  {
   "cell_type": "markdown",
   "id": "a6457752",
   "metadata": {},
   "source": [
    "## del and Garbage Collection"
   ]
  },
  {
   "cell_type": "markdown",
   "id": "9cb63685",
   "metadata": {},
   "source": []
  }
 ],
 "metadata": {
  "language_info": {
   "name": "python"
  }
 },
 "nbformat": 4,
 "nbformat_minor": 5
}

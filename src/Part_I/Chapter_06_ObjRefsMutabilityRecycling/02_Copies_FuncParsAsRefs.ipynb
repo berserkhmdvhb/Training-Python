{
 "cells": [
  {
   "cell_type": "markdown",
   "id": "2f338299",
   "metadata": {},
   "source": [
    "# Chapter 5. Object References, Mutability, and Recycling\n",
    "---"
   ]
  },
  {
   "cell_type": "markdown",
   "id": "58c30f54",
   "metadata": {},
   "source": [
    "## ToC\n",
    "\n",
    "1. [Copies Are Shallow by Default](#copies-are-shallow-by-default)\n",
    "\n",
    "---"
   ]
  },
  {
   "cell_type": "markdown",
   "id": "fa116b6b",
   "metadata": {},
   "source": [
    "## Copies Are Shallow by Default"
   ]
  },
  {
   "cell_type": "markdown",
   "id": "e08c1999",
   "metadata": {},
   "source": [
    "The easiest way to copy a list (or most built-in mutable collections) is to use the builtin\n",
    "constructor for the type itself."
   ]
  },
  {
   "cell_type": "markdown",
   "id": "7750bf2e",
   "metadata": {},
   "source": [
    "**I.** Use Constructor"
   ]
  },
  {
   "cell_type": "code",
   "execution_count": 1,
   "id": "978414cf",
   "metadata": {},
   "outputs": [
    {
     "data": {
      "text/plain": [
       "[3, [55, 44], (7, 8, 9)]"
      ]
     },
     "execution_count": 1,
     "metadata": {},
     "output_type": "execute_result"
    }
   ],
   "source": [
    "l1 = [3, [55, 44], (7, 8, 9)]\n",
    "l2 = list(l1)\n",
    "l2"
   ]
  },
  {
   "cell_type": "code",
   "execution_count": null,
   "id": "d92976b8",
   "metadata": {},
   "outputs": [
    {
     "data": {
      "text/plain": [
       "True"
      ]
     },
     "execution_count": 2,
     "metadata": {},
     "output_type": "execute_result"
    }
   ],
   "source": [
    "# the copies are equal\n",
    "l2 == l1"
   ]
  },
  {
   "cell_type": "code",
   "execution_count": null,
   "id": "366ac1e1",
   "metadata": {},
   "outputs": [
    {
     "data": {
      "text/plain": [
       "False"
      ]
     },
     "execution_count": 3,
     "metadata": {},
     "output_type": "execute_result"
    }
   ],
   "source": [
    "# but refer to two different objects\n",
    "l2 is l1"
   ]
  },
  {
   "cell_type": "markdown",
   "id": "73d6c178",
   "metadata": {},
   "source": [
    "**II.** Use Shortcut `[:]`"
   ]
  },
  {
   "cell_type": "code",
   "execution_count": 1,
   "id": "694d0578",
   "metadata": {},
   "outputs": [
    {
     "data": {
      "text/plain": [
       "True"
      ]
     },
     "execution_count": 1,
     "metadata": {},
     "output_type": "execute_result"
    }
   ],
   "source": [
    "l1 = [3, [55, 44], (7, 8, 9)]\n",
    "l2 = l1[:]\n",
    "# the copies are equal\n",
    "l2 == l1"
   ]
  },
  {
   "cell_type": "code",
   "execution_count": 2,
   "id": "73f49b77",
   "metadata": {},
   "outputs": [
    {
     "data": {
      "text/plain": [
       "False"
      ]
     },
     "execution_count": 2,
     "metadata": {},
     "output_type": "execute_result"
    }
   ],
   "source": [
    "# but refer to two different objects\n",
    "l2 is l1"
   ]
  },
  {
   "cell_type": "markdown",
   "id": "72b45ff8",
   "metadata": {},
   "source": [
    "**III.** Use `=`  "
   ]
  },
  {
   "cell_type": "code",
   "execution_count": 8,
   "id": "4a6ae80b",
   "metadata": {},
   "outputs": [
    {
     "data": {
      "text/plain": [
       "True"
      ]
     },
     "execution_count": 8,
     "metadata": {},
     "output_type": "execute_result"
    }
   ],
   "source": [
    "l1 = [3, [55, 44], (7, 8, 9)]\n",
    "l2 = l1\n",
    "l2 == l1"
   ]
  },
  {
   "cell_type": "code",
   "execution_count": 9,
   "id": "5124d30d",
   "metadata": {},
   "outputs": [
    {
     "data": {
      "text/plain": [
       "True"
      ]
     },
     "execution_count": 9,
     "metadata": {},
     "output_type": "execute_result"
    }
   ],
   "source": [
    "l2 is l1"
   ]
  },
  {
   "cell_type": "markdown",
   "id": "94f13e83",
   "metadata": {},
   "source": [
    "For lists and other mutable sequences, the shortcut `l2 = l1[:]` also makes a copy.\n",
    "\n",
    "However, using the constructor or `[:]` produces a *shallow copy* (i.e., the outermost\n",
    "container is duplicated, but the copy is filled with references to the same items held\n",
    "by the original container). This saves memory and causes no problems if all the items\n",
    "are immutable. But if there are mutable items, this may lead to unpleasant surprises."
   ]
  },
  {
   "cell_type": "markdown",
   "id": "c8589dca",
   "metadata": {},
   "source": [
    "**Example:** create a shallow copy of a list containing another list and a tuple,\n",
    "and then make changes to see how they affect the referenced objects."
   ]
  },
  {
   "cell_type": "code",
   "execution_count": 5,
   "id": "a79c8ad4",
   "metadata": {},
   "outputs": [
    {
     "name": "stdout",
     "output_type": "stream",
     "text": [
      "l1: [3, [66, 44], (7, 8, 9), 100]\n",
      "l2: [3, [66, 44], (7, 8, 9), 100]\n"
     ]
    }
   ],
   "source": [
    "l1 = [3, [66, 55, 44], (7, 8, 9)]\n",
    "l2 = l1\n",
    "l1.append(100)\n",
    "l1[1].remove(55)\n",
    "print('l1:', l1)\n",
    "print('l2:', l2)"
   ]
  },
  {
   "cell_type": "markdown",
   "id": "6eee4913",
   "metadata": {},
   "source": [
    "![Figure 90](https://raw.githubusercontent.com/berserkhmdvhb/Training-Python/main/figures/Part_I/90.PNG)"
   ]
  },
  {
   "cell_type": "code",
   "execution_count": 8,
   "id": "57e16952",
   "metadata": {},
   "outputs": [
    {
     "name": "stdout",
     "output_type": "stream",
     "text": [
      "l1: [3, [66, 44], (7, 8, 9), 100]\n",
      "l2: [3, [66, 44], (7, 8, 9)]\n"
     ]
    }
   ],
   "source": [
    "l1 = [3, [66, 55, 44], (7, 8, 9)]\n",
    "l2 = list(l1)\n",
    "l1.append(100)\n",
    "l1[1].remove(55)\n",
    "print('l1:', l1)\n",
    "print('l2:', l2)"
   ]
  },
  {
   "cell_type": "markdown",
   "id": "f72cc87e",
   "metadata": {},
   "source": [
    "![Figure 91](https://raw.githubusercontent.com/berserkhmdvhb/Training-Python/main/figures/Part_I/91.PNG)"
   ]
  },
  {
   "cell_type": "code",
   "execution_count": 10,
   "id": "a9e63bbe",
   "metadata": {},
   "outputs": [
    {
     "name": "stdout",
     "output_type": "stream",
     "text": [
      "l1: [3, [66, 55, 44, 33, 22], (7, 8, 9)]\n",
      "l2: [3, [66, 55, 44, 33, 22], (7, 8, 9, 10, 11)]\n"
     ]
    }
   ],
   "source": [
    "l1 = [3, [66, 55, 44], (7, 8, 9)]\n",
    "l2 = list(l1)\n",
    "l2[1] += [33, 22]\n",
    "l2[2] += (10, 11)\n",
    "print('l1:', l1)\n",
    "print('l2:', l2)"
   ]
  },
  {
   "cell_type": "markdown",
   "id": "935c7404",
   "metadata": {},
   "source": [
    "For a mutable object like the list referred by `l2[1]`, the operator `+=` changes the\n",
    "list in place. This change is visible at `l1[1]`, which is an alias for `l2[1]`.\n",
    "\n",
    "\n",
    "`+=` on a tuple creates a new tuple and rebinds the variable `l2[2]` here. This is the\n",
    "same as doing `l2[2] = l2[2] + (10, 11)`. Now the tuples in the last position of\n",
    "`l1` and `l2` are no longer the same object."
   ]
  },
  {
   "cell_type": "markdown",
   "id": "61bd43f6",
   "metadata": {},
   "source": [
    "![Figure 92](https://raw.githubusercontent.com/berserkhmdvhb/Training-Python/main/figures/Part_I/92.PNG)"
   ]
  },
  {
   "cell_type": "markdown",
   "id": "4c779e57",
   "metadata": {},
   "source": [
    "![Figure 93](https://raw.githubusercontent.com/berserkhmdvhb/Training-Python/main/figures/Part_I/93.PNG)"
   ]
  }
 ],
 "metadata": {
  "kernelspec": {
   "display_name": "env_train",
   "language": "python",
   "name": "python3"
  },
  "language_info": {
   "codemirror_mode": {
    "name": "ipython",
    "version": 3
   },
   "file_extension": ".py",
   "mimetype": "text/x-python",
   "name": "python",
   "nbconvert_exporter": "python",
   "pygments_lexer": "ipython3",
   "version": "3.12.2"
  }
 },
 "nbformat": 4,
 "nbformat_minor": 5
}

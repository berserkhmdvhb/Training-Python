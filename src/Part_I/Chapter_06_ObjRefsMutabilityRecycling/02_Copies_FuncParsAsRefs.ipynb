{
 "cells": [
  {
   "cell_type": "markdown",
   "id": "2f338299",
   "metadata": {},
   "source": [
    "# Chapter 5. Object References, Mutability, and Recycling\n",
    "---"
   ]
  },
  {
   "cell_type": "markdown",
   "id": "58c30f54",
   "metadata": {},
   "source": [
    "## ToC\n",
    "\n",
    "1. [Copies Are Shallow by Default](#copies-are-shallow-by-default)  \n",
    "    1.1. [Deep and Shallow Copies of Arbitrary Objects](#deep-and-shallow-copies-of-arbitrary-objects)  \n",
    "    1.2. [Summary](#summary)\n",
    "2. [Function Parameters as References](#function-parameters-as-references)  \n",
    "    2.1. [Mutable Types as Parameter Defaults: Bad Idea](#mutable-types-as-parameter-defaults-bad-idea)  \n",
    "    2.2. [Defensive Programming with Mutable Parameters](#defensive-programming-with-mutable-parameters)\n",
    "---"
   ]
  },
  {
   "cell_type": "markdown",
   "id": "fa116b6b",
   "metadata": {},
   "source": [
    "## Copies Are Shallow by Default"
   ]
  },
  {
   "cell_type": "markdown",
   "id": "e08c1999",
   "metadata": {},
   "source": [
    "The easiest way to copy a list (or most built-in mutable collections) is to use the builtin\n",
    "constructor for the type itself."
   ]
  },
  {
   "cell_type": "markdown",
   "id": "7750bf2e",
   "metadata": {},
   "source": [
    "**I.** Use Constructor"
   ]
  },
  {
   "cell_type": "code",
   "execution_count": 1,
   "id": "978414cf",
   "metadata": {},
   "outputs": [
    {
     "data": {
      "text/plain": [
       "[3, [55, 44], (7, 8, 9)]"
      ]
     },
     "execution_count": 1,
     "metadata": {},
     "output_type": "execute_result"
    }
   ],
   "source": [
    "l1 = [3, [55, 44], (7, 8, 9)]\n",
    "l2 = list(l1)\n",
    "l2"
   ]
  },
  {
   "cell_type": "code",
   "execution_count": 2,
   "id": "d92976b8",
   "metadata": {},
   "outputs": [
    {
     "data": {
      "text/plain": [
       "True"
      ]
     },
     "execution_count": 2,
     "metadata": {},
     "output_type": "execute_result"
    }
   ],
   "source": [
    "# the copies are equal\n",
    "l2 == l1"
   ]
  },
  {
   "cell_type": "code",
   "execution_count": 3,
   "id": "366ac1e1",
   "metadata": {},
   "outputs": [
    {
     "data": {
      "text/plain": [
       "False"
      ]
     },
     "execution_count": 3,
     "metadata": {},
     "output_type": "execute_result"
    }
   ],
   "source": [
    "# but refer to two different objects\n",
    "l2 is l1"
   ]
  },
  {
   "cell_type": "markdown",
   "id": "73d6c178",
   "metadata": {},
   "source": [
    "**II.** Use Shortcut `[:]`"
   ]
  },
  {
   "cell_type": "code",
   "execution_count": 1,
   "id": "694d0578",
   "metadata": {},
   "outputs": [
    {
     "data": {
      "text/plain": [
       "True"
      ]
     },
     "execution_count": 1,
     "metadata": {},
     "output_type": "execute_result"
    }
   ],
   "source": [
    "l1 = [3, [55, 44], (7, 8, 9)]\n",
    "l2 = l1[:]\n",
    "# the copies are equal\n",
    "l2 == l1"
   ]
  },
  {
   "cell_type": "code",
   "execution_count": 2,
   "id": "73f49b77",
   "metadata": {},
   "outputs": [
    {
     "data": {
      "text/plain": [
       "False"
      ]
     },
     "execution_count": 2,
     "metadata": {},
     "output_type": "execute_result"
    }
   ],
   "source": [
    "# but refer to two different objects\n",
    "l2 is l1"
   ]
  },
  {
   "cell_type": "markdown",
   "id": "72b45ff8",
   "metadata": {},
   "source": [
    "**III.** Use `=`  "
   ]
  },
  {
   "cell_type": "code",
   "execution_count": 8,
   "id": "4a6ae80b",
   "metadata": {},
   "outputs": [
    {
     "data": {
      "text/plain": [
       "True"
      ]
     },
     "execution_count": 8,
     "metadata": {},
     "output_type": "execute_result"
    }
   ],
   "source": [
    "l1 = [3, [55, 44], (7, 8, 9)]\n",
    "l2 = l1\n",
    "l2 == l1"
   ]
  },
  {
   "cell_type": "code",
   "execution_count": 9,
   "id": "5124d30d",
   "metadata": {},
   "outputs": [
    {
     "data": {
      "text/plain": [
       "True"
      ]
     },
     "execution_count": 9,
     "metadata": {},
     "output_type": "execute_result"
    }
   ],
   "source": [
    "l2 is l1"
   ]
  },
  {
   "cell_type": "markdown",
   "id": "94f13e83",
   "metadata": {},
   "source": [
    "For lists and other mutable sequences, the shortcut `l2 = l1[:]` also makes a copy.\n",
    "\n",
    "However, using the constructor or `[:]` produces a *shallow copy* (i.e., the outermost\n",
    "container is duplicated, but the copy is filled with references to the same items held\n",
    "by the original container). This saves memory and causes no problems if all the items\n",
    "are immutable. But if there are mutable items, this may lead to unpleasant surprises."
   ]
  },
  {
   "cell_type": "markdown",
   "id": "c8589dca",
   "metadata": {},
   "source": [
    "**Example:** create a shallow copy of a list containing another list and a tuple,\n",
    "and then make changes to see how they affect the referenced objects."
   ]
  },
  {
   "cell_type": "code",
   "execution_count": 5,
   "id": "a79c8ad4",
   "metadata": {},
   "outputs": [
    {
     "name": "stdout",
     "output_type": "stream",
     "text": [
      "l1: [3, [66, 44], (7, 8, 9), 100]\n",
      "l2: [3, [66, 44], (7, 8, 9), 100]\n"
     ]
    }
   ],
   "source": [
    "l1 = [3, [66, 55, 44], (7, 8, 9)]\n",
    "l2 = l1\n",
    "l1.append(100)\n",
    "l1[1].remove(55)\n",
    "print('l1:', l1)\n",
    "print('l2:', l2)"
   ]
  },
  {
   "cell_type": "markdown",
   "id": "6eee4913",
   "metadata": {},
   "source": [
    "![Figure 90](https://raw.githubusercontent.com/berserkhmdvhb/Training-Python/main/figures/Part_I/90.PNG)"
   ]
  },
  {
   "cell_type": "code",
   "execution_count": 8,
   "id": "57e16952",
   "metadata": {},
   "outputs": [
    {
     "name": "stdout",
     "output_type": "stream",
     "text": [
      "l1: [3, [66, 44], (7, 8, 9), 100]\n",
      "l2: [3, [66, 44], (7, 8, 9)]\n"
     ]
    }
   ],
   "source": [
    "l1 = [3, [66, 55, 44], (7, 8, 9)]\n",
    "l2 = list(l1)\n",
    "l1.append(100)\n",
    "l1[1].remove(55)\n",
    "print('l1:', l1)\n",
    "print('l2:', l2)"
   ]
  },
  {
   "cell_type": "markdown",
   "id": "f72cc87e",
   "metadata": {},
   "source": [
    "![Figure 91](https://raw.githubusercontent.com/berserkhmdvhb/Training-Python/main/figures/Part_I/91.PNG)"
   ]
  },
  {
   "cell_type": "code",
   "execution_count": 10,
   "id": "a9e63bbe",
   "metadata": {},
   "outputs": [
    {
     "name": "stdout",
     "output_type": "stream",
     "text": [
      "l1: [3, [66, 55, 44, 33, 22], (7, 8, 9)]\n",
      "l2: [3, [66, 55, 44, 33, 22], (7, 8, 9, 10, 11)]\n"
     ]
    }
   ],
   "source": [
    "l1 = [3, [66, 55, 44], (7, 8, 9)]\n",
    "l2 = list(l1)\n",
    "l2[1] += [33, 22]\n",
    "l2[2] += (10, 11)\n",
    "print('l1:', l1)\n",
    "print('l2:', l2)"
   ]
  },
  {
   "cell_type": "markdown",
   "id": "935c7404",
   "metadata": {},
   "source": [
    "For a mutable object like the list referred by `l2[1]`, the operator `+=` changes the\n",
    "list in place. This change is visible at `l1[1]`, which is an alias for `l2[1]`.\n",
    "\n",
    "\n",
    "`+=` on a tuple creates a new tuple and rebinds the variable `l2[2]` here. This is the\n",
    "same as doing `l2[2] = l2[2] + (10, 11)`. Now the tuples in the last position of\n",
    "`l1` and `l2` are no longer the same object."
   ]
  },
  {
   "cell_type": "markdown",
   "id": "61bd43f6",
   "metadata": {},
   "source": [
    "![Figure 92](https://raw.githubusercontent.com/berserkhmdvhb/Training-Python/main/figures/Part_I/92.PNG)"
   ]
  },
  {
   "cell_type": "markdown",
   "id": "4c779e57",
   "metadata": {},
   "source": [
    "![Figure 93](https://raw.githubusercontent.com/berserkhmdvhb/Training-Python/main/figures/Part_I/93.PNG)"
   ]
  },
  {
   "cell_type": "markdown",
   "id": "624a28e0",
   "metadata": {},
   "source": [
    "### Deep and Shallow Copies of Arbitrary Objects"
   ]
  },
  {
   "cell_type": "markdown",
   "id": "64ff1319",
   "metadata": {},
   "source": [
    "The `copy` module provides the `deepcopy` and `copy` functions that return deep and\n",
    "shallow copies of arbitrary objects.\n",
    "\n",
    "Concise but informative Youtube video: [Shallow and Deep Copy Python Programming Tutorial](https://www.youtube.com/watch?v=naG4uXpmVAU)"
   ]
  },
  {
   "cell_type": "markdown",
   "id": "5118f762",
   "metadata": {},
   "source": [
    "**Example.** Bus picks up and drops off passengers"
   ]
  },
  {
   "cell_type": "code",
   "execution_count": 22,
   "id": "db066d93",
   "metadata": {},
   "outputs": [],
   "source": [
    "class Bus:\n",
    "\n",
    "    def __init__(self, passengers=None):\n",
    "        if passengers is None:\n",
    "            self.passengers = []\n",
    "        else:\n",
    "            self.passengers = list(passengers)\n",
    "\n",
    "    def pick(self, name):\n",
    "        self.passengers.append(name)\n",
    "\n",
    "    def drop(self, name):\n",
    "        self.passengers.remove(name)"
   ]
  },
  {
   "cell_type": "code",
   "execution_count": 2,
   "id": "d39b9443",
   "metadata": {},
   "outputs": [
    {
     "data": {
      "text/plain": [
       "(1937597100352, 1937597210912, 1937597206832, 1937597100352)"
      ]
     },
     "execution_count": 2,
     "metadata": {},
     "output_type": "execute_result"
    }
   ],
   "source": [
    "import copy\n",
    "bus1 = Bus(['Alice', 'Bill', 'Claire', 'David'])\n",
    "bus2 = copy.copy(bus1)\n",
    "bus3 = copy.deepcopy(bus1)\n",
    "bus4 = bus1\n",
    "id(bus1), id(bus2), id(bus3), id(bus4)"
   ]
  },
  {
   "cell_type": "markdown",
   "id": "c31db752",
   "metadata": {},
   "source": [
    "After `bus1` drops `'Bill'`, he is also missing from `bus2`."
   ]
  },
  {
   "cell_type": "code",
   "execution_count": 3,
   "id": "4429c2af",
   "metadata": {},
   "outputs": [
    {
     "data": {
      "text/plain": [
       "['Alice', 'Claire', 'David']"
      ]
     },
     "execution_count": 3,
     "metadata": {},
     "output_type": "execute_result"
    }
   ],
   "source": [
    "bus1.drop('Bill')\n",
    "bus2.passengers"
   ]
  },
  {
   "cell_type": "code",
   "execution_count": 4,
   "id": "3d53169b",
   "metadata": {},
   "outputs": [
    {
     "data": {
      "text/plain": [
       "(1937597355456, 1937597355456, 1937597379776)"
      ]
     },
     "execution_count": 4,
     "metadata": {},
     "output_type": "execute_result"
    }
   ],
   "source": [
    "id(bus1.passengers), id(bus2.passengers), id(bus3.passengers)"
   ]
  },
  {
   "cell_type": "markdown",
   "id": "4c858d61",
   "metadata": {},
   "source": [
    "`bus3` is a deep copy of `bus1`, so its `passengers` attribute refers to another list."
   ]
  },
  {
   "cell_type": "code",
   "execution_count": 5,
   "id": "0963ada0",
   "metadata": {},
   "outputs": [
    {
     "data": {
      "text/plain": [
       "['Alice', 'Bill', 'Claire', 'David']"
      ]
     },
     "execution_count": 5,
     "metadata": {},
     "output_type": "execute_result"
    }
   ],
   "source": [
    "bus3.passengers"
   ]
  },
  {
   "cell_type": "code",
   "execution_count": 6,
   "id": "ce5f50ee",
   "metadata": {},
   "outputs": [],
   "source": [
    "a = [10, 20]\n",
    "b = [a, 30]"
   ]
  },
  {
   "cell_type": "markdown",
   "id": "91aff642",
   "metadata": {},
   "source": [
    "Note that making deep copies is not a simple matter in the general case. Objects may\n",
    "have cyclic references that would cause a naïve algorithm to enter an infinite loop.\n",
    "The `deepcopy` function remembers the objects already copied to handle cyclic references\n",
    "gracefully, as shown in following example:"
   ]
  },
  {
   "cell_type": "code",
   "execution_count": 6,
   "id": "45097782",
   "metadata": {},
   "outputs": [
    {
     "data": {
      "text/plain": [
       "[10, 20, [[...], 30]]"
      ]
     },
     "execution_count": 6,
     "metadata": {},
     "output_type": "execute_result"
    }
   ],
   "source": [
    "from copy import deepcopy\n",
    "a = [10, 20]\n",
    "b = [a, 30]\n",
    "a.append(b)\n",
    "a\n"
   ]
  },
  {
   "cell_type": "code",
   "execution_count": 7,
   "id": "28a62607",
   "metadata": {},
   "outputs": [
    {
     "data": {
      "text/plain": [
       "[[10, 20, [...]], 30]"
      ]
     },
     "execution_count": 7,
     "metadata": {},
     "output_type": "execute_result"
    }
   ],
   "source": [
    "a[2]"
   ]
  },
  {
   "cell_type": "code",
   "execution_count": 8,
   "id": "dcd492ba",
   "metadata": {},
   "outputs": [
    {
     "data": {
      "text/plain": [
       "[10, 20, [[...], 30]]"
      ]
     },
     "execution_count": 8,
     "metadata": {},
     "output_type": "execute_result"
    }
   ],
   "source": [
    "c = deepcopy(a)\n",
    "c"
   ]
  },
  {
   "cell_type": "markdown",
   "id": "0390442a",
   "metadata": {},
   "source": [
    "#### Summary"
   ]
  },
  {
   "cell_type": "markdown",
   "id": "7b445837",
   "metadata": {},
   "source": [
    "```python\n",
    "import copy\n",
    "\n",
    "L1 = ['a', ['b', 'c'], ('d', 'e')]\n",
    "L2 = L1\n",
    "L3 = list(L1)\n",
    "L4 = copy.copy(L1)\n",
    "L5 = copy.deepcopy(L1)\n",
    "```\n",
    "---\n",
    "| Variable | Type of Copy         | `L1 is ...` | `L1[1] is ...` | Changes affect `L1`? | Implementation      | Description                                                                 |\n",
    "|----------|----------------------|-------------|----------------|-----------------------|---------------------|-----------------------------------------------------------------------------|\n",
    "| `L2`     | Assignment (alias)   | ✅ Same      | ✅ Same         | ✅ Yes (fully linked) | `L2 = L1`           | L2 is L1 — they reference the same object. `==` and `IS` both yield same.                                |\n",
    "| `L3`     | Shallow via `list()` | ❌ New list  | ✅ Same         | ⚠️ Yes (inner shared) | `L3 = list(L1)`     | L3 is a new list object, however, its elements are references to the same objects inside L1. |\n",
    "| `L4`     | Shallow via `copy`   | ❌ New list  | ✅ Same         | ⚠️ Yes (inner shared) | `L4 = copy(L1)`     | Similar to L3, it's a new outer list, but elements are not copied recursively. So inner list and tuple still reference the same objects. |\n",
    "| `L5`     | Deep via `deepcopy`  | ❌ New list  | ❌ New          | ❌ No (fully independent) | `L5 = deepcopy(L1)` | Entire structure is copied recursively. All nested objects are new and independent.         |\n"
   ]
  },
  {
   "cell_type": "markdown",
   "id": "9529863a",
   "metadata": {},
   "source": [
    "In behavior, `L3 = list(L1)` and `L4 = copy.copy(L1)` are almost identical because both create shallow copies of the outer list. However, the difference lies in how the copy is made — the constructor vs the copy protocol — which can matter for subclasses of list."
   ]
  },
  {
   "cell_type": "code",
   "execution_count": null,
   "id": "dacb87ca",
   "metadata": {},
   "outputs": [
    {
     "name": "stdout",
     "output_type": "stream",
     "text": [
      "<class '__main__.MyList'>\n",
      "<class 'list'>\n",
      "<class '__main__.MyList'>\n",
      "False\n",
      "True\n"
     ]
    }
   ],
   "source": [
    "import copy\n",
    "\n",
    "class MyList(list):\n",
    "    def __init__(self, *args):\n",
    "        super().__init__(*args)\n",
    "        self.metadata = \"custom\"\n",
    "\n",
    "L1 = MyList(['a', ['b', 'c'], ('d', 'e')])\n",
    "L3 = list(L1)           # Shallow copy using constructor\n",
    "L4 = copy.copy(L1)      # Shallow copy using copy protocol\n",
    "\n",
    "print(type(L1))  # <class '__main__.MyList'>\n",
    "print(type(L3))  # <class 'list'>               ← lost the custom subclass\n",
    "print(type(L4))  # <class '__main__.MyList'>   ← preserved the subclass\n",
    "\n",
    "print(hasattr(L3, 'metadata'))  # False\n",
    "print(hasattr(L4, 'metadata'))  # True\n"
   ]
  },
  {
   "cell_type": "markdown",
   "id": "d8978130",
   "metadata": {},
   "source": [
    "### Function Parameters as References"
   ]
  },
  {
   "cell_type": "markdown",
   "id": "8c6686bb",
   "metadata": {},
   "source": [
    "The only mode of parameter passing in Python is *call by sharing*. That is the same\n",
    "mode used in most object-oriented languages, including JavaScript, Ruby, and Java. Call by sharing\n",
    "means that each formal parameter of the function gets a copy of each reference in the\n",
    "arguments. In other words, the parameters inside the function become aliases of the\n",
    "actual arguments.\n",
    "\n",
    "The result of this scheme is that a function may change any mutable object passed as\n",
    "a parameter, but it cannot change the identity of those objects (i.e., it cannot altogether\n",
    "replace an object with another)."
   ]
  },
  {
   "cell_type": "code",
   "execution_count": 15,
   "id": "a93aed65",
   "metadata": {},
   "outputs": [],
   "source": [
    "def f(a, b):\n",
    "    a += b\n",
    "    return a"
   ]
  },
  {
   "cell_type": "markdown",
   "id": "776cfa11",
   "metadata": {},
   "source": [
    "**Ex. Number:** Unchanged"
   ]
  },
  {
   "cell_type": "code",
   "execution_count": null,
   "id": "d2953cde",
   "metadata": {},
   "outputs": [],
   "source": [
    "x = 1\n",
    "y = 2\n",
    "f(x, y)"
   ]
  },
  {
   "cell_type": "code",
   "execution_count": 12,
   "id": "fae5a587",
   "metadata": {},
   "outputs": [
    {
     "data": {
      "text/plain": [
       "(1, 2)"
      ]
     },
     "execution_count": 12,
     "metadata": {},
     "output_type": "execute_result"
    }
   ],
   "source": [
    "x, y"
   ]
  },
  {
   "cell_type": "markdown",
   "id": "3b3f23bf",
   "metadata": {},
   "source": [
    "**Ex. List:** Changed"
   ]
  },
  {
   "cell_type": "code",
   "execution_count": 13,
   "id": "eceb41b5",
   "metadata": {},
   "outputs": [
    {
     "data": {
      "text/plain": [
       "[1, 2, 3, 4]"
      ]
     },
     "execution_count": 13,
     "metadata": {},
     "output_type": "execute_result"
    }
   ],
   "source": [
    "a = [1, 2]\n",
    "b = [3, 4]\n",
    "f(a, b)"
   ]
  },
  {
   "cell_type": "code",
   "execution_count": 19,
   "id": "2ec5c035",
   "metadata": {},
   "outputs": [
    {
     "data": {
      "text/plain": [
       "([1, 2, 3, 4], [3, 4])"
      ]
     },
     "execution_count": 19,
     "metadata": {},
     "output_type": "execute_result"
    }
   ],
   "source": [
    "a, b"
   ]
  },
  {
   "cell_type": "markdown",
   "id": "bf77d6c3",
   "metadata": {},
   "source": [
    "**Ex. Tuple:** Unchanged"
   ]
  },
  {
   "cell_type": "code",
   "execution_count": 16,
   "id": "bccd966a",
   "metadata": {},
   "outputs": [
    {
     "data": {
      "text/plain": [
       "(10, 20, 30, 40)"
      ]
     },
     "execution_count": 16,
     "metadata": {},
     "output_type": "execute_result"
    }
   ],
   "source": [
    "t = (10, 20)\n",
    "u = (30, 40)\n",
    "f(t, u)"
   ]
  },
  {
   "cell_type": "code",
   "execution_count": 18,
   "id": "0885f133",
   "metadata": {},
   "outputs": [
    {
     "data": {
      "text/plain": [
       "((10, 20), (30, 40))"
      ]
     },
     "execution_count": 18,
     "metadata": {},
     "output_type": "execute_result"
    }
   ],
   "source": [
    "t, u"
   ]
  },
  {
   "cell_type": "markdown",
   "id": "e71a9b72",
   "metadata": {},
   "source": [
    "#### Mutable Types as Parameter Defaults: Bad Idea "
   ]
  },
  {
   "cell_type": "markdown",
   "id": "eb12c1ed",
   "metadata": {},
   "source": [
    "In following example, we tried to be clever, and instead of having a default value of `passengers=None`, we have `passengers=[]`, thus avoiding the if in the previous `__init__`. This “cleverness” gets us into trouble.\n",
    "\n",
    "**Example:** illustrate the danger of a mutable default"
   ]
  },
  {
   "cell_type": "code",
   "execution_count": 1,
   "id": "e38c605a",
   "metadata": {},
   "outputs": [],
   "source": [
    "class HauntedBus:\n",
    "    \"\"\"A bus model haunted by ghost passengers\"\"\"\n",
    "\n",
    "    def __init__(self, passengers=[]):\n",
    "        self.passengers = passengers\n",
    "\n",
    "    def pick(self, name):\n",
    "        self.passengers.append(name)\n",
    "        \n",
    "    def drop(self, name):\n",
    "        self.passengers.remove(name)"
   ]
  },
  {
   "cell_type": "code",
   "execution_count": 2,
   "id": "486a649e",
   "metadata": {},
   "outputs": [
    {
     "data": {
      "text/plain": [
       "['Alice', 'Bill']"
      ]
     },
     "execution_count": 2,
     "metadata": {},
     "output_type": "execute_result"
    }
   ],
   "source": [
    "bus1 = HauntedBus(['Alice', 'Bill'])\n",
    "bus1.passengers"
   ]
  },
  {
   "cell_type": "code",
   "execution_count": 3,
   "id": "d7ebed39",
   "metadata": {},
   "outputs": [
    {
     "data": {
      "text/plain": [
       "['Bill', 'Charlie']"
      ]
     },
     "execution_count": 3,
     "metadata": {},
     "output_type": "execute_result"
    }
   ],
   "source": [
    "bus1.pick('Charlie')\n",
    "bus1.drop('Alice')\n",
    "bus1.passengers"
   ]
  },
  {
   "cell_type": "code",
   "execution_count": 4,
   "id": "f3f726ee",
   "metadata": {},
   "outputs": [
    {
     "data": {
      "text/plain": [
       "['Carrie']"
      ]
     },
     "execution_count": 4,
     "metadata": {},
     "output_type": "execute_result"
    }
   ],
   "source": [
    "bus2 = HauntedBus()\n",
    "bus2.pick('Carrie')\n",
    "bus2.passengers"
   ]
  },
  {
   "cell_type": "code",
   "execution_count": 5,
   "id": "f772f1d0",
   "metadata": {},
   "outputs": [
    {
     "data": {
      "text/plain": [
       "['Carrie']"
      ]
     },
     "execution_count": 5,
     "metadata": {},
     "output_type": "execute_result"
    }
   ],
   "source": [
    "bus3 = HauntedBus()\n",
    "bus3.passengers"
   ]
  },
  {
   "cell_type": "code",
   "execution_count": 6,
   "id": "30ab67f6",
   "metadata": {},
   "outputs": [
    {
     "data": {
      "text/plain": [
       "['Carrie', 'Dave']"
      ]
     },
     "execution_count": 6,
     "metadata": {},
     "output_type": "execute_result"
    }
   ],
   "source": [
    "bus3.pick('Dave')\n",
    "bus3.passengers"
   ]
  },
  {
   "cell_type": "code",
   "execution_count": 7,
   "id": "4b745fc7",
   "metadata": {},
   "outputs": [
    {
     "data": {
      "text/plain": [
       "True"
      ]
     },
     "execution_count": 7,
     "metadata": {},
     "output_type": "execute_result"
    }
   ],
   "source": [
    "bus2.passengers is bus3.passengers"
   ]
  },
  {
   "cell_type": "code",
   "execution_count": 9,
   "id": "220986b5",
   "metadata": {},
   "outputs": [
    {
     "data": {
      "text/plain": [
       "['Bill', 'Charlie']"
      ]
     },
     "execution_count": 9,
     "metadata": {},
     "output_type": "execute_result"
    }
   ],
   "source": [
    "bus1.passengers"
   ]
  },
  {
   "cell_type": "markdown",
   "id": "e0f0876e",
   "metadata": {},
   "source": [
    "**The problem:** `bus2.passengers` and `bus3.passengers` refer to the same list.  \n",
    "\n",
    "But bus1.passengers is a distinct list."
   ]
  },
  {
   "cell_type": "markdown",
   "id": "e7c17f21",
   "metadata": {},
   "source": [
    "#### Defensive Programming with Mutable Parameters"
   ]
  },
  {
   "cell_type": "markdown",
   "id": "e6aba313",
   "metadata": {},
   "source": [
    "When you are coding a function that receives a mutable parameter, you should carefully\n",
    "consider whether the caller expects the argument passed to be changed.\n",
    "\n",
    "For example, if your function receives a dict and needs to modify it while processing\n",
    "it, should this side effect be visible outside of the function or not? Actually it depends\n",
    "on the context. It’s really a matter of aligning the expectation of the coder of the function\n",
    "and that of the caller.\n",
    "\n",
    "The last bus example in this chapter shows how a `TwilightBus` breaks expectations\n",
    "by sharing its passenger list with its clients. Before studying the implementation, see how the `TwilightBus` class works from the perspective of a client of the class:"
   ]
  },
  {
   "cell_type": "markdown",
   "id": "572ea4e1",
   "metadata": {},
   "source": [
    "```python\n",
    ">>> basketball_team = ['Sue', 'Tina', 'Maya', 'Diana', 'Pat']\n",
    ">>> bus = TwilightBus(basketball_team)\n",
    ">>> bus.drop('Tina')\n",
    ">>> bus.drop('Pat')\n",
    ">>> basketball_team\n",
    "['Sue', 'Maya', 'Diana']\n",
    "```"
   ]
  },
  {
   "cell_type": "markdown",
   "id": "6335398a",
   "metadata": {},
   "source": [
    "`TwilightBus` violates the [“Principle of least astonishment,”](https://deviq.com/principles/principle-of-least-astonishment) a best practice of interface\n",
    "design.3 It surely is astonishing that when the bus drops a student, their name is\n",
    "removed from the basketball team roster."
   ]
  },
  {
   "cell_type": "code",
   "execution_count": 11,
   "id": "d57b6957",
   "metadata": {},
   "outputs": [],
   "source": [
    "class TwilightBus:\n",
    "    \"\"\"A bus model that makes passengers vanish\"\"\"\n",
    "\n",
    "    def __init__(self, passengers=None):\n",
    "        if passengers is None:\n",
    "            self.passengers = []\n",
    "        else:\n",
    "            self.passengers = passengers\n",
    "\n",
    "    def pick(self, name):\n",
    "        self.passengers.append(name)\n",
    "\n",
    "    def drop(self, name):\n",
    "        self.passengers.remove(name)"
   ]
  },
  {
   "cell_type": "markdown",
   "id": "b2b55bac",
   "metadata": {},
   "source": [
    "Reminding original `Bus` class:\n",
    "\n",
    "```python\n",
    "class Bus:\n",
    "\n",
    "    def __init__(self, passengers=None):\n",
    "        if passengers is None:\n",
    "            self.passengers = []\n",
    "        else:\n",
    "            self.passengers = list(passengers)\n",
    "\n",
    "    def pick(self, name):\n",
    "        self.passengers.append(name)\n",
    "\n",
    "    def drop(self, name):\n",
    "        self.passengers.remove(name)\n",
    "```\n",
    "\n",
    "What's different is:\n",
    "- `Bus`: `self.passengers = list(passengers)` -> Shallow Copy \n",
    "- `HauntedBus`: `self.passengers = passengers` -> Assignment (alias)\n",
    "\n",
    "In `Bus` the argument passed to the passengers parameter may be a tuple or any other iterable, like a set or even database results, because the list constructor accepts any iterable."
   ]
  },
  {
   "cell_type": "markdown",
   "id": "c89c61ee",
   "metadata": {},
   "source": [
    "![Figure 94](https://raw.githubusercontent.com/berserkhmdvhb/Training-Python/main/figures/Part_I/94.PNG)"
   ]
  }
 ],
 "metadata": {
  "kernelspec": {
   "display_name": "env_train",
   "language": "python",
   "name": "python3"
  },
  "language_info": {
   "codemirror_mode": {
    "name": "ipython",
    "version": 3
   },
   "file_extension": ".py",
   "mimetype": "text/x-python",
   "name": "python",
   "nbconvert_exporter": "python",
   "pygments_lexer": "ipython3",
   "version": "3.12.2"
  }
 },
 "nbformat": 4,
 "nbformat_minor": 5
}

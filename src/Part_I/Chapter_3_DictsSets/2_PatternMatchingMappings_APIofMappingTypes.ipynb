{
 "cells": [
  {
   "cell_type": "markdown",
   "id": "3e82d3f0",
   "metadata": {},
   "source": [
    "# Chapter 3. Dictionaries and Sets\n",
    "---"
   ]
  },
  {
   "cell_type": "markdown",
   "id": "fe4a8b9a",
   "metadata": {},
   "source": [
    "## ToC\n",
    "\n",
    "1. [Pattern Matching with Mappings](#pattern-matching-with-mappings)\n",
    "2. [Standard API of Mapping Type](#standard-api-of-mapping-type)  \n",
    "    2.1. [What is hashable](#what-is-hashable)  \n",
    "    2.2. [Overview of common mapping methods](#overview-of-common-mapping-methods)  \n",
    "    2.3. [Inserting or updating mutable values](#inserting-or-updating-mutable-values)\n",
    "---"
   ]
  },
  {
   "cell_type": "markdown",
   "id": "8a13d7bd",
   "metadata": {},
   "source": [
    "## Pattern Matching with Mappings"
   ]
  },
  {
   "cell_type": "markdown",
   "id": "c6e5c22d",
   "metadata": {},
   "source": [
    "The `match/case` statement supports subjects that are mapping objects. Patterns for\n",
    "mappings look like `dict` literals, but they can match instances of any actual or virtual\n",
    "subclass of `collections.abc.Mapping`."
   ]
  },
  {
   "cell_type": "code",
   "execution_count": 41,
   "id": "9dbcb41f",
   "metadata": {},
   "outputs": [],
   "source": [
    "def get_creators(record: dict) -> list:\n",
    "    match record:\n",
    "        case {'type': 'book', 'api': 2, 'authors': [*names]}:\n",
    "            return names\n",
    "        case {'type': 'book', 'api': 1, 'author': name}:\n",
    "            return [name]\n",
    "        case {'type': 'book', 'api': 3, 'author': name}:\n",
    "            return name.split()\n",
    "        case {'type': 'book'}:\n",
    "            raise ValueError(f\"Invalid 'book' record: {record!r}\")\n",
    "        case {'type': 'movie', 'director': name}:\n",
    "            return [name]\n",
    "        case _:\n",
    "            raise ValueError(f'Invalid record: {record!r}')"
   ]
  },
  {
   "cell_type": "code",
   "execution_count": 35,
   "id": "e3ac7391",
   "metadata": {},
   "outputs": [
    {
     "data": {
      "text/plain": [
       "{'api': 1,\n",
       " 'author': 'Douglas Hofstadter',\n",
       " 'type': 'book',\n",
       " 'title': 'Gödel, Escher, Bach'}"
      ]
     },
     "execution_count": 35,
     "metadata": {},
     "output_type": "execute_result"
    }
   ],
   "source": [
    "b1 = dict(\n",
    "        api=1,\n",
    "        author='Douglas Hofstadter',\n",
    "        type='book',\n",
    "        title='Gödel, Escher, Bach'\n",
    "    )\n",
    "b1    "
   ]
  },
  {
   "cell_type": "code",
   "execution_count": 36,
   "id": "81ef31d4",
   "metadata": {},
   "outputs": [
    {
     "data": {
      "text/plain": [
       "['Douglas Hofstadter']"
      ]
     },
     "execution_count": 36,
     "metadata": {},
     "output_type": "execute_result"
    }
   ],
   "source": [
    "get_creators(b1)"
   ]
  },
  {
   "cell_type": "code",
   "execution_count": 37,
   "id": "6ea6e6e9",
   "metadata": {},
   "outputs": [
    {
     "data": {
      "text/plain": [
       "{'api': 2,\n",
       " 'type': 'book',\n",
       " 'title': 'Python in a Nutshell',\n",
       " 'authors': ['Martelli', ' Ravenscroft', ' Holden']}"
      ]
     },
     "execution_count": 37,
     "metadata": {},
     "output_type": "execute_result"
    }
   ],
   "source": [
    "b2 = dict(\n",
    "        api=2, \n",
    "        type='book',\n",
    "        title='Python in a Nutshell',\n",
    "        authors='Martelli, Ravenscroft, Holden'.split(sep = ',')\n",
    "    )\n",
    "b2"
   ]
  },
  {
   "cell_type": "code",
   "execution_count": 38,
   "id": "6010572e",
   "metadata": {},
   "outputs": [
    {
     "data": {
      "text/plain": [
       "['Martelli', ' Ravenscroft', ' Holden']"
      ]
     },
     "execution_count": 38,
     "metadata": {},
     "output_type": "execute_result"
    }
   ],
   "source": [
    "get_creators(b2)"
   ]
  },
  {
   "cell_type": "code",
   "execution_count": 42,
   "id": "41070d59",
   "metadata": {},
   "outputs": [
    {
     "data": {
      "text/plain": [
       "{'api': 3,\n",
       " 'type': 'book',\n",
       " 'title': 'DummyBook',\n",
       " 'author': 'Author1 Author2 Author3'}"
      ]
     },
     "execution_count": 42,
     "metadata": {},
     "output_type": "execute_result"
    }
   ],
   "source": [
    "b3 = dict(\n",
    "        api=3, \n",
    "        type='book',\n",
    "        title='DummyBook',\n",
    "        author='Author1 Author2 Author3'\n",
    "    )\n",
    "b3"
   ]
  },
  {
   "cell_type": "code",
   "execution_count": 43,
   "id": "76a60bdf",
   "metadata": {},
   "outputs": [
    {
     "data": {
      "text/plain": [
       "['Author1', 'Author2', 'Author3']"
      ]
     },
     "execution_count": 43,
     "metadata": {},
     "output_type": "execute_result"
    }
   ],
   "source": [
    "get_creators(b3)"
   ]
  },
  {
   "cell_type": "code",
   "execution_count": 44,
   "id": "b5b399cb",
   "metadata": {},
   "outputs": [
    {
     "ename": "ValueError",
     "evalue": "Invalid 'book' record: {'type': 'book', 'pages': 770}",
     "output_type": "error",
     "traceback": [
      "\u001b[31m---------------------------------------------------------------------------\u001b[39m",
      "\u001b[31mValueError\u001b[39m                                Traceback (most recent call last)",
      "\u001b[36mCell\u001b[39m\u001b[36m \u001b[39m\u001b[32mIn[44]\u001b[39m\u001b[32m, line 1\u001b[39m\n\u001b[32m----> \u001b[39m\u001b[32m1\u001b[39m \u001b[43mget_creators\u001b[49m\u001b[43m(\u001b[49m\u001b[43m{\u001b[49m\u001b[33;43m'\u001b[39;49m\u001b[33;43mtype\u001b[39;49m\u001b[33;43m'\u001b[39;49m\u001b[43m:\u001b[49m\u001b[43m \u001b[49m\u001b[33;43m'\u001b[39;49m\u001b[33;43mbook\u001b[39;49m\u001b[33;43m'\u001b[39;49m\u001b[43m,\u001b[49m\u001b[43m \u001b[49m\u001b[33;43m'\u001b[39;49m\u001b[33;43mpages\u001b[39;49m\u001b[33;43m'\u001b[39;49m\u001b[43m:\u001b[49m\u001b[43m \u001b[49m\u001b[32;43m770\u001b[39;49m\u001b[43m}\u001b[49m\u001b[43m)\u001b[49m\n",
      "\u001b[36mCell\u001b[39m\u001b[36m \u001b[39m\u001b[32mIn[41]\u001b[39m\u001b[32m, line 10\u001b[39m, in \u001b[36mget_creators\u001b[39m\u001b[34m(record)\u001b[39m\n\u001b[32m      8\u001b[39m     \u001b[38;5;28;01mreturn\u001b[39;00m name.split()\n\u001b[32m      9\u001b[39m \u001b[38;5;28;01mcase\u001b[39;00m {\u001b[33m'\u001b[39m\u001b[33mtype\u001b[39m\u001b[33m'\u001b[39m: \u001b[33m'\u001b[39m\u001b[33mbook\u001b[39m\u001b[33m'\u001b[39m}:\n\u001b[32m---> \u001b[39m\u001b[32m10\u001b[39m     \u001b[38;5;28;01mraise\u001b[39;00m \u001b[38;5;167;01mValueError\u001b[39;00m(\u001b[33mf\u001b[39m\u001b[33m\"\u001b[39m\u001b[33mInvalid \u001b[39m\u001b[33m'\u001b[39m\u001b[33mbook\u001b[39m\u001b[33m'\u001b[39m\u001b[33m record: \u001b[39m\u001b[38;5;132;01m{\u001b[39;00mrecord\u001b[38;5;132;01m!r}\u001b[39;00m\u001b[33m\"\u001b[39m)\n\u001b[32m     11\u001b[39m \u001b[38;5;28;01mcase\u001b[39;00m {\u001b[33m'\u001b[39m\u001b[33mtype\u001b[39m\u001b[33m'\u001b[39m: \u001b[33m'\u001b[39m\u001b[33mmovie\u001b[39m\u001b[33m'\u001b[39m, \u001b[33m'\u001b[39m\u001b[33mdirector\u001b[39m\u001b[33m'\u001b[39m: name}:\n\u001b[32m     12\u001b[39m     \u001b[38;5;28;01mreturn\u001b[39;00m [name]\n",
      "\u001b[31mValueError\u001b[39m: Invalid 'book' record: {'type': 'book', 'pages': 770}"
     ]
    }
   ],
   "source": [
    "get_creators({'type': 'book', 'pages': 770})"
   ]
  },
  {
   "cell_type": "code",
   "execution_count": 45,
   "id": "44784e9a",
   "metadata": {},
   "outputs": [
    {
     "ename": "ValueError",
     "evalue": "Invalid record: 'Spam, spam, spam'",
     "output_type": "error",
     "traceback": [
      "\u001b[31m---------------------------------------------------------------------------\u001b[39m",
      "\u001b[31mValueError\u001b[39m                                Traceback (most recent call last)",
      "\u001b[36mCell\u001b[39m\u001b[36m \u001b[39m\u001b[32mIn[45]\u001b[39m\u001b[32m, line 1\u001b[39m\n\u001b[32m----> \u001b[39m\u001b[32m1\u001b[39m \u001b[43mget_creators\u001b[49m\u001b[43m(\u001b[49m\u001b[33;43m'\u001b[39;49m\u001b[33;43mSpam, spam, spam\u001b[39;49m\u001b[33;43m'\u001b[39;49m\u001b[43m)\u001b[49m\n",
      "\u001b[36mCell\u001b[39m\u001b[36m \u001b[39m\u001b[32mIn[41]\u001b[39m\u001b[32m, line 14\u001b[39m, in \u001b[36mget_creators\u001b[39m\u001b[34m(record)\u001b[39m\n\u001b[32m     12\u001b[39m     \u001b[38;5;28;01mreturn\u001b[39;00m [name]\n\u001b[32m     13\u001b[39m \u001b[38;5;28;01mcase\u001b[39;00m\u001b[38;5;250m \u001b[39m\u001b[38;5;28;01m_\u001b[39;00m:\n\u001b[32m---> \u001b[39m\u001b[32m14\u001b[39m     \u001b[38;5;28;01mraise\u001b[39;00m \u001b[38;5;167;01mValueError\u001b[39;00m(\u001b[33mf\u001b[39m\u001b[33m'\u001b[39m\u001b[33mInvalid record: \u001b[39m\u001b[38;5;132;01m{\u001b[39;00mrecord\u001b[38;5;132;01m!r}\u001b[39;00m\u001b[33m'\u001b[39m)\n",
      "\u001b[31mValueError\u001b[39m: Invalid record: 'Spam, spam, spam'"
     ]
    }
   ],
   "source": [
    "get_creators('Spam, spam, spam')"
   ]
  },
  {
   "cell_type": "markdown",
   "id": "325771bd",
   "metadata": {},
   "source": [
    "In contrast with sequence patterns, mapping patterns succeed on partial matches. In the doctests, the b1 and b2 subjects include a 'title' key that does not appear in any 'book' pattern, yet they match."
   ]
  },
  {
   "cell_type": "code",
   "execution_count": 1,
   "id": "f6ed7456",
   "metadata": {},
   "outputs": [
    {
     "name": "stdout",
     "output_type": "stream",
     "text": [
      "Book by Orwell\n",
      "Sequence starting with a\n",
      "Sequence starting with a\n",
      "Sequence starting with a\n"
     ]
    }
   ],
   "source": [
    "def match_anything(obj):\n",
    "    match obj:\n",
    "        case {'type': 'book', 'author': name}:\n",
    "            return f\"Book by {name}\"\n",
    "        case [first, *rest]:\n",
    "            return f\"Sequence starting with {first}\"\n",
    "        case _:\n",
    "            return \"Other\"\n",
    "\n",
    "print(match_anything({'type': 'book', 'author': 'Orwell', 'title': '1984'}))\n",
    "# Matches: extra 'title' is fine\n",
    "\n",
    "print(match_anything(['a', 'b', 'c']))\n",
    "# Matches because of unpacking with *rest\n",
    "\n",
    "print(match_anything(['a', 'b', 'c', 'd']))\n",
    "# Still matches: [fi\n",
    "# rst, *rest] can handle arbitrary length\n",
    "\n",
    "print(match_anything(['a']))\n",
    "# Matches too: rest = []"
   ]
  },
  {
   "cell_type": "markdown",
   "id": "84d4e71b",
   "metadata": {},
   "source": [
    "There is no need to use `**extra` to match extra key-value pairs, but if you want to capture them as a dict, you can prefix one variable with `**`. It must be the last in the pattern, and `**_` is forbidden because it would be redundant"
   ]
  },
  {
   "cell_type": "code",
   "execution_count": 11,
   "id": "1e751e8b",
   "metadata": {},
   "outputs": [
    {
     "name": "stdout",
     "output_type": "stream",
     "text": [
      "Ice cream details: {'flavor': 'vanilla', 'cost': 199}\n"
     ]
    }
   ],
   "source": [
    "food = dict(category='ice cream', flavor='vanilla', cost=199)\n",
    "match food:\n",
    "    case {'category': 'ice cream', **details}:\n",
    "        print(f'Ice cream details: {details}')"
   ]
  },
  {
   "cell_type": "markdown",
   "id": "abfc4dab",
   "metadata": {},
   "source": [
    "![Figure 34](https://raw.githubusercontent.com/berserkhmdvhb/Training-Python/main/figures/Part_I/34.PNG)"
   ]
  },
  {
   "cell_type": "markdown",
   "id": "bf2916ef",
   "metadata": {},
   "source": [
    "## Standard API of Mapping Type"
   ]
  },
  {
   "cell_type": "markdown",
   "id": "39faccad",
   "metadata": {},
   "source": [
    "The `collections.abc` module provides the `Mapping` and `MutableMapping` ABCs describing the interfaces of dict and similar types."
   ]
  },
  {
   "cell_type": "markdown",
   "id": "5402f16e",
   "metadata": {},
   "source": [
    "The main value of the ABCs is documenting and formalizing the standard interfaces\n",
    "for mappings, and serving as criteria for isinstance tests in code that needs to support\n",
    "mappings in a broad sense:"
   ]
  },
  {
   "cell_type": "code",
   "execution_count": 15,
   "id": "89a67000",
   "metadata": {},
   "outputs": [
    {
     "data": {
      "text/plain": [
       "True"
      ]
     },
     "execution_count": 15,
     "metadata": {},
     "output_type": "execute_result"
    }
   ],
   "source": [
    "from collections import abc\n",
    "my_dict = {}\n",
    "isinstance(my_dict, abc.Mapping)"
   ]
  },
  {
   "cell_type": "code",
   "execution_count": 16,
   "id": "c4138f08",
   "metadata": {},
   "outputs": [
    {
     "data": {
      "text/plain": [
       "True"
      ]
     },
     "execution_count": 16,
     "metadata": {},
     "output_type": "execute_result"
    }
   ],
   "source": [
    "isinstance(my_dict, abc.MutableMapping)"
   ]
  },
  {
   "cell_type": "markdown",
   "id": "f9cab2c5",
   "metadata": {},
   "source": [
    "![Figure 35](https://raw.githubusercontent.com/berserkhmdvhb/Training-Python/main/figures/Part_I/35.PNG)"
   ]
  },
  {
   "cell_type": "markdown",
   "id": "e4e2fc71",
   "metadata": {},
   "source": [
    "To implement a custom mapping, it’s easier to extend `collections.UserDict`, or to\n",
    "wrap a `dict` by composition, instead of subclassing these ABCs. The `collec\n",
    "tions.UserDict` class and all concrete mapping classes in the standard library encapsulate\n",
    "the basic `dict` in their implementation, which in turn is built on a hash table.\n",
    "Therefore, they all share the limitation that the keys must be *hashable* (the values\n",
    "need not be hashable, only the keys)."
   ]
  },
  {
   "cell_type": "markdown",
   "id": "52551196",
   "metadata": {},
   "source": [
    "### What is hashable?"
   ]
  },
  {
   "cell_type": "markdown",
   "id": "7e36a6dd",
   "metadata": {},
   "source": [
    "Here is part of the definition of hashable adapted from the [Python Glossary](https://fpy.li/3-3):\n",
    "\n",
    "> An object is hashable if it has a hash code which never changes during its lifetime (it\n",
    "needs a `__hash__()` method), and can be compared to other objects (it needs an\n",
    "`__eq__()` method). Hashable objects which compare equal must have the same hash\n",
    "code.\n",
    "\n",
    "Numeric types and flat immutable types `str` and `bytes` are all hashable.\n",
    "Container types are hashable if they are immutable and all contained objects are also hashable.\n",
    "A `frozenset` is always hashable, because every element it contains must be hashable by def.\n",
    "A `tuple` is hashable only if all its items are hashable.\n",
    "\n",
    "User-defined types are hashable by default because their hash code is their `id()`, and the `__eq__()` method inherited from the object class simply compares the object IDs."
   ]
  },
  {
   "cell_type": "code",
   "execution_count": 21,
   "id": "4ad44691",
   "metadata": {},
   "outputs": [
    {
     "data": {
      "text/plain": [
       "-3907003130834322577"
      ]
     },
     "execution_count": 21,
     "metadata": {},
     "output_type": "execute_result"
    }
   ],
   "source": [
    "tt = (1, 2, (30, 40))\n",
    "hash(tt)"
   ]
  },
  {
   "cell_type": "code",
   "execution_count": 25,
   "id": "4868544e",
   "metadata": {},
   "outputs": [
    {
     "ename": "TypeError",
     "evalue": "unhashable type: 'list'",
     "output_type": "error",
     "traceback": [
      "\u001b[31m---------------------------------------------------------------------------\u001b[39m",
      "\u001b[31mTypeError\u001b[39m                                 Traceback (most recent call last)",
      "\u001b[36mCell\u001b[39m\u001b[36m \u001b[39m\u001b[32mIn[25]\u001b[39m\u001b[32m, line 2\u001b[39m\n\u001b[32m      1\u001b[39m tl = (\u001b[32m1\u001b[39m, \u001b[32m2\u001b[39m, [\u001b[32m30\u001b[39m, \u001b[32m40\u001b[39m])\n\u001b[32m----> \u001b[39m\u001b[32m2\u001b[39m \u001b[38;5;28;43mhash\u001b[39;49m\u001b[43m(\u001b[49m\u001b[43mtl\u001b[49m\u001b[43m)\u001b[49m\n",
      "\u001b[31mTypeError\u001b[39m: unhashable type: 'list'"
     ]
    }
   ],
   "source": [
    "tl = (1, 2, [30, 40])\n",
    "hash(tl)"
   ]
  },
  {
   "cell_type": "code",
   "execution_count": 26,
   "id": "112a00d4",
   "metadata": {},
   "outputs": [
    {
     "data": {
      "text/plain": [
       "5149391500123939311"
      ]
     },
     "execution_count": 26,
     "metadata": {},
     "output_type": "execute_result"
    }
   ],
   "source": [
    "tf = (1, 2, frozenset([30, 40]))\n",
    "hash(tf)"
   ]
  },
  {
   "cell_type": "markdown",
   "id": "3232f376",
   "metadata": {},
   "source": [
    "### Overview of Common Mapping Methods"
   ]
  },
  {
   "cell_type": "markdown",
   "id": "5e801698",
   "metadata": {},
   "source": [
    "![Figure 36](https://raw.githubusercontent.com/berserkhmdvhb/Training-Python/main/figures/Part_I/36.PNG)"
   ]
  },
  {
   "cell_type": "markdown",
   "id": "8196b498",
   "metadata": {},
   "source": [
    "The way `d.update(m)` handles its first argument m is a prime example of *duck typing*:\n",
    "it first checks whether m has a keys method and, if it does, assumes it is a mapping.\n",
    "Otherwise, `update()` falls back to iterating over m, assuming its items are (key,\n",
    "value) pairs. The constructor for most Python mappings uses the logic of `update()`\n",
    "internally, which means they can be initialized from other mappings or from any\n",
    "iterable object producing (key, value) pairs. A subtle mapping method is `setdefault()`. It avoids redundant key lookups when\n",
    "we need to update the value of an item in place."
   ]
  },
  {
   "cell_type": "markdown",
   "id": "c734f0b1",
   "metadata": {},
   "source": [
    "### Inserting or Updating Mutable Values"
   ]
  },
  {
   "cell_type": "markdown",
   "id": "fc2124a0",
   "metadata": {},
   "source": [
    "In line with Python’s fail-fast philosophy, dict access with `d[k]` raises an error when `k` is not an existing key.\n",
    "`d.get(k, default)` is an alternative to `d[k]` whenever a default value is more convenient than handling KeyError."
   ]
  },
  {
   "cell_type": "markdown",
   "id": "504e7cc8",
   "metadata": {},
   "source": [
    "**Example:** Build an index mapping word -> list of occurrences  \n",
    "Consider a script to index text, producing a mapping where each key is a word, and the value is a list of positions where that word occurs:"
   ]
  },
  {
   "cell_type": "code",
   "execution_count": 31,
   "id": "add64f0e",
   "metadata": {},
   "outputs": [],
   "source": [
    "import this\n",
    "import codecs\n",
    "\n",
    "with open(\"zen.txt\", \"w\", encoding=\"utf-8\") as f:\n",
    "    decoded_zen = codecs.decode(this.s, \"rot_13\")\n",
    "    f.write(decoded_zen)"
   ]
  },
  {
   "cell_type": "code",
   "execution_count": null,
   "id": "16f4fe40",
   "metadata": {},
   "outputs": [
    {
     "name": "stdout",
     "output_type": "stream",
     "text": [
      "a [(19, 48), (20, 53)]\n",
      "Although [(11, 1), (16, 1), (18, 1)]\n",
      "ambiguity [(14, 16)]\n",
      "and [(15, 23)]\n",
      "are [(21, 12)]\n",
      "aren [(10, 15)]\n",
      "at [(16, 38)]\n",
      "bad [(19, 50)]\n",
      "be [(15, 14), (16, 27), (20, 50)]\n",
      "beats [(11, 23)]\n",
      "Beautiful [(3, 1)]\n",
      "better [(3, 14), (4, 13), (5, 11), (6, 12), (7, 9), (8, 11), (17, 8), (18, 25)]\n",
      "break [(10, 40)]\n",
      "by [(1, 20)]\n",
      "cases [(10, 9)]\n",
      "complex [(5, 23)]\n",
      "Complex [(6, 1)]\n",
      "complicated [(6, 24)]\n",
      "counts [(9, 13)]\n",
      "dense [(8, 23)]\n",
      "do [(15, 64), (21, 48)]\n",
      "Dutch [(16, 61)]\n",
      "easy [(20, 26)]\n",
      "enough [(10, 30)]\n",
      "Errors [(12, 1)]\n",
      "explain [(19, 34), (20, 34)]\n",
      "Explicit [(4, 1)]\n",
      "explicitly [(13, 8)]\n",
      "face [(14, 8)]\n",
      "first [(16, 41)]\n",
      "Flat [(7, 1)]\n",
      "good [(20, 55)]\n",
      "great [(21, 28)]\n",
      "guess [(14, 52)]\n",
      "hard [(19, 26)]\n",
      "honking [(21, 20)]\n",
      "idea [(19, 54), (20, 60), (21, 34)]\n",
      "If [(19, 1), (20, 1)]\n",
      "implementation [(19, 8), (20, 8)]\n",
      "implicit [(4, 25)]\n",
      "In [(14, 1)]\n",
      "is [(3, 11), (4, 10), (5, 8), (6, 9), (7, 6), (8, 8), (17, 5), (18, 16), (19, 23), (20, 23)]\n",
      "it [(15, 67), (19, 43), (20, 43)]\n",
      "let [(21, 42)]\n",
      "may [(16, 19), (20, 46)]\n",
      "more [(21, 51)]\n",
      "Namespaces [(21, 1)]\n",
      "nested [(7, 21)]\n",
      "never [(12, 15), (17, 20), (18, 10)]\n",
      "not [(16, 23)]\n",
      "Now [(17, 1)]\n",
      "now [(18, 45)]\n",
      "obvious [(15, 49), (16, 30)]\n",
      "of [(1, 9), (14, 13), (21, 56)]\n",
      "often [(18, 19)]\n",
      "one [(15, 17), (15, 43), (21, 16)]\n",
      "only [(15, 38)]\n",
      "pass [(12, 21)]\n",
      "Peters [(1, 27)]\n",
      "practicality [(11, 10)]\n",
      "preferably [(15, 27)]\n",
      "purity [(11, 29)]\n",
      "Python [(1, 12)]\n",
      "re [(16, 58)]\n",
      "Readability [(9, 1)]\n",
      "refuse [(14, 27)]\n",
      "right [(18, 38)]\n",
      "rules [(10, 50)]\n",
      "s [(19, 46), (21, 46)]\n",
      "should [(12, 8), (15, 7)]\n",
      "silenced [(13, 19)]\n",
      "silently [(12, 26)]\n",
      "Simple [(5, 1)]\n",
      "Sparse [(8, 1)]\n",
      "Special [(10, 1)]\n",
      "special [(10, 22)]\n",
      "t [(10, 20)]\n",
      "temptation [(14, 38)]\n",
      "than [(3, 21), (4, 20), (5, 18), (6, 19), (7, 16), (8, 18), (17, 15), (18, 32)]\n",
      "that [(16, 10)]\n",
      "The [(1, 1)]\n",
      "the [(10, 46), (14, 4), (14, 34), (19, 4), (20, 4)]\n",
      "There [(15, 1)]\n",
      "those [(21, 59)]\n",
      "Tim [(1, 23)]\n",
      "to [(10, 37), (14, 49), (15, 61), (19, 31), (20, 31)]\n",
      "ugly [(3, 26)]\n",
      "Unless [(13, 1)]\n",
      "unless [(16, 47)]\n",
      "way [(15, 57), (16, 15)]\n",
      "you [(16, 54)]\n",
      "Zen [(1, 5)]\n"
     ]
    }
   ],
   "source": [
    "import re\n",
    "\n",
    "WORD_RE = re.compile(r'\\w+')\n",
    "index = {}\n",
    "\n",
    "# for terminal \n",
    "# with open(sys.argv[1], encoding='utf-8') as fp:\n",
    "# for notebook\n",
    "with open(\"zen.txt\", encoding='utf-8') as fp:\n",
    "    for line_no, line in enumerate(fp, 1):\n",
    "        for match in WORD_RE.finditer(line):\n",
    "            word = match.group()\n",
    "            column_no = match.start() + 1\n",
    "            location = (line_no, column_no)\n",
    "            # this is ugly; coded like this to make a point\n",
    "            # Get the list of occurrences for word, or [] if not found\n",
    "            occurrences = index.get(word, [])\n",
    "            # Append new location to occurrences.\n",
    "            occurrences.append(location)\n",
    "            # Put changed occurrences into index dict; this entails a second search throught the index\n",
    "            index[word] = occurrences\n",
    "\n",
    "# the sorted function  uses the key str.upper to normalize the words for sorting\n",
    "for word in sorted(index, key=str.upper):\n",
    "    print(word, index[word])\n"
   ]
  },
  {
   "cell_type": "markdown",
   "id": "1ceb2917",
   "metadata": {},
   "source": [
    "This was suboptimal script written to show one case where dict.get is not the best way to handle a missing key. The three lines dealing with occurrences in the Example can be replaced by a single line using `dict.setdefault`. Version below is closer to Alex Martelli’s code."
   ]
  },
  {
   "cell_type": "code",
   "execution_count": 35,
   "id": "0eec8590",
   "metadata": {},
   "outputs": [
    {
     "name": "stdout",
     "output_type": "stream",
     "text": [
      "a [(19, 48), (20, 53)]\n",
      "Although [(11, 1), (16, 1), (18, 1)]\n",
      "ambiguity [(14, 16)]\n",
      "and [(15, 23)]\n",
      "are [(21, 12)]\n",
      "aren [(10, 15)]\n",
      "at [(16, 38)]\n",
      "bad [(19, 50)]\n",
      "be [(15, 14), (16, 27), (20, 50)]\n",
      "beats [(11, 23)]\n",
      "Beautiful [(3, 1)]\n",
      "better [(3, 14), (4, 13), (5, 11), (6, 12), (7, 9), (8, 11), (17, 8), (18, 25)]\n",
      "break [(10, 40)]\n",
      "by [(1, 20)]\n",
      "cases [(10, 9)]\n",
      "complex [(5, 23)]\n",
      "Complex [(6, 1)]\n",
      "complicated [(6, 24)]\n",
      "counts [(9, 13)]\n",
      "dense [(8, 23)]\n",
      "do [(15, 64), (21, 48)]\n",
      "Dutch [(16, 61)]\n",
      "easy [(20, 26)]\n",
      "enough [(10, 30)]\n",
      "Errors [(12, 1)]\n",
      "explain [(19, 34), (20, 34)]\n",
      "Explicit [(4, 1)]\n",
      "explicitly [(13, 8)]\n",
      "face [(14, 8)]\n",
      "first [(16, 41)]\n",
      "Flat [(7, 1)]\n",
      "good [(20, 55)]\n",
      "great [(21, 28)]\n",
      "guess [(14, 52)]\n",
      "hard [(19, 26)]\n",
      "honking [(21, 20)]\n",
      "idea [(19, 54), (20, 60), (21, 34)]\n",
      "If [(19, 1), (20, 1)]\n",
      "implementation [(19, 8), (20, 8)]\n",
      "implicit [(4, 25)]\n",
      "In [(14, 1)]\n",
      "is [(3, 11), (4, 10), (5, 8), (6, 9), (7, 6), (8, 8), (17, 5), (18, 16), (19, 23), (20, 23)]\n",
      "it [(15, 67), (19, 43), (20, 43)]\n",
      "let [(21, 42)]\n",
      "may [(16, 19), (20, 46)]\n",
      "more [(21, 51)]\n",
      "Namespaces [(21, 1)]\n",
      "nested [(7, 21)]\n",
      "never [(12, 15), (17, 20), (18, 10)]\n",
      "not [(16, 23)]\n",
      "Now [(17, 1)]\n",
      "now [(18, 45)]\n",
      "obvious [(15, 49), (16, 30)]\n",
      "of [(1, 9), (14, 13), (21, 56)]\n",
      "often [(18, 19)]\n",
      "one [(15, 17), (15, 43), (21, 16)]\n",
      "only [(15, 38)]\n",
      "pass [(12, 21)]\n",
      "Peters [(1, 27)]\n",
      "practicality [(11, 10)]\n",
      "preferably [(15, 27)]\n",
      "purity [(11, 29)]\n",
      "Python [(1, 12)]\n",
      "re [(16, 58)]\n",
      "Readability [(9, 1)]\n",
      "refuse [(14, 27)]\n",
      "right [(18, 38)]\n",
      "rules [(10, 50)]\n",
      "s [(19, 46), (21, 46)]\n",
      "should [(12, 8), (15, 7)]\n",
      "silenced [(13, 19)]\n",
      "silently [(12, 26)]\n",
      "Simple [(5, 1)]\n",
      "Sparse [(8, 1)]\n",
      "Special [(10, 1)]\n",
      "special [(10, 22)]\n",
      "t [(10, 20)]\n",
      "temptation [(14, 38)]\n",
      "than [(3, 21), (4, 20), (5, 18), (6, 19), (7, 16), (8, 18), (17, 15), (18, 32)]\n",
      "that [(16, 10)]\n",
      "The [(1, 1)]\n",
      "the [(10, 46), (14, 4), (14, 34), (19, 4), (20, 4)]\n",
      "There [(15, 1)]\n",
      "those [(21, 59)]\n",
      "Tim [(1, 23)]\n",
      "to [(10, 37), (14, 49), (15, 61), (19, 31), (20, 31)]\n",
      "ugly [(3, 26)]\n",
      "Unless [(13, 1)]\n",
      "unless [(16, 47)]\n",
      "way [(15, 57), (16, 15)]\n",
      "you [(16, 54)]\n",
      "Zen [(1, 5)]\n"
     ]
    }
   ],
   "source": [
    "import re\n",
    "import sys\n",
    "\n",
    "WORD_RE = re.compile(r'\\w+')\n",
    "index = {}\n",
    "\n",
    "# for terminal \n",
    "# with open(sys.argv[1], encoding='utf-8') as fp:\n",
    "# for notebook\n",
    "with open(\"zen.txt\", encoding='utf-8') as fp:\n",
    "    for line_no, line in enumerate(fp, 1):\n",
    "        for match in WORD_RE.finditer(line):\n",
    "            word = match.group()\n",
    "            column_no = match.start() + 1\n",
    "            location = (line_no, column_no)\n",
    "            index.setdefault(word, []).append(location)\n",
    "\n",
    "# display in alphabetical order\n",
    "for word in sorted(index, key=str.upper):\n",
    "    print(word, index[word])    "
   ]
  },
  {
   "cell_type": "markdown",
   "id": "17695d48",
   "metadata": {},
   "source": [
    "the end result of this line…\n",
    "```python\n",
    "my_dict.setdefault(key, []).append(new_value)\n",
    "```\n",
    "…is the same as running…\n",
    "```python\n",
    "if key not in my_dict:\n",
    "my_dict[key] = []\n",
    "my_dict[key].append(new_value)\n",
    "```\n",
    "…Except that the latter code performs at least two searches for key—three if it’s not\n",
    "found—while setdefault does it all with a single lookup."
   ]
  },
  {
   "cell_type": "markdown",
   "id": "d8f1ea04",
   "metadata": {},
   "source": [
    "The section of next notebook (handling missing keys on any lookup, and not only when inserting) is realted to current subject."
   ]
  },
  {
   "cell_type": "code",
   "execution_count": null,
   "id": "971f2770",
   "metadata": {},
   "outputs": [],
   "source": []
  }
 ],
 "metadata": {
  "kernelspec": {
   "display_name": "env_train",
   "language": "python",
   "name": "python3"
  },
  "language_info": {
   "codemirror_mode": {
    "name": "ipython",
    "version": 3
   },
   "file_extension": ".py",
   "mimetype": "text/x-python",
   "name": "python",
   "nbconvert_exporter": "python",
   "pygments_lexer": "ipython3",
   "version": "3.13.0"
  }
 },
 "nbformat": 4,
 "nbformat_minor": 5
}

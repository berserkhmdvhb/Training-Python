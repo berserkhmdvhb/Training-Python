{
 "cells": [
  {
   "cell_type": "markdown",
   "id": "96288da5",
   "metadata": {},
   "source": [
    "# Chapter 3. Dictionaries and Sets\n",
    "---"
   ]
  },
  {
   "cell_type": "markdown",
   "id": "2e51997e",
   "metadata": {},
   "source": [
    "## ToC\n",
    "\n",
    "[Objectives](#objectives)\n",
    "\n",
    "1. [Modern Dict Syntax](#modern-dict-syntax)\n",
    "---"
   ]
  },
  {
   "cell_type": "markdown",
   "id": "bd3f7fba",
   "metadata": {},
   "source": [
    "## Objectives\n",
    "- Modern syntax to build and handle dicts and mappings, including enhanced\n",
    "unpacking and pattern matching\n",
    "- Common methods of mapping types\n",
    "- Special handling for missing keys\n",
    "- Variations of dict in the standard library\n",
    "- The set and frozenset types\n",
    "- Implications of hash tables in the behavior of sets and dictionaries"
   ]
  },
  {
   "cell_type": "markdown",
   "id": "049913a4",
   "metadata": {},
   "source": [
    "## Modern dict Syntax"
   ]
  }
 ],
 "metadata": {
  "language_info": {
   "name": "python"
  }
 },
 "nbformat": 4,
 "nbformat_minor": 5
}

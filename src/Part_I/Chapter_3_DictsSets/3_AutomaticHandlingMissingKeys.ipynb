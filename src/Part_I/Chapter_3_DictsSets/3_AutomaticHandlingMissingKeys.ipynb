{
 "cells": [
  {
   "cell_type": "markdown",
   "id": "d3303102",
   "metadata": {},
   "source": [
    "# Chapter 3. Dictionaries and Sets\n",
    "---"
   ]
  },
  {
   "cell_type": "markdown",
   "id": "d3bbc4af",
   "metadata": {},
   "source": [
    "## ToC\n",
    "\n",
    "\n",
    "[Automatic Handling of Missing Keys](#automatic-handling-of-missing-keys)\n",
    "1. [Approach 1. defaultdict: Another Take on Missing Keys](#approach-1-defaultdict-another-take-on-missing-keys)\n",
    "\n",
    "\n",
    "---"
   ]
  },
  {
   "cell_type": "markdown",
   "id": "94910284",
   "metadata": {},
   "source": [
    "## Automatic Handling of Missing Keys"
   ]
  },
  {
   "cell_type": "markdown",
   "id": "e0dd681b",
   "metadata": {},
   "source": [
    "Sometimes it is convenient to have mappings that return some made-up value when a\n",
    "missing key is searched. There are two main approaches to this:  \n",
    "\n",
    "    I. Use a `defaultdict` instead of a plain dict.  \n",
    "    II. Subclass `dict` or any other mapping type and add a `__missing__` method"
   ]
  },
  {
   "cell_type": "markdown",
   "id": "a026845e",
   "metadata": {},
   "source": [
    "### Approach I. defaultdict: Another Take on Missing Keys"
   ]
  },
  {
   "cell_type": "markdown",
   "id": "fb311d3d",
   "metadata": {},
   "source": [
    "A `collections.defaultdict` instance creates items with a default value on demand whenever a missing key is searched using `d[k]` syntax.\n",
    "\n",
    "When instantiating a `defaultdict`, you provide a callable to produce a default value whenever `__getitem__` is passed a nonexistent key argument.\n",
    "\n",
    "For example, given a `defaultdict` created as `dd = defaultdict(list)`, if 'new-key' is not in dd, the expression `dd['new-key']` does the following steps:\n",
    "\n",
    "1. Calls `list()` to create a new list.\n",
    "2. Inserts the list into dd using `'new-key'` as key.\n",
    "3. Returns a reference to that list.\n",
    "\n",
    "The callable that produces the default values is held in an instance attribute named `default_factory`."
   ]
  },
  {
   "cell_type": "markdown",
   "id": "bce22787",
   "metadata": {},
   "source": [
    "Revisiting the example from previous section:"
   ]
  },
  {
   "cell_type": "code",
   "execution_count": null,
   "id": "c50d2ac4",
   "metadata": {},
   "outputs": [
    {
     "name": "stdout",
     "output_type": "stream",
     "text": [
      "a [(19, 48), (20, 53)]\n",
      "Although [(11, 1), (16, 1), (18, 1)]\n",
      "ambiguity [(14, 16)]\n",
      "and [(15, 23)]\n",
      "are [(21, 12)]\n",
      "aren [(10, 15)]\n",
      "at [(16, 38)]\n",
      "bad [(19, 50)]\n",
      "be [(15, 14), (16, 27), (20, 50)]\n",
      "beats [(11, 23)]\n",
      "Beautiful [(3, 1)]\n",
      "better [(3, 14), (4, 13), (5, 11), (6, 12), (7, 9), (8, 11), (17, 8), (18, 25)]\n",
      "break [(10, 40)]\n",
      "by [(1, 20)]\n",
      "cases [(10, 9)]\n",
      "complex [(5, 23)]\n",
      "Complex [(6, 1)]\n",
      "complicated [(6, 24)]\n",
      "counts [(9, 13)]\n",
      "dense [(8, 23)]\n",
      "do [(15, 64), (21, 48)]\n",
      "Dutch [(16, 61)]\n",
      "easy [(20, 26)]\n",
      "enough [(10, 30)]\n",
      "Errors [(12, 1)]\n",
      "explain [(19, 34), (20, 34)]\n",
      "Explicit [(4, 1)]\n",
      "explicitly [(13, 8)]\n",
      "face [(14, 8)]\n",
      "first [(16, 41)]\n",
      "Flat [(7, 1)]\n",
      "good [(20, 55)]\n",
      "great [(21, 28)]\n",
      "guess [(14, 52)]\n",
      "hard [(19, 26)]\n",
      "honking [(21, 20)]\n",
      "idea [(19, 54), (20, 60), (21, 34)]\n",
      "If [(19, 1), (20, 1)]\n",
      "implementation [(19, 8), (20, 8)]\n",
      "implicit [(4, 25)]\n",
      "In [(14, 1)]\n",
      "is [(3, 11), (4, 10), (5, 8), (6, 9), (7, 6), (8, 8), (17, 5), (18, 16), (19, 23), (20, 23)]\n",
      "it [(15, 67), (19, 43), (20, 43)]\n",
      "let [(21, 42)]\n",
      "may [(16, 19), (20, 46)]\n",
      "more [(21, 51)]\n",
      "Namespaces [(21, 1)]\n",
      "nested [(7, 21)]\n",
      "never [(12, 15), (17, 20), (18, 10)]\n",
      "not [(16, 23)]\n",
      "Now [(17, 1)]\n",
      "now [(18, 45)]\n",
      "obvious [(15, 49), (16, 30)]\n",
      "of [(1, 9), (14, 13), (21, 56)]\n",
      "often [(18, 19)]\n",
      "one [(15, 17), (15, 43), (21, 16)]\n",
      "only [(15, 38)]\n",
      "pass [(12, 21)]\n",
      "Peters [(1, 27)]\n",
      "practicality [(11, 10)]\n",
      "preferably [(15, 27)]\n",
      "purity [(11, 29)]\n",
      "Python [(1, 12)]\n",
      "re [(16, 58)]\n",
      "Readability [(9, 1)]\n",
      "refuse [(14, 27)]\n",
      "right [(18, 38)]\n",
      "rules [(10, 50)]\n",
      "s [(19, 46), (21, 46)]\n",
      "should [(12, 8), (15, 7)]\n",
      "silenced [(13, 19)]\n",
      "silently [(12, 26)]\n",
      "Simple [(5, 1)]\n",
      "Sparse [(8, 1)]\n",
      "Special [(10, 1)]\n",
      "special [(10, 22)]\n",
      "t [(10, 20)]\n",
      "temptation [(14, 38)]\n",
      "than [(3, 21), (4, 20), (5, 18), (6, 19), (7, 16), (8, 18), (17, 15), (18, 32)]\n",
      "that [(16, 10)]\n",
      "The [(1, 1)]\n",
      "the [(10, 46), (14, 4), (14, 34), (19, 4), (20, 4)]\n",
      "There [(15, 1)]\n",
      "those [(21, 59)]\n",
      "Tim [(1, 23)]\n",
      "to [(10, 37), (14, 49), (15, 61), (19, 31), (20, 31)]\n",
      "ugly [(3, 26)]\n",
      "Unless [(13, 1)]\n",
      "unless [(16, 47)]\n",
      "way [(15, 57), (16, 15)]\n",
      "you [(16, 54)]\n",
      "Zen [(1, 5)]\n"
     ]
    }
   ],
   "source": [
    "import collections\n",
    "import re\n",
    "import sys\n",
    "\n",
    "WORD_RE = re.compile(r'\\w+')\n",
    "\n",
    "# Create a defaultdict with the list constructor as default_factory\n",
    "index = collections.defaultdict(list)\n",
    "# for terminal \n",
    "# with open(sys.argv[1], encoding='utf-8') as fp:\n",
    "# for notebook\n",
    "with open(\"zen.txt\", encoding='utf-8') as fp:\n",
    "    for line_no, line in enumerate(fp, 1):\n",
    "        for match in WORD_RE.finditer(line):\n",
    "            word = match.group()\n",
    "            column_no = match.start() + 1\n",
    "            location = (line_no, column_no)\n",
    "            index[word].append(location)\n",
    "# display in alphabetical order\n",
    "for word in sorted(index, key=str.upper):\n",
    "    print(word, index[word])"
   ]
  },
  {
   "cell_type": "markdown",
   "id": "6a446409",
   "metadata": {},
   "source": [
    "If no `default_factory` is provided, the usual `KeyError` is raised for missing keys.\n"
   ]
  },
  {
   "cell_type": "markdown",
   "id": "d91ea700",
   "metadata": {},
   "source": [
    "![Figure 37](https://raw.githubusercontent.com/berserkhmdvhb/Training-Python/main/figures/Part_I/37.PNG)"
   ]
  },
  {
   "cell_type": "markdown",
   "id": "ffca0bb6",
   "metadata": {},
   "source": [
    "The mechanism that makes `defaultdict` work by calling default_factory is the\n",
    "`__missing__` special method:"
   ]
  },
  {
   "cell_type": "markdown",
   "id": "340db885",
   "metadata": {},
   "source": [
    "### The `__missing__` Method"
   ]
  },
  {
   "cell_type": "markdown",
   "id": "a392dc57",
   "metadata": {},
   "source": []
  }
 ],
 "metadata": {
  "kernelspec": {
   "display_name": "env_train",
   "language": "python",
   "name": "python3"
  },
  "language_info": {
   "codemirror_mode": {
    "name": "ipython",
    "version": 3
   },
   "file_extension": ".py",
   "mimetype": "text/x-python",
   "name": "python",
   "nbconvert_exporter": "python",
   "pygments_lexer": "ipython3",
   "version": "3.13.0"
  }
 },
 "nbformat": 4,
 "nbformat_minor": 5
}

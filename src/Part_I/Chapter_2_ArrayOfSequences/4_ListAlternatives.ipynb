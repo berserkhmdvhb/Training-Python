{
 "cells": [
  {
   "cell_type": "markdown",
   "id": "f97cb324",
   "metadata": {},
   "source": [
    "# Chapter 2. An Array of Sequences\n",
    "---\n",
    "## ToC\n",
    "\n",
    "1. [When a List Is Not the Answer](#when-a-list-is-not-the-answer)  "
   ]
  },
  {
   "cell_type": "markdown",
   "id": "149b89cf",
   "metadata": {},
   "source": [
    "## When a List Is Not the Answer"
   ]
  },
  {
   "cell_type": "markdown",
   "id": "567769fb",
   "metadata": {},
   "source": []
  }
 ],
 "metadata": {
  "language_info": {
   "name": "python"
  }
 },
 "nbformat": 4,
 "nbformat_minor": 5
}

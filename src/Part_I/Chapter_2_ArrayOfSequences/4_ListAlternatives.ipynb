{
 "cells": [
  {
   "cell_type": "markdown",
   "id": "f97cb324",
   "metadata": {},
   "source": [
    "# Chapter 2. An Array of Sequences\n",
    "---\n",
    "## ToC\n",
    "\n",
    "[When a List Is Not the Answer](#when-a-list-is-not-the-answer)\n",
    "\n",
    "1. [Arrays](#arrays)  \n",
    "2. [Memory Views](#memory-views)\n",
    "\n",
    "---"
   ]
  },
  {
   "cell_type": "markdown",
   "id": "149b89cf",
   "metadata": {},
   "source": [
    "## When a List Is Not the Answer"
   ]
  },
  {
   "cell_type": "markdown",
   "id": "a49289a9",
   "metadata": {},
   "source": [
    "The `list` type is flexible and easy to use, but depending on specific requirements,\n",
    "there are better options. For example, an `array` saves a lot of memory when you need\n",
    "to handle millions of floating-point values. On the other hand, if you are constantly\n",
    "adding and removing items from opposite ends of a list, it’s good to know that a\n",
    "`deque` (double-ended queue) is a more efficient FIFO data structure."
   ]
  },
  {
   "cell_type": "markdown",
   "id": "59d5db7b",
   "metadata": {},
   "source": [
    "![Figure 29](https://raw.githubusercontent.com/berserkhmdvhb/Training-Python/main/figures/Part_I/29.PNG)"
   ]
  },
  {
   "cell_type": "markdown",
   "id": "3e4fd23b",
   "metadata": {},
   "source": [
    "### Arrays"
   ]
  },
  {
   "cell_type": "markdown",
   "id": "414634b9",
   "metadata": {},
   "source": [
    "If a list only contains numbers, an `array.array` is a more efficient replacement. Arrays support all mutable sequence operations (including `.pop`, `.insert`, and `.extend`), as well as additional methods for fast loading and saving, such as `.frombytes` and `.tofile`. An array of float values does not hold full-fledged float instances, but only the packed bytes representing their machine values—similar to an array of double in the C language"
   ]
  },
  {
   "cell_type": "markdown",
   "id": "7b5ad8a2",
   "metadata": {},
   "source": [
    "### Summary of Key Differences\n",
    "\n",
    "| Feature         | Tuple                        | array.array / numpy.array         |\n",
    "|----------------|------------------------------|-----------------------------------|\n",
    "| Type flexibility | Heterogeneous                 | Homogeneous (fixed type)          |\n",
    "| Memory layout   | Pointers to PyObjects         | Raw contiguous memory             |\n",
    "| Performance     | Slower for numeric ops        | Fast for numeric operations       |\n",
    "| Mutability      | Immutable (tuple)             | Mutable                           |\n",
    "| Use cases       | General-purpose grouping      | Efficient numeric storage/computing |\n",
    "\n",
    "For more details on the memory layout differences, visit [Array VS Tuple](https://github.com/berserkhmdvhb/Training-Python/blob/main/src/Part_I/Chapter_2_ArrayOfSequences/ArrayVSTuple.md)"
   ]
  },
  {
   "cell_type": "code",
   "execution_count": 8,
   "id": "95e61c94",
   "metadata": {},
   "outputs": [
    {
     "name": "stdout",
     "output_type": "stream",
     "text": [
      "TUPLE:\n",
      "Total size of tuple: 64 bytes\n",
      "  Element 0: value=1, id=140728964539304, size=28 bytes\n",
      "  Element 1: value=a, id=140728964603824, size=42 bytes\n",
      "  Element 2: value=3.14, id=2547825730000, size=24 bytes\n"
     ]
    }
   ],
   "source": [
    "import sys\n",
    "import array\n",
    "import numpy as np\n",
    "\n",
    "# Mixed-type tuple\n",
    "t = (1, 'a', 3.14)\n",
    "print(\"TUPLE:\")\n",
    "print(f\"Total size of tuple: {sys.getsizeof(t)} bytes\")\n",
    "for i, item in enumerate(t):\n",
    "    print(f\"  Element {i}: value={item}, id={id(item)}, size={sys.getsizeof(item)} bytes\")"
   ]
  },
  {
   "cell_type": "code",
   "execution_count": 9,
   "id": "b92a8b41",
   "metadata": {},
   "outputs": [
    {
     "name": "stdout",
     "output_type": "stream",
     "text": [
      "\n",
      "ARRAY.ARRAY:\n",
      "Total size of array.array: 92 bytes\n",
      "  Element 0: value=1\n",
      "  Element 1: value=2\n",
      "  Element 2: value=3\n"
     ]
    }
   ],
   "source": [
    "# Integer array.array\n",
    "a = array.array('i', [1, 2, 3])\n",
    "print(\"\\nARRAY.ARRAY:\")\n",
    "print(f\"Total size of array.array: {sys.getsizeof(a)} bytes\")\n",
    "for i, item in enumerate(a):\n",
    "    print(f\"  Element {i}: value={item}\")"
   ]
  },
  {
   "cell_type": "code",
   "execution_count": 4,
   "id": "0e2f8048",
   "metadata": {},
   "outputs": [
    {
     "name": "stdout",
     "output_type": "stream",
     "text": [
      "\n",
      "NUMPY.ARRAY:\n",
      "Total size of numpy.array: 12 bytes (data only)\n",
      "Total size including metadata: 124 bytes\n",
      "  Element 0: value=1, address offset=2547439477264\n",
      "  Element 1: value=2, address offset=2547439477268\n",
      "  Element 2: value=3, address offset=2547439477272\n"
     ]
    }
   ],
   "source": [
    "# NumPy array\n",
    "n = np.array([1, 2, 3], dtype=np.int32)\n",
    "print(\"\\nNUMPY.ARRAY:\")\n",
    "print(f\"Total size of numpy.array: {n.nbytes} bytes (data only)\")\n",
    "print(f\"Total size including metadata: {sys.getsizeof(n)} bytes\")\n",
    "for i, item in enumerate(n):\n",
    "    address = n.ctypes.data + i * n.itemsize\n",
    "    print(f\"  Element {i}: value={item}, address offset={address}\")"
   ]
  },
  {
   "cell_type": "markdown",
   "id": "da24102f",
   "metadata": {},
   "source": [
    "When creating an array, you provide a typecode, a letter to determine the underlying C\n",
    "type used to store each item in the array. For example, b is the typecode for what\n",
    "C calls a signed char, an integer ranging from –128 to 127. If you create an\n",
    "`array('b')`, then each item will be stored in a single byte and interpreted as an integer.\n",
    "For large sequences of numbers, this saves a lot of memory.\n",
    "\n",
    "More info: [Python Docs - array](https://docs.python.org/3/library/array.html)"
   ]
  },
  {
   "cell_type": "code",
   "execution_count": 29,
   "id": "8a20db7b",
   "metadata": {},
   "outputs": [
    {
     "data": {
      "text/plain": [
       "array('b', [-128, 127])"
      ]
     },
     "execution_count": 29,
     "metadata": {},
     "output_type": "execute_result"
    }
   ],
   "source": [
    "array.array('b', [-128,127])"
   ]
  },
  {
   "cell_type": "code",
   "execution_count": 30,
   "id": "486e4aef",
   "metadata": {},
   "outputs": [
    {
     "ename": "OverflowError",
     "evalue": "signed char is less than minimum",
     "output_type": "error",
     "traceback": [
      "\u001b[31m---------------------------------------------------------------------------\u001b[39m",
      "\u001b[31mOverflowError\u001b[39m                             Traceback (most recent call last)",
      "\u001b[36mCell\u001b[39m\u001b[36m \u001b[39m\u001b[32mIn[30]\u001b[39m\u001b[32m, line 1\u001b[39m\n\u001b[32m----> \u001b[39m\u001b[32m1\u001b[39m \u001b[43marray\u001b[49m\u001b[43m.\u001b[49m\u001b[43marray\u001b[49m\u001b[43m(\u001b[49m\u001b[33;43m'\u001b[39;49m\u001b[33;43mb\u001b[39;49m\u001b[33;43m'\u001b[39;49m\u001b[43m,\u001b[49m\u001b[43m \u001b[49m\u001b[43m[\u001b[49m\u001b[43m-\u001b[49m\u001b[32;43m129\u001b[39;49m\u001b[43m,\u001b[49m\u001b[32;43m127\u001b[39;49m\u001b[43m]\u001b[49m\u001b[43m)\u001b[49m\n",
      "\u001b[31mOverflowError\u001b[39m: signed char is less than minimum"
     ]
    }
   ],
   "source": [
    "array.array('b', [-129,127])"
   ]
  },
  {
   "cell_type": "code",
   "execution_count": 31,
   "id": "b527e9d3",
   "metadata": {},
   "outputs": [
    {
     "ename": "OverflowError",
     "evalue": "signed char is greater than maximum",
     "output_type": "error",
     "traceback": [
      "\u001b[31m---------------------------------------------------------------------------\u001b[39m",
      "\u001b[31mOverflowError\u001b[39m                             Traceback (most recent call last)",
      "\u001b[36mCell\u001b[39m\u001b[36m \u001b[39m\u001b[32mIn[31]\u001b[39m\u001b[32m, line 1\u001b[39m\n\u001b[32m----> \u001b[39m\u001b[32m1\u001b[39m \u001b[43marray\u001b[49m\u001b[43m.\u001b[49m\u001b[43marray\u001b[49m\u001b[43m(\u001b[49m\u001b[33;43m'\u001b[39;49m\u001b[33;43mb\u001b[39;49m\u001b[33;43m'\u001b[39;49m\u001b[43m,\u001b[49m\u001b[43m \u001b[49m\u001b[43m[\u001b[49m\u001b[43m-\u001b[49m\u001b[32;43m128\u001b[39;49m\u001b[43m,\u001b[49m\u001b[32;43m128\u001b[39;49m\u001b[43m]\u001b[49m\u001b[43m)\u001b[49m\n",
      "\u001b[31mOverflowError\u001b[39m: signed char is greater than maximum"
     ]
    }
   ],
   "source": [
    "array.array('b', [-128,128])"
   ]
  },
  {
   "cell_type": "markdown",
   "id": "17091e06",
   "metadata": {},
   "source": [
    "**Creating, saving, and loading a large array of floats**"
   ]
  },
  {
   "cell_type": "code",
   "execution_count": 2,
   "id": "e865ef41",
   "metadata": {},
   "outputs": [
    {
     "data": {
      "text/plain": [
       "0.5041742820295562"
      ]
     },
     "execution_count": 2,
     "metadata": {},
     "output_type": "execute_result"
    }
   ],
   "source": [
    "from array import array\n",
    "from random import random\n",
    "floats = array('d', (random() for i in range(10**7)))\n",
    "floats[-1]"
   ]
  },
  {
   "cell_type": "code",
   "execution_count": null,
   "id": "5ad533f0",
   "metadata": {},
   "outputs": [],
   "source": [
    "fp = open('floats.bin', 'wb')\n",
    "# Save the array to a binary file.\n",
    "floats.tofile(fp)\n",
    "fp.close()"
   ]
  },
  {
   "cell_type": "code",
   "execution_count": null,
   "id": "85ec252e",
   "metadata": {},
   "outputs": [
    {
     "data": {
      "text/plain": [
       "0.5041742820295562"
      ]
     },
     "execution_count": 21,
     "metadata": {},
     "output_type": "execute_result"
    }
   ],
   "source": [
    "# Create an empty array of doubles.\n",
    "floats2 = array('d')\n",
    "fp = open('floats.bin', 'rb')\n",
    "# Read 10 million numbers from the binary file.\n",
    "floats2.fromfile(fp, 10**7)\n",
    "fp.close()\n",
    "floats2[-1]"
   ]
  },
  {
   "cell_type": "code",
   "execution_count": null,
   "id": "36489111",
   "metadata": {},
   "outputs": [
    {
     "data": {
      "text/plain": [
       "True"
      ]
     },
     "execution_count": 22,
     "metadata": {},
     "output_type": "execute_result"
    }
   ],
   "source": [
    "# Verify that the contents of the arrays match.\n",
    "floats2 == floats"
   ]
  },
  {
   "cell_type": "markdown",
   "id": "49a5acdd",
   "metadata": {},
   "source": [
    "![Figure 30](https://raw.githubusercontent.com/berserkhmdvhb/Training-Python/main/figures/Part_I/30.PNG)"
   ]
  },
  {
   "cell_type": "markdown",
   "id": "8cb64a5b",
   "metadata": {},
   "source": [
    "![Figure 31](https://raw.githubusercontent.com/berserkhmdvhb/Training-Python/main/figures/Part_I/31.PNG)"
   ]
  },
  {
   "cell_type": "markdown",
   "id": "5a13ef3c",
   "metadata": {},
   "source": [
    "## Memory Views"
   ]
  },
  {
   "cell_type": "markdown",
   "id": "35457be7",
   "metadata": {},
   "source": []
  }
 ],
 "metadata": {
  "kernelspec": {
   "display_name": "env_train",
   "language": "python",
   "name": "python3"
  },
  "language_info": {
   "codemirror_mode": {
    "name": "ipython",
    "version": 3
   },
   "file_extension": ".py",
   "mimetype": "text/x-python",
   "name": "python",
   "nbconvert_exporter": "python",
   "pygments_lexer": "ipython3",
   "version": "3.13.0"
  }
 },
 "nbformat": 4,
 "nbformat_minor": 5
}

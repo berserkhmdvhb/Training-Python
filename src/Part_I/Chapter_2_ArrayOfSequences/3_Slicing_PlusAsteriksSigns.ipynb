{
 "cells": [
  {
   "cell_type": "markdown",
   "id": "90a2dd7a",
   "metadata": {},
   "source": [
    "# Chapter 2. An Array of Sequences\n",
    "---\n",
    "## ToC\n",
    "\n",
    "1. [Slicing](#slicing)  "
   ]
  },
  {
   "cell_type": "markdown",
   "id": "6e02fc20",
   "metadata": {},
   "source": [
    "## Slicing"
   ]
  }
 ],
 "metadata": {
  "language_info": {
   "name": "python"
  }
 },
 "nbformat": 4,
 "nbformat_minor": 5
}

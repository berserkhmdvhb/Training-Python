{
 "cells": [
  {
   "cell_type": "markdown",
   "id": "266318ed",
   "metadata": {},
   "source": [
    "# Chapter 2. An Array of Sequences\n",
    "---"
   ]
  },
  {
   "cell_type": "markdown",
   "id": "33245ffb",
   "metadata": {},
   "source": [
    "## ToC\n",
    "\n",
    "[Objectives](#objectives)\n",
    "\n",
    "1. [Overview](#overview)\n",
    "2. [List Comprehension and Generator Expressions](#list-comprehension-and-generator-expressions)  \n",
    "    2.1. [Listcomps VS map and filter](#listcomps-vs-map-and-filter)  \n",
    "    2.2. [Cartesian Products](#cartesian-products)  \n",
    "    2.3. [Generator Expressions](#generator-expressions)\n",
    "3. [Tuples are not just immutable lists](#tuples-are-not-just-immutable-lists)  \n",
    "    3.1. [Tuples as Records](#tuples-as-records)  \n",
    "    3.2. [Tuples as Immutable Lists](#tuples-as-immutable-lists)  \n",
    "    3.3. [Comparing Tuple and List Methods](#comparing-tuple-and-list-methods)\n",
    "4. [Unpacking Sequences and Iterables](#unpacking-sequences-and-iterables)  \n",
    "    4.1. [Using * to Grab Excess Items](#using-*-to-grab-excess-items)  \n",
    "    4.2. [Unpacking with * in Function Calls and Sequence Literals](#unpacking-with-*-in-function-calls-and-sequence-literals)  \n",
    "    4.3. [Nested Unpacking](#nested-unpacking)  "
   ]
  },
  {
   "cell_type": "markdown",
   "id": "e954a861",
   "metadata": {},
   "source": [
    "## Objectives\n",
    "- List comprehensions and the basics of generator expressions\n",
    "- Using tuples as records versus using tuples as immutable lists\n",
    "- Sequence unpacking and sequence patterns\n",
    "- Reading from slices and writing to slices\n",
    "- Specialized sequence types, like arrays and queues"
   ]
  },
  {
   "cell_type": "markdown",
   "id": "eea97a31",
   "metadata": {},
   "source": [
    "## Overview"
   ]
  },
  {
   "cell_type": "markdown",
   "id": "ee9b34d4",
   "metadata": {},
   "source": [
    "Python inherited from ABC the uniform handling of sequences. Strings, lists, byte\n",
    "sequences, arrays, XML elements, and database results share a rich set of common\n",
    "operations, including iteration, slicing, sorting, and concatenation."
   ]
  },
  {
   "cell_type": "markdown",
   "id": "df497e44",
   "metadata": {},
   "source": [
    "**Sequence Types (item type)**\n",
    "\n",
    "- *Container sequences*: Can hold items of different types, including nested containers. Some examples:\n",
    "`list`, `tuple`, and `collections.deque`.\n",
    "\n",
    "- *Flat sequences*: Hold items of one simple type. Some examples: `str`, `bytes`, and `array.array`.\n",
    "\n",
    "**Sequence Types (mutability)**\n",
    "- *Mutable sequences*: e.g., list, bytearray, array.array, and collections.deque.\n",
    "- *Immutable sequences*: e.g. tuple, str, and bytes."
   ]
  },
  {
   "cell_type": "markdown",
   "id": "0c08284e",
   "metadata": {},
   "source": [
    "![Figure 11](https://raw.githubusercontent.com/berserkhmdvhb/Training-Python/main/figures/Part_I/11.PNG)"
   ]
  },
  {
   "cell_type": "markdown",
   "id": "b2b95301",
   "metadata": {},
   "source": [
    "Thus, flat sequences are more compact, but they are limited to holding primitive\n",
    "machine values like bytes, integers, and floats."
   ]
  },
  {
   "cell_type": "markdown",
   "id": "a8a5f782",
   "metadata": {},
   "source": [
    "![Figure 12](https://raw.githubusercontent.com/berserkhmdvhb/Training-Python/main/figures/Part_I/12.PNG)"
   ]
  },
  {
   "cell_type": "markdown",
   "id": "1938f393",
   "metadata": {},
   "source": [
    "![Figure 13](https://raw.githubusercontent.com/berserkhmdvhb/Training-Python/main/figures/Part_I/13.PNG)"
   ]
  },
  {
   "cell_type": "code",
   "execution_count": 2,
   "id": "a2753e06",
   "metadata": {},
   "outputs": [
    {
     "name": "stdout",
     "output_type": "stream",
     "text": [
      "True\n",
      "True\n",
      "False\n"
     ]
    }
   ],
   "source": [
    "from collections import abc\n",
    "print(issubclass(tuple, abc.Sequence))\n",
    "print(issubclass(list, abc.MutableSequence))\n",
    "print(issubclass(tuple, abc.MutableSequence))"
   ]
  },
  {
   "cell_type": "markdown",
   "id": "2be94da7",
   "metadata": {},
   "source": [
    "## List Comprehensions and Generator Expressions"
   ]
  },
  {
   "cell_type": "markdown",
   "id": "dfb60da3",
   "metadata": {},
   "source": [
    "- list comprehension -> for lists\n",
    "- generator expression -> for other kinds of sequences"
   ]
  },
  {
   "cell_type": "markdown",
   "id": "bb470402",
   "metadata": {},
   "source": [
    "![Figure 14](https://raw.githubusercontent.com/berserkhmdvhb/Training-Python/main/figures/Part_I/14.PNG)"
   ]
  },
  {
   "cell_type": "markdown",
   "id": "bf1f7686",
   "metadata": {},
   "source": [
    "for Python, as for English, there are no hard-and-fast rules for clear\n",
    "writing. Use your best judgement on when to use listcomps; as a rule of thumb, if it spans more than two\n",
    "lines, it is probably best to break it apart or rewrite it as a plain old `for` loop."
   ]
  },
  {
   "cell_type": "markdown",
   "id": "8944d97c",
   "metadata": {},
   "source": [
    "![Figure 15](https://raw.githubusercontent.com/berserkhmdvhb/Training-Python/main/figures/Part_I/15.PNG)"
   ]
  },
  {
   "cell_type": "code",
   "execution_count": 21,
   "id": "caba6973",
   "metadata": {},
   "outputs": [],
   "source": [
    "# multiline example\n",
    "my_dict = {\n",
    "    \"name\": \"Alice\",\n",
    "    \"age\": 30,\n",
    "    \"location\": \"Wonderland\",\n",
    "}"
   ]
  },
  {
   "cell_type": "markdown",
   "id": "84d7440c",
   "metadata": {},
   "source": [
    "### Listcomps Versus map and filter"
   ]
  },
  {
   "cell_type": "markdown",
   "id": "d83eca9b",
   "metadata": {},
   "source": [
    "Listcomps do everything the `map` and `filter` functions do, without the contortions of\n",
    "the functionally challenged Python `lambda`."
   ]
  },
  {
   "cell_type": "code",
   "execution_count": 6,
   "id": "47cfc8a5",
   "metadata": {},
   "outputs": [
    {
     "data": {
      "text/plain": [
       "[162, 163, 165, 8364, 164]"
      ]
     },
     "execution_count": 6,
     "metadata": {},
     "output_type": "execute_result"
    }
   ],
   "source": [
    "symbols = '$¢£¥€¤'\n",
    "beyond_ascii = [ord(s) for s in symbols if ord(s) > 127]\n",
    "beyond_ascii"
   ]
  },
  {
   "cell_type": "code",
   "execution_count": 7,
   "id": "7c74a6bd",
   "metadata": {},
   "outputs": [
    {
     "data": {
      "text/plain": [
       "[162, 163, 165, 8364, 164]"
      ]
     },
     "execution_count": 7,
     "metadata": {},
     "output_type": "execute_result"
    }
   ],
   "source": [
    "beyond_ascii = list(filter(lambda c: c > 127, map(ord, symbols)))\n",
    "beyond_ascii"
   ]
  },
  {
   "cell_type": "code",
   "execution_count": 9,
   "id": "76a10c51",
   "metadata": {},
   "outputs": [
    {
     "data": {
      "text/plain": [
       "[162, 163, 165, 8364, 164]"
      ]
     },
     "execution_count": 9,
     "metadata": {},
     "output_type": "execute_result"
    }
   ],
   "source": [
    "symbols = '$¢£¥€¤'\n",
    "list(filter(lambda c: c > 127, map(ord, symbols)))"
   ]
  },
  {
   "cell_type": "markdown",
   "id": "26c76c9c",
   "metadata": {},
   "source": [
    "Comparing speed of each: [Github Repo](https://fpy.li/2-1)"
   ]
  },
  {
   "cell_type": "markdown",
   "id": "12d0bd67",
   "metadata": {},
   "source": [
    "### Cartesian Products"
   ]
  },
  {
   "cell_type": "markdown",
   "id": "d2ac6039",
   "metadata": {},
   "source": [
    "**3 Methods**"
   ]
  },
  {
   "cell_type": "code",
   "execution_count": 10,
   "id": "cf2a46cb",
   "metadata": {},
   "outputs": [
    {
     "data": {
      "text/plain": [
       "[('black', 'S'),\n",
       " ('black', 'M'),\n",
       " ('black', 'L'),\n",
       " ('white', 'S'),\n",
       " ('white', 'M'),\n",
       " ('white', 'L')]"
      ]
     },
     "execution_count": 10,
     "metadata": {},
     "output_type": "execute_result"
    }
   ],
   "source": [
    "# Method I\n",
    "colors = ['black', 'white']\n",
    "sizes = ['S', 'M', 'L']\n",
    "tshirts = [(color, size) for color in colors for size in sizes]\n",
    "tshirts"
   ]
  },
  {
   "cell_type": "code",
   "execution_count": 12,
   "id": "2e1c6bf9",
   "metadata": {},
   "outputs": [
    {
     "name": "stdout",
     "output_type": "stream",
     "text": [
      "('black', 'S')\n",
      "('black', 'M')\n",
      "('black', 'L')\n",
      "('white', 'S')\n",
      "('white', 'M')\n",
      "('white', 'L')\n"
     ]
    }
   ],
   "source": [
    "# Method II\n",
    "for color in colors:\n",
    "    for size in sizes:\n",
    "        print((color, size))"
   ]
  },
  {
   "cell_type": "code",
   "execution_count": 16,
   "id": "4fd33fe8",
   "metadata": {},
   "outputs": [
    {
     "data": {
      "text/plain": [
       "[('black', 'S'),\n",
       " ('white', 'S'),\n",
       " ('black', 'M'),\n",
       " ('white', 'M'),\n",
       " ('black', 'L'),\n",
       " ('white', 'L')]"
      ]
     },
     "execution_count": 16,
     "metadata": {},
     "output_type": "execute_result"
    }
   ],
   "source": [
    "# Method III\n",
    "tshirts = [(color, size) for size in sizes for color in colors]\n",
    "tshirts"
   ]
  },
  {
   "cell_type": "markdown",
   "id": "41832eca",
   "metadata": {},
   "source": [
    "### Generator Expressions"
   ]
  },
  {
   "cell_type": "markdown",
   "id": "d8b2e7ca",
   "metadata": {},
   "source": [
    "To initialize tuples, arrays, and other types of sequences, you could also start from a listcomp, but a genexp saves memory because it yields items one by one using the iterator protocol instead of building a whole list just to feed another constructor."
   ]
  },
  {
   "cell_type": "code",
   "execution_count": 17,
   "id": "716a95ec",
   "metadata": {},
   "outputs": [
    {
     "data": {
      "text/plain": [
       "(36, 162, 163, 165, 8364, 164)"
      ]
     },
     "execution_count": 17,
     "metadata": {},
     "output_type": "execute_result"
    }
   ],
   "source": [
    "symbols = '$¢£¥€¤'\n",
    "tuple(ord(symbol) for symbol in symbols)"
   ]
  },
  {
   "cell_type": "code",
   "execution_count": 18,
   "id": "8f6ace0a",
   "metadata": {},
   "outputs": [
    {
     "data": {
      "text/plain": [
       "array('I', [36, 162, 163, 165, 8364, 164])"
      ]
     },
     "execution_count": 18,
     "metadata": {},
     "output_type": "execute_result"
    }
   ],
   "source": [
    "import array\n",
    "array.array('I', (ord(symbol) for symbol in symbols))"
   ]
  },
  {
   "cell_type": "code",
   "execution_count": 19,
   "id": "009d1a6a",
   "metadata": {},
   "outputs": [
    {
     "name": "stdout",
     "output_type": "stream",
     "text": [
      "black S\n",
      "black M\n",
      "black L\n",
      "white S\n",
      "white M\n",
      "white L\n"
     ]
    }
   ],
   "source": [
    "colors = ['black', 'white']\n",
    "sizes = ['S', 'M', 'L']\n",
    "for tshirt in (f'{c} {s}' for c in colors for s in sizes):\n",
    "    print(tshirt)"
   ]
  },
  {
   "cell_type": "markdown",
   "id": "225c306c",
   "metadata": {},
   "source": [
    "Here the six-item list of T-shirts is never built in memory: the genexp feeds the for loop producing\n",
    "one item at a time. If the two lists used in the Cartesian product had a thousand items each, using a genexp would save the cost of building a list with a million items just to feed the for loop"
   ]
  },
  {
   "cell_type": "markdown",
   "id": "c9bccca7",
   "metadata": {},
   "source": [
    "![Figure 16](https://raw.githubusercontent.com/berserkhmdvhb/Training-Python/main/figures/Part_I/16.PNG)"
   ]
  },
  {
   "cell_type": "markdown",
   "id": "def5d542",
   "metadata": {},
   "source": [
    "#### Memory Comparison"
   ]
  },
  {
   "cell_type": "code",
   "execution_count": 20,
   "id": "f5d93c78",
   "metadata": {},
   "outputs": [
    {
     "name": "stdout",
     "output_type": "stream",
     "text": [
      "List size in memory: 49441368\n",
      "Generator size in memory: 216\n"
     ]
    }
   ],
   "source": [
    "import sys\n",
    "\n",
    "colors = ['black', 'white'] * 1000   # 2000 items\n",
    "sizes = ['S', 'M', 'L'] * 1000       # 3000 items\n",
    "\n",
    "# Cartesian product with list comprehension\n",
    "tshirts_complist = [(c, s) for c in colors for s in sizes]\n",
    "print(\"List size in memory:\", sys.getsizeof(tshirts_complist))\n",
    "\n",
    "# Cartesian product with generator expression\n",
    "tshirts_genexp = ((c, s) for c in colors for s in sizes)\n",
    "print(\"Generator size in memory:\", sys.getsizeof(tshirts_genexp))"
   ]
  },
  {
   "cell_type": "markdown",
   "id": "aeafc2cd",
   "metadata": {},
   "source": [
    "## Tuples Are Not Just Immutable Lists"
   ]
  },
  {
   "cell_type": "markdown",
   "id": "ab238312",
   "metadata": {},
   "source": [
    "Tuples do double duty: they can be used as immutable lists and also as records with no field names.\n",
    "We often think of records as data structures with named fields."
   ]
  },
  {
   "cell_type": "markdown",
   "id": "32ceb409",
   "metadata": {},
   "source": [
    "### Tuples as Records"
   ]
  },
  {
   "cell_type": "markdown",
   "id": "b9ebe73b",
   "metadata": {},
   "source": [
    "Tuples hold records: each item in the tuple holds the data for one field, and the position of the item gives its meaning.\n",
    "In this context, contrary to lists, the number of items (quantity) is usually fixed and their order is always important."
   ]
  },
  {
   "cell_type": "markdown",
   "id": "08ea4868",
   "metadata": {},
   "source": [
    "In following example ,in every expression, sorting the tuple would destroy the information because the meaning of each field is given by its\n",
    "position in the tuple."
   ]
  },
  {
   "cell_type": "code",
   "execution_count": 22,
   "id": "2e186f45",
   "metadata": {},
   "outputs": [
    {
     "name": "stdout",
     "output_type": "stream",
     "text": [
      "BRA/CE342567\n",
      "ESP/XDA205856\n",
      "USA/31195855\n"
     ]
    }
   ],
   "source": [
    "lax_coordinates = (33.9425, -118.408056)\n",
    "city, year, pop, chg, area = ('Tokyo', 2003, 32_450, 0.66, 8014)\n",
    "\n",
    "traveler_ids = [\n",
    "                ('USA', '31195855'), \n",
    "                ('BRA', 'CE342567'), \n",
    "                ('ESP', 'XDA205856')\n",
    "            ]\n",
    "for passport in sorted(traveler_ids):\n",
    "    print('%s/%s' % passport)"
   ]
  },
  {
   "cell_type": "code",
   "execution_count": 23,
   "id": "c120f673",
   "metadata": {},
   "outputs": [
    {
     "name": "stdout",
     "output_type": "stream",
     "text": [
      "USA\n",
      "BRA\n",
      "ESP\n"
     ]
    }
   ],
   "source": [
    "for country, _ in traveler_ids:\n",
    "    print(country)"
   ]
  },
  {
   "cell_type": "markdown",
   "id": "f4d546b5",
   "metadata": {},
   "source": [
    "![Figure 17](https://raw.githubusercontent.com/berserkhmdvhb/Training-Python/main/figures/Part_I/17.PNG)"
   ]
  },
  {
   "cell_type": "markdown",
   "id": "54dd4aa2",
   "metadata": {},
   "source": [
    "### Tuples as Immutable Lists"
   ]
  },
  {
   "cell_type": "markdown",
   "id": "e7f7c7d4",
   "metadata": {},
   "source": [
    "**Advatnages**\n",
    "- Clarity: When you see a tuple in code, you know its length will never change.\n",
    "- Performance: A tuple uses less memory than a list of the same length, and it allows Python\n",
    "to do some optimizations."
   ]
  },
  {
   "cell_type": "markdown",
   "id": "6a1d58c1",
   "metadata": {},
   "source": [
    "![Figure 18](https://raw.githubusercontent.com/berserkhmdvhb/Training-Python/main/figures/Part_I/18.PNG)"
   ]
  },
  {
   "cell_type": "code",
   "execution_count": 24,
   "id": "6183b963",
   "metadata": {},
   "outputs": [
    {
     "data": {
      "text/plain": [
       "True"
      ]
     },
     "execution_count": 24,
     "metadata": {},
     "output_type": "execute_result"
    }
   ],
   "source": [
    "a = (10, 'alpha', [1, 2])\n",
    "b = (10, 'alpha', [1, 2])\n",
    "a == b"
   ]
  },
  {
   "cell_type": "code",
   "execution_count": 25,
   "id": "d3f5d805",
   "metadata": {},
   "outputs": [
    {
     "data": {
      "text/plain": [
       "False"
      ]
     },
     "execution_count": 25,
     "metadata": {},
     "output_type": "execute_result"
    }
   ],
   "source": [
    "b[-1].append(99)\n",
    "a == b"
   ]
  },
  {
   "cell_type": "code",
   "execution_count": 26,
   "id": "33a5c06e",
   "metadata": {},
   "outputs": [
    {
     "data": {
      "text/plain": [
       "(10, 'alpha', [1, 2, 99])"
      ]
     },
     "execution_count": 26,
     "metadata": {},
     "output_type": "execute_result"
    }
   ],
   "source": [
    "b"
   ]
  },
  {
   "cell_type": "markdown",
   "id": "4d7dc554",
   "metadata": {},
   "source": [
    "Tuples with mutable items can be a source of bugs.\n",
    "an object is only hashable if its value cannot ever change.\n",
    "An unhashable tuple cannot be inserted as a `dict` key, or a `set` element."
   ]
  },
  {
   "cell_type": "markdown",
   "id": "3066ce07",
   "metadata": {},
   "source": [
    "#### Test Hashability"
   ]
  },
  {
   "cell_type": "code",
   "execution_count": 29,
   "id": "71f5830e",
   "metadata": {},
   "outputs": [
    {
     "name": "stdout",
     "output_type": "stream",
     "text": [
      "True\n",
      "False\n"
     ]
    }
   ],
   "source": [
    "def fixed(o):\n",
    "    try:\n",
    "        hash(o)\n",
    "    except TypeError:\n",
    "        return False\n",
    "    return True\n",
    "\n",
    "tf = (10, 'alpha', (1, 2))\n",
    "tm = (10, 'alpha', [1, 2])\n",
    "print(fixed(tf))\n",
    "print(fixed(tm))"
   ]
  },
  {
   "cell_type": "markdown",
   "id": "5bf48544",
   "metadata": {},
   "source": [
    "Are tuples more efficient than lists in Python?\n",
    "Answer: [StackOverflow](https://fpy.li/2-3)"
   ]
  },
  {
   "cell_type": "markdown",
   "id": "bbd732a1",
   "metadata": {},
   "source": [
    "### Comparing Tuple and List Methods"
   ]
  },
  {
   "cell_type": "markdown",
   "id": "040917c1",
   "metadata": {},
   "source": [
    "When using a tuple as an immutable variation of list, it is good to know how similar their APIs are. `tuple` supports all list methods that do not involve adding or removing items, with one exception—tuple lacks the\n",
    "`__reversed__` method."
   ]
  },
  {
   "cell_type": "markdown",
   "id": "1ab86a84",
   "metadata": {},
   "source": [
    "![Figure 19](https://raw.githubusercontent.com/berserkhmdvhb/Training-Python/main/figures/Part_I/19.PNG)"
   ]
  },
  {
   "cell_type": "markdown",
   "id": "267cccdd",
   "metadata": {},
   "source": [
    "## Unpacking Sequences and Iterables"
   ]
  },
  {
   "cell_type": "markdown",
   "id": "607a45b7",
   "metadata": {},
   "source": [
    "Unpacking is important because it avoids unnecessary and error-prone use of\n",
    "indexes to extract elements from sequences. Also, unpacking works with any iterable\n",
    "object as the data source—including iterators, which don’t support index notation\n",
    "([])."
   ]
  },
  {
   "cell_type": "markdown",
   "id": "c63c2fff",
   "metadata": {},
   "source": [
    "### Applications"
   ]
  },
  {
   "cell_type": "markdown",
   "id": "ebb493bd",
   "metadata": {},
   "source": [
    "**Parallel Assignment**"
   ]
  },
  {
   "cell_type": "code",
   "execution_count": 2,
   "id": "f68eadca",
   "metadata": {},
   "outputs": [
    {
     "name": "stdout",
     "output_type": "stream",
     "text": [
      "33.9425\n",
      "-118.408056\n"
     ]
    }
   ],
   "source": [
    "lax_coordinates = (33.9425, -118.408056)\n",
    "latitude, longitude = lax_coordinates # unpacking\n",
    "print(latitude)\n",
    "print(longitude)"
   ]
  },
  {
   "cell_type": "markdown",
   "id": "c51f03d4",
   "metadata": {},
   "source": [
    "**Swapping the Values of Variables**"
   ]
  },
  {
   "cell_type": "code",
   "execution_count": 3,
   "id": "7626524a",
   "metadata": {},
   "outputs": [
    {
     "name": "stdout",
     "output_type": "stream",
     "text": [
      "3\n",
      "2\n"
     ]
    }
   ],
   "source": [
    "a = 2\n",
    "b = 3\n",
    "b, a = a, b\n",
    "print(a)\n",
    "print(b)"
   ]
  },
  {
   "cell_type": "markdown",
   "id": "a2bfdfa9",
   "metadata": {},
   "source": [
    "**Refixing an Argument with * when Calling a Function**"
   ]
  },
  {
   "cell_type": "code",
   "execution_count": null,
   "id": "8f7d0822",
   "metadata": {},
   "outputs": [
    {
     "data": {
      "text/plain": [
       "(2, 4)"
      ]
     },
     "execution_count": 4,
     "metadata": {},
     "output_type": "execute_result"
    }
   ],
   "source": [
    "divmod(20, 8)"
   ]
  },
  {
   "cell_type": "code",
   "execution_count": null,
   "id": "1d6b33a9",
   "metadata": {},
   "outputs": [
    {
     "data": {
      "text/plain": [
       "(2, 4)"
      ]
     },
     "execution_count": 5,
     "metadata": {},
     "output_type": "execute_result"
    }
   ],
   "source": [
    "t = (20, 8)\n",
    "divmod(*t)"
   ]
  },
  {
   "cell_type": "code",
   "execution_count": 7,
   "id": "a93c67b1",
   "metadata": {},
   "outputs": [
    {
     "data": {
      "text/plain": [
       "(2, 4)"
      ]
     },
     "execution_count": 7,
     "metadata": {},
     "output_type": "execute_result"
    }
   ],
   "source": [
    "quotient, remainder = divmod(*t)\n",
    "quotient, remainder"
   ]
  },
  {
   "cell_type": "markdown",
   "id": "591a8a9c",
   "metadata": {},
   "source": [
    "**Return Multiple Values**"
   ]
  },
  {
   "cell_type": "code",
   "execution_count": 13,
   "id": "8c9d29f0",
   "metadata": {},
   "outputs": [
    {
     "data": {
      "text/plain": [
       "'id_rsa.pub'"
      ]
     },
     "execution_count": 13,
     "metadata": {},
     "output_type": "execute_result"
    }
   ],
   "source": [
    "import os\n",
    "_, filename = os.path.split('/home/Hamed/.ssh/id_rsa.pub')\n",
    "filename"
   ]
  },
  {
   "cell_type": "markdown",
   "id": "fbcb65c0",
   "metadata": {},
   "source": [
    "### Using * to Grab Excess Items"
   ]
  },
  {
   "cell_type": "markdown",
   "id": "755fb74d",
   "metadata": {},
   "source": [
    "Defining function parameters with `*args` to grab arbitrary excess arguments is a classic Python feature."
   ]
  },
  {
   "cell_type": "code",
   "execution_count": 14,
   "id": "8273fe38",
   "metadata": {},
   "outputs": [
    {
     "data": {
      "text/plain": [
       "(0, 1, [2, 3, 4])"
      ]
     },
     "execution_count": 14,
     "metadata": {},
     "output_type": "execute_result"
    }
   ],
   "source": [
    "a, b, *rest = range(5)\n",
    "a, b, rest"
   ]
  },
  {
   "cell_type": "code",
   "execution_count": 16,
   "id": "7eddd38e",
   "metadata": {},
   "outputs": [
    {
     "data": {
      "text/plain": [
       "(0, 1, [])"
      ]
     },
     "execution_count": 16,
     "metadata": {},
     "output_type": "execute_result"
    }
   ],
   "source": [
    "a, b, *rest = range(2)\n",
    "a, b, rest"
   ]
  },
  {
   "cell_type": "code",
   "execution_count": 17,
   "id": "cdf4ebe1",
   "metadata": {},
   "outputs": [
    {
     "data": {
      "text/plain": [
       "([0, 1], 2, 3, 4)"
      ]
     },
     "execution_count": 17,
     "metadata": {},
     "output_type": "execute_result"
    }
   ],
   "source": [
    "*head, b, c, d = range(5)\n",
    "head, b, c, d"
   ]
  },
  {
   "cell_type": "code",
   "execution_count": 19,
   "id": "d529a64a",
   "metadata": {},
   "outputs": [
    {
     "data": {
      "text/plain": [
       "(0, [1, 2], 3, 4)"
      ]
     },
     "execution_count": 19,
     "metadata": {},
     "output_type": "execute_result"
    }
   ],
   "source": [
    "a, *body, c, d = range(5)\n",
    "a, body, c, d"
   ]
  },
  {
   "cell_type": "markdown",
   "id": "4c35de06",
   "metadata": {},
   "source": [
    "### Unpacking with * in Function Calls and Sequence Literals"
   ]
  },
  {
   "cell_type": "code",
   "execution_count": 20,
   "id": "26f503da",
   "metadata": {},
   "outputs": [
    {
     "data": {
      "text/plain": [
       "(1, 2, 3, 4, (5, 6))"
      ]
     },
     "execution_count": 20,
     "metadata": {},
     "output_type": "execute_result"
    }
   ],
   "source": [
    "def fun(a, b, c, d, *rest):\n",
    "    return a, b, c, d, rest\n",
    "\n",
    "fun(*[1, 2], 3, *range(4, 7))"
   ]
  },
  {
   "cell_type": "markdown",
   "id": "cd4db0ca",
   "metadata": {},
   "source": [
    "**Defining `list`, `tuple`, or `set` Literals**"
   ]
  },
  {
   "cell_type": "code",
   "execution_count": 26,
   "id": "3293a5b9",
   "metadata": {},
   "outputs": [
    {
     "data": {
      "text/plain": [
       "range(0, 4)"
      ]
     },
     "execution_count": 26,
     "metadata": {},
     "output_type": "execute_result"
    }
   ],
   "source": [
    "range(4)"
   ]
  },
  {
   "cell_type": "code",
   "execution_count": null,
   "id": "4c3ac31d",
   "metadata": {},
   "outputs": [
    {
     "data": {
      "text/plain": [
       "(0, 1, 2, 3, 4)"
      ]
     },
     "execution_count": 25,
     "metadata": {},
     "output_type": "execute_result"
    }
   ],
   "source": [
    "*range(4), 4"
   ]
  },
  {
   "cell_type": "code",
   "execution_count": 22,
   "id": "2c4cebf6",
   "metadata": {},
   "outputs": [
    {
     "data": {
      "text/plain": [
       "[0, 1, 2, 3, 4]"
      ]
     },
     "execution_count": 22,
     "metadata": {},
     "output_type": "execute_result"
    }
   ],
   "source": [
    "[*range(4), 4]"
   ]
  },
  {
   "cell_type": "code",
   "execution_count": 23,
   "id": "cddb0a2a",
   "metadata": {},
   "outputs": [
    {
     "data": {
      "text/plain": [
       "{0, 1, 2, 3, 4, 5, 6, 7}"
      ]
     },
     "execution_count": 23,
     "metadata": {},
     "output_type": "execute_result"
    }
   ],
   "source": [
    "{*range(4), 4, *(5, 6, 7)}"
   ]
  },
  {
   "cell_type": "markdown",
   "id": "458e0b5f",
   "metadata": {},
   "source": [
    "### Nested Unpacking"
   ]
  },
  {
   "cell_type": "code",
   "execution_count": 27,
   "id": "bd53063b",
   "metadata": {},
   "outputs": [
    {
     "name": "stdout",
     "output_type": "stream",
     "text": [
      "                |  latitude | longitude\n",
      "Mexico City     |   19.4333 |  -99.1333\n",
      "New York-Newark |   40.8086 |  -74.0204\n",
      "São Paulo       |  -23.5478 |  -46.6358\n"
     ]
    }
   ],
   "source": [
    "metro_areas = [\n",
    "('Tokyo', 'JP', 36.933, (35.689722, 139.691667)),\n",
    "('Delhi NCR', 'IN', 21.935, (28.613889, 77.208889)),\n",
    "('Mexico City', 'MX', 20.142, (19.433333, -99.133333)),\n",
    "('New York-Newark', 'US', 20.104, (40.808611, -74.020386)),\n",
    "('São Paulo', 'BR', 19.649, (-23.547778, -46.635833)),\n",
    "]\n",
    "\n",
    "def main():\n",
    "    print(f'{\"\":15} | {\"latitude\":>9} | {\"longitude\":>9}')\n",
    "    for name, _, _, (lat, lon) in metro_areas:\n",
    "        if lon <= 0:\n",
    "            print(f'{name:15} | {lat:9.4f} | {lon:9.4f}')\n",
    "\n",
    "if __name__ == '__main__':\n",
    "    main()"
   ]
  },
  {
   "cell_type": "markdown",
   "id": "988ecf50",
   "metadata": {},
   "source": [
    "The target of an unpacking assignment can also be a list, but good use cases are rare. If you have a database query that returns a single record (e.g., the SQL code has a LIMIT 1 clause), then you can unpack and at the same time make sure there’s only one result with this code"
   ]
  },
  {
   "cell_type": "code",
   "execution_count": null,
   "id": "467b9a37",
   "metadata": {},
   "outputs": [],
   "source": [
    "# [record] = query_returning_single_row()\n",
    "# If the record has only one field, you can get it directly, like this:\n",
    "# [[field]] = query_returning_single_row_with_single_field() "
   ]
  },
  {
   "cell_type": "markdown",
   "id": "2d4b31fa",
   "metadata": {},
   "source": [
    "## Pattern Matching with Sequences"
   ]
  },
  {
   "cell_type": "markdown",
   "id": "ad16755c",
   "metadata": {},
   "source": [
    "![Figure 20](https://raw.githubusercontent.com/berserkhmdvhb/Training-Python/main/figures/Part_I/20.PNG)"
   ]
  },
  {
   "cell_type": "markdown",
   "id": "a53c7a58",
   "metadata": {},
   "source": [
    "[Structural Pattern Matching Documentation](https://fpy.li/2-6)"
   ]
  },
  {
   "cell_type": "markdown",
   "id": "3b30825c",
   "metadata": {},
   "source": []
  }
 ],
 "metadata": {
  "kernelspec": {
   "display_name": "env_train",
   "language": "python",
   "name": "python3"
  },
  "language_info": {
   "codemirror_mode": {
    "name": "ipython",
    "version": 3
   },
   "file_extension": ".py",
   "mimetype": "text/x-python",
   "name": "python",
   "nbconvert_exporter": "python",
   "pygments_lexer": "ipython3",
   "version": "3.13.0"
  }
 },
 "nbformat": 4,
 "nbformat_minor": 5
}

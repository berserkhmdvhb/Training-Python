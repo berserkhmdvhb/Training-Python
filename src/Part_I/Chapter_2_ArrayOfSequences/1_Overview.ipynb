{
 "cells": [
  {
   "cell_type": "markdown",
   "id": "266318ed",
   "metadata": {},
   "source": [
    "# Chapter 2. An Array of Sequences\n",
    "---"
   ]
  },
  {
   "cell_type": "markdown",
   "id": "33245ffb",
   "metadata": {},
   "source": [
    "## ToC\n",
    "\n",
    "[Objectives](#objectives)\n",
    "\n",
    "1. [Overview](#overview)"
   ]
  },
  {
   "cell_type": "markdown",
   "id": "e954a861",
   "metadata": {},
   "source": [
    "## Objectives\n",
    "- List comprehensions and the basics of generator expressions\n",
    "- Using tuples as records versus using tuples as immutable lists\n",
    "- Sequence unpacking and sequence patterns\n",
    "- Reading from slices and writing to slices\n",
    "- Specialized sequence types, like arrays and queues"
   ]
  },
  {
   "cell_type": "markdown",
   "id": "eea97a31",
   "metadata": {},
   "source": [
    "## Overview"
   ]
  },
  {
   "cell_type": "markdown",
   "id": "ee9b34d4",
   "metadata": {},
   "source": [
    "Python inherited from ABC the uniform handling of sequences. Strings, lists, byte\n",
    "sequences, arrays, XML elements, and database results share a rich set of common\n",
    "operations, including iteration, slicing, sorting, and concatenation."
   ]
  },
  {
   "cell_type": "markdown",
   "id": "df497e44",
   "metadata": {},
   "source": [
    "**Sequence Types**\n",
    "\n",
    "- *Container sequences*: Can hold items of different types, including nested containers. Some examples:\n",
    "`list`, `tuple`, and `collections.deque`.\n",
    "\n",
    "- *Flat sequences*: Hold items of one simple type. Some examples: `str`, `bytes`, and `array.array`."
   ]
  },
  {
   "cell_type": "markdown",
   "id": "0c08284e",
   "metadata": {},
   "source": [
    "![Figure 11](https://raw.githubusercontent.com/berserkhmdvhb/Training-Python/main/figures/Part_I/11.PNG)"
   ]
  },
  {
   "cell_type": "markdown",
   "id": "b2b95301",
   "metadata": {},
   "source": [
    "![](figures/Part_I/11.PNG)"
   ]
  }
 ],
 "metadata": {
  "language_info": {
   "name": "python"
  }
 },
 "nbformat": 4,
 "nbformat_minor": 5
}

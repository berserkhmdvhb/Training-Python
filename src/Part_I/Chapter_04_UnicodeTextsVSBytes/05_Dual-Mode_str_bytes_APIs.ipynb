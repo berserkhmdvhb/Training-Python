{
 "cells": [
  {
   "cell_type": "markdown",
   "id": "7eb48a00",
   "metadata": {},
   "source": [
    "# Chapter 5. Dual-Mode str and bytes APIs\n",
    "---"
   ]
  },
  {
   "cell_type": "markdown",
   "id": "f4f32262",
   "metadata": {},
   "source": [
    "## ToC\n",
    "\n",
    "1. [str Versus bytes in Regular Expressions](#str-versus-bytes-in-regular-expressions)\n",
    "\n",
    "---"
   ]
  },
  {
   "cell_type": "markdown",
   "id": "1b44bdbc",
   "metadata": {},
   "source": [
    "## str Versus bytes in Regular Expressions"
   ]
  },
  {
   "cell_type": "markdown",
   "id": "8e42aa58",
   "metadata": {},
   "source": [
    "If you build a regular expression with `bytes`, patterns such as `\\d` and `\\w` only match\n",
    "ASCII characters; in contrast, if these patterns are given as `str`, they match Unicode\n",
    "digits or letters beyond ASCII"
   ]
  },
  {
   "cell_type": "code",
   "execution_count": 1,
   "id": "caa57184",
   "metadata": {},
   "outputs": [
    {
     "name": "stdout",
     "output_type": "stream",
     "text": [
      "Text\n",
      " 'Ramanujan saw ௧௭௨௯ as 1729 = 1³ + 12³ = 9³ + 10³.'\n",
      "Numbers\n",
      " str : ['௧௭௨௯', '1729', '1', '12', '9', '10']\n",
      " bytes: [b'1729', b'1', b'12', b'9', b'10']\n",
      "Words\n",
      " str : ['Ramanujan', 'saw', '௧௭௨௯', 'as', '1729', '1³', '12³', '9³', '10³']\n",
      " bytes: [b'Ramanujan', b'saw', b'as', b'1729', b'1', b'12', b'9', b'10']\n"
     ]
    }
   ],
   "source": [
    "import re\n",
    "re_numbers_str = re.compile(r'\\d+')\n",
    "re_words_str = re.compile(r'\\w+')\n",
    "re_numbers_bytes = re.compile(rb'\\d+')\n",
    "re_words_bytes = re.compile(rb'\\w+')\n",
    "\n",
    "# special characters are Tamil digits for 1729\n",
    "text_str = (\"Ramanujan saw \\u0be7\\u0bed\\u0be8\\u0bef\"\n",
    "            \" as 1729 = 1³ + 12³ = 9³ + 10³.\")\n",
    "\n",
    "text_bytes = text_str.encode('utf_8')\n",
    "\n",
    "print(f'Text\\n {text_str!r}')\n",
    "print('Numbers')\n",
    "print(' str :', re_numbers_str.findall(text_str))\n",
    "print(' bytes:', re_numbers_bytes.findall(text_bytes))\n",
    "print('Words')\n",
    "print(' str :', re_words_str.findall(text_str))\n",
    "print(' bytes:', re_words_bytes.findall(text_bytes))"
   ]
  },
  {
   "cell_type": "markdown",
   "id": "e75fac62",
   "metadata": {},
   "source": [
    "For str regular expressions, there is a `re.ASCII` flag that makes `\\w`, `\\W`, `\\b`, `\\B`, `\\d`, `\\D`, `\\s`, and `\\S` perform ASCII-only matching."
   ]
  },
  {
   "cell_type": "markdown",
   "id": "68078239",
   "metadata": {},
   "source": [
    "## str Versus bytes in os Functions"
   ]
  },
  {
   "cell_type": "markdown",
   "id": "57307a19",
   "metadata": {},
   "source": [
    "The GNU/Linux kernel is not Unicode savvy, so in the real world you may find filenames made of byte sequences that are not valid in any sensible encoding scheme, and cannot be decoded to `str`. File servers with clients using a variety of OSes are particularly prone to this problem.\n",
    "\n",
    "In order to work around this issue, all `os` module functions that accept filenames or\n",
    "pathnames take arguments as `str` or `bytes`. If one such function is called with a `str`\n",
    "argument, the argument will be automatically converted using the codec named by\n",
    "`sys.getfilesystemencoding()`, and the OS response will be decoded with the same\n",
    "codec. This is almost always what you want, in keeping with the Unicode sandwich\n",
    "best practice.\n",
    "\n",
    "But if you must deal with (and perhaps fix) filenames that cannot be handled in that\n",
    "way, you can pass bytes arguments to the os functions to get bytes return values.\n",
    "This feature lets you deal with any file or pathname, no matter how many gremlins\n",
    "you may find."
   ]
  },
  {
   "cell_type": "code",
   "execution_count": 10,
   "id": "0476e454",
   "metadata": {},
   "outputs": [
    {
     "data": {
      "text/plain": [
       "['cafe.txt',\n",
       " 'digits-of-π.txt',\n",
       " 'dummy',\n",
       " 'ola.py',\n",
       " 'ola_broken.py',\n",
       " 'ola_fixed.py',\n",
       " 'text-byte.asciidoc.txt',\n",
       " 'unicode_name_cache.json']"
      ]
     },
     "execution_count": 10,
     "metadata": {},
     "output_type": "execute_result"
    }
   ],
   "source": [
    "import os\n",
    "os.listdir('./materials')"
   ]
  },
  {
   "cell_type": "markdown",
   "id": "ec355d1a",
   "metadata": {},
   "source": [
    "Observe the entry `digits-of-π.txt`"
   ]
  },
  {
   "cell_type": "code",
   "execution_count": 11,
   "id": "7241fa37",
   "metadata": {},
   "outputs": [
    {
     "data": {
      "text/plain": [
       "[b'cafe.txt',\n",
       " b'digits-of-\\xcf\\x80.txt',\n",
       " b'dummy',\n",
       " b'ola.py',\n",
       " b'ola_broken.py',\n",
       " b'ola_fixed.py',\n",
       " b'text-byte.asciidoc.txt',\n",
       " b'unicode_name_cache.json']"
      ]
     },
     "execution_count": 11,
     "metadata": {},
     "output_type": "execute_result"
    }
   ],
   "source": [
    "os.listdir(b'./materials')"
   ]
  },
  {
   "cell_type": "markdown",
   "id": "2b8a9fa0",
   "metadata": {},
   "source": [
    "Observe the entry `b'digits-of-\\xcf\\x80.txt'`"
   ]
  }
 ],
 "metadata": {
  "kernelspec": {
   "display_name": "env_train",
   "language": "python",
   "name": "python3"
  },
  "language_info": {
   "codemirror_mode": {
    "name": "ipython",
    "version": 3
   },
   "file_extension": ".py",
   "mimetype": "text/x-python",
   "name": "python",
   "nbconvert_exporter": "python",
   "pygments_lexer": "ipython3",
   "version": "3.13.0"
  }
 },
 "nbformat": 4,
 "nbformat_minor": 5
}

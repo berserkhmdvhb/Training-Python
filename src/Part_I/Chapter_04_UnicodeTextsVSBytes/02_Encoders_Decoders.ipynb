{
 "cells": [
  {
   "cell_type": "markdown",
   "id": "9834ff9b",
   "metadata": {},
   "source": [
    "# Chapter 4. Unicode Text Versus Bytes\n",
    "---"
   ]
  },
  {
   "cell_type": "markdown",
   "id": "9399bed5",
   "metadata": {},
   "source": [
    "## ToC\n",
    "\n",
    "1. [Basic Encoders/Decoders](#basic-encodersdecoders)  \n",
    "2. [Understanding Encode/Decode Problems](#understanding-encodedecode-problems)  \n",
    "    2.1. [Coping with UnicodeEncodeError](#coping-with-unicodeencodeerror)  \n",
    "    2.2. [Coping with UnicodeDecodeError](#coping-with-unicodedecodeerror)  \n",
    "    2.3. [SyntaxError When Loading Modules with Unexpected Encoding](#syntaxerror-when-loading-modules-with-unexpected-encoding)  \n",
    "    2.4. [How to Discover the Encoding of a Byte Sequence](#how-to-discover-the-encoding-of-a-byte-sequence)\n",
    "---"
   ]
  },
  {
   "cell_type": "markdown",
   "id": "03f9e465",
   "metadata": {},
   "source": [
    "## Basic Encoders/Decoders"
   ]
  },
  {
   "cell_type": "markdown",
   "id": "9c6560ea",
   "metadata": {},
   "source": [
    "The Python distribution bundles more than 100 *codecs* (encoder/decoders) for text to\n",
    "byte conversion and vice versa. Each codec has a name, like `utf_8`, and often\n",
    "aliases, such as `utf8`, `utf-8`, and `U8`, which you can use as the encoding argument\n",
    "in functions like `open()`, `str.encode()`, `bytes.decode()`, and so on."
   ]
  },
  {
   "cell_type": "markdown",
   "id": "765d6a47",
   "metadata": {},
   "source": [
    "**Example:** 3 codecs"
   ]
  },
  {
   "cell_type": "code",
   "execution_count": 1,
   "id": "aeb61f49",
   "metadata": {},
   "outputs": [
    {
     "name": "stdout",
     "output_type": "stream",
     "text": [
      "latin_1\tb'El Ni\\xf1o'\n",
      "utf_8\tb'El Ni\\xc3\\xb1o'\n",
      "utf_16\tb'\\xff\\xfeE\\x00l\\x00 \\x00N\\x00i\\x00\\xf1\\x00o\\x00'\n"
     ]
    }
   ],
   "source": [
    "for codec in ['latin_1', 'utf_8', 'utf_16']:\n",
    "    print(codec, 'El Niño'.encode(codec), sep='\\t')"
   ]
  },
  {
   "cell_type": "markdown",
   "id": "7809d832",
   "metadata": {},
   "source": [
    "![Figure 58](https://raw.githubusercontent.com/berserkhmdvhb/Training-Python/main/figures/Part_I/58.PNG)"
   ]
  },
  {
   "cell_type": "markdown",
   "id": "7c09f3c1",
   "metadata": {},
   "source": [
    "## Understanding Encode/Decode Problems"
   ]
  },
  {
   "cell_type": "markdown",
   "id": "a2ed8826",
   "metadata": {},
   "source": [
    "Although there is a generic `UnicodeError` exception, the error reported by Python is\n",
    "usually more specific: either a `UnicodeEncodeError` (when converting `str` to binary\n",
    "sequences) or a `UnicodeDecodeError` (when reading binary sequences into `str`).\n",
    "Loading Python modules may also raise `SyntaxError` when the source encoding is\n",
    "unexpected."
   ]
  },
  {
   "cell_type": "markdown",
   "id": "f9c54690",
   "metadata": {},
   "source": [
    "### Coping with UnicodeEncodeError"
   ]
  },
  {
   "cell_type": "code",
   "execution_count": 2,
   "id": "6d1db830",
   "metadata": {},
   "outputs": [
    {
     "data": {
      "text/plain": [
       "b'S\\xc3\\xa3o Paulo'"
      ]
     },
     "execution_count": 2,
     "metadata": {},
     "output_type": "execute_result"
    }
   ],
   "source": [
    "city = 'São Paulo'\n",
    "city.encode('utf_8')"
   ]
  },
  {
   "cell_type": "code",
   "execution_count": 3,
   "id": "ac261bac",
   "metadata": {},
   "outputs": [
    {
     "data": {
      "text/plain": [
       "b'\\xff\\xfeS\\x00\\xe3\\x00o\\x00 \\x00P\\x00a\\x00u\\x00l\\x00o\\x00'"
      ]
     },
     "execution_count": 3,
     "metadata": {},
     "output_type": "execute_result"
    }
   ],
   "source": [
    "city.encode('utf_16')"
   ]
  },
  {
   "cell_type": "code",
   "execution_count": 4,
   "id": "c3bef1ad",
   "metadata": {},
   "outputs": [
    {
     "data": {
      "text/plain": [
       "b'S\\xe3o Paulo'"
      ]
     },
     "execution_count": 4,
     "metadata": {},
     "output_type": "execute_result"
    }
   ],
   "source": [
    "city.encode('iso8859_1')"
   ]
  },
  {
   "cell_type": "markdown",
   "id": "cfe8ade9",
   "metadata": {},
   "source": [
    "`cp437` can’t encode the `ã` (`a` with tilde). The default error handler\n",
    "—`strict`—raises `UnicodeEncodeError`."
   ]
  },
  {
   "cell_type": "code",
   "execution_count": 5,
   "id": "023eeac1",
   "metadata": {},
   "outputs": [
    {
     "ename": "UnicodeEncodeError",
     "evalue": "'charmap' codec can't encode character '\\xe3' in position 1: character maps to <undefined>",
     "output_type": "error",
     "traceback": [
      "\u001b[31m---------------------------------------------------------------------------\u001b[39m",
      "\u001b[31mUnicodeEncodeError\u001b[39m                        Traceback (most recent call last)",
      "\u001b[36mCell\u001b[39m\u001b[36m \u001b[39m\u001b[32mIn[5]\u001b[39m\u001b[32m, line 2\u001b[39m\n\u001b[32m      1\u001b[39m \u001b[38;5;66;03m# cp437 can’t encode the 'ã'\u001b[39;00m\n\u001b[32m----> \u001b[39m\u001b[32m2\u001b[39m \u001b[43mcity\u001b[49m\u001b[43m.\u001b[49m\u001b[43mencode\u001b[49m\u001b[43m(\u001b[49m\u001b[33;43m'\u001b[39;49m\u001b[33;43mcp437\u001b[39;49m\u001b[33;43m'\u001b[39;49m\u001b[43m)\u001b[49m\n",
      "\u001b[36mFile \u001b[39m\u001b[32m~\\AppData\\Local\\Programs\\Python\\Python313\\Lib\\encodings\\cp437.py:12\u001b[39m, in \u001b[36mCodec.encode\u001b[39m\u001b[34m(self, input, errors)\u001b[39m\n\u001b[32m     11\u001b[39m \u001b[38;5;28;01mdef\u001b[39;00m\u001b[38;5;250m \u001b[39m\u001b[34mencode\u001b[39m(\u001b[38;5;28mself\u001b[39m,\u001b[38;5;28minput\u001b[39m,errors=\u001b[33m'\u001b[39m\u001b[33mstrict\u001b[39m\u001b[33m'\u001b[39m):\n\u001b[32m---> \u001b[39m\u001b[32m12\u001b[39m     \u001b[38;5;28;01mreturn\u001b[39;00m \u001b[43mcodecs\u001b[49m\u001b[43m.\u001b[49m\u001b[43mcharmap_encode\u001b[49m\u001b[43m(\u001b[49m\u001b[38;5;28;43minput\u001b[39;49m\u001b[43m,\u001b[49m\u001b[43merrors\u001b[49m\u001b[43m,\u001b[49m\u001b[43mencoding_map\u001b[49m\u001b[43m)\u001b[49m\n",
      "\u001b[31mUnicodeEncodeError\u001b[39m: 'charmap' codec can't encode character '\\xe3' in position 1: character maps to <undefined>",
      "encoding with 'cp437' codec failed"
     ]
    }
   ],
   "source": [
    "# cp437 can’t encode the 'ã'\n",
    "city.encode('cp437')"
   ]
  },
  {
   "cell_type": "code",
   "execution_count": 6,
   "id": "b87c6ca8",
   "metadata": {},
   "outputs": [
    {
     "data": {
      "text/plain": [
       "b'So Paulo'"
      ]
     },
     "execution_count": 6,
     "metadata": {},
     "output_type": "execute_result"
    }
   ],
   "source": [
    "# skips characters that cannot be encoded\n",
    "city.encode('cp437', errors='ignore')"
   ]
  },
  {
   "cell_type": "code",
   "execution_count": 7,
   "id": "ce88e25f",
   "metadata": {},
   "outputs": [
    {
     "data": {
      "text/plain": [
       "b'S?o Paulo'"
      ]
     },
     "execution_count": 7,
     "metadata": {},
     "output_type": "execute_result"
    }
   ],
   "source": [
    "# substitutes unencodable characters with '?'\n",
    "city.encode('cp437', errors='replace')"
   ]
  },
  {
   "cell_type": "code",
   "execution_count": 8,
   "id": "af4078d5",
   "metadata": {},
   "outputs": [
    {
     "data": {
      "text/plain": [
       "b'S&#227;o Paulo'"
      ]
     },
     "execution_count": 8,
     "metadata": {},
     "output_type": "execute_result"
    }
   ],
   "source": [
    "# replaces unencodable characters with an XML entity\n",
    "city.encode('cp437', errors='xmlcharrefreplace')"
   ]
  },
  {
   "cell_type": "markdown",
   "id": "65a4a499",
   "metadata": {},
   "source": [
    "![Figure 59](https://raw.githubusercontent.com/berserkhmdvhb/Training-Python/main/figures/Part_I/59.PNG)"
   ]
  },
  {
   "cell_type": "markdown",
   "id": "248fb709",
   "metadata": {},
   "source": [
    "Link: [`codecs.register_error` documentation](https://docs.python.org/3/library/codecs.html#codecs.register_error)"
   ]
  },
  {
   "cell_type": "markdown",
   "id": "6897e1a7",
   "metadata": {},
   "source": [
    "### Coping with UnicodeDecodeError"
   ]
  },
  {
   "cell_type": "markdown",
   "id": "42a2fb07",
   "metadata": {},
   "source": [
    "Not every byte holds a valid ASCII character, and not every byte sequence is valid\n",
    "UTF-8 or UTF-16; therefore, when you assume one of these encodings while converting\n",
    "a binary sequence to text, you will get a `UnicodeDecodeError` if unexpected bytes\n",
    "are found.\n",
    "On the other hand, many legacy 8-bit encodings like `cp1252`, `iso8859_1`, and\n",
    "`koi8_r` are able to decode any stream of bytes, including random noise, without\n",
    "reporting errors. Therefore, if your program assumes the wrong 8-bit encoding, it\n",
    "will silently decode garbage."
   ]
  },
  {
   "cell_type": "markdown",
   "id": "c030276c",
   "metadata": {},
   "source": [
    "![Figure 60](https://raw.githubusercontent.com/berserkhmdvhb/Training-Python/main/figures/Part_I/60.PNG)"
   ]
  },
  {
   "cell_type": "markdown",
   "id": "2621b3b7",
   "metadata": {},
   "source": [
    "**Example:** using the wrong codec may produce gremlins or a `UnicodeDecodeError`."
   ]
  },
  {
   "cell_type": "code",
   "execution_count": 9,
   "id": "4b952e85",
   "metadata": {},
   "outputs": [
    {
     "data": {
      "text/plain": [
       "'Montréal'"
      ]
     },
     "execution_count": 9,
     "metadata": {},
     "output_type": "execute_result"
    }
   ],
   "source": [
    "# '\\xe9' is the byte for 'é'.\n",
    "octets = b'Montr\\xe9al'\n",
    "\n",
    "# Decoding with Windows 1252 works because it is a superset of latin1.\n",
    "octets.decode('cp1252')"
   ]
  },
  {
   "cell_type": "code",
   "execution_count": 10,
   "id": "a57718ea",
   "metadata": {},
   "outputs": [
    {
     "data": {
      "text/plain": [
       "'Montrιal'"
      ]
     },
     "execution_count": 10,
     "metadata": {},
     "output_type": "execute_result"
    }
   ],
   "source": [
    "# ISO-8859-7 is intended for Greek\n",
    "octets.decode('iso8859_7')"
   ]
  },
  {
   "cell_type": "code",
   "execution_count": 11,
   "id": "12c3a481",
   "metadata": {},
   "outputs": [
    {
     "data": {
      "text/plain": [
       "'MontrИal'"
      ]
     },
     "execution_count": 11,
     "metadata": {},
     "output_type": "execute_result"
    }
   ],
   "source": [
    "# KOI8-R is for Russian\n",
    "octets.decode('koi8_r')"
   ]
  },
  {
   "cell_type": "code",
   "execution_count": 12,
   "id": "d0a5bccb",
   "metadata": {},
   "outputs": [
    {
     "ename": "UnicodeDecodeError",
     "evalue": "'utf-8' codec can't decode byte 0xe9 in position 5: invalid continuation byte",
     "output_type": "error",
     "traceback": [
      "\u001b[31m---------------------------------------------------------------------------\u001b[39m",
      "\u001b[31mUnicodeDecodeError\u001b[39m                        Traceback (most recent call last)",
      "\u001b[36mCell\u001b[39m\u001b[36m \u001b[39m\u001b[32mIn[12]\u001b[39m\u001b[32m, line 1\u001b[39m\n\u001b[32m----> \u001b[39m\u001b[32m1\u001b[39m \u001b[43moctets\u001b[49m\u001b[43m.\u001b[49m\u001b[43mdecode\u001b[49m\u001b[43m(\u001b[49m\u001b[33;43m'\u001b[39;49m\u001b[33;43mutf_8\u001b[39;49m\u001b[33;43m'\u001b[39;49m\u001b[43m)\u001b[49m\n",
      "\u001b[31mUnicodeDecodeError\u001b[39m: 'utf-8' codec can't decode byte 0xe9 in position 5: invalid continuation byte"
     ]
    }
   ],
   "source": [
    "octets.decode('utf_8')"
   ]
  },
  {
   "cell_type": "code",
   "execution_count": 13,
   "id": "de38cbd1",
   "metadata": {},
   "outputs": [
    {
     "data": {
      "text/plain": [
       "'Montr�al'"
      ]
     },
     "execution_count": 13,
     "metadata": {},
     "output_type": "execute_result"
    }
   ],
   "source": [
    "octets.decode('utf_8', errors='replace')"
   ]
  },
  {
   "cell_type": "markdown",
   "id": "7824688e",
   "metadata": {},
   "source": [
    "### SyntaxError When Loading Modules with Unexpected Encoding"
   ]
  },
  {
   "cell_type": "markdown",
   "id": "f6db7b97",
   "metadata": {},
   "source": [
    "If you load a *.py* module containing non-UTF-8 data and no encoding declaration, you get a message like this:"
   ]
  },
  {
   "cell_type": "markdown",
   "id": "eba02b97",
   "metadata": {},
   "source": [
    "```\n",
    "SyntaxError: Non-UTF-8 code starting with '\\xe1' in file ola.py on line\n",
    "1, but no encoding declared; see https://python.org/dev/peps/pep-0263/\n",
    "for details\n",
    "```"
   ]
  },
  {
   "cell_type": "markdown",
   "id": "453fe869",
   "metadata": {},
   "source": [
    "Because UTF-8 is widely deployed in GNU/Linux and macOS systems, a likely scenario is opening a *.py* file created on Windows with cp1252. Note that this error happens even in Python for Windows, because the default encoding for Python 3 source is UTF-8 across all platforms."
   ]
  },
  {
   "cell_type": "code",
   "execution_count": 14,
   "id": "32f05469",
   "metadata": {},
   "outputs": [
    {
     "name": "stdout",
     "output_type": "stream",
     "text": [
      "\n",
      "--- Trying ola_broken.py ---\n",
      "Error from materials\\ola_broken.py:\n",
      "SyntaxError: Non-UTF-8 code starting with '\\xe1' in file c:\\Users\\HamedVAHEB\\Documents\\Training\\Python\\FluentPython\\repo\\Training-Python\\src\\Part_I\\Chapter_04_UnicodeTextsVSBytes\\materials\\ola_broken.py on line 1, but no encoding declared; see https://peps.python.org/pep-0263/ for details\n",
      "\n",
      "\n",
      "--- Trying ola_fixed.py ---\n",
      "Output from materials\\ola_fixed.py:\n",
      "OlÃ¡, Mundo!\n",
      "\n"
     ]
    }
   ],
   "source": [
    "import subprocess\n",
    "import os\n",
    "\n",
    "# Step 1: Create the broken file (without coding declaration)\n",
    "broken_code = \"print('Olá, Mundo!')\"\n",
    "\n",
    "with open('materials/ola_broken.py', 'w', encoding='cp1252') as f:\n",
    "    f.write(broken_code)\n",
    "\n",
    "# Step 2: Create the fixed file (with coding declaration)\n",
    "fixed_code = \"# coding: cp1252\\nprint('Olá, Mundo!')\"\n",
    "\n",
    "with open('materials/ola_fixed.py', 'w', encoding='cp1252') as f:\n",
    "    f.write(fixed_code)\n",
    "\n",
    "# Step 3: Function to run a .py file and capture output/errors\n",
    "def run_python_file(filename):\n",
    "    try:\n",
    "        result = subprocess.run(\n",
    "            ['python', filename],\n",
    "            capture_output=True,\n",
    "            text=True\n",
    "        )\n",
    "        if result.returncode == 0:\n",
    "            print(f\"Output from {filename}:\\n{result.stdout}\")\n",
    "        else:\n",
    "            print(f\"Error from {filename}:\\n{result.stderr}\")\n",
    "    except Exception as e:\n",
    "        print(f\"Failed to run {filename}: {e}\")\n",
    "\n",
    "# Step 4: Run both files from the materials directory\n",
    "print(\"\\n--- Trying ola_broken.py ---\")\n",
    "run_python_file(os.path.join('materials', 'ola_broken.py'))\n",
    "\n",
    "print(\"\\n--- Trying ola_fixed.py ---\")\n",
    "run_python_file(os.path.join('materials', 'ola_fixed.py'))"
   ]
  },
  {
   "cell_type": "markdown",
   "id": "80849436",
   "metadata": {},
   "source": [
    "![Figure 61](https://raw.githubusercontent.com/berserkhmdvhb/Training-Python/main/figures/Part_I/61.PNG)"
   ]
  },
  {
   "cell_type": "markdown",
   "id": "1f547231",
   "metadata": {},
   "source": [
    "### How to Discover the Encoding of a Byte Sequence"
   ]
  },
  {
   "cell_type": "markdown",
   "id": "e4811fc5",
   "metadata": {},
   "source": [
    "How do you find the encoding of a byte sequence? Short answer: you can’t. You must\n",
    "be told.\n",
    "\n",
    "Some communication protocols and file formats, like HTTP and XML, contain headers\n",
    "that explicitly tell us how the content is encoded.\n",
    "You can be sure that some byte streams are not ASCII because they contain byte values over 127,"
   ]
  },
  {
   "cell_type": "markdown",
   "id": "896cbf76",
   "metadata": {},
   "source": [
    "![Figure 62](https://raw.githubusercontent.com/berserkhmdvhb/Training-Python/main/figures/Part_I/62.PNG)"
   ]
  },
  {
   "cell_type": "markdown",
   "id": "8b38e678",
   "metadata": {},
   "source": [
    "However, considering that human languages also have their rules and restrictions,\n",
    "once you assume that a stream of bytes is human *plain text*, it may be possible to sniff\n",
    "out its encoding using heuristics and statistics. For example, if `b'\\x00'` bytes are\n",
    "common, it is probably a 16- or 32-bit encoding, and not an 8-bit scheme, because\n",
    "null characters in plain text are bugs. When the byte sequence `b'\\x20\\x00'` appears\n",
    "often, it is more likely to be the space character `(U+0020)` in a UTF-16LE encoding,"
   ]
  },
  {
   "cell_type": "markdown",
   "id": "1f001c15",
   "metadata": {},
   "source": [
    "#### Package Chardet"
   ]
  },
  {
   "cell_type": "markdown",
   "id": "cc024ad8",
   "metadata": {},
   "source": [
    "The [package Chardet](https://pypi.org/project/chardet/) works to guess one of more than 30 supported encodings"
   ]
  },
  {
   "cell_type": "code",
   "execution_count": 15,
   "id": "0b430ae3",
   "metadata": {},
   "outputs": [],
   "source": [
    "# Example: Simulate a real-world text with Portuguese/Spanish accents\n",
    "long_text = \"\"\"\n",
    "O Brasil é o maior país da América do Sul e o quinto maior do mundo em área territorial. \n",
    "Com uma população de mais de 210 milhões de habitantes, é também o sexto país mais populoso. \n",
    "A língua oficial é o português, sendo o único país da América a falar esse idioma predominantemente.\n",
    "As principais cidades são São Paulo, Rio de Janeiro, Brasília (a capital), Salvador e Fortaleza.\n",
    "A diversidade cultural, as florestas tropicais como a Amazônia, e as belas praias são alguns dos seus atrativos.\n",
    "\"\"\"\n",
    "\n",
    "# Save the text with Windows-1252 encoding (cp1252)\n",
    "with open(\"materials/text-byte.asciidoc.txt\", \"w\", encoding=\"cp1252\") as f:\n",
    "    f.write(long_text)\n"
   ]
  },
  {
   "cell_type": "code",
   "execution_count": 16,
   "id": "ae10e7ea",
   "metadata": {},
   "outputs": [
    {
     "name": "stdout",
     "output_type": "stream",
     "text": [
      "{'encoding': 'ISO-8859-1', 'confidence': 0.73, 'language': ''}\n"
     ]
    }
   ],
   "source": [
    "import chardet\n",
    "\n",
    "# Read the raw bytes of the file\n",
    "with open('materials/text-byte.asciidoc.txt', 'rb') as f:\n",
    "    raw_data = f.read()\n",
    "\n",
    "# Detect encoding\n",
    "result = chardet.detect(raw_data)\n",
    "\n",
    "print(result)\n"
   ]
  },
  {
   "cell_type": "markdown",
   "id": "c0fb6dec",
   "metadata": {},
   "source": [
    "#### BOM: A Useful Gremlin"
   ]
  },
  {
   "cell_type": "code",
   "execution_count": 17,
   "id": "18483869",
   "metadata": {},
   "outputs": [
    {
     "data": {
      "text/plain": [
       "b'\\xff\\xfeE\\x00l\\x00 \\x00N\\x00i\\x00\\xf1\\x00o\\x00'"
      ]
     },
     "execution_count": 17,
     "metadata": {},
     "output_type": "execute_result"
    }
   ],
   "source": [
    "u16 = 'El Niño'.encode('utf_16')\n",
    "u16"
   ]
  },
  {
   "cell_type": "markdown",
   "id": "508fa137",
   "metadata": {},
   "source": [
    "The first two bytes are: `b'\\xff\\xfe'. That is a BOM—byte-order mark—denoting the “littleendian”\n",
    "byte ordering of the Intel CPU where the encoding was performed.\n",
    "Byte Order Mark (BOM) is an optional signature at the start of a text file that tells readers:\n",
    "\n",
    "- \"Hey, I'm UTF-16\"\n",
    "\n",
    "- \"Hey, my bytes are little-endian\" (little-endian = lower byte first)\n",
    "\n",
    "Because, by design, there is no `U+FFFE` character in Unicode, the byte sequence `b'\\xff\\xfe'` must mean the `ZERO WIDTH NO-BREAK SPACE` on a little-endian encoding, so the codec knows which byte ordering to use."
   ]
  },
  {
   "cell_type": "code",
   "execution_count": 18,
   "id": "4d8a1aa3",
   "metadata": {},
   "outputs": [
    {
     "data": {
      "text/plain": [
       "[255, 254, 69, 0, 108, 0, 32, 0, 78, 0, 105, 0, 241, 0, 111, 0]"
      ]
     },
     "execution_count": 18,
     "metadata": {},
     "output_type": "execute_result"
    }
   ],
   "source": [
    "list(u16)"
   ]
  },
  {
   "cell_type": "markdown",
   "id": "2f1e1e31",
   "metadata": {},
   "source": [
    "There is a variant of UTF-16—UTF-16LE—that is explicitly little-endian, and\n",
    "another one explicitly big-endian, UTF-16BE. If you use them, a BOM is not\n",
    "generated:"
   ]
  },
  {
   "cell_type": "code",
   "execution_count": 19,
   "id": "2727be9a",
   "metadata": {},
   "outputs": [],
   "source": [
    "u16le = 'El Niño'.encode('utf_16le')"
   ]
  },
  {
   "cell_type": "code",
   "execution_count": 20,
   "id": "ccc2638f",
   "metadata": {},
   "outputs": [
    {
     "data": {
      "text/plain": [
       "[69, 0, 108, 0, 32, 0, 78, 0, 105, 0, 241, 0, 111, 0]"
      ]
     },
     "execution_count": 20,
     "metadata": {},
     "output_type": "execute_result"
    }
   ],
   "source": [
    "list(u16le)"
   ]
  },
  {
   "cell_type": "code",
   "execution_count": 21,
   "id": "6e0baa8a",
   "metadata": {},
   "outputs": [],
   "source": [
    "u16be = 'El Niño'.encode('utf_16be')"
   ]
  },
  {
   "cell_type": "code",
   "execution_count": 22,
   "id": "e296b11f",
   "metadata": {},
   "outputs": [
    {
     "data": {
      "text/plain": [
       "[0, 69, 0, 108, 0, 32, 0, 78, 0, 105, 0, 241, 0, 111]"
      ]
     },
     "execution_count": 22,
     "metadata": {},
     "output_type": "execute_result"
    }
   ],
   "source": [
    "list(u16be)"
   ]
  },
  {
   "cell_type": "markdown",
   "id": "f815eb46",
   "metadata": {},
   "source": [
    "One big advantage of UTF-8 is that it produces the same byte sequence regardless of machine endianness, so no BOM is needed."
   ]
  },
  {
   "cell_type": "markdown",
   "id": "686c3c3a",
   "metadata": {},
   "source": [
    "![Figure 63](https://raw.githubusercontent.com/berserkhmdvhb/Training-Python/main/figures/Part_I/63.PNG)"
   ]
  }
 ],
 "metadata": {
  "kernelspec": {
   "display_name": "env_train",
   "language": "python",
   "name": "python3"
  },
  "language_info": {
   "codemirror_mode": {
    "name": "ipython",
    "version": 3
   },
   "file_extension": ".py",
   "mimetype": "text/x-python",
   "name": "python",
   "nbconvert_exporter": "python",
   "pygments_lexer": "ipython3",
   "version": "3.13.0"
  }
 },
 "nbformat": 4,
 "nbformat_minor": 5
}

{
 "cells": [
  {
   "cell_type": "markdown",
   "id": "ac427704",
   "metadata": {},
   "source": [
    "# Chapter 4. Unicode Text Versus Bytes\n",
    "---"
   ]
  },
  {
   "cell_type": "markdown",
   "id": "83154011",
   "metadata": {},
   "source": [
    "## ToC\n",
    "\n",
    "[Objectives](#objectives)\n",
    "\n",
    "1. [Character Issues](#character-issues)\n",
    "2. [Byte Essentials](#byte-essentials)\n",
    "---"
   ]
  },
  {
   "cell_type": "markdown",
   "id": "8814d2f0",
   "metadata": {},
   "source": [
    "## Objectives\n",
    "- Characters, code points, and byte representations\n",
    "- Unique features of binary sequences: `bytes`, `bytearray`, and `memoryview`\n",
    "- Encodings for full Unicode and legacy character sets\n",
    "- Avoiding and dealing with encoding errors\n",
    "- Best practices when handling text files\n",
    "- The default encoding trap and standard I/O issues\n",
    "- Safe Unicode text comparisons with normalization\n",
    "- Utility functions for normalization, case folding, and brute-force diacritic\n",
    "removal\n",
    "- Proper sorting of Unicode text with locale and the pyuca library\n",
    "- Character metadata in the Unicode database\n",
    "- Dual-mode APIs that handle str and bytes"
   ]
  },
  {
   "cell_type": "markdown",
   "id": "111bcd45",
   "metadata": {},
   "source": [
    "## Character Issues"
   ]
  },
  {
   "cell_type": "markdown",
   "id": "8abb9341",
   "metadata": {},
   "source": [
    "![Figure 50](https://raw.githubusercontent.com/berserkhmdvhb/Training-Python/main/figures/Part_I/50.PNG)"
   ]
  },
  {
   "cell_type": "markdown",
   "id": "1f49e46d",
   "metadata": {},
   "source": [
    "**Links:**  \n",
    "\n",
    "[Parsing binary records with\n",
    "struct](https://fpy.li/4-3)  \n",
    "[Building Multi-character Emojis](https://fpy.li/4-4)\n"
   ]
  },
  {
   "cell_type": "markdown",
   "id": "56372079",
   "metadata": {},
   "source": [
    "## Character Issues"
   ]
  },
  {
   "cell_type": "markdown",
   "id": "0eca185c",
   "metadata": {},
   "source": [
    "The concept of “string” is simple enough: a string is a sequence of characters. The problem lies in the definition of “character.” In 2021, the best definition of “character” we have is a Unicode character. The Unicode standard explicitly separates the identity of characters from specific byte representations:\n",
    "\n",
    "\n",
    "\n",
    "- The identity of a character—its *code point*—is a number from 0 to 1,114,111\n",
    "(base 10), shown in the Unicode standard as 4 to 6 hex digits with a “U+” prefix,\n",
    "from U+0000 to U+10FFFF. For example, the code point for the letter A is U\n",
    "+0041, the Euro sign is U+20AC, and the musical symbol G clef is assigned to\n",
    "code point U+1D11E. About 13% of the valid code points have characters\n",
    "assigned to them in Unicode 13.0.0, the standard used in Python 3.10.0b4.\n",
    "\n",
    "- The actual bytes that represent a character depend on the *encoding* in use. An\n",
    "encoding is an algorithm that converts code points to byte sequences and vice\n",
    "versa. The code point for the letter A (U+0041) is encoded as the single byte \\x41\n",
    "in the UTF-8 encoding, or as the bytes \\x41\\x00 in UTF-16LE encoding. As\n",
    "another example, UTF-8 requires three bytes—\\xe2\\x82\\xac—to encode the\n",
    "Euro sign (U+20AC), but in UTF-16LE the same code point is encoded as two\n",
    "bytes: \\xac\\x20."
   ]
  },
  {
   "cell_type": "markdown",
   "id": "795f1007",
   "metadata": {},
   "source": [
    "#### Refresher on ASII, UTF-8, Unicode"
   ]
  },
  {
   "cell_type": "markdown",
   "id": "7c2d0536",
   "metadata": {},
   "source": [
    "![Figure 51](https://raw.githubusercontent.com/berserkhmdvhb/Training-Python/main/figures/Part_I/51.PNG)"
   ]
  },
  {
   "cell_type": "markdown",
   "id": "d4c4da07",
   "metadata": {},
   "source": [
    "![Figure 52](https://raw.githubusercontent.com/berserkhmdvhb/Training-Python/main/figures/Part_I/52.PNG)"
   ]
  },
  {
   "cell_type": "markdown",
   "id": "c5de6702",
   "metadata": {},
   "source": [
    "![Figure 53](https://raw.githubusercontent.com/berserkhmdvhb/Training-Python/main/figures/Part_I/53.PNG)"
   ]
  },
  {
   "cell_type": "markdown",
   "id": "8fda9ff0",
   "metadata": {},
   "source": [
    "![Figure 54](https://raw.githubusercontent.com/berserkhmdvhb/Training-Python/main/figures/Part_I/54.PNG)"
   ]
  },
  {
   "cell_type": "markdown",
   "id": "cadb1ce5",
   "metadata": {},
   "source": [
    "![Figure 55](https://raw.githubusercontent.com/berserkhmdvhb/Training-Python/main/figures/Part_I/55.PNG)"
   ]
  },
  {
   "cell_type": "markdown",
   "id": "c2d6f47d",
   "metadata": {},
   "source": [
    "Converting from code points to bytes is encoding; converting from bytes to code\n",
    "points is decoding."
   ]
  },
  {
   "cell_type": "code",
   "execution_count": 4,
   "id": "d2b4c8ab",
   "metadata": {},
   "outputs": [
    {
     "data": {
      "text/plain": [
       "4"
      ]
     },
     "execution_count": 4,
     "metadata": {},
     "output_type": "execute_result"
    }
   ],
   "source": [
    "s = 'café'\n",
    "len(s)"
   ]
  },
  {
   "cell_type": "code",
   "execution_count": 5,
   "id": "618a91cb",
   "metadata": {},
   "outputs": [
    {
     "data": {
      "text/plain": [
       "b'caf\\xc3\\xa9'"
      ]
     },
     "execution_count": 5,
     "metadata": {},
     "output_type": "execute_result"
    }
   ],
   "source": [
    "b = s.encode('utf8')\n",
    "b"
   ]
  },
  {
   "cell_type": "code",
   "execution_count": 3,
   "id": "c1f2a091",
   "metadata": {},
   "outputs": [
    {
     "data": {
      "text/plain": [
       "5"
      ]
     },
     "execution_count": 3,
     "metadata": {},
     "output_type": "execute_result"
    }
   ],
   "source": [
    "len(b)"
   ]
  },
  {
   "cell_type": "code",
   "execution_count": 6,
   "id": "49067884",
   "metadata": {},
   "outputs": [
    {
     "data": {
      "text/plain": [
       "'café'"
      ]
     },
     "execution_count": 6,
     "metadata": {},
     "output_type": "execute_result"
    }
   ],
   "source": [
    "b.decode('utf8')"
   ]
  },
  {
   "cell_type": "markdown",
   "id": "4a114510",
   "metadata": {},
   "source": [
    "Display Unicode code points:"
   ]
  },
  {
   "cell_type": "code",
   "execution_count": 9,
   "id": "6bf45174",
   "metadata": {},
   "outputs": [
    {
     "name": "stdout",
     "output_type": "stream",
     "text": [
      "c -> U+0063\n",
      "a -> U+0061\n",
      "f -> U+0066\n",
      "é -> U+00E9\n"
     ]
    }
   ],
   "source": [
    "for c in b.decode('utf8'):\n",
    "    print(f\"{c} -> U+{ord(c):04X}\")\n"
   ]
  },
  {
   "cell_type": "markdown",
   "id": "02a6ce32",
   "metadata": {},
   "source": [
    "![Figure 56](https://raw.githubusercontent.com/berserkhmdvhb/Training-Python/main/figures/Part_I/56.PNG)"
   ]
  },
  {
   "cell_type": "markdown",
   "id": "0f10edb0",
   "metadata": {},
   "source": [
    "## Byte Essentials"
   ]
  },
  {
   "cell_type": "markdown",
   "id": "864a441a",
   "metadata": {},
   "source": [
    "There are two basic built-in types for binary sequences: the immutable `bytes` type introduced in Python 3 and the mutable `bytearray`, added way back in Python 2.6. Each item in `bytes` or `bytearray` is an integer from 0 to 255, and not a one-character string like in the Python 2 `str`. However, a slice of a binary sequence always produces a binary sequence of the same type—including slices of length 1. "
   ]
  },
  {
   "cell_type": "code",
   "execution_count": 18,
   "id": "86b910b6",
   "metadata": {},
   "outputs": [
    {
     "data": {
      "text/plain": [
       "b'caf\\xc3\\xa9'"
      ]
     },
     "execution_count": 18,
     "metadata": {},
     "output_type": "execute_result"
    }
   ],
   "source": [
    "cafe = bytes('café', encoding='utf_8')\n",
    "cafe"
   ]
  },
  {
   "cell_type": "code",
   "execution_count": 24,
   "id": "08d03b02",
   "metadata": {},
   "outputs": [
    {
     "data": {
      "text/plain": [
       "99"
      ]
     },
     "execution_count": 24,
     "metadata": {},
     "output_type": "execute_result"
    }
   ],
   "source": [
    "# Each item is an integer in range(256).\n",
    "cafe[0]"
   ]
  },
  {
   "cell_type": "code",
   "execution_count": 20,
   "id": "adf9e8d5",
   "metadata": {},
   "outputs": [
    {
     "data": {
      "text/plain": [
       "99"
      ]
     },
     "execution_count": 20,
     "metadata": {},
     "output_type": "execute_result"
    }
   ],
   "source": [
    "ord('café'[0])"
   ]
  },
  {
   "cell_type": "code",
   "execution_count": 21,
   "id": "c2c3c7d0",
   "metadata": {},
   "outputs": [
    {
     "data": {
      "text/plain": [
       "b'c'"
      ]
     },
     "execution_count": 21,
     "metadata": {},
     "output_type": "execute_result"
    }
   ],
   "source": [
    "cafe[:1]"
   ]
  },
  {
   "cell_type": "code",
   "execution_count": 23,
   "id": "6dc64cf5",
   "metadata": {},
   "outputs": [
    {
     "data": {
      "text/plain": [
       "b'f'"
      ]
     },
     "execution_count": 23,
     "metadata": {},
     "output_type": "execute_result"
    }
   ],
   "source": [
    "cafe[2:3]"
   ]
  },
  {
   "cell_type": "markdown",
   "id": "c25ded43",
   "metadata": {},
   "source": [
    "![Figure 57](https://raw.githubusercontent.com/berserkhmdvhb/Training-Python/main/figures/Part_I/57.PNG)"
   ]
  },
  {
   "cell_type": "markdown",
   "id": "8d6e2650",
   "metadata": {},
   "source": []
  }
 ],
 "metadata": {
  "kernelspec": {
   "display_name": "env_train",
   "language": "python",
   "name": "python3"
  },
  "language_info": {
   "codemirror_mode": {
    "name": "ipython",
    "version": 3
   },
   "file_extension": ".py",
   "mimetype": "text/x-python",
   "name": "python",
   "nbconvert_exporter": "python",
   "pygments_lexer": "ipython3",
   "version": "3.13.0"
  }
 },
 "nbformat": 4,
 "nbformat_minor": 5
}

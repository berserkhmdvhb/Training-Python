{
 "cells": [
  {
   "cell_type": "markdown",
   "id": "ac427704",
   "metadata": {},
   "source": [
    "# Chapter 4. Unicode Text Versus Bytes\n",
    "---"
   ]
  },
  {
   "cell_type": "markdown",
   "id": "83154011",
   "metadata": {},
   "source": [
    "## ToC\n",
    "\n",
    "\n",
    "1. [Character Issues](#character-issues)\n",
    "---"
   ]
  },
  {
   "cell_type": "markdown",
   "id": "111bcd45",
   "metadata": {},
   "source": [
    "## Character Issues"
   ]
  },
  {
   "cell_type": "markdown",
   "id": "8abb9341",
   "metadata": {},
   "source": [
    "![Figure 51](https://raw.githubusercontent.com/berserkhmdvhb/Training-Python/main/figures/Part_I/51.PNG)"
   ]
  }
 ],
 "metadata": {
  "language_info": {
   "name": "python"
  }
 },
 "nbformat": 4,
 "nbformat_minor": 5
}

{
 "cells": [
  {
   "cell_type": "markdown",
   "id": "ac427704",
   "metadata": {},
   "source": [
    "# Chapter 4. Unicode Text Versus Bytes\n",
    "---"
   ]
  },
  {
   "cell_type": "markdown",
   "id": "83154011",
   "metadata": {},
   "source": [
    "## ToC\n",
    "\n",
    "[Objectives](#objectives)\n",
    "\n",
    "1. [Character Issues](#character-issues)\n",
    "2. [Byte Essentials](#byte-essentials)\n",
    "---"
   ]
  },
  {
   "cell_type": "markdown",
   "id": "8814d2f0",
   "metadata": {},
   "source": [
    "## Objectives\n",
    "- Characters, code points, and byte representations\n",
    "- Unique features of binary sequences: `bytes`, `bytearray`, and `memoryview`\n",
    "- Encodings for full Unicode and legacy character sets\n",
    "- Avoiding and dealing with encoding errors\n",
    "- Best practices when handling text files\n",
    "- The default encoding trap and standard I/O issues\n",
    "- Safe Unicode text comparisons with normalization\n",
    "- Utility functions for normalization, case folding, and brute-force diacritic\n",
    "removal\n",
    "- Proper sorting of Unicode text with locale and the pyuca library\n",
    "- Character metadata in the Unicode database\n",
    "- Dual-mode APIs that handle str and bytes"
   ]
  },
  {
   "cell_type": "markdown",
   "id": "111bcd45",
   "metadata": {},
   "source": [
    "## Character Issues"
   ]
  },
  {
   "cell_type": "markdown",
   "id": "8abb9341",
   "metadata": {},
   "source": [
    "![Figure 50](https://raw.githubusercontent.com/berserkhmdvhb/Training-Python/main/figures/Part_I/50.PNG)"
   ]
  },
  {
   "cell_type": "markdown",
   "id": "1f49e46d",
   "metadata": {},
   "source": [
    "**Links:**  \n",
    "\n",
    "[Parsing binary records with\n",
    "struct](https://fpy.li/4-3)  \n",
    "[Building Multi-character Emojis](https://fpy.li/4-4)\n"
   ]
  },
  {
   "cell_type": "markdown",
   "id": "56372079",
   "metadata": {},
   "source": [
    "## Character Issues"
   ]
  },
  {
   "cell_type": "markdown",
   "id": "0eca185c",
   "metadata": {},
   "source": [
    "The concept of “string” is simple enough: a string is a sequence of characters. The problem lies in the definition of “character.” In 2021, the best definition of “character” we have is a Unicode character. The Unicode standard explicitly separates the identity of characters from specific byte representations:\n",
    "\n",
    "\n",
    "\n",
    "- The identity of a character—its *code point*—is a number from 0 to 1,114,111\n",
    "(base 10), shown in the Unicode standard as 4 to 6 hex digits with a “U+” prefix,\n",
    "from U+0000 to U+10FFFF. For example, the code point for the letter A is U\n",
    "+0041, the Euro sign is U+20AC, and the musical symbol G clef is assigned to\n",
    "code point U+1D11E. About 13% of the valid code points have characters\n",
    "assigned to them in Unicode 13.0.0, the standard used in Python 3.10.0b4.\n",
    "\n",
    "- The actual bytes that represent a character depend on the *encoding* in use. An\n",
    "encoding is an algorithm that converts code points to byte sequences and vice\n",
    "versa. The code point for the letter A (U+0041) is encoded as the single byte \\x41\n",
    "in the UTF-8 encoding, or as the bytes \\x41\\x00 in UTF-16LE encoding. As\n",
    "another example, UTF-8 requires three bytes—\\xe2\\x82\\xac—to encode the\n",
    "Euro sign (U+20AC), but in UTF-16LE the same code point is encoded as two\n",
    "bytes: \\xac\\x20."
   ]
  },
  {
   "cell_type": "markdown",
   "id": "795f1007",
   "metadata": {},
   "source": [
    "#### Refresher on ASII, UTF-8, Unicode"
   ]
  },
  {
   "cell_type": "markdown",
   "id": "7c2d0536",
   "metadata": {},
   "source": [
    "![Figure 51](https://raw.githubusercontent.com/berserkhmdvhb/Training-Python/main/figures/Part_I/51.PNG)"
   ]
  },
  {
   "cell_type": "markdown",
   "id": "d4c4da07",
   "metadata": {},
   "source": [
    "![Figure 52](https://raw.githubusercontent.com/berserkhmdvhb/Training-Python/main/figures/Part_I/52.PNG)"
   ]
  },
  {
   "cell_type": "markdown",
   "id": "c5de6702",
   "metadata": {},
   "source": [
    "![Figure 53](https://raw.githubusercontent.com/berserkhmdvhb/Training-Python/main/figures/Part_I/53.PNG)"
   ]
  },
  {
   "cell_type": "markdown",
   "id": "8fda9ff0",
   "metadata": {},
   "source": [
    "![Figure 54](https://raw.githubusercontent.com/berserkhmdvhb/Training-Python/main/figures/Part_I/54.PNG)"
   ]
  },
  {
   "cell_type": "markdown",
   "id": "cadb1ce5",
   "metadata": {},
   "source": [
    "![Figure 55](https://raw.githubusercontent.com/berserkhmdvhb/Training-Python/main/figures/Part_I/55.PNG)"
   ]
  },
  {
   "cell_type": "markdown",
   "id": "c2d6f47d",
   "metadata": {},
   "source": [
    "Converting from code points to bytes is encoding; converting from bytes to code\n",
    "points is decoding."
   ]
  },
  {
   "cell_type": "code",
   "execution_count": 4,
   "id": "d2b4c8ab",
   "metadata": {},
   "outputs": [
    {
     "data": {
      "text/plain": [
       "4"
      ]
     },
     "execution_count": 4,
     "metadata": {},
     "output_type": "execute_result"
    }
   ],
   "source": [
    "s = 'café'\n",
    "len(s)"
   ]
  },
  {
   "cell_type": "code",
   "execution_count": 5,
   "id": "618a91cb",
   "metadata": {},
   "outputs": [
    {
     "data": {
      "text/plain": [
       "b'caf\\xc3\\xa9'"
      ]
     },
     "execution_count": 5,
     "metadata": {},
     "output_type": "execute_result"
    }
   ],
   "source": [
    "b = s.encode('utf8')\n",
    "b"
   ]
  },
  {
   "cell_type": "code",
   "execution_count": 3,
   "id": "c1f2a091",
   "metadata": {},
   "outputs": [
    {
     "data": {
      "text/plain": [
       "5"
      ]
     },
     "execution_count": 3,
     "metadata": {},
     "output_type": "execute_result"
    }
   ],
   "source": [
    "len(b)"
   ]
  },
  {
   "cell_type": "code",
   "execution_count": 6,
   "id": "49067884",
   "metadata": {},
   "outputs": [
    {
     "data": {
      "text/plain": [
       "'café'"
      ]
     },
     "execution_count": 6,
     "metadata": {},
     "output_type": "execute_result"
    }
   ],
   "source": [
    "b.decode('utf8')"
   ]
  },
  {
   "cell_type": "markdown",
   "id": "4a114510",
   "metadata": {},
   "source": [
    "Display Unicode code points:"
   ]
  },
  {
   "cell_type": "code",
   "execution_count": 9,
   "id": "6bf45174",
   "metadata": {},
   "outputs": [
    {
     "name": "stdout",
     "output_type": "stream",
     "text": [
      "c -> U+0063\n",
      "a -> U+0061\n",
      "f -> U+0066\n",
      "é -> U+00E9\n"
     ]
    }
   ],
   "source": [
    "for c in b.decode('utf8'):\n",
    "    print(f\"{c} -> U+{ord(c):04X}\")\n"
   ]
  },
  {
   "cell_type": "markdown",
   "id": "02a6ce32",
   "metadata": {},
   "source": [
    "![Figure 56](https://raw.githubusercontent.com/berserkhmdvhb/Training-Python/main/figures/Part_I/56.PNG)"
   ]
  },
  {
   "cell_type": "markdown",
   "id": "0f10edb0",
   "metadata": {},
   "source": [
    "## Byte Essentials"
   ]
  },
  {
   "cell_type": "markdown",
   "id": "864a441a",
   "metadata": {},
   "source": [
    "There are two basic built-in types for binary sequences: the immutable `bytes` type introduced in Python 3 and the mutable `bytearray`, added way back in Python 2.6. Each item in `bytes` or `bytearray` is an integer from 0 to 255, and not a one-character string like in the Python 2 `str`. However, a slice of a binary sequence always produces a binary sequence of the same type—including slices of length 1. "
   ]
  },
  {
   "cell_type": "code",
   "execution_count": 18,
   "id": "86b910b6",
   "metadata": {},
   "outputs": [
    {
     "data": {
      "text/plain": [
       "b'caf\\xc3\\xa9'"
      ]
     },
     "execution_count": 18,
     "metadata": {},
     "output_type": "execute_result"
    }
   ],
   "source": [
    "cafe = bytes('café', encoding='utf_8')\n",
    "cafe"
   ]
  },
  {
   "cell_type": "markdown",
   "id": "2539b153",
   "metadata": {},
   "source": [
    "In result above, we notice that the first three bytes `b'caf'` are in the printable ASCII range, the last two are not."
   ]
  },
  {
   "cell_type": "code",
   "execution_count": 24,
   "id": "08d03b02",
   "metadata": {},
   "outputs": [
    {
     "data": {
      "text/plain": [
       "99"
      ]
     },
     "execution_count": 24,
     "metadata": {},
     "output_type": "execute_result"
    }
   ],
   "source": [
    "# Each item is an integer in range(256).\n",
    "cafe[0]"
   ]
  },
  {
   "cell_type": "code",
   "execution_count": 20,
   "id": "adf9e8d5",
   "metadata": {},
   "outputs": [
    {
     "data": {
      "text/plain": [
       "99"
      ]
     },
     "execution_count": 20,
     "metadata": {},
     "output_type": "execute_result"
    }
   ],
   "source": [
    "ord('café'[0])"
   ]
  },
  {
   "cell_type": "code",
   "execution_count": 21,
   "id": "c2c3c7d0",
   "metadata": {},
   "outputs": [
    {
     "data": {
      "text/plain": [
       "b'c'"
      ]
     },
     "execution_count": 21,
     "metadata": {},
     "output_type": "execute_result"
    }
   ],
   "source": [
    "cafe[:1]"
   ]
  },
  {
   "cell_type": "code",
   "execution_count": 23,
   "id": "6dc64cf5",
   "metadata": {},
   "outputs": [
    {
     "data": {
      "text/plain": [
       "b'f'"
      ]
     },
     "execution_count": 23,
     "metadata": {},
     "output_type": "execute_result"
    }
   ],
   "source": [
    "cafe[2:3]"
   ]
  },
  {
   "cell_type": "markdown",
   "id": "c25ded43",
   "metadata": {},
   "source": [
    "![Figure 57](https://raw.githubusercontent.com/berserkhmdvhb/Training-Python/main/figures/Part_I/57.PNG)"
   ]
  },
  {
   "cell_type": "markdown",
   "id": "8d6e2650",
   "metadata": {},
   "source": [
    "Although binary sequences are really sequences of integers, their literal notation reflects the fact that ASCII text is often embedded in them. Therefore, four different displays are used, depending on each byte value:\n",
    "- For bytes with decimal codes 32 to 126—from space to `~` (tilde)—the ASCII character\n",
    "itself is used.\n",
    "- For bytes corresponding to tab, newline, carriage return, and `\\`, the escape\n",
    "sequences `\\t`, `\\n`, `\\r`, and `\\\\` are used.\n",
    "- If both string delimiters `'` and `\"` appear in the byte sequence, the whole sequence\n",
    "is delimited by `'`, and any `'` inside are escaped as `\\'`.\n",
    "- For other byte values, a hexadecimal escape sequence is used (e.g., `\\x00` is the\n",
    "null byte)."
   ]
  },
  {
   "cell_type": "markdown",
   "id": "2dfbb5e8",
   "metadata": {},
   "source": [
    "Both `bytes` and `bytearray` support every `str` method except those that do formatting\n",
    "(`format`, `format_map`) and those that depend on Unicode data, including `case\n",
    "fold`, `isdecimal`, `isidentifier`, `isnumeric`, `isprintable`, and `encode`."
   ]
  },
  {
   "cell_type": "code",
   "execution_count": 45,
   "id": "08750a7e",
   "metadata": {},
   "outputs": [
    {
     "data": {
      "text/plain": [
       "b'1K\\xce\\xa9'"
      ]
     },
     "execution_count": 45,
     "metadata": {},
     "output_type": "execute_result"
    }
   ],
   "source": [
    "bytes.fromhex('31 4B CE A9')"
   ]
  },
  {
   "cell_type": "code",
   "execution_count": null,
   "id": "449aff36",
   "metadata": {},
   "outputs": [
    {
     "name": "stdout",
     "output_type": "stream",
     "text": [
      "hello <class 'str'>\n",
      "b'hello' <class 'bytes'>\n"
     ]
    }
   ],
   "source": [
    "text = \"hello\"      # str\n",
    "binary = b\"hello\"   # bytes\n",
    "\n",
    "print(text, type(text))\n",
    "print(binary, type(binary))"
   ]
  },
  {
   "cell_type": "code",
   "execution_count": null,
   "id": "ef39d956",
   "metadata": {},
   "outputs": [
    {
     "name": "stdout",
     "output_type": "stream",
     "text": [
      "Match found: b'foo'\n"
     ]
    }
   ],
   "source": [
    "import re\n",
    "\n",
    "# Compile a regex for binary data\n",
    "binary_pattern = re.compile(b'foo')\n",
    "\n",
    "# Binary data\n",
    "data = b'barfooqux1'\n",
    "\n",
    "# Search for the pattern in the binary data\n",
    "match = binary_pattern.search(data)\n",
    "\n",
    "if match:\n",
    "    print(\"Match found:\", match.group())\n",
    "else:\n",
    "    print(\"No match found.\")\n"
   ]
  },
  {
   "cell_type": "code",
   "execution_count": 44,
   "id": "3950af81",
   "metadata": {},
   "outputs": [
    {
     "name": "stdout",
     "output_type": "stream",
     "text": [
      "0 - Byte Version -> Username: b'john', ID: b'1234'\n",
      "0 - Str Version  -> Username: john, ID: 1234\n",
      "0 - Username Bytes (Decimal): [106, 111, 104, 110]\n",
      "0 - User ID Bytes (Decimal): [49, 50, 51, 52]\n",
      "0 - Username Bytes (Hexadecimal): ['6a', '6f', '68', '6e']\n",
      "0 - User ID Bytes (Hexadecimal): ['31', '32', '33', '34']\n",
      "----------------------------------------\n",
      "1 - Byte Version -> Username: b'jane', ID: b'5678'\n",
      "1 - Str Version  -> Username: jane, ID: 5678\n",
      "1 - Username Bytes (Decimal): [106, 97, 110, 101]\n",
      "1 - User ID Bytes (Decimal): [53, 54, 55, 56]\n",
      "1 - Username Bytes (Hexadecimal): ['6a', '61', '6e', '65']\n",
      "1 - User ID Bytes (Hexadecimal): ['35', '36', '37', '38']\n",
      "----------------------------------------\n",
      "2 - Byte Version -> Username: b'bob', ID: b'9012'\n",
      "2 - Str Version  -> Username: bob, ID: 9012\n",
      "2 - Username Bytes (Decimal): [98, 111, 98]\n",
      "2 - User ID Bytes (Decimal): [57, 48, 49, 50]\n",
      "2 - Username Bytes (Hexadecimal): ['62', '6f', '62']\n",
      "2 - User ID Bytes (Hexadecimal): ['39', '30', '31', '32']\n",
      "----------------------------------------\n"
     ]
    }
   ],
   "source": [
    "import re\n",
    "\n",
    "data = b\"user:john|id:1234;user:jane|id:5678;user:bob|id:9012,user:L\\xc3\\xa9o|id:2222\"\n",
    "\n",
    "pattern = re.compile(rb'user:(\\w+)\\|id:(\\d+)')\n",
    "\n",
    "matches = pattern.findall(data)\n",
    "\n",
    "for idx, (username, user_id) in enumerate(matches):\n",
    "    print(f\"{idx} - Byte Version -> Username: {username}, ID: {user_id}\")\n",
    "    print(f\"{idx} - Str Version  -> Username: {username.decode('utf-8')}, ID: {user_id.decode()}\")\n",
    "    \n",
    "    # Show raw bytes as lists of integers\n",
    "    print(f\"{idx} - Username Bytes (Decimal): {[b for b in username]}\")\n",
    "    print(f\"{idx} - User ID Bytes (Decimal): {[b for b in user_id]}\")\n",
    "    print(f\"{idx} - Username Bytes (Hexadecimal): {[format(b, '02x') for b in username]}\")\n",
    "    print(f\"{idx} - User ID Bytes (Hexadecimal): {[format(b, '02x') for b in user_id]}\")\n",
    "    print(\"-\" * 40)"
   ]
  },
  {
   "cell_type": "markdown",
   "id": "b52caa3c",
   "metadata": {},
   "source": [
    "non-ASCI characters are ignored here such as `L\\xc3\\xa9o` which is `Léo` when decoded."
   ]
  },
  {
   "cell_type": "code",
   "execution_count": 41,
   "id": "fba955d2",
   "metadata": {},
   "outputs": [
    {
     "name": "stdout",
     "output_type": "stream",
     "text": [
      "0 - str Version -> Username: john, ID: 1234\n",
      "----------------------------------------\n",
      "1 - str Version -> Username: jane, ID: 5678\n",
      "----------------------------------------\n",
      "2 - str Version -> Username: bob, ID: 9012\n",
      "----------------------------------------\n",
      "3 - str Version -> Username: Léo, ID: 2222\n",
      "----------------------------------------\n"
     ]
    }
   ],
   "source": [
    "import re\n",
    "\n",
    "data = b\"user:john|id:1234;user:jane|id:5678;user:bob|id:9012,user:L\\xc3\\xa9o|id:2222\"\n",
    "text_data = data.decode('utf-8')\n",
    "\n",
    "pattern = re.compile(r'user:(\\w+)\\|id:(\\d+)')\n",
    "\n",
    "matches = pattern.findall(text_data)\n",
    "\n",
    "for idx, (username, user_id) in enumerate(matches):\n",
    "    print(f\"{idx} - str Version -> Username: {username}, ID: {user_id}\")\n",
    "    \n",
    "    print(\"-\" * 40)"
   ]
  },
  {
   "cell_type": "markdown",
   "id": "e2aebc56",
   "metadata": {},
   "source": [
    "**Example:** Initializing bytes from the raw data of an array"
   ]
  },
  {
   "cell_type": "code",
   "execution_count": 49,
   "id": "8ab0a86d",
   "metadata": {},
   "outputs": [
    {
     "data": {
      "text/plain": [
       "b'\\xfe\\xff\\xff\\xff\\x00\\x00\\x01\\x00\\x02\\x00'"
      ]
     },
     "execution_count": 49,
     "metadata": {},
     "output_type": "execute_result"
    }
   ],
   "source": [
    "import array\n",
    "numbers = array.array('h', [-2, -1, 0, 1, 2])\n",
    "octets = bytes(numbers)\n",
    "octets"
   ]
  },
  {
   "cell_type": "markdown",
   "id": "03819004",
   "metadata": {},
   "source": [
    "Creating a bytes or bytearray object from any buffer-like source will always copy the bytes. In contrast, `memoryview` objects let you share memory between binary data structures"
   ]
  },
  {
   "cell_type": "code",
   "execution_count": 50,
   "id": "dc3630dd",
   "metadata": {},
   "outputs": [
    {
     "name": "stdout",
     "output_type": "stream",
     "text": [
      "Original numbers: array('h', [-2, -1, 0, 1, 2])\n",
      "Memoryview (as list): [-2, -1, 0, 1, 2]\n",
      "After changing memoryview:\n",
      "numbers: array('h', [-2, -1, 9999, 1, 2])\n",
      "memv: [-2, -1, 9999, 1, 2]\n"
     ]
    }
   ],
   "source": [
    "import array\n",
    "\n",
    "# Create an array\n",
    "numbers = array.array('h', [-2, -1, 0, 1, 2])\n",
    "\n",
    "# Create a memoryview\n",
    "memv = memoryview(numbers)\n",
    "\n",
    "print(\"Original numbers:\", numbers)\n",
    "print(\"Memoryview (as list):\", memv.tolist())\n",
    "\n",
    "# Modify memoryview\n",
    "memv[2] = 9999  # Change the 3rd element (index 2)\n",
    "\n",
    "print(\"After changing memoryview:\")\n",
    "print(\"numbers:\", numbers)\n",
    "print(\"memv:\", memv.tolist())\n"
   ]
  },
  {
   "cell_type": "markdown",
   "id": "2d3d48ea",
   "metadata": {},
   "source": [
    "**Compare memory**"
   ]
  },
  {
   "cell_type": "code",
   "execution_count": 52,
   "id": "402bc522",
   "metadata": {},
   "outputs": [
    {
     "name": "stdout",
     "output_type": "stream",
     "text": [
      "Array size: 4091948 bytes\n",
      "Memoryview size: 184 bytes\n",
      "List from array size: 8000056 bytes\n",
      "List from memoryview size: 8000056 bytes\n"
     ]
    }
   ],
   "source": [
    "import array\n",
    "import sys\n",
    "\n",
    "# Use 'i' for signed 32-bit integers\n",
    "numbers = array.array('i', range(1_000_000))  # Now OK!\n",
    "\n",
    "memv = memoryview(numbers)\n",
    "\n",
    "list_from_array = list(numbers)\n",
    "list_from_memv = list(memv)\n",
    "\n",
    "print(f\"Array size: {sys.getsizeof(numbers)} bytes\")\n",
    "print(f\"Memoryview size: {sys.getsizeof(memv)} bytes\")\n",
    "print(f\"List from array size: {sys.getsizeof(list_from_array)} bytes\")\n",
    "print(f\"List from memoryview size: {sys.getsizeof(list_from_memv)} bytes\")\n"
   ]
  },
  {
   "cell_type": "code",
   "execution_count": null,
   "id": "8088d052",
   "metadata": {},
   "outputs": [],
   "source": []
  }
 ],
 "metadata": {
  "kernelspec": {
   "display_name": "env_train",
   "language": "python",
   "name": "python3"
  },
  "language_info": {
   "codemirror_mode": {
    "name": "ipython",
    "version": 3
   },
   "file_extension": ".py",
   "mimetype": "text/x-python",
   "name": "python",
   "nbconvert_exporter": "python",
   "pygments_lexer": "ipython3",
   "version": "3.13.0"
  }
 },
 "nbformat": 4,
 "nbformat_minor": 5
}

{
 "cells": [
  {
   "cell_type": "markdown",
   "id": "d8656bc3",
   "metadata": {},
   "source": [
    "# Chapter 5. Data Class Builders\n",
    "---"
   ]
  },
  {
   "cell_type": "markdown",
   "id": "c36de792",
   "metadata": {},
   "source": [
    "## ToC\n",
    "\n",
    "1. [Data Class as a Code Smell](#more-about-dataclass)  \n",
    "    1.1. [Data Class as Scaffolding](#data-class-as-scaffolding)  \n",
    "    1.2. [Data Class as Intermediate Representation](#data-class-as-intermediate-representation)  \n",
    "    1.3. [Pattern Matching Class Instances](#pattern-matching-class-instances)  \n",
    "2. [Pattern Matching Class Instances](#pattern-matching-class-instances)  \n",
    "    2.1. [Simple Class Patterns](#simple-class-patterns)  \n",
    "    2.2. [Keyword Class Patterns](#keyword-class-patterns)  \n",
    "    2.3. [Positional Class Patterns](#positional-class-patterns)\n",
    "\n",
    "---"
   ]
  },
  {
   "cell_type": "markdown",
   "id": "95088ef1",
   "metadata": {},
   "source": [
    "## Data Class as a Code Smell"
   ]
  },
  {
   "cell_type": "markdown",
   "id": "b8533254",
   "metadata": {},
   "source": [
    "Whether you implement a data class by writing all the code yourself or leveraging\n",
    "one of the class builders described in this chapter, be aware that it may signal a problem\n",
    "in your design.\n",
    "\n",
    "**Resources**\n",
    "\n",
    "[Martin Fowler Post (Must Read!)](https://martinfowler.com/bliki/CodeSmell.html)  \n",
    "[Refactoring Guru Website](https://refactoring.guru/refactoring/smells)\n",
    "\n",
    "\n",
    "In [Refactoring: Improving the Design of Existing Code, 2nd ed.](https://martinfowler.com/books/refactoring.html) (Addison-Wesley), Martin Fowler and Kent Beck present a catalog of “code smells”—patterns in code that may indicate the need for refactoring. The entry titled “Data Class” starts like\n",
    "this:\n",
    "> These are classes that have fields, getting and setting methods for fields, and nothing\n",
    "else. Such classes are dumb data holders and are often being manipulated in far too\n",
    "much detail by other classes."
   ]
  },
  {
   "cell_type": "markdown",
   "id": "a7f8ee09",
   "metadata": {},
   "source": [
    "The main idea of object-oriented programming is to place behavior and data together\n",
    "in the same code unit: a class. If a class is widely used but has no significant behavior\n",
    "of its own, it’s possible that code dealing with its instances is scattered (and even\n",
    "duplicated) in methods and functions throughout the system—a recipe for maintenance\n",
    "headaches. That’s why Fowler’s refactorings to deal with a data class involve\n",
    "bringing responsibilities back into it.\n",
    "\n",
    "Taking that into account, there are a couple of common scenarios where it makes\n",
    "sense to have a data class with little or no behavior."
   ]
  },
  {
   "cell_type": "markdown",
   "id": "e2662d72",
   "metadata": {},
   "source": [
    "### Data Class as Scaffolding"
   ]
  },
  {
   "cell_type": "markdown",
   "id": "1ab8d9fa",
   "metadata": {},
   "source": [
    "In this scenario, the data class is an initial, simplistic implementation of a class to\n",
    "jump-start a new project or module. With time, the class should get its own methods,\n",
    "instead of relying on methods of other classes to operate on its instances. Scaffolding\n",
    "is temporary; eventually your custom class may become fully independent from the\n",
    "builder you used to start it.\n",
    "\n",
    "Python is also used for quick problem solving and experimentation, and then it’s OK\n",
    "to leave the scaffolding in place"
   ]
  },
  {
   "cell_type": "markdown",
   "id": "a61497ff",
   "metadata": {},
   "source": [
    "### Data Class as Intermediate Representation"
   ]
  },
  {
   "cell_type": "markdown",
   "id": "eb84816c",
   "metadata": {},
   "source": [
    "Python’s data class builders all provide a method or function to convert\n",
    "an instance to a plain `dict`, and you can always invoke the constructor with a\n",
    "dict used as keyword arguments expanded with **. Such a `dict` is very close to a\n",
    "JSON record.\n",
    "\n",
    "In this scenario, the data class instances should be handled as immutable objects—\n",
    "even if the fields are mutable, you should not change them while they are in this\n",
    "intermediate form. If you do, you’re losing the key benefit of having data and behavior\n",
    "close together. When importing/exporting requires changing values, you should\n",
    "implement your own builder methods instead of using the given “as dict” methods or\n",
    "standard constructors."
   ]
  },
  {
   "cell_type": "markdown",
   "id": "0dd380e0",
   "metadata": {},
   "source": [
    "## Pattern Matching Class Instances"
   ]
  },
  {
   "cell_type": "markdown",
   "id": "fcad116f",
   "metadata": {},
   "source": [
    "Class patterns are designed to match class instances by type and—optionally—by\n",
    "attributes. There are three variations of class patterns: simple, keyword, and positional."
   ]
  },
  {
   "cell_type": "markdown",
   "id": "caf501e8",
   "metadata": {},
   "source": [
    "### Simple Class Patterns"
   ]
  },
  {
   "cell_type": "markdown",
   "id": "b3938992",
   "metadata": {},
   "source": [
    "Recall the example of simple class patterns used in notebook `Part_I/Chapter_02_ArrayOfSequences/02_UnpackingSeqsIterables_PatternMatching.ipynb`\n",
    "\n",
    "```python\n",
    "case [str(name), _, _, (float(lat), float(lon))]:\n",
    "```\n",
    "\n",
    "That pattern matches a four-item sequence where the first item must be an instance\n",
    "of `str`, and the last item must be a 2-tuple with two instances of `float`.\n",
    "\n",
    "The following is a class pattern that matches `float` values without binding a variable (the case body can\n",
    "refer to `x` directly if needed):\n",
    "\n",
    "```python\n",
    "match x:\n",
    "    case float():\n",
    "        do_something_with(x)\n",
    "```\n",
    "\n",
    "which is equivalent to following:\n",
    "\n",
    "```python\n",
    "if isinstance(x, float):\n",
    "    do_something_with(x)\n",
    "```\n",
    "\n",
    "But the following is likely to be a bug in your code:\n",
    "\n",
    "```python\n",
    "match x:\n",
    "    case float: # DANGER!!!\n",
    "            do_something_with(x)\n",
    "```\n",
    "\n",
    "In latter, `case float:` matches any subject, because Python sees\n",
    "`float` as a variable, which is then bound to the subject.\n",
    "\n",
    "The simple pattern syntax of `float(x)` is a special case that applies only to nine\n",
    "blessed built-in types, listed at the end of the [“Class Patterns” section of PEP 634—\n",
    "Structural Pattern Matching: Specification](https://peps.python.org/pep-0634/):\n",
    "\n",
    "`bytes` `dict` `float` `frozenset` `int` `list` `set` `str` `tuple`\n",
    "\n",
    "If the class is not one of those nine blessed built-ins, then the argument-like variables\n",
    "represent patterns to be matched against attributes of an instance of that class."
   ]
  },
  {
   "cell_type": "code",
   "execution_count": 2,
   "id": "a8f79fbe",
   "metadata": {},
   "outputs": [
    {
     "name": "stdout",
     "output_type": "stream",
     "text": [
      "3.14\n"
     ]
    }
   ],
   "source": [
    "match 3.14:\n",
    "    # bind the entire matched value\n",
    "    case float(x):\n",
    "        print(x)\n"
   ]
  },
  {
   "cell_type": "code",
   "execution_count": 6,
   "id": "6e3f8297",
   "metadata": {},
   "outputs": [
    {
     "name": "stdout",
     "output_type": "stream",
     "text": [
      "a 2\n"
     ]
    }
   ],
   "source": [
    "from dataclasses import dataclass\n",
    "@dataclass\n",
    "class Point:\n",
    "    x: int\n",
    "    y: int\n",
    "\n",
    "match Point('a', 2):\n",
    "    # matched against the attributes of the Point instance\n",
    "    case Point(x, y):\n",
    "        print(x, y)\n"
   ]
  },
  {
   "cell_type": "code",
   "execution_count": 10,
   "id": "aca7a571",
   "metadata": {},
   "outputs": [
    {
     "name": "stdout",
     "output_type": "stream",
     "text": [
      "=== check_point examples ===\n",
      "Matched: x=3, y=4\n",
      "No match\n",
      "No match\n",
      "No match\n",
      "No match\n",
      "\n",
      "=============== END OF CHECK ===============\n",
      "\n",
      "\n",
      "=== describe examples ===\n",
      "Diagonal point (x == y)\n",
      "Point in the first quadrant\n",
      "Point at x=-1, y=0\n",
      "Not a point\n"
     ]
    }
   ],
   "source": [
    "from dataclasses import dataclass\n",
    "\n",
    "@dataclass\n",
    "class Point:\n",
    "    x: int\n",
    "    y: int\n",
    "\n",
    "def check_point(p):\n",
    "    match p:\n",
    "        case Point(x, y) if isinstance(x, int) and isinstance(y, int) and x > 0 and y > 0:\n",
    "            print(f\"Matched: x={x}, y={y}\")\n",
    "        case _:\n",
    "            print(\"No match\")\n",
    "\n",
    "def describe(p):\n",
    "    match p:\n",
    "        case Point(x, y) if x == y:\n",
    "            print(\"Diagonal point (x == y)\")\n",
    "        case Point(x, y) if x > 0 and y > 0:\n",
    "            print(\"Point in the first quadrant\")\n",
    "        case Point(x, y):\n",
    "            print(f\"Point at x={x}, y={y}\")\n",
    "        case _:\n",
    "            print(\"Not a point\")\n",
    "            \n",
    "# --- Run test cases ---\n",
    "print(\"=== check_point examples ===\")\n",
    "check_point(Point(3, 4))       # Match\n",
    "check_point(Point(-1, 4))      # No match\n",
    "check_point(Point(0, 0))       # No match\n",
    "check_point(Point(\"x\", 2))     # No match\n",
    "check_point(\"not a point\")     # No match\n",
    "print(\"\\n\" + \"=\" * 15 + \" END OF CHECK \" + \"=\" * 15 + \"\\n\")\n",
    "\n",
    "\n",
    "print(\"\\n=== describe examples ===\")\n",
    "describe(Point(2, 2))          # Diagonal\n",
    "describe(Point(5, 3))          # First quadrant\n",
    "describe(Point(-1, 0))         # General point\n",
    "describe(\"not a point\")        # Not a Point instance\n",
    "\n"
   ]
  },
  {
   "cell_type": "markdown",
   "id": "ab972cc5",
   "metadata": {},
   "source": [
    "### Keyword Class Patterns"
   ]
  },
  {
   "cell_type": "code",
   "execution_count": null,
   "id": "853da0b7",
   "metadata": {},
   "outputs": [],
   "source": [
    "import typing\n",
    "\n",
    "class City(typing.NamedTuple):\n",
    "    continent: str\n",
    "    name: str\n",
    "    country: str\n",
    "        \n",
    "cities = [\n",
    "    City('Asia', 'Tokyo', 'JP'),\n",
    "    City('Asia', 'Delhi', 'IN'),\n",
    "    City('North America', 'Mexico City', 'MX'),\n",
    "    City('North America', 'New York', 'US'),\n",
    "    City('South America', 'São Paulo', 'BR')\n",
    "]"
   ]
  },
  {
   "cell_type": "code",
   "execution_count": 13,
   "id": "031314d3",
   "metadata": {},
   "outputs": [
    {
     "data": {
      "text/plain": [
       "[City(continent='Asia', name='Tokyo', country='JP'),\n",
       " City(continent='Asia', name='Delhi', country='IN')]"
      ]
     },
     "execution_count": 13,
     "metadata": {},
     "output_type": "execute_result"
    }
   ],
   "source": [
    "def match_asian_cities():\n",
    "    results = []\n",
    "    for city in cities:\n",
    "        match city:\n",
    "            case City(continent='Asia'):\n",
    "                results.append(city)\n",
    "    return results\n",
    "\n",
    "match_asian_cities()"
   ]
  },
  {
   "cell_type": "markdown",
   "id": "b01d99e7",
   "metadata": {},
   "source": [
    "If you want to collect the value of the `country` attribute, you could write:"
   ]
  },
  {
   "cell_type": "code",
   "execution_count": 16,
   "id": "0979d1d7",
   "metadata": {},
   "outputs": [
    {
     "data": {
      "text/plain": [
       "['JP', 'IN']"
      ]
     },
     "execution_count": 16,
     "metadata": {},
     "output_type": "execute_result"
    }
   ],
   "source": [
    "def match_asian_countries():\n",
    "    results = []\n",
    "    for city in cities:\n",
    "        match city:\n",
    "            case City(continent='Asia', country=cc):\n",
    "                results.append(cc)\n",
    "    return results\n",
    "\n",
    "match_asian_countries()"
   ]
  },
  {
   "cell_type": "markdown",
   "id": "059bfd20",
   "metadata": {},
   "source": [
    "now the `cc` variable is bound to the `country` attribute of the instance. This\n",
    "also works if the pattern variable is called `country` as well:\n",
    "\n",
    "```python\n",
    "match city:\n",
    "    case City(continent='Asia', country=country):\n",
    "        results.append(country)\n",
    "```"
   ]
  },
  {
   "cell_type": "markdown",
   "id": "02d225f3",
   "metadata": {},
   "source": [
    "Keyword class patterns are very readable, and work with any class that has public\n",
    "instance attributes, but they are somewhat verbose."
   ]
  },
  {
   "cell_type": "markdown",
   "id": "163ccda4",
   "metadata": {},
   "source": [
    "### Positional Class Patterns"
   ]
  },
  {
   "cell_type": "code",
   "execution_count": 18,
   "id": "4cca6428",
   "metadata": {},
   "outputs": [],
   "source": [
    "def match_asian_cities_pos():\n",
    "    results = []\n",
    "    for city in cities:\n",
    "        match city:\n",
    "            case City('Asia'):\n",
    "                results.append(city)\n",
    "    return results"
   ]
  },
  {
   "cell_type": "code",
   "execution_count": 19,
   "id": "28bf3f16",
   "metadata": {},
   "outputs": [
    {
     "data": {
      "text/plain": [
       "[City(continent='Asia', name='Tokyo', country='JP'),\n",
       " City(continent='Asia', name='Delhi', country='IN')]"
      ]
     },
     "execution_count": 19,
     "metadata": {},
     "output_type": "execute_result"
    }
   ],
   "source": [
    "match_asian_cities_pos()"
   ]
  },
  {
   "cell_type": "markdown",
   "id": "ab7826c1",
   "metadata": {},
   "source": [
    "The pattern `City('Asia')` matches any `City` instance where the **first** attribute value\n",
    "is `'Asia'`, regardless of the values of the other attributes.\n",
    "\n",
    "If you want to collect the value of the `country` attribute, you could write:"
   ]
  },
  {
   "cell_type": "code",
   "execution_count": 20,
   "id": "73785772",
   "metadata": {},
   "outputs": [
    {
     "data": {
      "text/plain": [
       "['JP', 'IN']"
      ]
     },
     "execution_count": 20,
     "metadata": {},
     "output_type": "execute_result"
    }
   ],
   "source": [
    "def match_asian_countries_pos():\n",
    "    results = []\n",
    "    for city in cities:\n",
    "        match city:\n",
    "            case City('Asia', _, country):\n",
    "                results.append(country)\n",
    "    return results\n",
    "\n",
    "match_asian_countries_pos()"
   ]
  },
  {
   "cell_type": "markdown",
   "id": "16f826d4",
   "metadata": {},
   "source": [
    "The pattern `City('Asia', _, country)` matches the same cities as before, but now\n",
    "the `country` variable is bound to the **third** attribute of the instance.\n",
    "\n",
    "What makes City or any class work with positional patterns is the presence of a special\n",
    "class attribute named `__match_args__`:"
   ]
  },
  {
   "cell_type": "code",
   "execution_count": 21,
   "id": "56100b73",
   "metadata": {},
   "outputs": [
    {
     "data": {
      "text/plain": [
       "('continent', 'name', 'country')"
      ]
     },
     "execution_count": 21,
     "metadata": {},
     "output_type": "execute_result"
    }
   ],
   "source": [
    "City.__match_args__"
   ]
  },
  {
   "cell_type": "markdown",
   "id": "b7cddb1c",
   "metadata": {},
   "source": [
    "`__match_args__` declares the names of the attributes in the order they\n",
    "will be used in positional patterns."
   ]
  },
  {
   "cell_type": "markdown",
   "id": "eefd2f83",
   "metadata": {},
   "source": [
    "![Figure 85](https://raw.githubusercontent.com/berserkhmdvhb/Training-Python/main/figures/Part_I/85.PNG)"
   ]
  }
 ],
 "metadata": {
  "kernelspec": {
   "display_name": "env_train",
   "language": "python",
   "name": "python3"
  },
  "language_info": {
   "codemirror_mode": {
    "name": "ipython",
    "version": 3
   },
   "file_extension": ".py",
   "mimetype": "text/x-python",
   "name": "python",
   "nbconvert_exporter": "python",
   "pygments_lexer": "ipython3",
   "version": "3.12.2"
  }
 },
 "nbformat": 4,
 "nbformat_minor": 5
}

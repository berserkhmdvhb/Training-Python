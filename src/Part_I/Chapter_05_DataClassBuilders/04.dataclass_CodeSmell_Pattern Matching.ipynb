{
 "cells": [
  {
   "cell_type": "markdown",
   "id": "d8656bc3",
   "metadata": {},
   "source": [
    "# Chapter 5. Data Class Builders\n",
    "---"
   ]
  },
  {
   "cell_type": "markdown",
   "id": "c36de792",
   "metadata": {},
   "source": [
    "## ToC\n",
    "\n",
    "1. [Data Class as a Code Smell](#more-about-dataclass)  \n",
    "    1.2. [Data Class as Scaffolding](#data-class-as-scaffolding)  \n",
    "    1.2. [Data Class as Intermediate Representation](#data-class-as-intermediate-representation)  \n",
    "    1.3. [Pattern Matching Class Instances](#pattern-matching-class-instances)  \n",
    "2. [Pattern Matching Class Instances](#pattern-matching-class-instances)  \n",
    "2.1. [Simple Class Patterns](#simple-class-patterns)\n",
    "---"
   ]
  },
  {
   "cell_type": "markdown",
   "id": "95088ef1",
   "metadata": {},
   "source": [
    "## Data Class as a Code Smell"
   ]
  },
  {
   "cell_type": "markdown",
   "id": "b8533254",
   "metadata": {},
   "source": [
    "Whether you implement a data class by writing all the code yourself or leveraging\n",
    "one of the class builders described in this chapter, be aware that it may signal a problem\n",
    "in your design.\n",
    "\n",
    "**Resources**\n",
    "\n",
    "[Martin Fowler Post (Must Read!)](https://martinfowler.com/bliki/CodeSmell.html)  \n",
    "[Refactoring Guru Website](https://refactoring.guru/refactoring/smells)\n",
    "\n",
    "\n",
    "In [Refactoring: Improving the Design of Existing Code, 2nd ed.](https://martinfowler.com/books/refactoring.html) (Addison-Wesley), Martin Fowler and Kent Beck present a catalog of “code smells”—patterns in code that may indicate the need for refactoring. The entry titled “Data Class” starts like\n",
    "this:\n",
    "> These are classes that have fields, getting and setting methods for fields, and nothing\n",
    "else. Such classes are dumb data holders and are often being manipulated in far too\n",
    "much detail by other classes."
   ]
  },
  {
   "cell_type": "markdown",
   "id": "a7f8ee09",
   "metadata": {},
   "source": [
    "The main idea of object-oriented programming is to place behavior and data together\n",
    "in the same code unit: a class. If a class is widely used but has no significant behavior\n",
    "of its own, it’s possible that code dealing with its instances is scattered (and even\n",
    "duplicated) in methods and functions throughout the system—a recipe for maintenance\n",
    "headaches. That’s why Fowler’s refactorings to deal with a data class involve\n",
    "bringing responsibilities back into it.\n",
    "\n",
    "Taking that into account, there are a couple of common scenarios where it makes\n",
    "sense to have a data class with little or no behavior."
   ]
  },
  {
   "cell_type": "markdown",
   "id": "e2662d72",
   "metadata": {},
   "source": [
    "### Data Class as Scaffolding"
   ]
  },
  {
   "cell_type": "markdown",
   "id": "1ab8d9fa",
   "metadata": {},
   "source": [
    "In this scenario, the data class is an initial, simplistic implementation of a class to\n",
    "jump-start a new project or module. With time, the class should get its own methods,\n",
    "instead of relying on methods of other classes to operate on its instances. Scaffolding\n",
    "is temporary; eventually your custom class may become fully independent from the\n",
    "builder you used to start it.\n",
    "\n",
    "Python is also used for quick problem solving and experimentation, and then it’s OK\n",
    "to leave the scaffolding in place"
   ]
  },
  {
   "cell_type": "markdown",
   "id": "a61497ff",
   "metadata": {},
   "source": [
    "### Data Class as Intermediate Representation"
   ]
  },
  {
   "cell_type": "markdown",
   "id": "eb84816c",
   "metadata": {},
   "source": [
    "Python’s data class builders all provide a method or function to convert\n",
    "an instance to a plain `dict`, and you can always invoke the constructor with a\n",
    "dict used as keyword arguments expanded with **. Such a `dict` is very close to a\n",
    "JSON record.\n",
    "\n",
    "In this scenario, the data class instances should be handled as immutable objects—\n",
    "even if the fields are mutable, you should not change them while they are in this\n",
    "intermediate form. If you do, you’re losing the key benefit of having data and behavior\n",
    "close together. When importing/exporting requires changing values, you should\n",
    "implement your own builder methods instead of using the given “as dict” methods or\n",
    "standard constructors."
   ]
  },
  {
   "cell_type": "markdown",
   "id": "0dd380e0",
   "metadata": {},
   "source": [
    "### Pattern Matching Class Instances"
   ]
  },
  {
   "cell_type": "markdown",
   "id": "fcad116f",
   "metadata": {},
   "source": [
    "Class patterns are designed to match class instances by type and—optionally—by\n",
    "attributes. There are three variations of class patterns: simple, keyword, and positional."
   ]
  },
  {
   "cell_type": "markdown",
   "id": "caf501e8",
   "metadata": {},
   "source": [
    "#### Simple Class Patterns"
   ]
  },
  {
   "cell_type": "markdown",
   "id": "b3938992",
   "metadata": {},
   "source": []
  }
 ],
 "metadata": {
  "language_info": {
   "name": "python"
  }
 },
 "nbformat": 4,
 "nbformat_minor": 5
}

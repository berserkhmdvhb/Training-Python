{
 "cells": [
  {
   "cell_type": "markdown",
   "id": "264629b1",
   "metadata": {},
   "source": [
    "# Chapter 5. Data Class Builders\n",
    "---"
   ]
  },
  {
   "cell_type": "markdown",
   "id": "b4f6bce7",
   "metadata": {},
   "source": [
    "## ToC\n",
    "\n",
    "[Objectives](#objectives)  \n",
    "\n",
    "1. [Overview of Data Class Builders](#overview-of-data-class-builders)  \n",
    "    1.1. [Main Features](#main-features)  \n",
    "2. [Classic Named Tuples](#classic-named-tuples)  \n",
    "3. [Typed Named Tuples](#typed-named-tuples)\n",
    "\n",
    "---"
   ]
  },
  {
   "cell_type": "markdown",
   "id": "56bf50ff",
   "metadata": {},
   "source": [
    "## Objectives"
   ]
  },
  {
   "cell_type": "markdown",
   "id": "c0a930e2",
   "metadata": {},
   "source": [
    "Python offers a few ways to build a simple class that is just a collection of fields, with little or no extra functionality. That pattern is known as a “data class”—and `data classes` is one of the packages that supports this pattern. This chapter covers three\n",
    "different class builders that you may use as shortcuts to write data classes:\n",
    "\n",
    "- `collections.namedtuple`:\n",
    "The simplest way—available since Python 2.6.\n",
    "\n",
    "- `typing.NamedTuple`:\n",
    "An alternative that requires type hints on the fields—since Python 3.5, with\n",
    "`class` syntax added in 3.6.\n",
    "\n",
    "- `@dataclasses.dataclass`\n",
    "A class decorator that allows more customization than previous alternatives, adding lots of options and potential complexity—since Python 3.7.\n",
    "\n",
    "After covering those class builders, we will discuss why Data Class is also the name of a *code smell*: a coding pattern that may be a symptom of poor object-oriented design."
   ]
  },
  {
   "cell_type": "markdown",
   "id": "ba65c194",
   "metadata": {},
   "source": [
    "![Figure 71](https://raw.githubusercontent.com/berserkhmdvhb/Training-Python/main/figures/Part_I/71.PNG)"
   ]
  },
  {
   "cell_type": "markdown",
   "id": "f1cb5494",
   "metadata": {},
   "source": [
    "## Overview of Data Class Builders"
   ]
  },
  {
   "cell_type": "markdown",
   "id": "ea0370d6",
   "metadata": {},
   "source": [
    "Consider a simple class to represent a geographic coordinate pair,"
   ]
  },
  {
   "cell_type": "markdown",
   "id": "bafcd3e3",
   "metadata": {},
   "source": [
    "### Simple Class"
   ]
  },
  {
   "cell_type": "code",
   "execution_count": 1,
   "id": "31ad4429",
   "metadata": {},
   "outputs": [],
   "source": [
    "\"\"\"\n",
    "``Coordinate``: a simple class with a custom ``__str__``::\n",
    "\n",
    "    >>> moscow = Coordinate(55.756, 37.617)\n",
    "    >>> print(moscow)  # doctest:+ELLIPSIS\n",
    "    <coordinates.Coordinate object at 0x...>\n",
    "\"\"\"\n",
    "\n",
    "# tag::COORDINATE[]\n",
    "class Coordinate:\n",
    "\n",
    "    def __init__(self, lat, lon):\n",
    "        self.lat = lat\n",
    "        self.lon = lon\n",
    "\n",
    "# end::COORDINATE[]"
   ]
  },
  {
   "cell_type": "code",
   "execution_count": 2,
   "id": "17a2d6c0",
   "metadata": {},
   "outputs": [
    {
     "data": {
      "text/plain": [
       "<__main__.Coordinate at 0x15adae27e00>"
      ]
     },
     "execution_count": 2,
     "metadata": {},
     "output_type": "execute_result"
    }
   ],
   "source": [
    "# __repr__ inherited from object is not very helpful\n",
    "moscow = Coordinate(55.76, 37.62)\n",
    "moscow"
   ]
  },
  {
   "cell_type": "code",
   "execution_count": 3,
   "id": "a8eae305",
   "metadata": {},
   "outputs": [
    {
     "data": {
      "text/plain": [
       "False"
      ]
     },
     "execution_count": 3,
     "metadata": {},
     "output_type": "execute_result"
    }
   ],
   "source": [
    "location = Coordinate(55.76, 37.62)\n",
    "# Meaningless '=='. The __eq__ method inherited from object compares object IDs\n",
    "location == moscow"
   ]
  },
  {
   "cell_type": "code",
   "execution_count": 4,
   "id": "7ac4b751",
   "metadata": {},
   "outputs": [
    {
     "data": {
      "text/plain": [
       "True"
      ]
     },
     "execution_count": 4,
     "metadata": {},
     "output_type": "execute_result"
    }
   ],
   "source": [
    "# Comparing two coordinates requires explicit comparison of each attribute.\n",
    "(location.lat, location.lon) == (moscow.lat, moscow.lon)"
   ]
  },
  {
   "cell_type": "markdown",
   "id": "5574d1e9",
   "metadata": {},
   "source": [
    "![Figure 72](https://raw.githubusercontent.com/berserkhmdvhb/Training-Python/main/figures/Part_I/72.PNG)"
   ]
  },
  {
   "cell_type": "markdown",
   "id": "402adffa",
   "metadata": {},
   "source": [
    "### `collections.namedtuple`"
   ]
  },
  {
   "cell_type": "markdown",
   "id": "3fffa3f0",
   "metadata": {},
   "source": [
    "`namedtuple`: a factory function that builds a subclass of tuple with the name and fields you specify:"
   ]
  },
  {
   "cell_type": "code",
   "execution_count": 5,
   "id": "26e48b7a",
   "metadata": {},
   "outputs": [
    {
     "data": {
      "text/plain": [
       "True"
      ]
     },
     "execution_count": 5,
     "metadata": {},
     "output_type": "execute_result"
    }
   ],
   "source": [
    "from collections import namedtuple\n",
    "Coordinate = namedtuple('Coordinate', 'lat lon')\n",
    "issubclass(Coordinate, tuple)"
   ]
  },
  {
   "cell_type": "code",
   "execution_count": 6,
   "id": "9b01cc41",
   "metadata": {},
   "outputs": [
    {
     "data": {
      "text/plain": [
       "Coordinate(lat=55.756, lon=37.617)"
      ]
     },
     "execution_count": 6,
     "metadata": {},
     "output_type": "execute_result"
    }
   ],
   "source": [
    "moscow = Coordinate(55.756, 37.617)\n",
    "moscow"
   ]
  },
  {
   "cell_type": "code",
   "execution_count": 7,
   "id": "2734e895",
   "metadata": {},
   "outputs": [
    {
     "data": {
      "text/plain": [
       "Coordinate(lat=55.756, lon=37.617)"
      ]
     },
     "execution_count": 7,
     "metadata": {},
     "output_type": "execute_result"
    }
   ],
   "source": [
    "moscow = Coordinate(55.756, 37.617)\n",
    "moscow"
   ]
  },
  {
   "cell_type": "code",
   "execution_count": 8,
   "id": "279c1442",
   "metadata": {},
   "outputs": [
    {
     "data": {
      "text/plain": [
       "True"
      ]
     },
     "execution_count": 8,
     "metadata": {},
     "output_type": "execute_result"
    }
   ],
   "source": [
    "moscow == Coordinate(lat=55.756, lon=37.617)"
   ]
  },
  {
   "cell_type": "markdown",
   "id": "3726114c",
   "metadata": {},
   "source": [
    "### `typing.NamedTuple`"
   ]
  },
  {
   "cell_type": "markdown",
   "id": "c74f627b",
   "metadata": {},
   "source": [
    "The newer `typing.NamedTuple` provides the same functionality, adding a type annotation\n",
    "to each field."
   ]
  },
  {
   "cell_type": "code",
   "execution_count": 12,
   "id": "6da79965",
   "metadata": {},
   "outputs": [
    {
     "data": {
      "text/plain": [
       "True"
      ]
     },
     "execution_count": 12,
     "metadata": {},
     "output_type": "execute_result"
    }
   ],
   "source": [
    "import typing\n",
    "Coordinate = typing.NamedTuple(\"Coordinate\", [(\"lat\", float), (\"lon\", float)])\n",
    "issubclass(Coordinate, tuple)"
   ]
  },
  {
   "cell_type": "code",
   "execution_count": 13,
   "id": "7e47c3e2",
   "metadata": {},
   "outputs": [
    {
     "data": {
      "text/plain": [
       "{'lat': float, 'lon': float}"
      ]
     },
     "execution_count": 13,
     "metadata": {},
     "output_type": "execute_result"
    }
   ],
   "source": [
    "typing.get_type_hints(Coordinate)"
   ]
  },
  {
   "cell_type": "markdown",
   "id": "6e6eafb0",
   "metadata": {},
   "source": [
    "![Figure 73](https://raw.githubusercontent.com/berserkhmdvhb/Training-Python/main/figures/Part_I/73.PNG)"
   ]
  },
  {
   "cell_type": "markdown",
   "id": "ce531d6a",
   "metadata": {},
   "source": [
    "`typing.NamedTuple` can also be used in a class statement"
   ]
  },
  {
   "cell_type": "code",
   "execution_count": 4,
   "id": "2859782d",
   "metadata": {},
   "outputs": [],
   "source": [
    "from typing import NamedTuple\n",
    "class Coordinate(NamedTuple):\n",
    "    lat: float\n",
    "    lon: float\n",
    "    def __str__(self):\n",
    "        ns = 'N' if self.lat >= 0 else 'S'\n",
    "        we = 'E' if self.lon >= 0 else 'W'\n",
    "        return f'{abs(self.lat):.1f}°{ns}, {abs(self.lon):.1f}°{we}'"
   ]
  },
  {
   "cell_type": "code",
   "execution_count": 5,
   "id": "e92aecbc",
   "metadata": {},
   "outputs": [
    {
     "data": {
      "text/plain": [
       "55.756"
      ]
     },
     "execution_count": 5,
     "metadata": {},
     "output_type": "execute_result"
    }
   ],
   "source": [
    "nt = Coordinate(55.756, 37.617)\n",
    "nt.lat"
   ]
  },
  {
   "cell_type": "code",
   "execution_count": 6,
   "id": "7893afb1",
   "metadata": {},
   "outputs": [
    {
     "name": "stdout",
     "output_type": "stream",
     "text": [
      "55.8°N, 37.6°E\n"
     ]
    }
   ],
   "source": [
    "print(nt)"
   ]
  },
  {
   "cell_type": "markdown",
   "id": "67f51dac",
   "metadata": {},
   "source": [
    "![Figure 74](https://raw.githubusercontent.com/berserkhmdvhb/Training-Python/main/figures/Part_I/74.PNG)"
   ]
  },
  {
   "cell_type": "markdown",
   "id": "8c06f073",
   "metadata": {},
   "source": [
    "### `dataclass`"
   ]
  },
  {
   "cell_type": "code",
   "execution_count": 7,
   "id": "d5c40afe",
   "metadata": {},
   "outputs": [],
   "source": [
    "from dataclasses import dataclass\n",
    "@dataclass(frozen=True)\n",
    "class Coordinate:\n",
    "    lat: float\n",
    "    lon: float\n",
    "    def __str__(self):\n",
    "        ns = 'N' if self.lat >= 0 else 'S'\n",
    "        we = 'E' if self.lon >= 0 else 'W'\n",
    "        return f'{abs(self.lat):.1f}°{ns}, {abs(self.lon):.1f}°{we}'"
   ]
  },
  {
   "cell_type": "markdown",
   "id": "0cc91277",
   "metadata": {},
   "source": [
    "The `@dataclass` decorator does not depend on inheritance or a metaclass, so it should not interfere with your own use of these mechanisms. In previous example, the `Coordinate` class is a subclass of `object`."
   ]
  },
  {
   "cell_type": "markdown",
   "id": "b19053b0",
   "metadata": {},
   "source": [
    "### Main Features"
   ]
  },
  {
   "cell_type": "markdown",
   "id": "7b1003f1",
   "metadata": {},
   "source": [
    "The different data class builders have a lot in common, as summarized in following table:"
   ]
  },
  {
   "cell_type": "markdown",
   "id": "54bc9c9a",
   "metadata": {},
   "source": [
    "![Figure 75](https://raw.githubusercontent.com/berserkhmdvhb/Training-Python/main/figures/Part_I/75.PNG)"
   ]
  },
  {
   "cell_type": "markdown",
   "id": "decfa1b4",
   "metadata": {},
   "source": [
    "![Figure 76](https://raw.githubusercontent.com/berserkhmdvhb/Training-Python/main/figures/Part_I/76.PNG)"
   ]
  },
  {
   "cell_type": "markdown",
   "id": "8554019f",
   "metadata": {},
   "source": [
    "## Classic Named Tuples"
   ]
  },
  {
   "cell_type": "markdown",
   "id": "74677a61",
   "metadata": {},
   "source": [
    "The `collections.namedtuple` function is a factory that builds subclasses of tuple enhanced with field names, a class name, and an informative `__repr__`. Python standard library that are used to return tuples now return named tuples for convenience, without affecting the user’s code at all"
   ]
  },
  {
   "cell_type": "markdown",
   "id": "b43a258d",
   "metadata": {},
   "source": [
    "![Figure 77](https://raw.githubusercontent.com/berserkhmdvhb/Training-Python/main/figures/Part_I/77.PNG)"
   ]
  },
  {
   "cell_type": "markdown",
   "id": "bd25d993",
   "metadata": {},
   "source": [
    "**Example:** Defining and using a named tuple type"
   ]
  },
  {
   "cell_type": "code",
   "execution_count": 12,
   "id": "b1949557",
   "metadata": {},
   "outputs": [
    {
     "data": {
      "text/plain": [
       "City(name='Tokyo', country='JP', population=36.933, coordinates=(35.689722, 139.691667))"
      ]
     },
     "execution_count": 12,
     "metadata": {},
     "output_type": "execute_result"
    }
   ],
   "source": [
    "from collections import namedtuple\n",
    "City = namedtuple('City', 'name country population coordinates')\n",
    "# Field values must be passed as separate positional arguments to the constructor \n",
    "# (in contrast, the tuple constructor takes a single iterable).\n",
    "tokyo = City('Tokyo', 'JP', 36.933, (35.689722, 139.691667))\n",
    "tokyo"
   ]
  },
  {
   "cell_type": "code",
   "execution_count": 13,
   "id": "74a2be5f",
   "metadata": {},
   "outputs": [
    {
     "data": {
      "text/plain": [
       "36.933"
      ]
     },
     "execution_count": 13,
     "metadata": {},
     "output_type": "execute_result"
    }
   ],
   "source": [
    "tokyo.population"
   ]
  },
  {
   "cell_type": "code",
   "execution_count": 14,
   "id": "c68295b0",
   "metadata": {},
   "outputs": [
    {
     "data": {
      "text/plain": [
       "(35.689722, 139.691667)"
      ]
     },
     "execution_count": 14,
     "metadata": {},
     "output_type": "execute_result"
    }
   ],
   "source": [
    "tokyo.coordinates"
   ]
  },
  {
   "cell_type": "code",
   "execution_count": 15,
   "id": "4afdf561",
   "metadata": {},
   "outputs": [
    {
     "data": {
      "text/plain": [
       "'JP'"
      ]
     },
     "execution_count": 15,
     "metadata": {},
     "output_type": "execute_result"
    }
   ],
   "source": [
    "tokyo[1]"
   ]
  },
  {
   "cell_type": "markdown",
   "id": "0fead1fb",
   "metadata": {},
   "source": [
    "**Example:** Named tuple attributes and methods"
   ]
  },
  {
   "cell_type": "code",
   "execution_count": 16,
   "id": "a9970d2d",
   "metadata": {},
   "outputs": [
    {
     "data": {
      "text/plain": [
       "('name', 'country', 'population', 'coordinates')"
      ]
     },
     "execution_count": 16,
     "metadata": {},
     "output_type": "execute_result"
    }
   ],
   "source": [
    "City._fields"
   ]
  },
  {
   "cell_type": "markdown",
   "id": "a61b768d",
   "metadata": {},
   "source": [
    "`._make()` builds City from an iterable; `City(*delhi_data)` would do the same."
   ]
  },
  {
   "cell_type": "code",
   "execution_count": 25,
   "id": "dfd72309",
   "metadata": {},
   "outputs": [
    {
     "data": {
      "text/plain": [
       "City(name='Delhi NCR', country='IN', population=21.935, coordinates=Coordinate(lat=28.613889, lon=77.208889))"
      ]
     },
     "execution_count": 25,
     "metadata": {},
     "output_type": "execute_result"
    }
   ],
   "source": [
    "Coordinate = namedtuple('Coordinate', 'lat lon')\n",
    "delhi_data = ('Delhi NCR', 'IN', 21.935, Coordinate(28.613889, 77.208889))\n",
    "delhi = City._make(delhi_data)\n",
    "delhi"
   ]
  },
  {
   "cell_type": "code",
   "execution_count": 26,
   "id": "dbd83460",
   "metadata": {},
   "outputs": [
    {
     "data": {
      "text/plain": [
       "{'name': 'Delhi NCR',\n",
       " 'country': 'IN',\n",
       " 'population': 21.935,\n",
       " 'coordinates': Coordinate(lat=28.613889, lon=77.208889)}"
      ]
     },
     "execution_count": 26,
     "metadata": {},
     "output_type": "execute_result"
    }
   ],
   "source": [
    "delhi._asdict()"
   ]
  },
  {
   "cell_type": "code",
   "execution_count": 27,
   "id": "20d842d4",
   "metadata": {},
   "outputs": [
    {
     "data": {
      "text/plain": [
       "'{\"name\": \"Delhi NCR\", \"country\": \"IN\", \"population\": 21.935, \"coordinates\": [28.613889, 77.208889]}'"
      ]
     },
     "execution_count": 27,
     "metadata": {},
     "output_type": "execute_result"
    }
   ],
   "source": [
    "# serialize the data in JSON format\n",
    "import json\n",
    "json.dumps(delhi._asdict())"
   ]
  },
  {
   "cell_type": "markdown",
   "id": "4916b5d5",
   "metadata": {},
   "source": [
    "![Figure 78](https://raw.githubusercontent.com/berserkhmdvhb/Training-Python/main/figures/Part_I/78.PNG)"
   ]
  },
  {
   "cell_type": "markdown",
   "id": "a5ad33c7",
   "metadata": {},
   "source": [
    "`namedtuple` accepts the `defaults` keyword-only argument providing an iterable of N default values for each of the N *rightmost* fields of the class"
   ]
  },
  {
   "cell_type": "markdown",
   "id": "0aabc799",
   "metadata": {},
   "source": [
    "**Example:** Named tuple attributes and methods"
   ]
  },
  {
   "cell_type": "code",
   "execution_count": 32,
   "id": "0850fa90",
   "metadata": {},
   "outputs": [
    {
     "data": {
      "text/plain": [
       "Coordinate(lat=0, lon=0, reference='WGS84')"
      ]
     },
     "execution_count": 32,
     "metadata": {},
     "output_type": "execute_result"
    }
   ],
   "source": [
    "Coordinate = namedtuple('Coordinate', 'lat lon reference', defaults=[0, 0, 'WGS84'])\n",
    "Coordinate()"
   ]
  },
  {
   "cell_type": "code",
   "execution_count": 37,
   "id": "e5f31c93",
   "metadata": {},
   "outputs": [
    {
     "data": {
      "text/plain": [
       "Coordinate(lat=1, lon=0, reference='WGS84')"
      ]
     },
     "execution_count": 37,
     "metadata": {},
     "output_type": "execute_result"
    }
   ],
   "source": [
    "Coordinate = namedtuple('Coordinate', 'lat lon reference', defaults=[0 ,'WGS84'])\n",
    "Coordinate(1)"
   ]
  },
  {
   "cell_type": "code",
   "execution_count": 29,
   "id": "0b1889f9",
   "metadata": {},
   "outputs": [
    {
     "data": {
      "text/plain": [
       "{'reference': 'WGS84'}"
      ]
     },
     "execution_count": 29,
     "metadata": {},
     "output_type": "execute_result"
    }
   ],
   "source": [
    "Coordinate._field_defaults"
   ]
  },
  {
   "cell_type": "markdown",
   "id": "49bf72a1",
   "metadata": {},
   "source": [
    "it’s easier to code methods with the class syntax supported by `typing.NamedTuple` and `@dataclass`. You can also add methods to a namedtuple, but it’s a hack (Pg171)"
   ]
  },
  {
   "cell_type": "markdown",
   "id": "c08b69b3",
   "metadata": {},
   "source": [
    "## Typed Named Tuples"
   ]
  },
  {
   "cell_type": "code",
   "execution_count": 7,
   "id": "3d245d20",
   "metadata": {},
   "outputs": [
    {
     "data": {
      "text/plain": [
       "Coordinate(lat=0, lon=0, reference='WGS84')"
      ]
     },
     "execution_count": 7,
     "metadata": {},
     "output_type": "execute_result"
    }
   ],
   "source": [
    "from typing import NamedTuple\n",
    "from typing import get_type_hints\n",
    "from inspect import get_annotations\n",
    "class Coordinate(NamedTuple):\n",
    "    lat: float = 0\n",
    "    lon: float = 0\n",
    "    reference: str = 'WGS84'\n",
    "\n",
    "c = Coordinate()    \n",
    "c"
   ]
  },
  {
   "cell_type": "code",
   "execution_count": 11,
   "id": "71e42736",
   "metadata": {},
   "outputs": [
    {
     "data": {
      "text/plain": [
       "{'lat': float, 'lon': float, 'reference': str}"
      ]
     },
     "execution_count": 11,
     "metadata": {},
     "output_type": "execute_result"
    }
   ],
   "source": [
    "get_type_hints(Coordinate)"
   ]
  },
  {
   "cell_type": "code",
   "execution_count": 12,
   "id": "fac640d3",
   "metadata": {},
   "outputs": [
    {
     "data": {
      "text/plain": [
       "{'lat': float, 'lon': float, 'reference': str}"
      ]
     },
     "execution_count": 12,
     "metadata": {},
     "output_type": "execute_result"
    }
   ],
   "source": [
    "get_type_hints(c)"
   ]
  },
  {
   "cell_type": "code",
   "execution_count": 14,
   "id": "b195f272",
   "metadata": {},
   "outputs": [
    {
     "ename": "TypeError",
     "evalue": "Coordinate(lat=0, lon=0, reference='WGS84') is not a module, class, or callable.",
     "output_type": "error",
     "traceback": [
      "\u001b[31m---------------------------------------------------------------------------\u001b[39m",
      "\u001b[31mTypeError\u001b[39m                                 Traceback (most recent call last)",
      "\u001b[36mCell\u001b[39m\u001b[36m \u001b[39m\u001b[32mIn[14]\u001b[39m\u001b[32m, line 1\u001b[39m\n\u001b[32m----> \u001b[39m\u001b[32m1\u001b[39m \u001b[43mget_annotations\u001b[49m\u001b[43m(\u001b[49m\u001b[43mc\u001b[49m\u001b[43m)\u001b[49m\n",
      "\u001b[36mFile \u001b[39m\u001b[32m~\\AppData\\Local\\Programs\\Python\\Python313\\Lib\\inspect.py:254\u001b[39m, in \u001b[36mget_annotations\u001b[39m\u001b[34m(obj, globals, locals, eval_str)\u001b[39m\n\u001b[32m    252\u001b[39m     unwrap = obj\n\u001b[32m    253\u001b[39m \u001b[38;5;28;01melse\u001b[39;00m:\n\u001b[32m--> \u001b[39m\u001b[32m254\u001b[39m     \u001b[38;5;28;01mraise\u001b[39;00m \u001b[38;5;167;01mTypeError\u001b[39;00m(\u001b[33mf\u001b[39m\u001b[33m\"\u001b[39m\u001b[38;5;132;01m{\u001b[39;00mobj\u001b[38;5;132;01m!r}\u001b[39;00m\u001b[33m is not a module, class, or callable.\u001b[39m\u001b[33m\"\u001b[39m)\n\u001b[32m    256\u001b[39m \u001b[38;5;28;01mif\u001b[39;00m ann \u001b[38;5;129;01mis\u001b[39;00m \u001b[38;5;28;01mNone\u001b[39;00m:\n\u001b[32m    257\u001b[39m     \u001b[38;5;28;01mreturn\u001b[39;00m {}\n",
      "\u001b[31mTypeError\u001b[39m: Coordinate(lat=0, lon=0, reference='WGS84') is not a module, class, or callable."
     ]
    }
   ],
   "source": [
    "get_annotations(c)"
   ]
  },
  {
   "cell_type": "code",
   "execution_count": 13,
   "id": "86dbb26a",
   "metadata": {},
   "outputs": [
    {
     "data": {
      "text/plain": [
       "{'lat': float, 'lon': float, 'reference': str}"
      ]
     },
     "execution_count": 13,
     "metadata": {},
     "output_type": "execute_result"
    }
   ],
   "source": [
    "get_annotations(Coordinate)"
   ]
  },
  {
   "cell_type": "markdown",
   "id": "7cc2abf3",
   "metadata": {},
   "source": [
    "`inspect.get_annotations` is more strict than `typing.get_type_hints`, as shown in example above, it only works on following objects:\n",
    "- Modules\n",
    "- Classes\n",
    "- Callables (functions/methods)"
   ]
  }
 ],
 "metadata": {
  "kernelspec": {
   "display_name": "env_train",
   "language": "python",
   "name": "python3"
  },
  "language_info": {
   "codemirror_mode": {
    "name": "ipython",
    "version": 3
   },
   "file_extension": ".py",
   "mimetype": "text/x-python",
   "name": "python",
   "nbconvert_exporter": "python",
   "pygments_lexer": "ipython3",
   "version": "3.13.0"
  }
 },
 "nbformat": 4,
 "nbformat_minor": 5
}

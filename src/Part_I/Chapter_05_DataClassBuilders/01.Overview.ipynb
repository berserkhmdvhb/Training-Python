{
 "cells": [
  {
   "cell_type": "markdown",
   "id": "264629b1",
   "metadata": {},
   "source": [
    "# Chapter 5. Data Class Builders\n",
    "---"
   ]
  },
  {
   "cell_type": "markdown",
   "id": "b4f6bce7",
   "metadata": {},
   "source": [
    "## ToC\n",
    "\n",
    "[Objectives](#objectives)  \n",
    "\n",
    "1. [Overview](#overview)\n",
    "\n",
    "---"
   ]
  },
  {
   "cell_type": "markdown",
   "id": "56bf50ff",
   "metadata": {},
   "source": [
    "## Objectives"
   ]
  },
  {
   "cell_type": "markdown",
   "id": "c0a930e2",
   "metadata": {},
   "source": [
    "Python offers a few ways to build a simple class that is just a collection of fields, with little or no extra functionality. That pattern is known as a “data class”—and `data classes` is one of the packages that supports this pattern. This chapter covers three\n",
    "different class builders that you may use as shortcuts to write data classes:\n",
    "\n",
    "- `collections.namedtuple`:\n",
    "The simplest way—available since Python 2.6.\n",
    "\n",
    "- `typing.NamedTuple`:\n",
    "An alternative that requires type hints on the fields—since Python 3.5, with\n",
    "`class` syntax added in 3.6.\n",
    "\n",
    "- `@dataclasses.dataclass`\n",
    "A class decorator that allows more customization than previous alternatives, adding lots of options and potential complexity—since Python 3.7.\n",
    "\n",
    "After covering those class builders, we will discuss why Data Class is also the name of a *code smell*: a coding pattern that may be a symptom of poor object-oriented design."
   ]
  },
  {
   "cell_type": "markdown",
   "id": "ba65c194",
   "metadata": {},
   "source": [
    "![Figure 71](https://raw.githubusercontent.com/berserkhmdvhb/Training-Python/main/figures/Part_I/71.PNG)"
   ]
  },
  {
   "cell_type": "markdown",
   "id": "ea0370d6",
   "metadata": {},
   "source": [
    "Consider a simple class to represent a geographic coordinate pair,"
   ]
  },
  {
   "cell_type": "code",
   "execution_count": 1,
   "id": "31ad4429",
   "metadata": {},
   "outputs": [],
   "source": [
    "\"\"\"\n",
    "``Coordinate``: a simple class with a custom ``__str__``::\n",
    "\n",
    "    >>> moscow = Coordinate(55.756, 37.617)\n",
    "    >>> print(moscow)  # doctest:+ELLIPSIS\n",
    "    <coordinates.Coordinate object at 0x...>\n",
    "\"\"\"\n",
    "\n",
    "# tag::COORDINATE[]\n",
    "class Coordinate:\n",
    "\n",
    "    def __init__(self, lat, lon):\n",
    "        self.lat = lat\n",
    "        self.lon = lon\n",
    "\n",
    "# end::COORDINATE[]"
   ]
  },
  {
   "cell_type": "code",
   "execution_count": null,
   "id": "17a2d6c0",
   "metadata": {},
   "outputs": [],
   "source": []
  }
 ],
 "metadata": {
  "kernelspec": {
   "display_name": "env_train",
   "language": "python",
   "name": "python3"
  },
  "language_info": {
   "codemirror_mode": {
    "name": "ipython",
    "version": 3
   },
   "file_extension": ".py",
   "mimetype": "text/x-python",
   "name": "python",
   "nbconvert_exporter": "python",
   "pygments_lexer": "ipython3",
   "version": "3.13.0"
  }
 },
 "nbformat": 4,
 "nbformat_minor": 5
}

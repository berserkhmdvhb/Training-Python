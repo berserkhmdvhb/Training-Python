{
 "cells": [
  {
   "cell_type": "markdown",
   "id": "6709aec2",
   "metadata": {},
   "source": [
    "# Chapter 5. Data Class Builders\n",
    "---"
   ]
  },
  {
   "cell_type": "markdown",
   "id": "dec9b7ba",
   "metadata": {},
   "source": [
    "## ToC\n",
    "\n",
    "[Objectives](#objectives)  \n",
    "\n",
    "1. [Type Hints 101](#type-hints-101)  \n",
    "    1.1 [No Runtime Effect](#no-runtime-effect)  \n",
    "    1.2.[Variable Annotation Syntax](#variable-annotation-syntax)\n",
    "---"
   ]
  },
  {
   "cell_type": "markdown",
   "id": "b71328f8",
   "metadata": {},
   "source": [
    "## Type Hints 101"
   ]
  },
  {
   "cell_type": "markdown",
   "id": "498f7295",
   "metadata": {},
   "source": [
    "Type hints—a.k.a. type annotations—are ways to declare the expected type of function\n",
    "arguments, return values, variables, and attributes.\n",
    "\n",
    "The first thing you need to know about type hints is that they are not enforced at all\n",
    "by the Python bytecode compiler and interpreter."
   ]
  },
  {
   "cell_type": "markdown",
   "id": "f63b74dd",
   "metadata": {},
   "source": [
    "![Figure 79](https://raw.githubusercontent.com/berserkhmdvhb/Training-Python/main/figures/Part_I/79.PNG)"
   ]
  },
  {
   "cell_type": "markdown",
   "id": "ecb0189c",
   "metadata": {},
   "source": [
    "### No Runtime Effect"
   ]
  },
  {
   "cell_type": "markdown",
   "id": "6f97b2a9",
   "metadata": {},
   "source": [
    "Think about Python type hints as “documentation that can be verified by IDEs and type checkers.”"
   ]
  },
  {
   "cell_type": "code",
   "execution_count": null,
   "id": "f386c38e",
   "metadata": {},
   "outputs": [],
   "source": [
    "import typing\n",
    "class Coordinate(typing.NamedTuple):\n",
    "    lat: float\n",
    "    lon: float"
   ]
  },
  {
   "cell_type": "code",
   "execution_count": 4,
   "id": "61e35cf8",
   "metadata": {},
   "outputs": [
    {
     "data": {
      "text/plain": [
       "Coordinate(lat='Ni!', lon=None)"
      ]
     },
     "execution_count": 4,
     "metadata": {},
     "output_type": "execute_result"
    }
   ],
   "source": [
    "trash = Coordinate('Ni!', None)\n",
    "trash"
   ]
  },
  {
   "cell_type": "code",
   "execution_count": 5,
   "id": "4739a059",
   "metadata": {},
   "outputs": [
    {
     "data": {
      "text/plain": [
       "Coordinate(lat='Ni!', lon=None)"
      ]
     },
     "execution_count": 5,
     "metadata": {},
     "output_type": "execute_result"
    }
   ],
   "source": [
    "Coordinate(lat='Ni!', lon=None)"
   ]
  },
  {
   "cell_type": "markdown",
   "id": "d1bf1e22",
   "metadata": {},
   "source": [
    "The type hints are intended primarily to support third-party type checkers, like [Mypy](https://fpy.li/mypy)\n",
    "or the [PyCharm IDE](https://www.jetbrains.com/pycharm/) built-in type checker."
   ]
  },
  {
   "cell_type": "code",
   "execution_count": 6,
   "id": "e298754e",
   "metadata": {},
   "outputs": [
    {
     "name": "stdout",
     "output_type": "stream",
     "text": [
      "c:\\Users\\HamedVAHEB\\Documents\\Training\\Python\\FluentPython\\repo\\Training-Python\\src\\Part_I\\Chapter_05_DataClassBuilders\n",
      "['nocheck_demo.py']\n"
     ]
    }
   ],
   "source": [
    "import os\n",
    "print(os.getcwd())  # show current working directory\n",
    "print(os.listdir(\"./materials\"))  # list files in materials directory\n"
   ]
  },
  {
   "cell_type": "code",
   "execution_count": 8,
   "id": "ff66542e",
   "metadata": {},
   "outputs": [
    {
     "name": "stdout",
     "output_type": "stream",
     "text": [
      "materials\\nocheck_demo.py:5: \u001b[1m\u001b[91merror:\u001b[0m Argument 1 to \u001b[0m\u001b[1m\"Coordinate\"\u001b[0m has incompatible type \u001b[0m\u001b[1m\"str\"\u001b[0m; expected \u001b[0m\u001b[1m\"float\"\u001b[0m  \u001b[0m\u001b[93m[arg-type]\u001b[0m\n",
      "materials\\nocheck_demo.py:5: \u001b[1m\u001b[91merror:\u001b[0m Argument 2 to \u001b[0m\u001b[1m\"Coordinate\"\u001b[0m has incompatible type \u001b[0m\u001b[1m\"None\"\u001b[0m; expected \u001b[0m\u001b[1m\"float\"\u001b[0m  \u001b[0m\u001b[93m[arg-type]\u001b[0m\n",
      "\u001b[1m\u001b[91mFound 2 errors in 1 file (checked 1 source file)\u001b[0m\n"
     ]
    }
   ],
   "source": [
    "!mypy ./materials/nocheck_demo.py"
   ]
  },
  {
   "cell_type": "markdown",
   "id": "1321df62",
   "metadata": {},
   "source": [
    "### Variable Annotation Syntax"
   ]
  },
  {
   "cell_type": "markdown",
   "id": "ad3e9103",
   "metadata": {},
   "source": [
    "Both typing.NamedTuple and @dataclass use the syntax of variable annotations\n",
    "defined in [PEP 526](https://peps.python.org/pep-0526/)"
   ]
  },
  {
   "cell_type": "code",
   "execution_count": null,
   "id": "d877640e",
   "metadata": {},
   "outputs": [],
   "source": []
  },
  {
   "cell_type": "markdown",
   "id": "1268a297",
   "metadata": {},
   "source": []
  }
 ],
 "metadata": {
  "kernelspec": {
   "display_name": "env_train",
   "language": "python",
   "name": "python3"
  },
  "language_info": {
   "codemirror_mode": {
    "name": "ipython",
    "version": 3
   },
   "file_extension": ".py",
   "mimetype": "text/x-python",
   "name": "python",
   "nbconvert_exporter": "python",
   "pygments_lexer": "ipython3",
   "version": "3.13.0"
  }
 },
 "nbformat": 4,
 "nbformat_minor": 5
}

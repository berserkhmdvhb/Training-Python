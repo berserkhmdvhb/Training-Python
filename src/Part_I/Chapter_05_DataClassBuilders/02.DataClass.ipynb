{
 "cells": [
  {
   "cell_type": "markdown",
   "id": "6709aec2",
   "metadata": {},
   "source": [
    "# Chapter 5. Data Class Builders\n",
    "---"
   ]
  },
  {
   "cell_type": "markdown",
   "id": "dec9b7ba",
   "metadata": {},
   "source": [
    "## ToC\n",
    "\n",
    "[Objectives](#objectives)  \n",
    "\n",
    "1. [Type Hints 101](#type-hints-101)  \n",
    "    1.1 [No Runtime Effect](#no-runtime-effect)  \n",
    "    1.2. [Syntax and Meaning ofVariable Annotation](#syntax-and-meaning-of-variable-annotation)  \n",
    "        1.2.1. [A Plain Class with Type Hints](#a-plain-class-with-type-hints)  \n",
    "        1.2.2. [Inspecting a typing.NamedTuple](#inspecting-a-typingnamedtuple)  \n",
    "        1.2.3. [Inspecting a class decorated with dataclass](#inspecting-a-class-decorated-with-dataclass)\n",
    "        \n",
    "---"
   ]
  },
  {
   "cell_type": "markdown",
   "id": "b71328f8",
   "metadata": {},
   "source": [
    "## Type Hints 101"
   ]
  },
  {
   "cell_type": "markdown",
   "id": "498f7295",
   "metadata": {},
   "source": [
    "Type hints—a.k.a. type annotations—are ways to declare the expected type of function\n",
    "arguments, return values, variables, and attributes.\n",
    "\n",
    "The first thing you need to know about type hints is that they are not enforced at all\n",
    "by the Python bytecode compiler and interpreter."
   ]
  },
  {
   "cell_type": "markdown",
   "id": "f63b74dd",
   "metadata": {},
   "source": [
    "![Figure 79](https://raw.githubusercontent.com/berserkhmdvhb/Training-Python/main/figures/Part_I/79.PNG)"
   ]
  },
  {
   "cell_type": "markdown",
   "id": "ecb0189c",
   "metadata": {},
   "source": [
    "### No Runtime Effect"
   ]
  },
  {
   "cell_type": "markdown",
   "id": "6f97b2a9",
   "metadata": {},
   "source": [
    "Think about Python type hints as “documentation that can be verified by IDEs and type checkers.”"
   ]
  },
  {
   "cell_type": "code",
   "execution_count": null,
   "id": "f386c38e",
   "metadata": {},
   "outputs": [],
   "source": [
    "import typing\n",
    "class Coordinate(typing.NamedTuple):\n",
    "    lat: float\n",
    "    lon: float"
   ]
  },
  {
   "cell_type": "code",
   "execution_count": 4,
   "id": "61e35cf8",
   "metadata": {},
   "outputs": [
    {
     "data": {
      "text/plain": [
       "Coordinate(lat='Ni!', lon=None)"
      ]
     },
     "execution_count": 4,
     "metadata": {},
     "output_type": "execute_result"
    }
   ],
   "source": [
    "trash = Coordinate('Ni!', None)\n",
    "trash"
   ]
  },
  {
   "cell_type": "code",
   "execution_count": 5,
   "id": "4739a059",
   "metadata": {},
   "outputs": [
    {
     "data": {
      "text/plain": [
       "Coordinate(lat='Ni!', lon=None)"
      ]
     },
     "execution_count": 5,
     "metadata": {},
     "output_type": "execute_result"
    }
   ],
   "source": [
    "Coordinate(lat='Ni!', lon=None)"
   ]
  },
  {
   "cell_type": "markdown",
   "id": "d1bf1e22",
   "metadata": {},
   "source": [
    "The type hints are intended primarily to support third-party type checkers, like [Mypy](https://fpy.li/mypy)\n",
    "or the [PyCharm IDE](https://www.jetbrains.com/pycharm/) built-in type checker."
   ]
  },
  {
   "cell_type": "code",
   "execution_count": 6,
   "id": "e298754e",
   "metadata": {},
   "outputs": [
    {
     "name": "stdout",
     "output_type": "stream",
     "text": [
      "c:\\Users\\HamedVAHEB\\Documents\\Training\\Python\\FluentPython\\repo\\Training-Python\\src\\Part_I\\Chapter_05_DataClassBuilders\n",
      "['nocheck_demo.py']\n"
     ]
    }
   ],
   "source": [
    "import os\n",
    "print(os.getcwd())  # show current working directory\n",
    "print(os.listdir(\"./materials\"))  # list files in materials directory\n"
   ]
  },
  {
   "cell_type": "code",
   "execution_count": 8,
   "id": "ff66542e",
   "metadata": {},
   "outputs": [
    {
     "name": "stdout",
     "output_type": "stream",
     "text": [
      "materials\\nocheck_demo.py:5: \u001b[1m\u001b[91merror:\u001b[0m Argument 1 to \u001b[0m\u001b[1m\"Coordinate\"\u001b[0m has incompatible type \u001b[0m\u001b[1m\"str\"\u001b[0m; expected \u001b[0m\u001b[1m\"float\"\u001b[0m  \u001b[0m\u001b[93m[arg-type]\u001b[0m\n",
      "materials\\nocheck_demo.py:5: \u001b[1m\u001b[91merror:\u001b[0m Argument 2 to \u001b[0m\u001b[1m\"Coordinate\"\u001b[0m has incompatible type \u001b[0m\u001b[1m\"None\"\u001b[0m; expected \u001b[0m\u001b[1m\"float\"\u001b[0m  \u001b[0m\u001b[93m[arg-type]\u001b[0m\n",
      "\u001b[1m\u001b[91mFound 2 errors in 1 file (checked 1 source file)\u001b[0m\n"
     ]
    }
   ],
   "source": [
    "!mypy ./materials/nocheck_demo.py"
   ]
  },
  {
   "cell_type": "markdown",
   "id": "1321df62",
   "metadata": {},
   "source": [
    "### Syntax and Meaning of Variable Annotation"
   ]
  },
  {
   "cell_type": "markdown",
   "id": "ad3e9103",
   "metadata": {},
   "source": [
    "Both `typing.NamedTuple` and `@dataclass` use the syntax of variable annotations\n",
    "defined in [PEP 526](https://peps.python.org/pep-0526/).\n",
    "The basic syntax of variable annotation is:  \n",
    "\n",
    "`var_name: some_type`\n",
    "\n",
    "\n",
    "[“Acceptable type hints” section in PEP 484](https://peps.python.org/pep-0484/#acceptable-type-hints):\n",
    "- A concrete class, for example, `str` or `FrenchDeck`\n",
    "- A parameterized collection type, like `list[int]`, `tuple[str, float]`, etc.\n",
    "- `typing.Optional`, for example, `Optional[str]`—to declare a field that can be a `str` or `None`. In Python 3.10+, you can instead write this as `str | None`\n"
   ]
  },
  {
   "cell_type": "markdown",
   "id": "a68e0945",
   "metadata": {},
   "source": [
    "##### A plain class with type hints"
   ]
  },
  {
   "cell_type": "code",
   "execution_count": 38,
   "id": "d877640e",
   "metadata": {},
   "outputs": [
    {
     "data": {
      "text/plain": [
       "{'a': int, 'b': float}"
      ]
     },
     "execution_count": 38,
     "metadata": {},
     "output_type": "execute_result"
    }
   ],
   "source": [
    "class DemoPlainClass:\n",
    "    a: int\n",
    "    b: float = 1.1\n",
    "    c = 'spam'\n",
    "\n",
    "DemoPlainClass.__annotations__"
   ]
  },
  {
   "cell_type": "code",
   "execution_count": 39,
   "id": "d3a398b2",
   "metadata": {},
   "outputs": [
    {
     "ename": "AttributeError",
     "evalue": "type object 'DemoPlainClass' has no attribute 'a'",
     "output_type": "error",
     "traceback": [
      "\u001b[31m---------------------------------------------------------------------------\u001b[39m",
      "\u001b[31mAttributeError\u001b[39m                            Traceback (most recent call last)",
      "\u001b[36mCell\u001b[39m\u001b[36m \u001b[39m\u001b[32mIn[39]\u001b[39m\u001b[32m, line 1\u001b[39m\n\u001b[32m----> \u001b[39m\u001b[32m1\u001b[39m \u001b[43mDemoPlainClass\u001b[49m\u001b[43m.\u001b[49m\u001b[43ma\u001b[49m\n",
      "\u001b[31mAttributeError\u001b[39m: type object 'DemoPlainClass' has no attribute 'a'"
     ]
    }
   ],
   "source": [
    "DemoPlainClass.a"
   ]
  },
  {
   "cell_type": "code",
   "execution_count": 40,
   "id": "fde6d47e",
   "metadata": {},
   "outputs": [
    {
     "data": {
      "text/plain": [
       "1.1"
      ]
     },
     "execution_count": 40,
     "metadata": {},
     "output_type": "execute_result"
    }
   ],
   "source": [
    "DemoPlainClass.b"
   ]
  },
  {
   "cell_type": "code",
   "execution_count": 41,
   "id": "2a5000ab",
   "metadata": {},
   "outputs": [
    {
     "data": {
      "text/plain": [
       "'spam'"
      ]
     },
     "execution_count": 41,
     "metadata": {},
     "output_type": "execute_result"
    }
   ],
   "source": [
    "DemoPlainClass.c"
   ]
  },
  {
   "cell_type": "code",
   "execution_count": 42,
   "id": "1d0734a6",
   "metadata": {},
   "outputs": [
    {
     "data": {
      "text/plain": [
       "<__main__.DemoPlainClass at 0x26ad15a6660>"
      ]
     },
     "execution_count": 42,
     "metadata": {},
     "output_type": "execute_result"
    }
   ],
   "source": [
    "o = DemoPlainClass()\n",
    "o"
   ]
  },
  {
   "cell_type": "code",
   "execution_count": 43,
   "id": "e03e7ece",
   "metadata": {},
   "outputs": [
    {
     "ename": "AttributeError",
     "evalue": "'DemoPlainClass' object has no attribute 'a'",
     "output_type": "error",
     "traceback": [
      "\u001b[31m---------------------------------------------------------------------------\u001b[39m",
      "\u001b[31mAttributeError\u001b[39m                            Traceback (most recent call last)",
      "\u001b[36mCell\u001b[39m\u001b[36m \u001b[39m\u001b[32mIn[43]\u001b[39m\u001b[32m, line 1\u001b[39m\n\u001b[32m----> \u001b[39m\u001b[32m1\u001b[39m \u001b[43mo\u001b[49m\u001b[43m.\u001b[49m\u001b[43ma\u001b[49m\n",
      "\u001b[31mAttributeError\u001b[39m: 'DemoPlainClass' object has no attribute 'a'"
     ]
    }
   ],
   "source": [
    "o.a"
   ]
  },
  {
   "cell_type": "code",
   "execution_count": 44,
   "id": "ebcc1ffe",
   "metadata": {},
   "outputs": [
    {
     "data": {
      "text/plain": [
       "1.1"
      ]
     },
     "execution_count": 44,
     "metadata": {},
     "output_type": "execute_result"
    }
   ],
   "source": [
    "o.b"
   ]
  },
  {
   "cell_type": "code",
   "execution_count": 45,
   "id": "0133468f",
   "metadata": {},
   "outputs": [
    {
     "data": {
      "text/plain": [
       "'spam'"
      ]
     },
     "execution_count": 45,
     "metadata": {},
     "output_type": "execute_result"
    }
   ],
   "source": [
    "o.c"
   ]
  },
  {
   "cell_type": "code",
   "execution_count": 46,
   "id": "2bdb6feb",
   "metadata": {},
   "outputs": [],
   "source": [
    "o.a = 1"
   ]
  },
  {
   "cell_type": "code",
   "execution_count": 47,
   "id": "73a74776",
   "metadata": {},
   "outputs": [],
   "source": [
    "o.b = 2"
   ]
  },
  {
   "cell_type": "code",
   "execution_count": 48,
   "id": "fa9732fa",
   "metadata": {},
   "outputs": [],
   "source": [
    "o.c = 'no-spam'"
   ]
  },
  {
   "cell_type": "code",
   "execution_count": 50,
   "id": "88b0000d",
   "metadata": {},
   "outputs": [
    {
     "name": "stdout",
     "output_type": "stream",
     "text": [
      "1\n",
      "2\n",
      "no-spam\n"
     ]
    }
   ],
   "source": [
    "print(o.a)\n",
    "print(o.b)\n",
    "print(o.c)"
   ]
  },
  {
   "cell_type": "markdown",
   "id": "afb36621",
   "metadata": {},
   "source": [
    "- `a` becomes an entry in `__annotations__`, but is otherwise discarded: no attribute named `a` is created in the class.\n",
    "- `b` is saved as an annotation, and also becomes a class attribute with value 1.1.\n",
    "- `c` is just a plain old class attribute, not an annotation.\n",
    "\n",
    "The `a` survives only as an annotation. It doesn’t become a class attribute because no\n",
    "value is bound to it. The `b` and `c` are stored as class attributes because they are bound\n",
    "to values."
   ]
  },
  {
   "cell_type": "markdown",
   "id": "497f6d9c",
   "metadata": {},
   "source": [
    "#### Inspecting a typing.NamedTuple"
   ]
  },
  {
   "cell_type": "code",
   "execution_count": 59,
   "id": "b21566b9",
   "metadata": {},
   "outputs": [
    {
     "data": {
      "text/plain": [
       "{'a': int, 'b': float}"
      ]
     },
     "execution_count": 59,
     "metadata": {},
     "output_type": "execute_result"
    }
   ],
   "source": [
    "from typing import NamedTuple\n",
    "class DemoNTClass(NamedTuple):\n",
    "    a: int\n",
    "    b: float = 1.1\n",
    "    c = 'spam'\n",
    "\n",
    "DemoPlainClass.__annotations__"
   ]
  },
  {
   "cell_type": "code",
   "execution_count": 60,
   "id": "8b659aa7",
   "metadata": {},
   "outputs": [
    {
     "data": {
      "text/plain": [
       "_tuplegetter(0, 'Alias for field number 0')"
      ]
     },
     "execution_count": 60,
     "metadata": {},
     "output_type": "execute_result"
    }
   ],
   "source": [
    "DemoNTClass.a"
   ]
  },
  {
   "cell_type": "code",
   "execution_count": 61,
   "id": "1e327788",
   "metadata": {},
   "outputs": [
    {
     "data": {
      "text/plain": [
       "_tuplegetter(1, 'Alias for field number 1')"
      ]
     },
     "execution_count": 61,
     "metadata": {},
     "output_type": "execute_result"
    }
   ],
   "source": [
    "DemoNTClass.b"
   ]
  },
  {
   "cell_type": "code",
   "execution_count": 62,
   "id": "2785c5d0",
   "metadata": {},
   "outputs": [
    {
     "data": {
      "text/plain": [
       "'spam'"
      ]
     },
     "execution_count": 62,
     "metadata": {},
     "output_type": "execute_result"
    }
   ],
   "source": [
    "DemoNTClass.c"
   ]
  },
  {
   "cell_type": "markdown",
   "id": "52185c22",
   "metadata": {},
   "source": [
    "- `a` becomes an annotation and also an instance attribute.\n",
    "- `b` is another annotation, and also becomes an instance attribute with default value 1.1.\n",
    "- `c` is just a plain old class attribute; no annotation will refer to it.\n",
    "\n",
    "`typing.NamedTuple` creates `a` and `b` class attributes. The `c` attribute is just a plain class attribute with the value 'spam'.\n",
    "In here, The `a` and `b` class attributes are *descriptors*—property getters: methods that don’t\n",
    "require the explicit call `operator ()` to retrieve an instance attribute. In practice, this means a and b will work as read-only instance attributes—which makes sense when we recall that `DemoNTClass` instances are just fancy tuples, and tuples are immutable."
   ]
  },
  {
   "cell_type": "code",
   "execution_count": 63,
   "id": "3b3db7c8",
   "metadata": {},
   "outputs": [
    {
     "data": {
      "text/plain": [
       "'DemoNTClass(a, b)'"
      ]
     },
     "execution_count": 63,
     "metadata": {},
     "output_type": "execute_result"
    }
   ],
   "source": [
    "DemoNTClass.__doc__"
   ]
  },
  {
   "cell_type": "code",
   "execution_count": 64,
   "id": "125f8b84",
   "metadata": {},
   "outputs": [
    {
     "data": {
      "text/plain": [
       "DemoNTClass(a=8, b=1.1)"
      ]
     },
     "execution_count": 64,
     "metadata": {},
     "output_type": "execute_result"
    }
   ],
   "source": [
    "nt = DemoNTClass(8)\n",
    "nt"
   ]
  },
  {
   "cell_type": "code",
   "execution_count": 65,
   "id": "f3c6b271",
   "metadata": {},
   "outputs": [
    {
     "data": {
      "text/plain": [
       "8"
      ]
     },
     "execution_count": 65,
     "metadata": {},
     "output_type": "execute_result"
    }
   ],
   "source": [
    "nt.a"
   ]
  },
  {
   "cell_type": "code",
   "execution_count": 66,
   "id": "5fc991de",
   "metadata": {},
   "outputs": [
    {
     "data": {
      "text/plain": [
       "1.1"
      ]
     },
     "execution_count": 66,
     "metadata": {},
     "output_type": "execute_result"
    }
   ],
   "source": [
    "nt.b"
   ]
  },
  {
   "cell_type": "code",
   "execution_count": 67,
   "id": "bff27227",
   "metadata": {},
   "outputs": [
    {
     "data": {
      "text/plain": [
       "'spam'"
      ]
     },
     "execution_count": 67,
     "metadata": {},
     "output_type": "execute_result"
    }
   ],
   "source": [
    "nt.c"
   ]
  },
  {
   "cell_type": "code",
   "execution_count": 68,
   "id": "dbad1a34",
   "metadata": {},
   "outputs": [
    {
     "ename": "AttributeError",
     "evalue": "can't set attribute",
     "output_type": "error",
     "traceback": [
      "\u001b[31m---------------------------------------------------------------------------\u001b[39m",
      "\u001b[31mAttributeError\u001b[39m                            Traceback (most recent call last)",
      "\u001b[36mCell\u001b[39m\u001b[36m \u001b[39m\u001b[32mIn[68]\u001b[39m\u001b[32m, line 1\u001b[39m\n\u001b[32m----> \u001b[39m\u001b[32m1\u001b[39m \u001b[43mnt\u001b[49m\u001b[43m.\u001b[49m\u001b[43ma\u001b[49m = \u001b[32m1\u001b[39m\n",
      "\u001b[31mAttributeError\u001b[39m: can't set attribute"
     ]
    }
   ],
   "source": [
    "nt.a = 1"
   ]
  },
  {
   "cell_type": "code",
   "execution_count": 69,
   "id": "10a656f6",
   "metadata": {},
   "outputs": [
    {
     "ename": "AttributeError",
     "evalue": "can't set attribute",
     "output_type": "error",
     "traceback": [
      "\u001b[31m---------------------------------------------------------------------------\u001b[39m",
      "\u001b[31mAttributeError\u001b[39m                            Traceback (most recent call last)",
      "\u001b[36mCell\u001b[39m\u001b[36m \u001b[39m\u001b[32mIn[69]\u001b[39m\u001b[32m, line 1\u001b[39m\n\u001b[32m----> \u001b[39m\u001b[32m1\u001b[39m \u001b[43mnt\u001b[49m\u001b[43m.\u001b[49m\u001b[43mb\u001b[49m = \u001b[32m2\u001b[39m\n",
      "\u001b[31mAttributeError\u001b[39m: can't set attribute"
     ]
    }
   ],
   "source": [
    "nt.b = 2"
   ]
  },
  {
   "cell_type": "code",
   "execution_count": 70,
   "id": "3c71748f",
   "metadata": {},
   "outputs": [
    {
     "ename": "AttributeError",
     "evalue": "'DemoNTClass' object attribute 'c' is read-only",
     "output_type": "error",
     "traceback": [
      "\u001b[31m---------------------------------------------------------------------------\u001b[39m",
      "\u001b[31mAttributeError\u001b[39m                            Traceback (most recent call last)",
      "\u001b[36mCell\u001b[39m\u001b[36m \u001b[39m\u001b[32mIn[70]\u001b[39m\u001b[32m, line 1\u001b[39m\n\u001b[32m----> \u001b[39m\u001b[32m1\u001b[39m \u001b[43mnt\u001b[49m\u001b[43m.\u001b[49m\u001b[43mc\u001b[49m = \u001b[33m\"\u001b[39m\u001b[33mno-spam\u001b[39m\u001b[33m\"\u001b[39m\n",
      "\u001b[31mAttributeError\u001b[39m: 'DemoNTClass' object attribute 'c' is read-only"
     ]
    }
   ],
   "source": [
    "nt.c = \"no-spam\""
   ]
  },
  {
   "cell_type": "markdown",
   "id": "eeff7626",
   "metadata": {},
   "source": [
    "#### Inspecting a class decorated with dataclass"
   ]
  },
  {
   "cell_type": "code",
   "execution_count": 80,
   "id": "c2af4760",
   "metadata": {},
   "outputs": [],
   "source": [
    "from dataclasses import dataclass\n",
    "@dataclass\n",
    "class DemoDataClass:\n",
    "    a: int\n",
    "    b: float = 1.1\n",
    "    c = 'spam'"
   ]
  },
  {
   "cell_type": "code",
   "execution_count": 81,
   "id": "3c17a447",
   "metadata": {},
   "outputs": [
    {
     "data": {
      "text/plain": [
       "{'a': int, 'b': float}"
      ]
     },
     "execution_count": 81,
     "metadata": {},
     "output_type": "execute_result"
    }
   ],
   "source": [
    "DemoDataClass.__annotations__"
   ]
  },
  {
   "cell_type": "code",
   "execution_count": 82,
   "id": "1167a93e",
   "metadata": {},
   "outputs": [
    {
     "data": {
      "text/plain": [
       "'DemoDataClass(a: int, b: float = 1.1)'"
      ]
     },
     "execution_count": 82,
     "metadata": {},
     "output_type": "execute_result"
    }
   ],
   "source": [
    "DemoDataClass.__doc__"
   ]
  },
  {
   "cell_type": "code",
   "execution_count": 83,
   "id": "d3b6ba7f",
   "metadata": {},
   "outputs": [
    {
     "ename": "AttributeError",
     "evalue": "type object 'DemoDataClass' has no attribute 'a'",
     "output_type": "error",
     "traceback": [
      "\u001b[31m---------------------------------------------------------------------------\u001b[39m",
      "\u001b[31mAttributeError\u001b[39m                            Traceback (most recent call last)",
      "\u001b[36mCell\u001b[39m\u001b[36m \u001b[39m\u001b[32mIn[83]\u001b[39m\u001b[32m, line 1\u001b[39m\n\u001b[32m----> \u001b[39m\u001b[32m1\u001b[39m \u001b[43mDemoDataClass\u001b[49m\u001b[43m.\u001b[49m\u001b[43ma\u001b[49m\n",
      "\u001b[31mAttributeError\u001b[39m: type object 'DemoDataClass' has no attribute 'a'"
     ]
    }
   ],
   "source": [
    "DemoDataClass.a"
   ]
  },
  {
   "cell_type": "code",
   "execution_count": 84,
   "id": "336291b6",
   "metadata": {},
   "outputs": [
    {
     "data": {
      "text/plain": [
       "1.1"
      ]
     },
     "execution_count": 84,
     "metadata": {},
     "output_type": "execute_result"
    }
   ],
   "source": [
    "DemoDataClass.b"
   ]
  },
  {
   "cell_type": "code",
   "execution_count": 85,
   "id": "1fa1e8f0",
   "metadata": {},
   "outputs": [
    {
     "data": {
      "text/plain": [
       "'spam'"
      ]
     },
     "execution_count": 85,
     "metadata": {},
     "output_type": "execute_result"
    }
   ],
   "source": [
    "DemoDataClass.c"
   ]
  },
  {
   "cell_type": "markdown",
   "id": "be5c9619",
   "metadata": {},
   "source": [
    "- `a` becomes an annotation and also an instance attribute controlled by a descriptor.\n",
    "- `b` is another annotation, and also becomes an instance attribute with a descriptor and a default value 1.1.\n",
    "- `c` is just a plain old class attribute; no annotation will refer to it.\n",
    "\n",
    "There is no attribute named `a` in DemoDataClass—in contrast with [`DemoNTClass`](#inspecting-a-typingnamedtuple).\n",
    "That's because `a` attribute will only exist in instances of `DemoDataClass`. It will be a public attribute that we can get and set, unless the class is frozen. [so here `a` is not a descriptor like previous case of named tuple]"
   ]
  },
  {
   "cell_type": "code",
   "execution_count": 86,
   "id": "4b2d5ba4",
   "metadata": {},
   "outputs": [
    {
     "data": {
      "text/plain": [
       "9"
      ]
     },
     "execution_count": 86,
     "metadata": {},
     "output_type": "execute_result"
    }
   ],
   "source": [
    "dc = DemoDataClass(9)\n",
    "dc.a"
   ]
  },
  {
   "cell_type": "code",
   "execution_count": 87,
   "id": "76a9a152",
   "metadata": {},
   "outputs": [
    {
     "data": {
      "text/plain": [
       "1.1"
      ]
     },
     "execution_count": 87,
     "metadata": {},
     "output_type": "execute_result"
    }
   ],
   "source": [
    "dc.b"
   ]
  },
  {
   "cell_type": "code",
   "execution_count": 88,
   "id": "3a40c365",
   "metadata": {},
   "outputs": [
    {
     "data": {
      "text/plain": [
       "'spam'"
      ]
     },
     "execution_count": 88,
     "metadata": {},
     "output_type": "execute_result"
    }
   ],
   "source": [
    "dc.c"
   ]
  },
  {
   "cell_type": "markdown",
   "id": "3c339b89",
   "metadata": {},
   "source": [
    "As mentioned, `DemoDataClass` instances are mutable—and no type checking is done at runtime:"
   ]
  },
  {
   "cell_type": "code",
   "execution_count": 89,
   "id": "b1fad023",
   "metadata": {},
   "outputs": [],
   "source": [
    "dc.a = 10\n",
    "dc.b = 'oops'\n",
    "dc.c = 'whatever'\n",
    "dc.z = 'secret stash'"
   ]
  },
  {
   "cell_type": "markdown",
   "id": "05297e0e",
   "metadata": {},
   "source": [
    "Now the `dc` instance has a `c` attribute—but that does not change the `c` class attribute.\n",
    "And we can add a new `z` attribute. This is normal Python behavior: regular instances\n",
    "can have their own attributes that don’t appear in the class."
   ]
  },
  {
   "cell_type": "code",
   "execution_count": 90,
   "id": "02bd564f",
   "metadata": {},
   "outputs": [
    {
     "data": {
      "text/plain": [
       "'whatever'"
      ]
     },
     "execution_count": 90,
     "metadata": {},
     "output_type": "execute_result"
    }
   ],
   "source": [
    "dc.c"
   ]
  },
  {
   "cell_type": "code",
   "execution_count": 91,
   "id": "310dc6df",
   "metadata": {},
   "outputs": [
    {
     "data": {
      "text/plain": [
       "'spam'"
      ]
     },
     "execution_count": 91,
     "metadata": {},
     "output_type": "execute_result"
    }
   ],
   "source": [
    "DemoDataClass.c"
   ]
  },
  {
   "cell_type": "markdown",
   "id": "0b6dc76e",
   "metadata": {},
   "source": [
    "When you access an attribute on an object like `dc.c`, Python searches:\n",
    "\n",
    "1. In the instance's `__dict__` (e.g., `dc.__dict__`)\n",
    "\n",
    "2. If not found, in the class (e.g., `DemoDataClass.__dict__`)\n",
    "\n",
    "3. Then, in base classes, etc.\n",
    "\n",
    "Doing `dc.c = 'whatever'` creates a new attribute in the instance's `__dict__` "
   ]
  }
 ],
 "metadata": {
  "kernelspec": {
   "display_name": "env_train",
   "language": "python",
   "name": "python3"
  },
  "language_info": {
   "codemirror_mode": {
    "name": "ipython",
    "version": 3
   },
   "file_extension": ".py",
   "mimetype": "text/x-python",
   "name": "python",
   "nbconvert_exporter": "python",
   "pygments_lexer": "ipython3",
   "version": "3.13.0"
  }
 },
 "nbformat": 4,
 "nbformat_minor": 5
}

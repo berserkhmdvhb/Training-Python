{
 "cells": [
  {
   "cell_type": "markdown",
   "id": "318436dd",
   "metadata": {},
   "source": [
    "# Chapter 5. Data Class Builders\n",
    "---"
   ]
  },
  {
   "cell_type": "markdown",
   "id": "c0add409",
   "metadata": {},
   "source": [
    "## ToC\n",
    "\n",
    "[More About @dataclass](#more-about-dataclass)\n",
    "        \n",
    "---"
   ]
  },
  {
   "cell_type": "markdown",
   "id": "bb740e49",
   "metadata": {},
   "source": [
    "## More About @dataclass"
   ]
  },
  {
   "cell_type": "markdown",
   "id": "bfa836c6",
   "metadata": {},
   "source": [
    "he decorator accepts several keyword arguments. This is its signature:\n",
    "\n",
    "```python\n",
    "@dataclass(*, init=True, repr=True, eq=True, order=False,\n",
    "              unsafe_hash=False, frozen=False)\n",
    "```\n"
   ]
  },
  {
   "cell_type": "markdown",
   "id": "b22159ec",
   "metadata": {},
   "source": [
    "![Figure 80](https://raw.githubusercontent.com/berserkhmdvhb/Training-Python/main/figures/Part_I/80.PNG)"
   ]
  },
  {
   "cell_type": "markdown",
   "id": "004d791a",
   "metadata": {},
   "source": []
  }
 ],
 "metadata": {
  "language_info": {
   "name": "python"
  }
 },
 "nbformat": 4,
 "nbformat_minor": 5
}

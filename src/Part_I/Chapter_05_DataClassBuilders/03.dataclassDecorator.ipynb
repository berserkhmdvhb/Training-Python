{
 "cells": [
  {
   "cell_type": "markdown",
   "id": "318436dd",
   "metadata": {},
   "source": [
    "# Chapter 5. Data Class Builders\n",
    "---"
   ]
  },
  {
   "cell_type": "markdown",
   "id": "c0add409",
   "metadata": {},
   "source": [
    "## ToC\n",
    "\n",
    "[More About @dataclass](#more-about-dataclass)\n",
    "\n",
    "1. [Field Options](#field-options)  \n",
    "2. [Post-init Processing](#post-init-processing)\n",
    "        \n",
    "---"
   ]
  },
  {
   "cell_type": "markdown",
   "id": "bb740e49",
   "metadata": {},
   "source": [
    "## More About @dataclass"
   ]
  },
  {
   "cell_type": "markdown",
   "id": "bfa836c6",
   "metadata": {},
   "source": [
    "he decorator accepts several keyword arguments. This is its signature:\n",
    "\n",
    "```python\n",
    "@dataclass(*, init=True, repr=True, eq=True, order=False,\n",
    "              unsafe_hash=False, frozen=False)\n",
    "```\n"
   ]
  },
  {
   "cell_type": "markdown",
   "id": "b22159ec",
   "metadata": {},
   "source": [
    "![Figure 80](https://raw.githubusercontent.com/berserkhmdvhb/Training-Python/main/figures/Part_I/80.PNG)"
   ]
  },
  {
   "cell_type": "markdown",
   "id": "2a84395b",
   "metadata": {},
   "source": [
    "`@dataclass` is a convenience tool that automatically generates boilerplate code for classes that primarily store data.\n",
    "When you use a dataclass, Python auto-generates methods like:\n",
    "\n",
    "`__init__` — constructor\n",
    "\n",
    "`__repr__` — developer-friendly string representation\n",
    "\n",
    "`__eq__` — equality comparison\n",
    "\n",
    "`__hash__` — hash support (if enabled)"
   ]
  },
  {
   "cell_type": "markdown",
   "id": "eb0a53ae",
   "metadata": {},
   "source": [
    "```python\n",
    "from dataclasses import dataclass\n",
    "\n",
    "@dataclass\n",
    "class Point:\n",
    "    x: int\n",
    "    y: int\n",
    "```\n",
    "Is equivalent to:\n",
    "```python\n",
    "class Point:\n",
    "    def __init__(self, x: int, y: int):\n",
    "        self.x = x\n",
    "        self.y = y\n",
    "\n",
    "    def __repr__(self):\n",
    "        return f\"Point(x={self.x}, y={self.y})\"\n",
    "\n",
    "    def __eq__(self, other):\n",
    "        return isinstance(other, Point) and self.x == other.x and self.y == other.y\n",
    "```        \n"
   ]
  },
  {
   "cell_type": "markdown",
   "id": "004d791a",
   "metadata": {},
   "source": [
    "**Default Values**\n",
    "\n",
    "`frozen=True`  \n",
    "Protects against accidental changes to the class instances.\n",
    "\n",
    "`order=True`  \n",
    "Allows sorting of instances of the data class.\n",
    "\n",
    "If the `eq` and `frozen` arguments are both True, `@dataclass` produces a suitable\n",
    "`__hash__` method, so the instances will be hashable"
   ]
  },
  {
   "cell_type": "code",
   "execution_count": 1,
   "id": "479cee63",
   "metadata": {},
   "outputs": [
    {
     "name": "stdout",
     "output_type": "stream",
     "text": [
      "False\n",
      "115819066664 115817491226\n"
     ]
    }
   ],
   "source": [
    "from dataclasses import dataclass\n",
    "\n",
    "@dataclass(frozen=True, eq=False)\n",
    "class Point:\n",
    "    x: int\n",
    "    y: int\n",
    "\n",
    "p1 = Point(1, 2)\n",
    "p2 = Point(1, 2)\n",
    "\n",
    "print(p1 == p2)  # False (uses object identity)\n",
    "print(hash(p1), hash(p2))  # Same value due to same fields\n"
   ]
  },
  {
   "cell_type": "markdown",
   "id": "98d2d4b1",
   "metadata": {},
   "source": [
    "### Field Options"
   ]
  },
  {
   "cell_type": "markdown",
   "id": "9aec6b39",
   "metadata": {},
   "source": [
    "The instance fields you declare will become parameters in the generated `__init__`. Python does not allow parameters without defaults after parameters with defaults, therefore after you declare a field with a default value, all remaining fields must also have default values."
   ]
  },
  {
   "cell_type": "markdown",
   "id": "e1ffc68d",
   "metadata": {},
   "source": [
    "**Example: Valid Case**"
   ]
  },
  {
   "cell_type": "code",
   "execution_count": 1,
   "id": "cbb16f56",
   "metadata": {},
   "outputs": [],
   "source": [
    "from dataclasses import dataclass\n",
    "\n",
    "@dataclass\n",
    "class Person:\n",
    "    name: str            # No default\n",
    "    age: int = 30        # Default value provided\n"
   ]
  },
  {
   "cell_type": "markdown",
   "id": "06038a48",
   "metadata": {},
   "source": [
    "This will generate an `__init__` like:\n",
    "\n",
    "```python\n",
    "def __init__(self, name: str, age: int = 30):\n",
    "    ...\n",
    "```    "
   ]
  },
  {
   "cell_type": "markdown",
   "id": "6f8ebf92",
   "metadata": {},
   "source": [
    "**Example: Invalid Case**"
   ]
  },
  {
   "cell_type": "code",
   "execution_count": 1,
   "id": "f02565e2",
   "metadata": {},
   "outputs": [
    {
     "ename": "TypeError",
     "evalue": "non-default argument 'name' follows default argument 'age'",
     "output_type": "error",
     "traceback": [
      "\u001b[31m---------------------------------------------------------------------------\u001b[39m",
      "\u001b[31mTypeError\u001b[39m                                 Traceback (most recent call last)",
      "\u001b[36mCell\u001b[39m\u001b[36m \u001b[39m\u001b[32mIn[1]\u001b[39m\u001b[32m, line 3\u001b[39m\n\u001b[32m      1\u001b[39m \u001b[38;5;28;01mfrom\u001b[39;00m\u001b[38;5;250m \u001b[39m\u001b[34;01mdataclasses\u001b[39;00m\u001b[38;5;250m \u001b[39m\u001b[38;5;28;01mimport\u001b[39;00m dataclass\n\u001b[32m----> \u001b[39m\u001b[32m3\u001b[39m \u001b[38;5;129;43m@dataclass\u001b[39;49m\n\u001b[32m      4\u001b[39m \u001b[38;5;28;43;01mclass\u001b[39;49;00m\u001b[38;5;250;43m \u001b[39;49m\u001b[34;43;01mPerson\u001b[39;49;00m\u001b[43m:\u001b[49m\n\u001b[32m      5\u001b[39m \u001b[43m    \u001b[49m\u001b[43mage\u001b[49m\u001b[43m:\u001b[49m\u001b[43m \u001b[49m\u001b[38;5;28;43mint\u001b[39;49m\u001b[43m \u001b[49m\u001b[43m=\u001b[49m\u001b[43m \u001b[49m\u001b[32;43m30\u001b[39;49m\u001b[43m        \u001b[49m\u001b[38;5;66;43;03m# Default value provided\u001b[39;49;00m\n\u001b[32m      6\u001b[39m \u001b[43m    \u001b[49m\u001b[43mname\u001b[49m\u001b[43m:\u001b[49m\u001b[43m \u001b[49m\u001b[38;5;28;43mstr\u001b[39;49m            \u001b[38;5;66;03m# No default\u001b[39;00m\n",
      "\u001b[36mFile \u001b[39m\u001b[32m~\\AppData\\Local\\Programs\\Python\\Python313\\Lib\\dataclasses.py:1305\u001b[39m, in \u001b[36mdataclass\u001b[39m\u001b[34m(cls, init, repr, eq, order, unsafe_hash, frozen, match_args, kw_only, slots, weakref_slot)\u001b[39m\n\u001b[32m   1302\u001b[39m     \u001b[38;5;28;01mreturn\u001b[39;00m wrap\n\u001b[32m   1304\u001b[39m \u001b[38;5;66;03m# We're called as @dataclass without parens.\u001b[39;00m\n\u001b[32m-> \u001b[39m\u001b[32m1305\u001b[39m \u001b[38;5;28;01mreturn\u001b[39;00m \u001b[43mwrap\u001b[49m\u001b[43m(\u001b[49m\u001b[38;5;28;43mcls\u001b[39;49m\u001b[43m)\u001b[49m\n",
      "\u001b[36mFile \u001b[39m\u001b[32m~\\AppData\\Local\\Programs\\Python\\Python313\\Lib\\dataclasses.py:1295\u001b[39m, in \u001b[36mdataclass.<locals>.wrap\u001b[39m\u001b[34m(cls)\u001b[39m\n\u001b[32m   1294\u001b[39m \u001b[38;5;28;01mdef\u001b[39;00m\u001b[38;5;250m \u001b[39m\u001b[34mwrap\u001b[39m(\u001b[38;5;28mcls\u001b[39m):\n\u001b[32m-> \u001b[39m\u001b[32m1295\u001b[39m     \u001b[38;5;28;01mreturn\u001b[39;00m \u001b[43m_process_class\u001b[49m\u001b[43m(\u001b[49m\u001b[38;5;28;43mcls\u001b[39;49m\u001b[43m,\u001b[49m\u001b[43m \u001b[49m\u001b[43minit\u001b[49m\u001b[43m,\u001b[49m\u001b[43m \u001b[49m\u001b[38;5;28;43mrepr\u001b[39;49m\u001b[43m,\u001b[49m\u001b[43m \u001b[49m\u001b[43meq\u001b[49m\u001b[43m,\u001b[49m\u001b[43m \u001b[49m\u001b[43morder\u001b[49m\u001b[43m,\u001b[49m\u001b[43m \u001b[49m\u001b[43munsafe_hash\u001b[49m\u001b[43m,\u001b[49m\n\u001b[32m   1296\u001b[39m \u001b[43m                          \u001b[49m\u001b[43mfrozen\u001b[49m\u001b[43m,\u001b[49m\u001b[43m \u001b[49m\u001b[43mmatch_args\u001b[49m\u001b[43m,\u001b[49m\u001b[43m \u001b[49m\u001b[43mkw_only\u001b[49m\u001b[43m,\u001b[49m\u001b[43m \u001b[49m\u001b[43mslots\u001b[49m\u001b[43m,\u001b[49m\n\u001b[32m   1297\u001b[39m \u001b[43m                          \u001b[49m\u001b[43mweakref_slot\u001b[49m\u001b[43m)\u001b[49m\n",
      "\u001b[36mFile \u001b[39m\u001b[32m~\\AppData\\Local\\Programs\\Python\\Python313\\Lib\\dataclasses.py:1078\u001b[39m, in \u001b[36m_process_class\u001b[39m\u001b[34m(cls, init, repr, eq, order, unsafe_hash, frozen, match_args, kw_only, slots, weakref_slot)\u001b[39m\n\u001b[32m   1074\u001b[39m \u001b[38;5;28;01mif\u001b[39;00m init:\n\u001b[32m   1075\u001b[39m     \u001b[38;5;66;03m# Does this class have a post-init function?\u001b[39;00m\n\u001b[32m   1076\u001b[39m     has_post_init = \u001b[38;5;28mhasattr\u001b[39m(\u001b[38;5;28mcls\u001b[39m, _POST_INIT_NAME)\n\u001b[32m-> \u001b[39m\u001b[32m1078\u001b[39m     \u001b[43m_init_fn\u001b[49m\u001b[43m(\u001b[49m\u001b[43mall_init_fields\u001b[49m\u001b[43m,\u001b[49m\n\u001b[32m   1079\u001b[39m \u001b[43m             \u001b[49m\u001b[43mstd_init_fields\u001b[49m\u001b[43m,\u001b[49m\n\u001b[32m   1080\u001b[39m \u001b[43m             \u001b[49m\u001b[43mkw_only_init_fields\u001b[49m\u001b[43m,\u001b[49m\n\u001b[32m   1081\u001b[39m \u001b[43m             \u001b[49m\u001b[43mfrozen\u001b[49m\u001b[43m,\u001b[49m\n\u001b[32m   1082\u001b[39m \u001b[43m             \u001b[49m\u001b[43mhas_post_init\u001b[49m\u001b[43m,\u001b[49m\n\u001b[32m   1083\u001b[39m \u001b[43m             \u001b[49m\u001b[38;5;66;43;03m# The name to use for the \"self\"\u001b[39;49;00m\n\u001b[32m   1084\u001b[39m \u001b[43m             \u001b[49m\u001b[38;5;66;43;03m# param in __init__.  Use \"self\"\u001b[39;49;00m\n\u001b[32m   1085\u001b[39m \u001b[43m             \u001b[49m\u001b[38;5;66;43;03m# if possible.\u001b[39;49;00m\n\u001b[32m   1086\u001b[39m \u001b[43m             \u001b[49m\u001b[33;43m'\u001b[39;49m\u001b[33;43m__dataclass_self__\u001b[39;49m\u001b[33;43m'\u001b[39;49m\u001b[43m \u001b[49m\u001b[38;5;28;43;01mif\u001b[39;49;00m\u001b[43m \u001b[49m\u001b[33;43m'\u001b[39;49m\u001b[33;43mself\u001b[39;49m\u001b[33;43m'\u001b[39;49m\u001b[43m \u001b[49m\u001b[38;5;129;43;01min\u001b[39;49;00m\u001b[43m \u001b[49m\u001b[43mfields\u001b[49m\n\u001b[32m   1087\u001b[39m \u001b[43m             \u001b[49m\u001b[38;5;28;43;01melse\u001b[39;49;00m\u001b[43m \u001b[49m\u001b[33;43m'\u001b[39;49m\u001b[33;43mself\u001b[39;49m\u001b[33;43m'\u001b[39;49m\u001b[43m,\u001b[49m\n\u001b[32m   1088\u001b[39m \u001b[43m             \u001b[49m\u001b[43mfunc_builder\u001b[49m\u001b[43m,\u001b[49m\n\u001b[32m   1089\u001b[39m \u001b[43m             \u001b[49m\u001b[43mslots\u001b[49m\u001b[43m,\u001b[49m\n\u001b[32m   1090\u001b[39m \u001b[43m             \u001b[49m\u001b[43m)\u001b[49m\n\u001b[32m   1092\u001b[39m _set_new_attribute(\u001b[38;5;28mcls\u001b[39m, \u001b[33m'\u001b[39m\u001b[33m__replace__\u001b[39m\u001b[33m'\u001b[39m, _replace)\n\u001b[32m   1094\u001b[39m \u001b[38;5;66;03m# Get the fields as a list, and include only real fields.  This is\u001b[39;00m\n\u001b[32m   1095\u001b[39m \u001b[38;5;66;03m# used in all of the following methods.\u001b[39;00m\n",
      "\u001b[36mFile \u001b[39m\u001b[32m~\\AppData\\Local\\Programs\\Python\\Python313\\Lib\\dataclasses.py:627\u001b[39m, in \u001b[36m_init_fn\u001b[39m\u001b[34m(fields, std_fields, kw_only_fields, frozen, has_post_init, self_name, func_builder, slots)\u001b[39m\n\u001b[32m    625\u001b[39m             seen_default = f\n\u001b[32m    626\u001b[39m         \u001b[38;5;28;01melif\u001b[39;00m seen_default:\n\u001b[32m--> \u001b[39m\u001b[32m627\u001b[39m             \u001b[38;5;28;01mraise\u001b[39;00m \u001b[38;5;167;01mTypeError\u001b[39;00m(\u001b[33mf\u001b[39m\u001b[33m'\u001b[39m\u001b[33mnon-default argument \u001b[39m\u001b[38;5;132;01m{\u001b[39;00mf.name\u001b[38;5;132;01m!r}\u001b[39;00m\u001b[33m \u001b[39m\u001b[33m'\u001b[39m\n\u001b[32m    628\u001b[39m                             \u001b[33mf\u001b[39m\u001b[33m'\u001b[39m\u001b[33mfollows default argument \u001b[39m\u001b[38;5;132;01m{\u001b[39;00mseen_default.name\u001b[38;5;132;01m!r}\u001b[39;00m\u001b[33m'\u001b[39m)\n\u001b[32m    630\u001b[39m \u001b[38;5;28mlocals\u001b[39m = {**{\u001b[33mf\u001b[39m\u001b[33m'\u001b[39m\u001b[33m__dataclass_type_\u001b[39m\u001b[38;5;132;01m{\u001b[39;00mf.name\u001b[38;5;132;01m}\u001b[39;00m\u001b[33m__\u001b[39m\u001b[33m'\u001b[39m: f.type \u001b[38;5;28;01mfor\u001b[39;00m f \u001b[38;5;129;01min\u001b[39;00m fields},\n\u001b[32m    631\u001b[39m           **{\u001b[33m'\u001b[39m\u001b[33m__dataclass_HAS_DEFAULT_FACTORY__\u001b[39m\u001b[33m'\u001b[39m: _HAS_DEFAULT_FACTORY,\n\u001b[32m    632\u001b[39m              \u001b[33m'\u001b[39m\u001b[33m__dataclass_builtins_object__\u001b[39m\u001b[33m'\u001b[39m: \u001b[38;5;28mobject\u001b[39m,\n\u001b[32m    633\u001b[39m              }\n\u001b[32m    634\u001b[39m           }\n\u001b[32m    636\u001b[39m body_lines = []\n",
      "\u001b[31mTypeError\u001b[39m: non-default argument 'name' follows default argument 'age'"
     ]
    }
   ],
   "source": [
    "from dataclasses import dataclass\n",
    "\n",
    "@dataclass\n",
    "class Person:\n",
    "    age: int = 30        # Default value provided\n",
    "    name: str            # No default"
   ]
  },
  {
   "cell_type": "markdown",
   "id": "a4608735",
   "metadata": {},
   "source": [
    "This will generate an `__init__` like:\n",
    "\n",
    "```python\n",
    "def __init__(self, age: int = 30, name: str):\n",
    "    ...\n",
    "```\n",
    "\n",
    "This violates Python’s function signature rule: **non-default arguments must come before default arguments.**"
   ]
  },
  {
   "cell_type": "markdown",
   "id": "fe67f61d",
   "metadata": {},
   "source": [
    "**Mutable default values are a common source of bugs for beginning Python developers.**  \n",
    "Class attributes are often used as default attribute values for\n",
    "instances, including in data classes. And `@dataclass` uses the default values in the type hints to generate parameters with defaults for `__init__`."
   ]
  },
  {
   "cell_type": "code",
   "execution_count": 2,
   "id": "e7e3e51f",
   "metadata": {},
   "outputs": [
    {
     "ename": "ValueError",
     "evalue": "mutable default <class 'list'> for field guests is not allowed: use default_factory",
     "output_type": "error",
     "traceback": [
      "\u001b[31m---------------------------------------------------------------------------\u001b[39m",
      "\u001b[31mValueError\u001b[39m                                Traceback (most recent call last)",
      "\u001b[36mCell\u001b[39m\u001b[36m \u001b[39m\u001b[32mIn[2]\u001b[39m\u001b[32m, line 1\u001b[39m\n\u001b[32m----> \u001b[39m\u001b[32m1\u001b[39m \u001b[38;5;129;43m@dataclass\u001b[39;49m\n\u001b[32m      2\u001b[39m \u001b[38;5;28;43;01mclass\u001b[39;49;00m\u001b[38;5;250;43m \u001b[39;49m\u001b[34;43;01mClubMember\u001b[39;49;00m\u001b[43m:\u001b[49m\n\u001b[32m      3\u001b[39m \u001b[43m    \u001b[49m\u001b[43mname\u001b[49m\u001b[43m:\u001b[49m\u001b[43m \u001b[49m\u001b[38;5;28;43mstr\u001b[39;49m\n\u001b[32m      4\u001b[39m \u001b[43m    \u001b[49m\u001b[43mguests\u001b[49m\u001b[43m:\u001b[49m\u001b[43m \u001b[49m\u001b[38;5;28;43mlist\u001b[39;49m\u001b[43m \u001b[49m\u001b[43m=\u001b[49m\u001b[43m \u001b[49m\u001b[43m[\u001b[49m\u001b[43m]\u001b[49m\n",
      "\u001b[36mFile \u001b[39m\u001b[32m~\\AppData\\Local\\Programs\\Python\\Python313\\Lib\\dataclasses.py:1305\u001b[39m, in \u001b[36mdataclass\u001b[39m\u001b[34m(cls, init, repr, eq, order, unsafe_hash, frozen, match_args, kw_only, slots, weakref_slot)\u001b[39m\n\u001b[32m   1302\u001b[39m     \u001b[38;5;28;01mreturn\u001b[39;00m wrap\n\u001b[32m   1304\u001b[39m \u001b[38;5;66;03m# We're called as @dataclass without parens.\u001b[39;00m\n\u001b[32m-> \u001b[39m\u001b[32m1305\u001b[39m \u001b[38;5;28;01mreturn\u001b[39;00m \u001b[43mwrap\u001b[49m\u001b[43m(\u001b[49m\u001b[38;5;28;43mcls\u001b[39;49m\u001b[43m)\u001b[49m\n",
      "\u001b[36mFile \u001b[39m\u001b[32m~\\AppData\\Local\\Programs\\Python\\Python313\\Lib\\dataclasses.py:1295\u001b[39m, in \u001b[36mdataclass.<locals>.wrap\u001b[39m\u001b[34m(cls)\u001b[39m\n\u001b[32m   1294\u001b[39m \u001b[38;5;28;01mdef\u001b[39;00m\u001b[38;5;250m \u001b[39m\u001b[34mwrap\u001b[39m(\u001b[38;5;28mcls\u001b[39m):\n\u001b[32m-> \u001b[39m\u001b[32m1295\u001b[39m     \u001b[38;5;28;01mreturn\u001b[39;00m \u001b[43m_process_class\u001b[49m\u001b[43m(\u001b[49m\u001b[38;5;28;43mcls\u001b[39;49m\u001b[43m,\u001b[49m\u001b[43m \u001b[49m\u001b[43minit\u001b[49m\u001b[43m,\u001b[49m\u001b[43m \u001b[49m\u001b[38;5;28;43mrepr\u001b[39;49m\u001b[43m,\u001b[49m\u001b[43m \u001b[49m\u001b[43meq\u001b[49m\u001b[43m,\u001b[49m\u001b[43m \u001b[49m\u001b[43morder\u001b[49m\u001b[43m,\u001b[49m\u001b[43m \u001b[49m\u001b[43munsafe_hash\u001b[49m\u001b[43m,\u001b[49m\n\u001b[32m   1296\u001b[39m \u001b[43m                          \u001b[49m\u001b[43mfrozen\u001b[49m\u001b[43m,\u001b[49m\u001b[43m \u001b[49m\u001b[43mmatch_args\u001b[49m\u001b[43m,\u001b[49m\u001b[43m \u001b[49m\u001b[43mkw_only\u001b[49m\u001b[43m,\u001b[49m\u001b[43m \u001b[49m\u001b[43mslots\u001b[49m\u001b[43m,\u001b[49m\n\u001b[32m   1297\u001b[39m \u001b[43m                          \u001b[49m\u001b[43mweakref_slot\u001b[49m\u001b[43m)\u001b[49m\n",
      "\u001b[36mFile \u001b[39m\u001b[32m~\\AppData\\Local\\Programs\\Python\\Python313\\Lib\\dataclasses.py:1008\u001b[39m, in \u001b[36m_process_class\u001b[39m\u001b[34m(cls, init, repr, eq, order, unsafe_hash, frozen, match_args, kw_only, slots, weakref_slot)\u001b[39m\n\u001b[32m   1005\u001b[39m         kw_only = \u001b[38;5;28;01mTrue\u001b[39;00m\n\u001b[32m   1006\u001b[39m     \u001b[38;5;28;01melse\u001b[39;00m:\n\u001b[32m   1007\u001b[39m         \u001b[38;5;66;03m# Otherwise it's a field of some type.\u001b[39;00m\n\u001b[32m-> \u001b[39m\u001b[32m1008\u001b[39m         cls_fields.append(\u001b[43m_get_field\u001b[49m\u001b[43m(\u001b[49m\u001b[38;5;28;43mcls\u001b[39;49m\u001b[43m,\u001b[49m\u001b[43m \u001b[49m\u001b[43mname\u001b[49m\u001b[43m,\u001b[49m\u001b[43m \u001b[49m\u001b[38;5;28;43mtype\u001b[39;49m\u001b[43m,\u001b[49m\u001b[43m \u001b[49m\u001b[43mkw_only\u001b[49m\u001b[43m)\u001b[49m)\n\u001b[32m   1010\u001b[39m \u001b[38;5;28;01mfor\u001b[39;00m f \u001b[38;5;129;01min\u001b[39;00m cls_fields:\n\u001b[32m   1011\u001b[39m     fields[f.name] = f\n",
      "\u001b[36mFile \u001b[39m\u001b[32m~\\AppData\\Local\\Programs\\Python\\Python313\\Lib\\dataclasses.py:860\u001b[39m, in \u001b[36m_get_field\u001b[39m\u001b[34m(cls, a_name, a_type, default_kw_only)\u001b[39m\n\u001b[32m    856\u001b[39m \u001b[38;5;66;03m# For real fields, disallow mutable defaults.  Use unhashable as a proxy\u001b[39;00m\n\u001b[32m    857\u001b[39m \u001b[38;5;66;03m# indicator for mutability.  Read the __hash__ attribute from the class,\u001b[39;00m\n\u001b[32m    858\u001b[39m \u001b[38;5;66;03m# not the instance.\u001b[39;00m\n\u001b[32m    859\u001b[39m \u001b[38;5;28;01mif\u001b[39;00m f._field_type \u001b[38;5;129;01mis\u001b[39;00m _FIELD \u001b[38;5;129;01mand\u001b[39;00m f.default.\u001b[34m__class__\u001b[39m.\u001b[34m__hash__\u001b[39m \u001b[38;5;129;01mis\u001b[39;00m \u001b[38;5;28;01mNone\u001b[39;00m:\n\u001b[32m--> \u001b[39m\u001b[32m860\u001b[39m     \u001b[38;5;28;01mraise\u001b[39;00m \u001b[38;5;167;01mValueError\u001b[39;00m(\u001b[33mf\u001b[39m\u001b[33m'\u001b[39m\u001b[33mmutable default \u001b[39m\u001b[38;5;132;01m{\u001b[39;00m\u001b[38;5;28mtype\u001b[39m(f.default)\u001b[38;5;132;01m}\u001b[39;00m\u001b[33m for field \u001b[39m\u001b[33m'\u001b[39m\n\u001b[32m    861\u001b[39m                      \u001b[33mf\u001b[39m\u001b[33m'\u001b[39m\u001b[38;5;132;01m{\u001b[39;00mf.name\u001b[38;5;132;01m}\u001b[39;00m\u001b[33m is not allowed: use default_factory\u001b[39m\u001b[33m'\u001b[39m)\n\u001b[32m    863\u001b[39m \u001b[38;5;28;01mreturn\u001b[39;00m f\n",
      "\u001b[31mValueError\u001b[39m: mutable default <class 'list'> for field guests is not allowed: use default_factory"
     ]
    }
   ],
   "source": [
    "@dataclass\n",
    "class ClubMember:\n",
    "    name: str\n",
    "    guests: list = []"
   ]
  },
  {
   "cell_type": "markdown",
   "id": "0f940bf0",
   "metadata": {},
   "source": [
    "The `ValueError` message explains the problem and suggests a solution: use `default_factory`: lets you provide a function, class, or any other callable, which will be invoked with zero arguments to build a default value each time an instance of the data class is created."
   ]
  },
  {
   "cell_type": "code",
   "execution_count": 6,
   "id": "25aa23c4",
   "metadata": {},
   "outputs": [],
   "source": [
    "from dataclasses import dataclass, field\n",
    "@dataclass\n",
    "class ClubMember:\n",
    "    name: str\n",
    "    guests: list = field(default_factory=list)"
   ]
  },
  {
   "cell_type": "markdown",
   "id": "7daa3ba9",
   "metadata": {},
   "source": [
    "More precise:"
   ]
  },
  {
   "cell_type": "code",
   "execution_count": 7,
   "id": "d50575bf",
   "metadata": {},
   "outputs": [],
   "source": [
    "from dataclasses import dataclass, field\n",
    "@dataclass\n",
    "class ClubMember:\n",
    "    name: str\n",
    "    guests: list[str] = field(default_factory=list)"
   ]
  },
  {
   "cell_type": "code",
   "execution_count": 11,
   "id": "d8f28335",
   "metadata": {},
   "outputs": [
    {
     "name": "stdout",
     "output_type": "stream",
     "text": [
      "ClubMember(name='Alice', guests=[\"Alice's guest\", 'Charlie'])\n",
      "ClubMember(name='Bob', guests=[\"Bob's gues\", 'David'])\n"
     ]
    }
   ],
   "source": [
    "alice = ClubMember(\"Alice\", [\"Alice's guest\"])\n",
    "bob = ClubMember(\"Bob\", [\"Bob's gues\"])\n",
    "\n",
    "alice.guests.append(\"Charlie\")\n",
    "bob.guests.append(\"David\")\n",
    "\n",
    "print(alice)\n",
    "print(bob)"
   ]
  },
  {
   "cell_type": "markdown",
   "id": "3b568a58",
   "metadata": {},
   "source": [
    "![Figure 81](https://raw.githubusercontent.com/berserkhmdvhb/Training-Python/main/figures/Part_I/81.PNG)"
   ]
  },
  {
   "cell_type": "markdown",
   "id": "b8f2bb45",
   "metadata": {},
   "source": [
    "![Figure 82](https://raw.githubusercontent.com/berserkhmdvhb/Training-Python/main/figures/Part_I/82.PNG)"
   ]
  },
  {
   "cell_type": "markdown",
   "id": "dc14751e",
   "metadata": {},
   "source": [
    "The `default` option exists because the `field` call takes the place of the default value\n",
    "in the field annotation. If you want to create an `athlete` field with a default value of\n",
    "`False`, and also omit that field from the `__repr__` method, you’d write this:"
   ]
  },
  {
   "cell_type": "code",
   "execution_count": 14,
   "id": "1a7e39ab",
   "metadata": {},
   "outputs": [],
   "source": [
    "@dataclass\n",
    "class ClubMember:\n",
    "    name: str\n",
    "    guests: list = field(default_factory=list)\n",
    "    athlete: bool = field(default=False, repr=False)"
   ]
  },
  {
   "cell_type": "code",
   "execution_count": 15,
   "id": "7ae02bb1",
   "metadata": {},
   "outputs": [
    {
     "name": "stdout",
     "output_type": "stream",
     "text": [
      "ClubMember(name='Bob', guests=[])\n"
     ]
    }
   ],
   "source": [
    "m = ClubMember(\"Bob\")\n",
    "print(m)"
   ]
  },
  {
   "cell_type": "markdown",
   "id": "9dc8b0f2",
   "metadata": {},
   "source": [
    "Without `repr=False`, you'd get:\n",
    "\n",
    "```python\n",
    "ClubMember(name='Bob', guests=[], athlete=False)\n",
    "```"
   ]
  },
  {
   "cell_type": "markdown",
   "id": "b6c2cdb6",
   "metadata": {},
   "source": [
    "### Post-init Processing"
   ]
  },
  {
   "cell_type": "markdown",
   "id": "da5873dc",
   "metadata": {},
   "source": []
  }
 ],
 "metadata": {
  "kernelspec": {
   "display_name": "env_train",
   "language": "python",
   "name": "python3"
  },
  "language_info": {
   "codemirror_mode": {
    "name": "ipython",
    "version": 3
   },
   "file_extension": ".py",
   "mimetype": "text/x-python",
   "name": "python",
   "nbconvert_exporter": "python",
   "pygments_lexer": "ipython3",
   "version": "3.13.0"
  }
 },
 "nbformat": 4,
 "nbformat_minor": 5
}

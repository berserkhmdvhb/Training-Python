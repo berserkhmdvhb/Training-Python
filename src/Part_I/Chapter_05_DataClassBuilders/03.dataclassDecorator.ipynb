{
 "cells": [
  {
   "cell_type": "markdown",
   "id": "318436dd",
   "metadata": {},
   "source": [
    "# Chapter 5. Data Class Builders\n",
    "---"
   ]
  },
  {
   "cell_type": "markdown",
   "id": "c0add409",
   "metadata": {},
   "source": [
    "## ToC\n",
    "\n",
    "[More About @dataclass](#more-about-dataclass)\n",
    "        \n",
    "---"
   ]
  },
  {
   "cell_type": "markdown",
   "id": "bb740e49",
   "metadata": {},
   "source": [
    "## More About @dataclass"
   ]
  },
  {
   "cell_type": "markdown",
   "id": "bfa836c6",
   "metadata": {},
   "source": [
    "he decorator accepts several keyword arguments. This is its signature:\n",
    "\n",
    "```python\n",
    "@dataclass(*, init=True, repr=True, eq=True, order=False,\n",
    "              unsafe_hash=False, frozen=False)\n",
    "```\n"
   ]
  },
  {
   "cell_type": "markdown",
   "id": "b22159ec",
   "metadata": {},
   "source": [
    "![Figure 80](https://raw.githubusercontent.com/berserkhmdvhb/Training-Python/main/figures/Part_I/80.PNG)"
   ]
  },
  {
   "cell_type": "markdown",
   "id": "004d791a",
   "metadata": {},
   "source": [
    "**Default Values**\n",
    "\n",
    "`frozen=True`  \n",
    "Protects against accidental changes to the class instances.\n",
    "\n",
    "`order=True`  \n",
    "Allows sorting of instances of the data class.\n",
    "\n",
    "If the `eq` and `frozen` arguments are both True, `@dataclass` produces a suitable\n",
    "`__hash__` method, so the instances will be hashable"
   ]
  },
  {
   "cell_type": "code",
   "execution_count": 1,
   "id": "479cee63",
   "metadata": {},
   "outputs": [
    {
     "name": "stdout",
     "output_type": "stream",
     "text": [
      "False\n",
      "115819066664 115817491226\n"
     ]
    }
   ],
   "source": [
    "from dataclasses import dataclass\n",
    "\n",
    "@dataclass(frozen=True, eq=False)\n",
    "class Point:\n",
    "    x: int\n",
    "    y: int\n",
    "\n",
    "p1 = Point(1, 2)\n",
    "p2 = Point(1, 2)\n",
    "\n",
    "print(p1 == p2)  # False (uses object identity)\n",
    "print(hash(p1), hash(p2))  # Same value due to same fields\n"
   ]
  },
  {
   "cell_type": "markdown",
   "id": "98d2d4b1",
   "metadata": {},
   "source": [
    "### Field Options"
   ]
  },
  {
   "cell_type": "markdown",
   "id": "9aec6b39",
   "metadata": {},
   "source": [
    "The instance fields you declare will become parameters in the generated `__init__`. Python does not allow parameters without defaults after parameters with defaults, therefore after you declare a field with a default value, all remaining fields must also have default values."
   ]
  },
  {
   "cell_type": "markdown",
   "id": "fe67f61d",
   "metadata": {},
   "source": []
  }
 ],
 "metadata": {
  "kernelspec": {
   "display_name": "env_train",
   "language": "python",
   "name": "python3"
  },
  "language_info": {
   "codemirror_mode": {
    "name": "ipython",
    "version": 3
   },
   "file_extension": ".py",
   "mimetype": "text/x-python",
   "name": "python",
   "nbconvert_exporter": "python",
   "pygments_lexer": "ipython3",
   "version": "3.12.2"
  }
 },
 "nbformat": 4,
 "nbformat_minor": 5
}

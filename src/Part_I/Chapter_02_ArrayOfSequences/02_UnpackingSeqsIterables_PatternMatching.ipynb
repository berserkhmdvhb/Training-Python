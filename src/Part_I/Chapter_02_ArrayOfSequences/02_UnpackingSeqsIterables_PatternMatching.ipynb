{
 "cells": [
  {
   "cell_type": "markdown",
   "id": "6874de9e",
   "metadata": {},
   "source": [
    "# Chapter 2. An Array of Sequences\n",
    "---\n",
    "## ToC\n",
    "\n",
    "1. [Unpacking Sequences and Iterables](#unpacking-sequences-and-iterables)  \n",
    "    1.1. [Using * to Grab Excess Items](#using-*-to-grab-excess-items)  \n",
    "    1.2. [Unpacking with * in Function Calls and Sequence Literals](#unpacking-with-*-in-function-calls-and-sequence-literals)  \n",
    "    1.3. [Nested Unpacking](#nested-unpacking)  \n",
    "2. [Pattern Matching with Sequences](#pattern-matching-with-sequences)  \n",
    "    2.1. [In an interpreter](#pattern-matching-sequences-in-an-interpreter)"
   ]
  },
  {
   "cell_type": "code",
   "execution_count": 1,
   "id": "fc61acb9",
   "metadata": {},
   "outputs": [],
   "source": [
    "from pathlib import Path\n",
    "import sys\n",
    "\n",
    "materials_path = Path().resolve() / \"materials\"\n",
    "sys.path.insert(0, str(materials_path))\n",
    "\n",
    "import lis # type: ignore"
   ]
  },
  {
   "cell_type": "markdown",
   "id": "138b9a79",
   "metadata": {},
   "source": [
    "## Unpacking Sequences and Iterables"
   ]
  },
  {
   "cell_type": "markdown",
   "id": "4effad2b",
   "metadata": {},
   "source": [
    "Unpacking is important because it avoids unnecessary and error-prone use of\n",
    "indexes to extract elements from sequences. Also, unpacking works with any iterable\n",
    "object as the data source—including iterators, which don’t support index notation\n",
    "([])."
   ]
  },
  {
   "cell_type": "markdown",
   "id": "938d1cf2",
   "metadata": {},
   "source": [
    "### Applications"
   ]
  },
  {
   "cell_type": "markdown",
   "id": "17dfade5",
   "metadata": {},
   "source": [
    "**Parallel Assignment**"
   ]
  },
  {
   "cell_type": "code",
   "execution_count": 2,
   "id": "5d0dd70a",
   "metadata": {},
   "outputs": [
    {
     "name": "stdout",
     "output_type": "stream",
     "text": [
      "33.9425\n",
      "-118.408056\n"
     ]
    }
   ],
   "source": [
    "lax_coordinates = (33.9425, -118.408056)\n",
    "latitude, longitude = lax_coordinates # unpacking\n",
    "print(latitude)\n",
    "print(longitude)"
   ]
  },
  {
   "cell_type": "markdown",
   "id": "3ccc8f3b",
   "metadata": {},
   "source": [
    "**Swapping the Values of Variables**"
   ]
  },
  {
   "cell_type": "code",
   "execution_count": 3,
   "id": "4805545c",
   "metadata": {},
   "outputs": [
    {
     "name": "stdout",
     "output_type": "stream",
     "text": [
      "3\n",
      "2\n"
     ]
    }
   ],
   "source": [
    "a = 2\n",
    "b = 3\n",
    "b, a = a, b\n",
    "print(a)\n",
    "print(b)"
   ]
  },
  {
   "cell_type": "markdown",
   "id": "76b85060",
   "metadata": {},
   "source": [
    "**Refixing an Argument with * when Calling a Function**"
   ]
  },
  {
   "cell_type": "code",
   "execution_count": 4,
   "id": "e71e450d",
   "metadata": {},
   "outputs": [
    {
     "data": {
      "text/plain": [
       "(2, 4)"
      ]
     },
     "execution_count": 4,
     "metadata": {},
     "output_type": "execute_result"
    }
   ],
   "source": [
    "divmod(20, 8)"
   ]
  },
  {
   "cell_type": "code",
   "execution_count": 5,
   "id": "752c7f49",
   "metadata": {},
   "outputs": [
    {
     "data": {
      "text/plain": [
       "(2, 4)"
      ]
     },
     "execution_count": 5,
     "metadata": {},
     "output_type": "execute_result"
    }
   ],
   "source": [
    "t = (20, 8)\n",
    "divmod(*t)"
   ]
  },
  {
   "cell_type": "code",
   "execution_count": 6,
   "id": "0dcb4af9",
   "metadata": {},
   "outputs": [
    {
     "data": {
      "text/plain": [
       "(2, 4)"
      ]
     },
     "execution_count": 6,
     "metadata": {},
     "output_type": "execute_result"
    }
   ],
   "source": [
    "quotient, remainder = divmod(*t)\n",
    "quotient, remainder"
   ]
  },
  {
   "cell_type": "markdown",
   "id": "ce2aeb70",
   "metadata": {},
   "source": [
    "**Return Multiple Values**"
   ]
  },
  {
   "cell_type": "code",
   "execution_count": 7,
   "id": "5b6fe2ec",
   "metadata": {},
   "outputs": [
    {
     "data": {
      "text/plain": [
       "'id_rsa.pub'"
      ]
     },
     "execution_count": 7,
     "metadata": {},
     "output_type": "execute_result"
    }
   ],
   "source": [
    "import os\n",
    "_, filename = os.path.split('/home/Hamed/.ssh/id_rsa.pub')\n",
    "filename"
   ]
  },
  {
   "cell_type": "markdown",
   "id": "54ee0963",
   "metadata": {},
   "source": [
    "### Using * to Grab Excess Items"
   ]
  },
  {
   "cell_type": "markdown",
   "id": "f18a252a",
   "metadata": {},
   "source": [
    "Defining function parameters with `*args` to grab arbitrary excess arguments is a classic Python feature."
   ]
  },
  {
   "cell_type": "code",
   "execution_count": 8,
   "id": "20d09fc6",
   "metadata": {},
   "outputs": [
    {
     "data": {
      "text/plain": [
       "(0, 1, [2, 3, 4])"
      ]
     },
     "execution_count": 8,
     "metadata": {},
     "output_type": "execute_result"
    }
   ],
   "source": [
    "a, b, *rest = range(5)\n",
    "a, b, rest"
   ]
  },
  {
   "cell_type": "code",
   "execution_count": 9,
   "id": "3d3c399d",
   "metadata": {},
   "outputs": [
    {
     "data": {
      "text/plain": [
       "(0, 1, [])"
      ]
     },
     "execution_count": 9,
     "metadata": {},
     "output_type": "execute_result"
    }
   ],
   "source": [
    "a, b, *rest = range(2)\n",
    "a, b, rest"
   ]
  },
  {
   "cell_type": "code",
   "execution_count": 10,
   "id": "c739ac48",
   "metadata": {},
   "outputs": [
    {
     "data": {
      "text/plain": [
       "([0, 1], 2, 3, 4)"
      ]
     },
     "execution_count": 10,
     "metadata": {},
     "output_type": "execute_result"
    }
   ],
   "source": [
    "*head, b, c, d = range(5)\n",
    "head, b, c, d"
   ]
  },
  {
   "cell_type": "code",
   "execution_count": 11,
   "id": "0f217097",
   "metadata": {},
   "outputs": [
    {
     "data": {
      "text/plain": [
       "(0, [1, 2], 3, 4)"
      ]
     },
     "execution_count": 11,
     "metadata": {},
     "output_type": "execute_result"
    }
   ],
   "source": [
    "a, *body, c, d = range(5)\n",
    "a, body, c, d"
   ]
  },
  {
   "cell_type": "markdown",
   "id": "4e72c350",
   "metadata": {},
   "source": [
    "### Unpacking with * in Function Calls and Sequence Literals"
   ]
  },
  {
   "cell_type": "code",
   "execution_count": 12,
   "id": "6c04a652",
   "metadata": {},
   "outputs": [
    {
     "data": {
      "text/plain": [
       "(1, 2, 3, 4, (5, 6))"
      ]
     },
     "execution_count": 12,
     "metadata": {},
     "output_type": "execute_result"
    }
   ],
   "source": [
    "def fun(a, b, c, d, *rest):\n",
    "    return a, b, c, d, rest\n",
    "\n",
    "fun(*[1, 2], 3, *range(4, 7))"
   ]
  },
  {
   "cell_type": "markdown",
   "id": "5e87ba4a",
   "metadata": {},
   "source": [
    "**Defining `list`, `tuple`, or `set` Literals**"
   ]
  },
  {
   "cell_type": "code",
   "execution_count": 13,
   "id": "9263c0bb",
   "metadata": {},
   "outputs": [
    {
     "data": {
      "text/plain": [
       "range(0, 4)"
      ]
     },
     "execution_count": 13,
     "metadata": {},
     "output_type": "execute_result"
    }
   ],
   "source": [
    "range(4)"
   ]
  },
  {
   "cell_type": "code",
   "execution_count": 14,
   "id": "7163ebe0",
   "metadata": {},
   "outputs": [
    {
     "data": {
      "text/plain": [
       "(0, 1, 2, 3, 4)"
      ]
     },
     "execution_count": 14,
     "metadata": {},
     "output_type": "execute_result"
    }
   ],
   "source": [
    "*range(4), 4"
   ]
  },
  {
   "cell_type": "code",
   "execution_count": 15,
   "id": "f0d5fe1a",
   "metadata": {},
   "outputs": [
    {
     "data": {
      "text/plain": [
       "[0, 1, 2, 3, 4]"
      ]
     },
     "execution_count": 15,
     "metadata": {},
     "output_type": "execute_result"
    }
   ],
   "source": [
    "[*range(4), 4]"
   ]
  },
  {
   "cell_type": "code",
   "execution_count": 16,
   "id": "66e19133",
   "metadata": {},
   "outputs": [
    {
     "data": {
      "text/plain": [
       "{0, 1, 2, 3, 4, 5, 6, 7}"
      ]
     },
     "execution_count": 16,
     "metadata": {},
     "output_type": "execute_result"
    }
   ],
   "source": [
    "{*range(4), 4, *(5, 6, 7)}"
   ]
  },
  {
   "cell_type": "markdown",
   "id": "4aa4a133",
   "metadata": {},
   "source": [
    "### Nested Unpacking"
   ]
  },
  {
   "cell_type": "code",
   "execution_count": 17,
   "id": "d844232a",
   "metadata": {},
   "outputs": [
    {
     "name": "stdout",
     "output_type": "stream",
     "text": [
      "                |  latitude | longitude\n",
      "Mexico City     |   19.4333 |  -99.1333\n",
      "New York-Newark |   40.8086 |  -74.0204\n",
      "São Paulo       |  -23.5478 |  -46.6358\n"
     ]
    }
   ],
   "source": [
    "metro_areas = [\n",
    "    ('Tokyo', 'JP', 36.933, (35.689722, 139.691667)),\n",
    "    ('Delhi NCR', 'IN', 21.935, (28.613889, 77.208889)),\n",
    "    ('Mexico City', 'MX', 20.142, (19.433333, -99.133333)),\n",
    "    ('New York-Newark', 'US', 20.104, (40.808611, -74.020386)),\n",
    "    ('São Paulo', 'BR', 19.649, (-23.547778, -46.635833))\n",
    "    #,('Dummy') this entry causes error\n",
    "]\n",
    "\n",
    "def main():\n",
    "    print(f'{\"\":15} | {\"latitude\":>9} | {\"longitude\":>9}')\n",
    "    for name, _, _, (lat, lon) in metro_areas:\n",
    "        if lon <= 0:\n",
    "            print(f'{name:15} | {lat:9.4f} | {lon:9.4f}')\n",
    "\n",
    "if __name__ == '__main__':\n",
    "    main()"
   ]
  },
  {
   "cell_type": "markdown",
   "id": "d17e923a",
   "metadata": {},
   "source": [
    "The target of an unpacking assignment can also be a list, but good use cases are rare. If you have a database query that returns a single record (e.g., the SQL code has a LIMIT 1 clause), then you can unpack and at the same time make sure there’s only one result with this code"
   ]
  },
  {
   "cell_type": "code",
   "execution_count": 18,
   "id": "a33823b9",
   "metadata": {},
   "outputs": [],
   "source": [
    "# [record] = query_returning_single_row()\n",
    "# If the record has only one field, you can get it directly, like this:\n",
    "# [[field]] = query_returning_single_row_with_single_field() "
   ]
  },
  {
   "cell_type": "markdown",
   "id": "aaf43b97",
   "metadata": {},
   "source": [
    "## Pattern Matching with Sequences"
   ]
  },
  {
   "cell_type": "markdown",
   "id": "222b2471",
   "metadata": {},
   "source": [
    "In general, a sequence pattern matches the subject if:\n",
    "1. The subject is a sequence and;\n",
    "2. The subject and the pattern have the same number of items and;\n",
    "3. Each corresponding item matches, including nested items.\n",
    "\n",
    "Sequence patterns may be written as tuples or lists or any combination of nested\n",
    "tuples and lists, but it makes no difference which syntax you use: in a sequence pattern,\n",
    "square brackets and parentheses mean the same thing"
   ]
  },
  {
   "cell_type": "markdown",
   "id": "6db3bcb0",
   "metadata": {},
   "source": [
    "![Figure 20](https://raw.githubusercontent.com/berserkhmdvhb/Training-Python/main/figures/Part_I/20.PNG)"
   ]
  },
  {
   "cell_type": "markdown",
   "id": "20ede98d",
   "metadata": {},
   "source": [
    "[Structural Pattern Matching Documentation](https://fpy.li/2-6)"
   ]
  },
  {
   "cell_type": "markdown",
   "id": "968095bf",
   "metadata": {},
   "source": [
    "**match/case statement**"
   ]
  },
  {
   "cell_type": "markdown",
   "id": "e9ff5764",
   "metadata": {},
   "source": [
    "Imagine you are designing a robot that accepts commands sent as sequences of words and numbers, like `BEEPER\n",
    "440 3`. After splitting into parts and parsing the numbers, you’d have a message like\n",
    "`['BEEPER', 440, 3]`."
   ]
  },
  {
   "cell_type": "code",
   "execution_count": 19,
   "id": "63f5c4f2",
   "metadata": {},
   "outputs": [],
   "source": [
    "from typing import Union\n",
    "\n",
    "\n",
    "class InvalidCommand(Exception):\n",
    "    def __init__(self, message):\n",
    "        self.message = message\n",
    "        hint = (\n",
    "            \"Expected one of the following formats:\\n\"\n",
    "            \"  ['BEEPER', frequency:int, times:int]\\n\"\n",
    "            \"  ['NECK', angle:int]\\n\"\n",
    "            \"  ['LED', ident:str, intensity:int]\\n\"\n",
    "            \"  ['LED', ident:str, red:int, green:int, blue:int]\"\n",
    "        )\n",
    "        super().__init__(f\"Invalid command: {message}\\n{hint}\")\n",
    "\n",
    "\n",
    "class LED:\n",
    "    def __init__(self, ident: str):\n",
    "        self.ident = ident\n",
    "        self.color = (0, 0, 0)\n",
    "        self.brightness = 0\n",
    "\n",
    "    def set_brightness(self, intensity: int):\n",
    "        self.brightness = intensity\n",
    "        print(f\"[LED {self.ident}] Brightness set to {intensity}\")\n",
    "\n",
    "    def set_color(self, red: int, green: int, blue: int):\n",
    "        self.color = (red, green, blue)\n",
    "        print(f\"[LED {self.ident}] Color set to ({red}, {green}, {blue})\")\n",
    "\n",
    "\n",
    "class Neck:\n",
    "    def __init__(self):\n",
    "        self.angle = 0\n",
    "\n",
    "    def rotate(self, angle: int):\n",
    "        self.angle = angle\n",
    "        print(f\"[Neck] Rotated to {angle} degrees\")\n",
    "\n",
    "\n",
    "class BeepModule:\n",
    "    def beep(self, times: int, frequency: int):\n",
    "        print(f\"[Beep] Beeping {times} times at {frequency} Hz\")\n",
    "\n",
    "\n",
    "class Robot:\n",
    "    def __init__(self):\n",
    "        self.leds = {\n",
    "            \"left\": LED(\"left\"),\n",
    "            \"right\": LED(\"right\"),\n",
    "            \"center\": LED(\"center\")\n",
    "        }\n",
    "        self.neck = Neck()\n",
    "        self.beeper = BeepModule()\n",
    "\n",
    "    def handle_command(self, message: list[str | int]):\n",
    "        match message:\n",
    "            case ['BEEPER', int(frequency), int(times)]:\n",
    "                self.beeper.beep(times, frequency)\n",
    "            case ['NECK', int(angle)]:\n",
    "                self.neck.rotate(angle)\n",
    "            case ['LED', str(ident), int(intensity)] if ident in self.leds:\n",
    "                self.leds[ident].set_brightness(intensity)\n",
    "            case ['LED', str(ident), int(r), int(g), int(b)] if ident in self.leds:\n",
    "                self.leds[ident].set_color(r, g, b)\n",
    "            case _:\n",
    "                raise InvalidCommand(message)\n"
   ]
  },
  {
   "cell_type": "code",
   "execution_count": 20,
   "id": "1e562d83",
   "metadata": {},
   "outputs": [
    {
     "name": "stdout",
     "output_type": "stream",
     "text": [
      "[Beep] Beeping 3 times at 440 Hz\n",
      "[Neck] Rotated to 90 degrees\n",
      "[LED left] Brightness set to 128\n",
      "[LED right] Color set to (255, 100, 50)\n"
     ]
    }
   ],
   "source": [
    "robot = Robot()\n",
    "robot.handle_command(['BEEPER', 440, 3])\n",
    "robot.handle_command(['NECK', 90])\n",
    "robot.handle_command(['LED', 'left', 128])\n",
    "robot.handle_command(['LED', 'right', 255, 100, 50])"
   ]
  },
  {
   "cell_type": "code",
   "execution_count": 21,
   "id": "48689a33",
   "metadata": {},
   "outputs": [
    {
     "ename": "InvalidCommand",
     "evalue": "Invalid command: ['UNKNOWN']\nExpected one of the following formats:\n  ['BEEPER', frequency:int, times:int]\n  ['NECK', angle:int]\n  ['LED', ident:str, intensity:int]\n  ['LED', ident:str, red:int, green:int, blue:int]",
     "output_type": "error",
     "traceback": [
      "\u001b[31m---------------------------------------------------------------------------\u001b[39m",
      "\u001b[31mInvalidCommand\u001b[39m                            Traceback (most recent call last)",
      "\u001b[36mCell\u001b[39m\u001b[36m \u001b[39m\u001b[32mIn[21]\u001b[39m\u001b[32m, line 1\u001b[39m\n\u001b[32m----> \u001b[39m\u001b[32m1\u001b[39m \u001b[43mrobot\u001b[49m\u001b[43m.\u001b[49m\u001b[43mhandle_command\u001b[49m\u001b[43m(\u001b[49m\u001b[43m[\u001b[49m\u001b[33;43m'\u001b[39;49m\u001b[33;43mUNKNOWN\u001b[39;49m\u001b[33;43m'\u001b[39;49m\u001b[43m]\u001b[49m\u001b[43m)\u001b[49m  \u001b[38;5;66;03m# raise InvalidCommand\u001b[39;00m\n",
      "\u001b[36mCell\u001b[39m\u001b[36m \u001b[39m\u001b[32mIn[19]\u001b[39m\u001b[32m, line 67\u001b[39m, in \u001b[36mRobot.handle_command\u001b[39m\u001b[34m(self, message)\u001b[39m\n\u001b[32m     65\u001b[39m     \u001b[38;5;28mself\u001b[39m.leds[ident].set_color(r, g, b)\n\u001b[32m     66\u001b[39m \u001b[38;5;28;01mcase\u001b[39;00m\u001b[38;5;250m \u001b[39m\u001b[38;5;28;01m_\u001b[39;00m:\n\u001b[32m---> \u001b[39m\u001b[32m67\u001b[39m     \u001b[38;5;28;01mraise\u001b[39;00m InvalidCommand(message)\n",
      "\u001b[31mInvalidCommand\u001b[39m: Invalid command: ['UNKNOWN']\nExpected one of the following formats:\n  ['BEEPER', frequency:int, times:int]\n  ['NECK', angle:int]\n  ['LED', ident:str, intensity:int]\n  ['LED', ident:str, red:int, green:int, blue:int]"
     ]
    }
   ],
   "source": [
    "robot.handle_command(['UNKNOWN'])  # raise InvalidCommand"
   ]
  },
  {
   "cell_type": "markdown",
   "id": "edef0e33",
   "metadata": {},
   "source": [
    "**Destructuring**"
   ]
  },
  {
   "cell_type": "markdown",
   "id": "7eb90243",
   "metadata": {},
   "source": [
    "One key improvement of `match` over `switch` is destructuring. Thanks to destructuring, pattern matching is a powerful tool to process records structured like nested mappings and sequences, which we often need to read from JSON APIs and databases with semi-structured schemas, like MongoDB, EdgeDB, or PostgreSQL."
   ]
  },
  {
   "cell_type": "code",
   "execution_count": 22,
   "id": "5c899f68",
   "metadata": {},
   "outputs": [
    {
     "name": "stdout",
     "output_type": "stream",
     "text": [
      "                |  latitude | longitude\n",
      "Mexico City     |   19.4333 |  -99.1333\n",
      "New York-Newark |   40.8086 |  -74.0204\n",
      "São Paulo       |  -23.5478 |  -46.6358\n",
      "              2 |  -23.5478 |  -46.6358\n"
     ]
    }
   ],
   "source": [
    "metro_areas = [\n",
    "    ('Tokyo', 'JP', 36.933, (35.689722, 139.691667)),\n",
    "    ('Delhi NCR', 'IN', 21.935, (28.613889, 77.208889)),\n",
    "    ('Mexico City', 'MX', 20.142, (19.433333, -99.133333)),\n",
    "    ('New York-Newark', 'US', 20.104, (40.808611, -74.020386)),\n",
    "    ('São Paulo', 'BR', 19.649, (-23.547778, -46.635833)),\n",
    "    (2, 'BR', 19.649, (-23.547778, -46.635833)), # this entry is not correct but it's added\n",
    "    ('Dummy') # this entry will be filtered out without causing error\n",
    "]   \n",
    "def main():\n",
    "    print(f'{\"\":15} | {\"latitude\":>9} | {\"longitude\":>9}')\n",
    "    for record in metro_areas:\n",
    "        match record:\n",
    "            case [name, _, _, (lat, lon)] if lon <= 0:\n",
    "                print(f'{name:15} | {lat:9.4f} | {lon:9.4f}')\n",
    "\n",
    "if __name__ == '__main__':\n",
    "    main()                "
   ]
  },
  {
   "cell_type": "markdown",
   "id": "871055a3",
   "metadata": {},
   "source": [
    "![Figure 21](https://raw.githubusercontent.com/berserkhmdvhb/Training-Python/main/figures/Part_I/21.PNG)"
   ]
  },
  {
   "cell_type": "markdown",
   "id": "fa03fb88",
   "metadata": {},
   "source": [
    "```python\n",
    "match tuple(phone):\n",
    "    case ['1', *rest]: # North America and Caribbean\n",
    "        ...\n",
    "    case ['2', *rest]: # Africa and some territories\n",
    "        ...\n",
    "    case ['3' | '4', *rest]: # Europe\n",
    "        ...\n",
    "```                    "
   ]
  },
  {
   "cell_type": "markdown",
   "id": "2a8d3327",
   "metadata": {},
   "source": [
    "In the standard library, these types are compatible with sequence patterns:\n",
    "```plaintext\n",
    "list    memoryview  array.array\n",
    "tuple   range       collections.deque\n",
    "```"
   ]
  },
  {
   "cell_type": "markdown",
   "id": "4465cb11",
   "metadata": {},
   "source": [
    "More pedantic patterns: adding types\n",
    "\n",
    "```python \n",
    "case [str(name), _, _, (float(lat), float(lon)) as coord]:\n",
    "```\n",
    "\n",
    "if we want to match any subject sequence starting with a str, and ending with a nested sequence of two floats, we can write:\n",
    "\n",
    "```python \n",
    "case [str(name), *_, (float(lat), float(lon))]:\n",
    "```"
   ]
  },
  {
   "cell_type": "code",
   "execution_count": 23,
   "id": "c28562e9",
   "metadata": {},
   "outputs": [
    {
     "name": "stdout",
     "output_type": "stream",
     "text": [
      "                |  latitude | longitude\n",
      "Mexico City     |   19.4333 |  -99.1333\n",
      "New York-Newark |   40.8086 |  -74.0204\n",
      "São Paulo       |  -23.5478 |  -46.6358\n"
     ]
    }
   ],
   "source": [
    "metro_areas = [\n",
    "    ('Tokyo', 'JP', 36.933, (35.689722, 139.691667)),\n",
    "    ('Delhi NCR', 'IN', 21.935, (28.613889, 77.208889)),\n",
    "    ('Mexico City', 'MX', 20.142, (19.433333, -99.133333)),\n",
    "    ('New York-Newark', 'US', 20.104, (40.808611, -74.020386)),\n",
    "    ('São Paulo', 'BR', 19.649, (-23.547778, -46.635833)),\n",
    "    (2, 'BR', 19.649, (547778, -46.635833)), # type checking removes this entry\n",
    "    ('Dummy') # we can add this thanks to sequence matching\n",
    "]   \n",
    "def main():\n",
    "    print(f'{\"\":15} | {\"latitude\":>9} | {\"longitude\":>9}')\n",
    "    for record in metro_areas:\n",
    "        match record:\n",
    "            case [str(name), _, _, (float(lat), float(lon)) as coord] if lon <= 0:\n",
    "                print(f'{name:15} | {lat:9.4f} | {lon:9.4f}')\n",
    "\n",
    "if __name__ == '__main__':\n",
    "    main()                "
   ]
  },
  {
   "cell_type": "markdown",
   "id": "89efd622",
   "metadata": {},
   "source": [
    "![Figure 22](https://raw.githubusercontent.com/berserkhmdvhb/Training-Python/main/figures/Part_I/22.PNG)"
   ]
  },
  {
   "cell_type": "markdown",
   "id": "34ebed37",
   "metadata": {},
   "source": [
    "[Example: A very deep iterable and type match with extraction](https://fpy.li/2-10)"
   ]
  },
  {
   "cell_type": "markdown",
   "id": "fbfb9258",
   "metadata": {},
   "source": [
    "### Pattern Matching Sequences in an Interpreter"
   ]
  },
  {
   "cell_type": "markdown",
   "id": "a23fc44f",
   "metadata": {},
   "source": [
    "[lis.py](https://fpy.li/2-11): an interpreter for a subset of the Scheme dialect of the Lisp programming language in 132 lines of beautiful and readable Python code. \n",
    "The two main functions of lis.py are `parse` and `evaluate`."
   ]
  },
  {
   "cell_type": "code",
   "execution_count": 24,
   "id": "cddabdc6",
   "metadata": {},
   "outputs": [
    {
     "data": {
      "text/plain": [
       "['gcd', 18, 45]"
      ]
     },
     "execution_count": 24,
     "metadata": {},
     "output_type": "execute_result"
    }
   ],
   "source": [
    "lis.parse('(gcd 18 45)')"
   ]
  },
  {
   "cell_type": "code",
   "execution_count": 25,
   "id": "b008b3ad",
   "metadata": {},
   "outputs": [
    {
     "data": {
      "text/plain": [
       "['define', 'double', ['lambda', ['n'], ['*', 'n', 2]]]"
      ]
     },
     "execution_count": 25,
     "metadata": {},
     "output_type": "execute_result"
    }
   ],
   "source": [
    "lis.parse('''\n",
    "    (define double\n",
    "    (lambda (n)\n",
    "    (* n 2)))\n",
    "    ''')"
   ]
  },
  {
   "cell_type": "markdown",
   "id": "21001b0a",
   "metadata": {},
   "source": [
    "**Matching patterns without match/case**"
   ]
  },
  {
   "cell_type": "markdown",
   "id": "93fea8e4",
   "metadata": {},
   "source": [
    "```python\n",
    "def evaluate(exp: Expression, env: Environment) -> Any:\n",
    "    \"Evaluate an expression in an environment.\"\n",
    "    \n",
    "    if isinstance(exp, Symbol):  # variable reference\n",
    "        return env[exp]\n",
    "    \n",
    "    # ... lines omitted\n",
    "\n",
    "    elif exp[0] == 'quote':  # (quote exp)\n",
    "        (_, x) = exp\n",
    "        return x\n",
    "\n",
    "    elif exp[0] == 'if':  # (if test conseq alt)\n",
    "        (_, test, consequence, alternative) = exp\n",
    "        if evaluate(test, env):\n",
    "            return evaluate(consequence, env)\n",
    "        else:\n",
    "            return evaluate(alternative, env)\n",
    "\n",
    "    elif exp[0] == 'lambda':  # (lambda (parm…) body…)\n",
    "        (_, parms, *body) = exp\n",
    "        return Procedure(parms, body, env)\n",
    "\n",
    "    elif exp[0] == 'define':\n",
    "        (_, name, value_exp) = exp\n",
    "        env[name] = evaluate(value_exp, env)\n",
    "\n",
    "    # ... more lines omitted\n",
    "```"
   ]
  },
  {
   "cell_type": "markdown",
   "id": "3db18ac4",
   "metadata": {},
   "source": [
    "**Matching patterns with match/case**—requires Python ≥ 3.10"
   ]
  },
  {
   "cell_type": "markdown",
   "id": "258ec3c0",
   "metadata": {},
   "source": [
    "```python\n",
    "def evaluate(exp: Expression, env: Environment) -> Any:\n",
    "    \"Evaluate an expression in an environment.\"\n",
    "    \n",
    "    match exp:\n",
    "        # ... lines omitted\n",
    "\n",
    "        case ['quote', x]:\n",
    "            return x\n",
    "\n",
    "        case ['if', test, consequence, alternative]:\n",
    "            if evaluate(test, env):\n",
    "                return evaluate(consequence, env)\n",
    "            else:\n",
    "                return evaluate(alternative, env)\n",
    "\n",
    "        case ['lambda', [*parms], *body] if body:\n",
    "            return Procedure(parms, body, env)\n",
    "\n",
    "        case ['define', Symbol() as name, value_exp]:\n",
    "            env[name] = evaluate(value_exp, env)\n",
    "\n",
    "        # ... more lines omitted\n",
    "\n",
    "        case _:\n",
    "            raise SyntaxError(lispstr(exp))\n",
    "```"
   ]
  },
  {
   "cell_type": "markdown",
   "id": "e5251739",
   "metadata": {},
   "source": [
    "For `lambda`:"
   ]
  },
  {
   "cell_type": "markdown",
   "id": "6bdd9a56",
   "metadata": {},
   "source": [
    "```python\n",
    "case ['lambda', [*parms], *body] if body:\n",
    "    return Procedure(parms, body, env)\n",
    "```    \n",
    "\n",
    "**Note:** In a sequence pattern, `*` can appear only once per sequence. Here we have two\n",
    "sequences: the outer and the inner."
   ]
  },
  {
   "cell_type": "markdown",
   "id": "e82376e6",
   "metadata": {},
   "source": [
    "![Figure 23](https://raw.githubusercontent.com/berserkhmdvhb/Training-Python/main/figures/Part_I/23.PNG)"
   ]
  },
  {
   "cell_type": "markdown",
   "id": "c971a899",
   "metadata": {},
   "source": [
    "**Further Reading**:\n",
    "\n",
    "[(How to Write a (Lisp) Interpreter (in Python))](https://fpy.li/2-12)"
   ]
  }
 ],
 "metadata": {
  "kernelspec": {
   "display_name": "env_train",
   "language": "python",
   "name": "python3"
  },
  "language_info": {
   "codemirror_mode": {
    "name": "ipython",
    "version": 3
   },
   "file_extension": ".py",
   "mimetype": "text/x-python",
   "name": "python",
   "nbconvert_exporter": "python",
   "pygments_lexer": "ipython3",
   "version": "3.13.0"
  }
 },
 "nbformat": 4,
 "nbformat_minor": 5
}

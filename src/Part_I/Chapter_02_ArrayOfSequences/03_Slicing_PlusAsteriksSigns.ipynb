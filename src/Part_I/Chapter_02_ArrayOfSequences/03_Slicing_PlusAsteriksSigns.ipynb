{
 "cells": [
  {
   "cell_type": "markdown",
   "id": "90a2dd7a",
   "metadata": {},
   "source": [
    "# Chapter 2. An Array of Sequences\n",
    "---\n",
    "## ToC\n",
    "\n",
    "1. [Slicing](#slicing)  \n",
    "2. [Using + and * in Sequences](#using-+-and-*-with-sequences)  \n",
    "    2.1. [Building Lists of Lists](#building-lists-of-lists)  \n",
    "    2.2. [Augmented Assignment with Sequences](#augmented-assignment-with-sequences)  \n",
    "    2.3. [A += Assignment Puzzler](#a-+=-assignment-puzzler)  \n",
    "3. [list.sort vs sorted built-in](#listsort-versus-the-sorted-built-in)"
   ]
  },
  {
   "cell_type": "markdown",
   "id": "6e02fc20",
   "metadata": {},
   "source": [
    "## Slicing"
   ]
  },
  {
   "cell_type": "markdown",
   "id": "999b4d42",
   "metadata": {},
   "source": [
    "to evaluate the expression `seq[start:stop:step]`, Python calls `seq.__getitem__(slice(start, stop, step))`."
   ]
  },
  {
   "cell_type": "code",
   "execution_count": 1,
   "id": "b9b6ad95",
   "metadata": {},
   "outputs": [
    {
     "data": {
      "text/plain": [
       "'bye'"
      ]
     },
     "execution_count": 1,
     "metadata": {},
     "output_type": "execute_result"
    }
   ],
   "source": [
    "s = 'bicycle'\n",
    "s[::3]"
   ]
  },
  {
   "cell_type": "code",
   "execution_count": 2,
   "id": "80e6ab02",
   "metadata": {},
   "outputs": [
    {
     "data": {
      "text/plain": [
       "'elcycib'"
      ]
     },
     "execution_count": 2,
     "metadata": {},
     "output_type": "execute_result"
    }
   ],
   "source": [
    "s[::-1]"
   ]
  },
  {
   "cell_type": "code",
   "execution_count": 3,
   "id": "0ccf8b1f",
   "metadata": {},
   "outputs": [
    {
     "data": {
      "text/plain": [
       "'eccb'"
      ]
     },
     "execution_count": 3,
     "metadata": {},
     "output_type": "execute_result"
    }
   ],
   "source": [
    "s[::-2]"
   ]
  },
  {
   "cell_type": "markdown",
   "id": "5f4b984e",
   "metadata": {},
   "source": [
    "**Assigning to Slices**"
   ]
  },
  {
   "cell_type": "code",
   "execution_count": 4,
   "id": "228294e0",
   "metadata": {},
   "outputs": [
    {
     "data": {
      "text/plain": [
       "[0, 1, 2, 3, 4, 5, 6, 7, 8, 9]"
      ]
     },
     "execution_count": 4,
     "metadata": {},
     "output_type": "execute_result"
    }
   ],
   "source": [
    "l = list(range(10))\n",
    "l"
   ]
  },
  {
   "cell_type": "code",
   "execution_count": 5,
   "id": "4f4fc6a3",
   "metadata": {},
   "outputs": [
    {
     "data": {
      "text/plain": [
       "[0, 1, 20, 30, 5, 6, 7, 8, 9]"
      ]
     },
     "execution_count": 5,
     "metadata": {},
     "output_type": "execute_result"
    }
   ],
   "source": [
    "l[2:5] = [20, 30]\n",
    "l"
   ]
  },
  {
   "cell_type": "code",
   "execution_count": 6,
   "id": "a905c127",
   "metadata": {},
   "outputs": [
    {
     "data": {
      "text/plain": [
       "[0, 1, 20, 30, 5, 8, 9]"
      ]
     },
     "execution_count": 6,
     "metadata": {},
     "output_type": "execute_result"
    }
   ],
   "source": [
    "del l[5:7]\n",
    "l"
   ]
  },
  {
   "cell_type": "code",
   "execution_count": 7,
   "id": "80781365",
   "metadata": {},
   "outputs": [
    {
     "data": {
      "text/plain": [
       "[0, 1, 20, 11, 5, 22, 9]"
      ]
     },
     "execution_count": 7,
     "metadata": {},
     "output_type": "execute_result"
    }
   ],
   "source": [
    "l[3::2] = [11, 22]\n",
    "l"
   ]
  },
  {
   "cell_type": "code",
   "execution_count": 8,
   "id": "4356c8cb",
   "metadata": {},
   "outputs": [
    {
     "ename": "TypeError",
     "evalue": "must assign iterable to extended slice",
     "output_type": "error",
     "traceback": [
      "\u001b[31m---------------------------------------------------------------------------\u001b[39m",
      "\u001b[31mTypeError\u001b[39m                                 Traceback (most recent call last)",
      "\u001b[36mCell\u001b[39m\u001b[36m \u001b[39m\u001b[32mIn[8]\u001b[39m\u001b[32m, line 1\u001b[39m\n\u001b[32m----> \u001b[39m\u001b[32m1\u001b[39m \u001b[43ml\u001b[49m\u001b[43m[\u001b[49m\u001b[32;43m2\u001b[39;49m\u001b[43m:\u001b[49m\u001b[32;43m5\u001b[39;49m\u001b[43m]\u001b[49m = \u001b[32m100\u001b[39m\n",
      "\u001b[31mTypeError\u001b[39m: must assign iterable to extended slice"
     ]
    }
   ],
   "source": [
    "l[2:5] = 100"
   ]
  },
  {
   "cell_type": "code",
   "execution_count": null,
   "id": "2408d559",
   "metadata": {},
   "outputs": [
    {
     "data": {
      "text/plain": [
       "[0, 1, 100, 22, 9]"
      ]
     },
     "execution_count": 13,
     "metadata": {},
     "output_type": "execute_result"
    }
   ],
   "source": [
    "l[2:5] = [100]\n",
    "l"
   ]
  },
  {
   "cell_type": "markdown",
   "id": "02e557d1",
   "metadata": {},
   "source": [
    "## Using + and * with Sequences"
   ]
  },
  {
   "cell_type": "markdown",
   "id": "7a8f5a11",
   "metadata": {},
   "source": [
    "To concatenate multiple copies of the same sequence, multiply it by an integer."
   ]
  },
  {
   "cell_type": "code",
   "execution_count": 9,
   "id": "3b52d1a8",
   "metadata": {},
   "outputs": [
    {
     "data": {
      "text/plain": [
       "[1, 2, 3, 1, 2, 3, 1, 2, 3, 1, 2, 3, 1, 2, 3]"
      ]
     },
     "execution_count": 9,
     "metadata": {},
     "output_type": "execute_result"
    }
   ],
   "source": [
    "l = [1, 2, 3]\n",
    "l * 5"
   ]
  },
  {
   "cell_type": "code",
   "execution_count": 10,
   "id": "bad01131",
   "metadata": {},
   "outputs": [
    {
     "data": {
      "text/plain": [
       "'abcdabcdabcdabcdabcd'"
      ]
     },
     "execution_count": 10,
     "metadata": {},
     "output_type": "execute_result"
    }
   ],
   "source": [
    "5 * 'abcd'"
   ]
  },
  {
   "cell_type": "markdown",
   "id": "77f5fbf2",
   "metadata": {},
   "source": [
    "![Figure 24](https://raw.githubusercontent.com/berserkhmdvhb/Training-Python/main/figures/Part_I/24.PNG)"
   ]
  },
  {
   "cell_type": "code",
   "execution_count": 11,
   "id": "4d2a832e",
   "metadata": {},
   "outputs": [
    {
     "data": {
      "text/plain": [
       "[[], [], []]"
      ]
     },
     "execution_count": 11,
     "metadata": {},
     "output_type": "execute_result"
    }
   ],
   "source": [
    "my_list = [[]] * 3\n",
    "my_list"
   ]
  },
  {
   "cell_type": "code",
   "execution_count": 12,
   "id": "16cf381e",
   "metadata": {},
   "outputs": [
    {
     "data": {
      "text/plain": [
       "[[1], [1], [1]]"
      ]
     },
     "execution_count": 12,
     "metadata": {},
     "output_type": "execute_result"
    }
   ],
   "source": [
    "my_list[0].append(1)\n",
    "my_list"
   ]
  },
  {
   "cell_type": "markdown",
   "id": "5acd8d69",
   "metadata": {},
   "source": [
    "### Building Lists of Lists"
   ]
  },
  {
   "cell_type": "code",
   "execution_count": 13,
   "id": "8c738f87",
   "metadata": {},
   "outputs": [
    {
     "data": {
      "text/plain": [
       "[['_', '_', '_'], ['_', '_', '_'], ['_', '_', '_']]"
      ]
     },
     "execution_count": 13,
     "metadata": {},
     "output_type": "execute_result"
    }
   ],
   "source": [
    "board = [['_'] * 3 for i in range(3)]\n",
    "board"
   ]
  },
  {
   "cell_type": "code",
   "execution_count": 14,
   "id": "ff990f4e",
   "metadata": {},
   "outputs": [
    {
     "data": {
      "text/plain": [
       "[['_', '_', '_'], ['_', '_', 'X'], ['_', '_', '_']]"
      ]
     },
     "execution_count": 14,
     "metadata": {},
     "output_type": "execute_result"
    }
   ],
   "source": [
    "board[1][2] = 'X'\n",
    "board"
   ]
  },
  {
   "cell_type": "markdown",
   "id": "d7b3b881",
   "metadata": {},
   "source": [
    "This was equivalent to\n",
    "\n",
    "```python\n",
    "board = []\n",
    "for i in range(3):\n",
    "    row = ['_'] * 3\n",
    "    board.append(row)\n",
    "```"
   ]
  },
  {
   "cell_type": "code",
   "execution_count": 15,
   "id": "448f23c1",
   "metadata": {},
   "outputs": [
    {
     "data": {
      "text/plain": [
       "[['_', '_', '_'], ['_', '_', '_'], ['_', '_', '_']]"
      ]
     },
     "execution_count": 15,
     "metadata": {},
     "output_type": "execute_result"
    }
   ],
   "source": [
    "weird_board = [['_'] * 3] * 3\n",
    "weird_board"
   ]
  },
  {
   "cell_type": "code",
   "execution_count": 16,
   "id": "461d4af4",
   "metadata": {},
   "outputs": [
    {
     "data": {
      "text/plain": [
       "[['_', '_', 'O'], ['_', '_', 'O'], ['_', '_', 'O']]"
      ]
     },
     "execution_count": 16,
     "metadata": {},
     "output_type": "execute_result"
    }
   ],
   "source": [
    "weird_board[1][2] = 'O'\n",
    "weird_board"
   ]
  },
  {
   "cell_type": "markdown",
   "id": "c1e3fd61",
   "metadata": {},
   "source": [
    "This was equivalent to\n",
    "\n",
    "```python\n",
    "row = ['_'] * 3\n",
    "board = []\n",
    "for i in range(3):\n",
    "    board.append(row)\n",
    "```"
   ]
  },
  {
   "cell_type": "markdown",
   "id": "5c76f1c7",
   "metadata": {},
   "source": [
    "### Augmented Assignment with Sequences"
   ]
  },
  {
   "cell_type": "markdown",
   "id": "99eb4898",
   "metadata": {},
   "source": [
    "The augmented assignment operators `+=` and `*=` behave quite differently, depending on the first operand.\n",
    "The special method that makes `+=` work is `__iadd__` (for \"in-place addition\"). `*=` is implemented via `__imul__`."
   ]
  },
  {
   "cell_type": "code",
   "execution_count": 17,
   "id": "f4e9db67",
   "metadata": {},
   "outputs": [
    {
     "data": {
      "text/plain": [
       "1555493729088"
      ]
     },
     "execution_count": 17,
     "metadata": {},
     "output_type": "execute_result"
    }
   ],
   "source": [
    "l = [1, 2, 3]\n",
    "id(l)"
   ]
  },
  {
   "cell_type": "code",
   "execution_count": 18,
   "id": "ca9a7944",
   "metadata": {},
   "outputs": [
    {
     "data": {
      "text/plain": [
       "[1, 2, 3, 1, 2, 3]"
      ]
     },
     "execution_count": 18,
     "metadata": {},
     "output_type": "execute_result"
    }
   ],
   "source": [
    "l *= 2\n",
    "l"
   ]
  },
  {
   "cell_type": "code",
   "execution_count": 19,
   "id": "a60e5ae0",
   "metadata": {},
   "outputs": [
    {
     "data": {
      "text/plain": [
       "1555493729088"
      ]
     },
     "execution_count": 19,
     "metadata": {},
     "output_type": "execute_result"
    }
   ],
   "source": [
    "id(l)"
   ]
  },
  {
   "cell_type": "code",
   "execution_count": 20,
   "id": "d0d41369",
   "metadata": {},
   "outputs": [
    {
     "data": {
      "text/plain": [
       "(1, 2, 3)"
      ]
     },
     "execution_count": 20,
     "metadata": {},
     "output_type": "execute_result"
    }
   ],
   "source": [
    "t = (1, 2, 3)\n",
    "t"
   ]
  },
  {
   "cell_type": "code",
   "execution_count": 21,
   "id": "f0f243e7",
   "metadata": {},
   "outputs": [
    {
     "data": {
      "text/plain": [
       "1555493969344"
      ]
     },
     "execution_count": 21,
     "metadata": {},
     "output_type": "execute_result"
    }
   ],
   "source": [
    "id(t)"
   ]
  },
  {
   "cell_type": "code",
   "execution_count": 22,
   "id": "c0aeed5c",
   "metadata": {},
   "outputs": [
    {
     "data": {
      "text/plain": [
       "(1, 2, 3, 1, 2, 3)"
      ]
     },
     "execution_count": 22,
     "metadata": {},
     "output_type": "execute_result"
    }
   ],
   "source": [
    "t *= 2\n",
    "t\n"
   ]
  },
  {
   "cell_type": "code",
   "execution_count": 23,
   "id": "c31b0212",
   "metadata": {},
   "outputs": [
    {
     "data": {
      "text/plain": [
       "1555493902016"
      ]
     },
     "execution_count": 23,
     "metadata": {},
     "output_type": "execute_result"
    }
   ],
   "source": [
    "id(t)"
   ]
  },
  {
   "cell_type": "markdown",
   "id": "ab561f63",
   "metadata": {},
   "source": [
    "**Noe**: Repeated concatenation of immutable sequences is inefficient, because instead of just appending new items, the interpreter has to copy the whole target sequence to create a new one with the new items concatenated"
   ]
  },
  {
   "cell_type": "markdown",
   "id": "ebbdedac",
   "metadata": {},
   "source": [
    "### A += Assignment Puzzler"
   ]
  },
  {
   "cell_type": "markdown",
   "id": "b8975f49",
   "metadata": {},
   "source": [
    "![Figure 25](https://raw.githubusercontent.com/berserkhmdvhb/Training-Python/main/figures/Part_I/25.PNG)"
   ]
  },
  {
   "cell_type": "code",
   "execution_count": 24,
   "id": "76a63dbd",
   "metadata": {},
   "outputs": [
    {
     "ename": "TypeError",
     "evalue": "'tuple' object does not support item assignment",
     "output_type": "error",
     "traceback": [
      "\u001b[31m---------------------------------------------------------------------------\u001b[39m",
      "\u001b[31mTypeError\u001b[39m                                 Traceback (most recent call last)",
      "\u001b[36mCell\u001b[39m\u001b[36m \u001b[39m\u001b[32mIn[24]\u001b[39m\u001b[32m, line 2\u001b[39m\n\u001b[32m      1\u001b[39m t = (\u001b[32m1\u001b[39m, \u001b[32m2\u001b[39m, [\u001b[32m30\u001b[39m, \u001b[32m40\u001b[39m])\n\u001b[32m----> \u001b[39m\u001b[32m2\u001b[39m \u001b[43mt\u001b[49m\u001b[43m[\u001b[49m\u001b[32;43m2\u001b[39;49m\u001b[43m]\u001b[49m += [\u001b[32m50\u001b[39m, \u001b[32m60\u001b[39m]\n",
      "\u001b[31mTypeError\u001b[39m: 'tuple' object does not support item assignment"
     ]
    }
   ],
   "source": [
    "t = (1, 2, [30, 40])\n",
    "t[2] += [50, 60]"
   ]
  },
  {
   "cell_type": "code",
   "execution_count": 25,
   "id": "800e8ebd",
   "metadata": {},
   "outputs": [
    {
     "data": {
      "text/plain": [
       "(1, 2, [30, 40, 50, 60])"
      ]
     },
     "execution_count": 25,
     "metadata": {},
     "output_type": "execute_result"
    }
   ],
   "source": [
    "t"
   ]
  },
  {
   "cell_type": "markdown",
   "id": "d19f1cbd",
   "metadata": {},
   "source": [
    "![Figure 26](https://raw.githubusercontent.com/berserkhmdvhb/Training-Python/main/figures/Part_I/26.PNG)"
   ]
  },
  {
   "cell_type": "markdown",
   "id": "4202154c",
   "metadata": {},
   "source": [
    "3 lessons from author based  this example\n",
    "- Avoid putting mutable items in tuples.\n",
    "- Augmented assignment is not an atomic operation—we just saw it throwing an\n",
    "exception after doing part of its job.\n",
    "- Inspecting Python bytecode is not too difficult, and can be helpful to see what is\n",
    "going on under the hood."
   ]
  },
  {
   "cell_type": "code",
   "execution_count": 26,
   "id": "d03c32e5",
   "metadata": {},
   "outputs": [
    {
     "name": "stdout",
     "output_type": "stream",
     "text": [
      "  0           RESUME                   0\n",
      "\n",
      "  1           LOAD_NAME                0 (s)\n",
      "              LOAD_NAME                1 (a)\n",
      "              COPY                     2\n",
      "              COPY                     2\n",
      "              BINARY_SUBSCR\n",
      "              LOAD_NAME                2 (b)\n",
      "              BINARY_OP               13 (+=)\n",
      "              SWAP                     3\n",
      "              SWAP                     2\n",
      "              STORE_SUBSCR\n",
      "              RETURN_CONST             0 (None)\n"
     ]
    }
   ],
   "source": [
    "import dis\n",
    "\n",
    "code = compile('s[a] += b', '<string>', 'exec')\n",
    "dis.dis(code)"
   ]
  },
  {
   "cell_type": "markdown",
   "id": "65db7573",
   "metadata": {},
   "source": [
    "## list.sort Versus the sorted Built-In"
   ]
  },
  {
   "cell_type": "markdown",
   "id": "115a605f",
   "metadata": {},
   "source": [
    "The `list.sort` method sorts a list in place—that is, without making a copy. It returns\n",
    "`None` to remind us that it changes the receiver and does not create a new list. This is\n",
    "an important Python API convention: functions or methods that change an object in\n",
    "place should return `None` to make it clear to the caller that the receiver was changed,\n",
    "and no new object was created."
   ]
  },
  {
   "cell_type": "markdown",
   "id": "d3768eda",
   "metadata": {},
   "source": [
    "![Figure 27](https://raw.githubusercontent.com/berserkhmdvhb/Training-Python/main/figures/Part_I/27.PNG)"
   ]
  },
  {
   "cell_type": "markdown",
   "id": "a9796269",
   "metadata": {},
   "source": [
    "**Example of cascading**"
   ]
  },
  {
   "cell_type": "code",
   "execution_count": 27,
   "id": "15db5821",
   "metadata": {},
   "outputs": [
    {
     "name": "stdout",
     "output_type": "stream",
     "text": [
      "HELLO Python\n"
     ]
    }
   ],
   "source": [
    "s = \"  hello world  \"\n",
    "new_s = s.strip().upper().replace(\"WORLD\", \"Python\")\n",
    "print(new_s)"
   ]
  },
  {
   "cell_type": "markdown",
   "id": "60ad8631",
   "metadata": {},
   "source": [
    "In contrast, the built-in function `sorted` creates a new list and returns it. It accepts\n",
    "any iterable object as an argument, including immutable sequences and generators"
   ]
  },
  {
   "cell_type": "markdown",
   "id": "3b3195b4",
   "metadata": {},
   "source": [
    "Both `list.sort` and `sorted` take two optional, keyword-only arguments:\n",
    "\n",
    "\n",
    "- `reverse`: If True, the items are returned in descending order (i.e., by reversing the comparison\n",
    "of the items). The default is False.\n",
    "\n",
    "- `key`: A one-argument function that will be applied to each item to produce its sorting\n",
    "key. For example, when sorting a list of strings, key=str.lower can be used\n",
    "to perform a case-insensitive sort, and key=len will sort the strings by character\n",
    "length. The default is the identity function"
   ]
  },
  {
   "cell_type": "code",
   "execution_count": 28,
   "id": "06c0d9bf",
   "metadata": {},
   "outputs": [
    {
     "data": {
      "text/plain": [
       "['apple', 'banana', 'grape', 'raspberry']"
      ]
     },
     "execution_count": 28,
     "metadata": {},
     "output_type": "execute_result"
    }
   ],
   "source": [
    "fruits = ['grape', 'raspberry', 'apple', 'banana']\n",
    "sorted(fruits)"
   ]
  },
  {
   "cell_type": "code",
   "execution_count": 29,
   "id": "501f0be2",
   "metadata": {},
   "outputs": [
    {
     "data": {
      "text/plain": [
       "['grape', 'raspberry', 'apple', 'banana']"
      ]
     },
     "execution_count": 29,
     "metadata": {},
     "output_type": "execute_result"
    }
   ],
   "source": [
    "fruits"
   ]
  },
  {
   "cell_type": "code",
   "execution_count": 30,
   "id": "9c50b82e",
   "metadata": {},
   "outputs": [
    {
     "data": {
      "text/plain": [
       "['raspberry', 'grape', 'banana', 'apple']"
      ]
     },
     "execution_count": 30,
     "metadata": {},
     "output_type": "execute_result"
    }
   ],
   "source": [
    "sorted(fruits, reverse=True)"
   ]
  },
  {
   "cell_type": "code",
   "execution_count": 31,
   "id": "e96ce5ca",
   "metadata": {},
   "outputs": [
    {
     "data": {
      "text/plain": [
       "['grape', 'apple', 'banana', 'raspberry']"
      ]
     },
     "execution_count": 31,
     "metadata": {},
     "output_type": "execute_result"
    }
   ],
   "source": [
    "sorted(fruits, key=len)"
   ]
  },
  {
   "cell_type": "code",
   "execution_count": 32,
   "id": "69ad5586",
   "metadata": {},
   "outputs": [
    {
     "data": {
      "text/plain": [
       "['raspberry', 'banana', 'grape', 'apple']"
      ]
     },
     "execution_count": 32,
     "metadata": {},
     "output_type": "execute_result"
    }
   ],
   "source": [
    "sorted(fruits, key=len, reverse=True)"
   ]
  },
  {
   "cell_type": "code",
   "execution_count": 33,
   "id": "1e09b6d6",
   "metadata": {},
   "outputs": [
    {
     "data": {
      "text/plain": [
       "['grape', 'raspberry', 'apple', 'banana']"
      ]
     },
     "execution_count": 33,
     "metadata": {},
     "output_type": "execute_result"
    }
   ],
   "source": [
    "fruits"
   ]
  },
  {
   "cell_type": "code",
   "execution_count": 34,
   "id": "e0631922",
   "metadata": {},
   "outputs": [],
   "source": [
    "fruits.sort()"
   ]
  },
  {
   "cell_type": "code",
   "execution_count": 35,
   "id": "7230ceff",
   "metadata": {},
   "outputs": [
    {
     "data": {
      "text/plain": [
       "['apple', 'banana', 'grape', 'raspberry']"
      ]
     },
     "execution_count": 35,
     "metadata": {},
     "output_type": "execute_result"
    }
   ],
   "source": [
    "fruits"
   ]
  },
  {
   "cell_type": "markdown",
   "id": "7eda383c",
   "metadata": {},
   "source": [
    "![Figure 28](https://raw.githubusercontent.com/berserkhmdvhb/Training-Python/main/figures/Part_I/28.PNG)"
   ]
  }
 ],
 "metadata": {
  "kernelspec": {
   "display_name": "env_train",
   "language": "python",
   "name": "python3"
  },
  "language_info": {
   "codemirror_mode": {
    "name": "ipython",
    "version": 3
   },
   "file_extension": ".py",
   "mimetype": "text/x-python",
   "name": "python",
   "nbconvert_exporter": "python",
   "pygments_lexer": "ipython3",
   "version": "3.13.0"
  }
 },
 "nbformat": 4,
 "nbformat_minor": 5
}

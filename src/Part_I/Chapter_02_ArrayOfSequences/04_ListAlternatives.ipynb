{
 "cells": [
  {
   "cell_type": "markdown",
   "id": "f97cb324",
   "metadata": {},
   "source": [
    "# Chapter 2. An Array of Sequences\n",
    "---\n",
    "## ToC\n",
    "\n",
    "[When a List Is Not the Answer](#when-a-list-is-not-the-answer)\n",
    "\n",
    "1. [Arrays](#arrays)  \n",
    "2. [Memory Views](#memory-views)\n",
    "3. [NumPy](#numpy)\n",
    "---"
   ]
  },
  {
   "cell_type": "markdown",
   "id": "149b89cf",
   "metadata": {},
   "source": [
    "## When a List Is Not the Answer"
   ]
  },
  {
   "cell_type": "markdown",
   "id": "a49289a9",
   "metadata": {},
   "source": [
    "The `list` type is flexible and easy to use, but depending on specific requirements,\n",
    "there are better options. For example, an `array` saves a lot of memory when you need\n",
    "to handle millions of floating-point values. On the other hand, if you are constantly\n",
    "adding and removing items from opposite ends of a list, it’s good to know that a\n",
    "`deque` (double-ended queue) is a more efficient FIFO data structure."
   ]
  },
  {
   "cell_type": "markdown",
   "id": "59d5db7b",
   "metadata": {},
   "source": [
    "![Figure 29](https://raw.githubusercontent.com/berserkhmdvhb/Training-Python/main/figures/Part_I/29.PNG)"
   ]
  },
  {
   "cell_type": "markdown",
   "id": "3e4fd23b",
   "metadata": {},
   "source": [
    "### Arrays"
   ]
  },
  {
   "cell_type": "markdown",
   "id": "414634b9",
   "metadata": {},
   "source": [
    "If a list only contains numbers, an `array.array` is a more efficient replacement. Arrays support all mutable sequence operations (including `.pop`, `.insert`, and `.extend`), as well as additional methods for fast loading and saving, such as `.frombytes` and `.tofile`. An array of float values does not hold full-fledged float instances, but only the packed bytes representing their machine values—similar to an array of double in the C language"
   ]
  },
  {
   "cell_type": "markdown",
   "id": "7b5ad8a2",
   "metadata": {},
   "source": [
    "### Summary of Key Differences\n",
    "\n",
    "| Feature         | Tuple                        | array.array / numpy.array         |\n",
    "|----------------|------------------------------|-----------------------------------|\n",
    "| Type flexibility | Heterogeneous                 | Homogeneous (fixed type)          |\n",
    "| Memory layout   | Pointers to PyObjects         | Raw contiguous memory             |\n",
    "| Performance     | Slower for numeric ops        | Fast for numeric operations       |\n",
    "| Mutability      | Immutable (tuple)             | Mutable                           |\n",
    "| Use cases       | General-purpose grouping      | Efficient numeric storage/computing |\n",
    "\n",
    "For more details on the memory layout differences, visit [Array VS Tuple](https://github.com/berserkhmdvhb/Training-Python/blob/main/src/Part_I/Chapter_2_ArrayOfSequences/ArrayVSTuple.md)"
   ]
  },
  {
   "cell_type": "code",
   "execution_count": 1,
   "id": "95e61c94",
   "metadata": {},
   "outputs": [
    {
     "name": "stdout",
     "output_type": "stream",
     "text": [
      "TUPLE:\n",
      "Total size of tuple: 64 bytes\n",
      "  Element 0: value=1, id=140717557146536, size=28 bytes\n",
      "  Element 1: value=a, id=140717557211056, size=42 bytes\n",
      "  Element 2: value=3.14, id=2449950598896, size=24 bytes\n"
     ]
    }
   ],
   "source": [
    "import sys\n",
    "import array\n",
    "import numpy as np\n",
    "\n",
    "# Mixed-type tuple\n",
    "t = (1, 'a', 3.14)\n",
    "print(\"TUPLE:\")\n",
    "print(f\"Total size of tuple: {sys.getsizeof(t)} bytes\")\n",
    "for i, item in enumerate(t):\n",
    "    print(f\"  Element {i}: value={item}, id={id(item)}, size={sys.getsizeof(item)} bytes\")"
   ]
  },
  {
   "cell_type": "code",
   "execution_count": 2,
   "id": "b92a8b41",
   "metadata": {},
   "outputs": [
    {
     "name": "stdout",
     "output_type": "stream",
     "text": [
      "\n",
      "ARRAY.ARRAY:\n",
      "Total size of array.array: 92 bytes\n",
      "  Element 0: value=1\n",
      "  Element 1: value=2\n",
      "  Element 2: value=3\n"
     ]
    }
   ],
   "source": [
    "# Integer array.array\n",
    "a = array.array('i', [1, 2, 3])\n",
    "print(\"\\nARRAY.ARRAY:\")\n",
    "print(f\"Total size of array.array: {sys.getsizeof(a)} bytes\")\n",
    "for i, item in enumerate(a):\n",
    "    print(f\"  Element {i}: value={item}\")"
   ]
  },
  {
   "cell_type": "code",
   "execution_count": 3,
   "id": "0e2f8048",
   "metadata": {},
   "outputs": [
    {
     "name": "stdout",
     "output_type": "stream",
     "text": [
      "\n",
      "NUMPY.ARRAY:\n",
      "Total size of numpy.array: 12 bytes (data only)\n",
      "Total size including metadata: 124 bytes\n",
      "  Element 0: value=1, address offset=2449954772880\n",
      "  Element 1: value=2, address offset=2449954772884\n",
      "  Element 2: value=3, address offset=2449954772888\n"
     ]
    }
   ],
   "source": [
    "# NumPy array\n",
    "n = np.array([1, 2, 3], dtype=np.int32)\n",
    "print(\"\\nNUMPY.ARRAY:\")\n",
    "print(f\"Total size of numpy.array: {n.nbytes} bytes (data only)\")\n",
    "print(f\"Total size including metadata: {sys.getsizeof(n)} bytes\")\n",
    "for i, item in enumerate(n):\n",
    "    address = n.ctypes.data + i * n.itemsize\n",
    "    print(f\"  Element {i}: value={item}, address offset={address}\")"
   ]
  },
  {
   "cell_type": "markdown",
   "id": "da24102f",
   "metadata": {},
   "source": [
    "When creating an array, you provide a typecode, a letter to determine the underlying C\n",
    "type used to store each item in the array. For example, b is the typecode for what\n",
    "C calls a signed char, an integer ranging from –128 to 127. If you create an\n",
    "`array('b')`, then each item will be stored in a single byte and interpreted as an integer.\n",
    "For large sequences of numbers, this saves a lot of memory.\n",
    "\n",
    "More info: [Python Docs - array](https://docs.python.org/3/library/array.html)"
   ]
  },
  {
   "cell_type": "code",
   "execution_count": 4,
   "id": "8a20db7b",
   "metadata": {},
   "outputs": [
    {
     "data": {
      "text/plain": [
       "array('b', [-128, 127])"
      ]
     },
     "execution_count": 4,
     "metadata": {},
     "output_type": "execute_result"
    }
   ],
   "source": [
    "array.array('b', [-128,127])"
   ]
  },
  {
   "cell_type": "code",
   "execution_count": 5,
   "id": "486e4aef",
   "metadata": {},
   "outputs": [
    {
     "ename": "OverflowError",
     "evalue": "signed char is less than minimum",
     "output_type": "error",
     "traceback": [
      "\u001b[31m---------------------------------------------------------------------------\u001b[39m",
      "\u001b[31mOverflowError\u001b[39m                             Traceback (most recent call last)",
      "\u001b[36mCell\u001b[39m\u001b[36m \u001b[39m\u001b[32mIn[5]\u001b[39m\u001b[32m, line 1\u001b[39m\n\u001b[32m----> \u001b[39m\u001b[32m1\u001b[39m \u001b[43marray\u001b[49m\u001b[43m.\u001b[49m\u001b[43marray\u001b[49m\u001b[43m(\u001b[49m\u001b[33;43m'\u001b[39;49m\u001b[33;43mb\u001b[39;49m\u001b[33;43m'\u001b[39;49m\u001b[43m,\u001b[49m\u001b[43m \u001b[49m\u001b[43m[\u001b[49m\u001b[43m-\u001b[49m\u001b[32;43m129\u001b[39;49m\u001b[43m,\u001b[49m\u001b[32;43m127\u001b[39;49m\u001b[43m]\u001b[49m\u001b[43m)\u001b[49m\n",
      "\u001b[31mOverflowError\u001b[39m: signed char is less than minimum"
     ]
    }
   ],
   "source": [
    "array.array('b', [-129,127])"
   ]
  },
  {
   "cell_type": "code",
   "execution_count": null,
   "id": "b527e9d3",
   "metadata": {},
   "outputs": [
    {
     "ename": "OverflowError",
     "evalue": "signed char is greater than maximum",
     "output_type": "error",
     "traceback": [
      "\u001b[31m---------------------------------------------------------------------------\u001b[39m",
      "\u001b[31mOverflowError\u001b[39m                             Traceback (most recent call last)",
      "\u001b[36mCell\u001b[39m\u001b[36m \u001b[39m\u001b[32mIn[6]\u001b[39m\u001b[32m, line 1\u001b[39m\n\u001b[32m----> \u001b[39m\u001b[32m1\u001b[39m \u001b[43marray\u001b[49m\u001b[43m.\u001b[49m\u001b[43marray\u001b[49m\u001b[43m(\u001b[49m\u001b[33;43m'\u001b[39;49m\u001b[33;43mb\u001b[39;49m\u001b[33;43m'\u001b[39;49m\u001b[43m,\u001b[49m\u001b[43m \u001b[49m\u001b[43m[\u001b[49m\u001b[43m-\u001b[49m\u001b[32;43m128\u001b[39;49m\u001b[43m,\u001b[49m\u001b[32;43m128\u001b[39;49m\u001b[43m]\u001b[49m\u001b[43m)\u001b[49m\n",
      "\u001b[31mOverflowError\u001b[39m: signed char is greater than maximum"
     ]
    }
   ],
   "source": [
    "array.array('b', [-128,128])"
   ]
  },
  {
   "cell_type": "markdown",
   "id": "17091e06",
   "metadata": {},
   "source": [
    "**Creating, saving, and loading a large array of floats**"
   ]
  },
  {
   "cell_type": "code",
   "execution_count": 6,
   "id": "e865ef41",
   "metadata": {},
   "outputs": [
    {
     "data": {
      "text/plain": [
       "0.45079958731707725"
      ]
     },
     "execution_count": 6,
     "metadata": {},
     "output_type": "execute_result"
    }
   ],
   "source": [
    "from array import array\n",
    "from random import random\n",
    "floats = array('d', (random() for i in range(10**7)))\n",
    "floats[-1]"
   ]
  },
  {
   "cell_type": "code",
   "execution_count": 7,
   "id": "5ad533f0",
   "metadata": {},
   "outputs": [],
   "source": [
    "fp = open('materials/floats.bin', 'wb')\n",
    "# Save the array to a binary file.\n",
    "floats.tofile(fp)\n",
    "fp.close()"
   ]
  },
  {
   "cell_type": "code",
   "execution_count": 8,
   "id": "85ec252e",
   "metadata": {},
   "outputs": [
    {
     "data": {
      "text/plain": [
       "0.45079958731707725"
      ]
     },
     "execution_count": 8,
     "metadata": {},
     "output_type": "execute_result"
    }
   ],
   "source": [
    "# Create an empty array of doubles.\n",
    "floats2 = array('d')\n",
    "fp = open('materials/floats.bin', 'rb')\n",
    "# Read 10 million numbers from the binary file.\n",
    "floats2.fromfile(fp, 10**7)\n",
    "fp.close()\n",
    "floats2[-1]"
   ]
  },
  {
   "cell_type": "code",
   "execution_count": 9,
   "id": "36489111",
   "metadata": {},
   "outputs": [
    {
     "data": {
      "text/plain": [
       "True"
      ]
     },
     "execution_count": 9,
     "metadata": {},
     "output_type": "execute_result"
    }
   ],
   "source": [
    "# Verify that the contents of the arrays match.\n",
    "floats2 == floats"
   ]
  },
  {
   "cell_type": "markdown",
   "id": "49a5acdd",
   "metadata": {},
   "source": [
    "![Figure 30](https://raw.githubusercontent.com/berserkhmdvhb/Training-Python/main/figures/Part_I/30.PNG)"
   ]
  },
  {
   "cell_type": "markdown",
   "id": "8cb64a5b",
   "metadata": {},
   "source": [
    "![Figure 31](https://raw.githubusercontent.com/berserkhmdvhb/Training-Python/main/figures/Part_I/31.PNG)"
   ]
  },
  {
   "cell_type": "markdown",
   "id": "5a13ef3c",
   "metadata": {},
   "source": [
    "## Memory Views"
   ]
  },
  {
   "cell_type": "markdown",
   "id": "35457be7",
   "metadata": {},
   "source": [
    "The built-in memoryview class is a shared-memory sequence type that lets you handle slices of arrays without copying bytes. It was inspired by the NumPy library. Travis Oliphant, lead author of NumPy, answers the question, [\"When should a memoryview be used?\"](https://fpy.li/2-17) like this:\n",
    "\n",
    "> A memoryview is essentially a generalized NumPy array structure in Python itself\n",
    "(without the math). It allows you to share memory between data-structures (things like\n",
    "PIL images, SQLite databases, NumPy arrays, etc.) without first copying. This is very\n",
    "important for large data sets."
   ]
  },
  {
   "cell_type": "markdown",
   "id": "6bed1ef4",
   "metadata": {},
   "source": [
    "Using notation similar to the `array` module, the `memoryview.cast` method lets you change the way multiple bytes are read or written as units without moving bits around. `memoryview.cast` returns yet another `memoryview` object, always sharing the same memory."
   ]
  },
  {
   "cell_type": "markdown",
   "id": "49a714aa",
   "metadata": {},
   "source": [
    "**Example:** How to create alternate views on the same array of 6 bytes, to\n",
    "operate on it as a 2×3 matrix or a 3×2 matrix."
   ]
  },
  {
   "cell_type": "code",
   "execution_count": 10,
   "id": "9d732814",
   "metadata": {},
   "outputs": [
    {
     "data": {
      "text/plain": [
       "array('B', [0, 1, 2, 3, 4, 5])"
      ]
     },
     "execution_count": 10,
     "metadata": {},
     "output_type": "execute_result"
    }
   ],
   "source": [
    "from array import array\n",
    "# Build array of 6 bytes (typecode 'B').\n",
    "octets = array('B', range(6))\n",
    "octets"
   ]
  },
  {
   "cell_type": "code",
   "execution_count": 11,
   "id": "2291d7c6",
   "metadata": {},
   "outputs": [
    {
     "data": {
      "text/plain": [
       "[0, 1, 2, 3, 4, 5]"
      ]
     },
     "execution_count": 11,
     "metadata": {},
     "output_type": "execute_result"
    }
   ],
   "source": [
    "# Build memoryview from that array, then export it as a list.\n",
    "m1 = memoryview(octets)\n",
    "m1.tolist()"
   ]
  },
  {
   "cell_type": "code",
   "execution_count": 12,
   "id": "4952920b",
   "metadata": {},
   "outputs": [
    {
     "data": {
      "text/plain": [
       "[[0, 1, 2], [3, 4, 5]]"
      ]
     },
     "execution_count": 12,
     "metadata": {},
     "output_type": "execute_result"
    }
   ],
   "source": [
    "# Build new memoryview from that previous one, but with 2 rows and 3 columns\n",
    "m2 = m1.cast('B', [2, 3])\n",
    "m2.tolist()"
   ]
  },
  {
   "cell_type": "code",
   "execution_count": 13,
   "id": "d4f3b0db",
   "metadata": {},
   "outputs": [
    {
     "data": {
      "text/plain": [
       "[[0, 1], [2, 3], [4, 5]]"
      ]
     },
     "execution_count": 13,
     "metadata": {},
     "output_type": "execute_result"
    }
   ],
   "source": [
    "# 3 rows 2 columns\n",
    "m3 = m1.cast('B', [3, 2])\n",
    "m3.tolist()"
   ]
  },
  {
   "cell_type": "code",
   "execution_count": 14,
   "id": "560dc85a",
   "metadata": {},
   "outputs": [
    {
     "data": {
      "text/plain": [
       "array('B', [0, 1, 2, 33, 22, 5])"
      ]
     },
     "execution_count": 14,
     "metadata": {},
     "output_type": "execute_result"
    }
   ],
   "source": [
    "# proving that the memory was shared among octets, m1, m2, and m3.\n",
    "m2[1, 1] = 22\n",
    "m3[1, 1] = 33\n",
    "octets"
   ]
  },
  {
   "cell_type": "markdown",
   "id": "71849273",
   "metadata": {},
   "source": [
    "**Example:** How to to change a single byte of an item in an array of 16-bit integers."
   ]
  },
  {
   "cell_type": "code",
   "execution_count": 15,
   "id": "f4b64d29",
   "metadata": {},
   "outputs": [
    {
     "data": {
      "text/plain": [
       "[-2, -1, 0, 1, 2]"
      ]
     },
     "execution_count": 15,
     "metadata": {},
     "output_type": "execute_result"
    }
   ],
   "source": [
    "numbers = array('h', [-2, -1, 0, 1, 2])\n",
    "# Build memoryview from array of 5 16-bit signed integers (typecode 'h').\n",
    "memv = memoryview(numbers)\n",
    "memv.tolist()"
   ]
  },
  {
   "cell_type": "code",
   "execution_count": 16,
   "id": "d017fcdd",
   "metadata": {},
   "outputs": [
    {
     "data": {
      "text/plain": [
       "-2"
      ]
     },
     "execution_count": 16,
     "metadata": {},
     "output_type": "execute_result"
    }
   ],
   "source": [
    "memv[0]"
   ]
  },
  {
   "cell_type": "code",
   "execution_count": 17,
   "id": "9fbd67e1",
   "metadata": {},
   "outputs": [
    {
     "data": {
      "text/plain": [
       "[254, 255, 255, 255, 0, 0, 1, 0, 2, 0]"
      ]
     },
     "execution_count": 17,
     "metadata": {},
     "output_type": "execute_result"
    }
   ],
   "source": [
    "# Create memv_oct by casting the elements of memv to bytes (typecode 'B').\n",
    "memv_oct = memv.cast('B')\n",
    "# Export elements of memv_oct as a list of 10 bytes, for inspection.\n",
    "memv_oct.tolist()"
   ]
  },
  {
   "cell_type": "markdown",
   "id": "8e3af32d",
   "metadata": {},
   "source": [
    "Explanation of values transformed:\n",
    "\n",
    "| Int Value | 16-bit Binary        | Bytes (little-endian)  | Interpreted Unsigned Bytes  |\n",
    "|-----------|----------------------|------------------------|-----------------------------|\n",
    "|    -2     | 11111111 11111110    | 0xFE 0xFF              | 254, 255                    |\n",
    "|    -1     | 11111111 11111111    | 0xFF 0xFF              | 255, 255                    |\n",
    "|     0     | 00000000 00000000    | 0x00 0x00              | 0, 0                        |\n",
    "|     1     | 00000000 00000001    | 0x01 0x00              | 1, 0                        |\n",
    "|     2     | 00000000 00000010    | 0x02 0x00              | 2, 0                        |\n",
    "|     4     | 00000000 00000100    | 0x04 0x00              | 4, 0                        |\n",
    "|  1024     | 00000100 00000000    | 0x00 0x04              | 0, 4                        |"
   ]
  },
  {
   "cell_type": "code",
   "execution_count": 18,
   "id": "5ad16ff9",
   "metadata": {},
   "outputs": [
    {
     "data": {
      "text/plain": [
       "[254, 255, 255, 255, 0, 4, 1, 0, 2, 0]"
      ]
     },
     "execution_count": 18,
     "metadata": {},
     "output_type": "execute_result"
    }
   ],
   "source": [
    "# a 4 in the most significant byte of a 2-byte unsigned integer is 1024.\n",
    "memv_oct[5] = 4\n",
    "memv_oct.tolist()"
   ]
  },
  {
   "cell_type": "code",
   "execution_count": 19,
   "id": "9aa0c97f",
   "metadata": {},
   "outputs": [
    {
     "data": {
      "text/plain": [
       "array('h', [-2, -1, 1024, 1, 2])"
      ]
     },
     "execution_count": 19,
     "metadata": {},
     "output_type": "execute_result"
    }
   ],
   "source": [
    "numbers"
   ]
  },
  {
   "cell_type": "markdown",
   "id": "7233ad8f",
   "metadata": {},
   "source": [
    "```\n",
    "[0,4]\n",
    "\n",
    "First byte = 0 → 00000000 (low byte)\n",
    "\n",
    "Second byte = 4 → 00000100 (high byte)\n",
    "\n",
    "high byte + low byte = 00000100 00000000\n",
    "\n",
    "   4           0     \n",
    "00000100   00000000  \n",
    "   ↑           ↑     \n",
    "high byte   low byte \n",
    "```\n",
    "$$2^{10} = 1024$$"
   ]
  },
  {
   "cell_type": "markdown",
   "id": "1c80fabe",
   "metadata": {},
   "source": [
    "![Figure 32](https://raw.githubusercontent.com/berserkhmdvhb/Training-Python/main/figures/Part_I/32.PNG)"
   ]
  },
  {
   "cell_type": "markdown",
   "id": "0d83e5f9",
   "metadata": {},
   "source": [
    "Link: [fluentpython.com: “Parsing binary records with struct”.](https://fpy.li/2-18)"
   ]
  },
  {
   "cell_type": "markdown",
   "id": "0fa246b6",
   "metadata": {},
   "source": [
    "Meanwhile, if you are doing advanced numeric processing in arrays, you should be\n",
    "using the NumPy libraries."
   ]
  },
  {
   "cell_type": "markdown",
   "id": "0a70c965",
   "metadata": {},
   "source": [
    "## NumPy"
   ]
  },
  {
   "cell_type": "markdown",
   "id": "24608d8d",
   "metadata": {},
   "source": [
    "NumPy implements multidimensional, homogeneous arrays and matrix types that hold not only numbers but also user-defined records, and provides efficient element-wise operations.\n",
    "\n",
    "SciPy is a library, written on top of NumPy, offering many scientific computing algorithms from linear algebra, numerical calculus, and statistics. SciPy is fast and reliable because it leverages the widely used C and Fortran codebase from the [Netlib Repository](https://fpy.li/2-19). In other words, SciPy gives scientists the best of both worlds: an interactive prompt and high-level Python APIs, together with industrial-strength numbercrunching functions optimized in C and Fortran."
   ]
  },
  {
   "cell_type": "markdown",
   "id": "e624d615",
   "metadata": {},
   "source": [
    "**Basic operations with twodimensional arrays**"
   ]
  },
  {
   "cell_type": "code",
   "execution_count": 20,
   "id": "ba71fd9c",
   "metadata": {},
   "outputs": [
    {
     "data": {
      "text/plain": [
       "array([ 0,  1,  2,  3,  4,  5,  6,  7,  8,  9, 10, 11])"
      ]
     },
     "execution_count": 20,
     "metadata": {},
     "output_type": "execute_result"
    }
   ],
   "source": [
    "import numpy as np\n",
    "a = np.arange(12)\n",
    "a"
   ]
  },
  {
   "cell_type": "code",
   "execution_count": 21,
   "id": "05b37a87",
   "metadata": {},
   "outputs": [
    {
     "data": {
      "text/plain": [
       "numpy.ndarray"
      ]
     },
     "execution_count": 21,
     "metadata": {},
     "output_type": "execute_result"
    }
   ],
   "source": [
    "type(a)"
   ]
  },
  {
   "cell_type": "code",
   "execution_count": 22,
   "id": "e09ed1a6",
   "metadata": {},
   "outputs": [
    {
     "data": {
      "text/plain": [
       "(12,)"
      ]
     },
     "execution_count": 22,
     "metadata": {},
     "output_type": "execute_result"
    }
   ],
   "source": [
    "a.shape"
   ]
  },
  {
   "cell_type": "code",
   "execution_count": 23,
   "id": "c2a8c13a",
   "metadata": {},
   "outputs": [
    {
     "data": {
      "text/plain": [
       "array([[ 0,  1,  2,  3],\n",
       "       [ 4,  5,  6,  7],\n",
       "       [ 8,  9, 10, 11]])"
      ]
     },
     "execution_count": 23,
     "metadata": {},
     "output_type": "execute_result"
    }
   ],
   "source": [
    "a.shape = 3, 4\n",
    "a"
   ]
  },
  {
   "cell_type": "code",
   "execution_count": 24,
   "id": "4597da12",
   "metadata": {},
   "outputs": [
    {
     "data": {
      "text/plain": [
       "array([ 8,  9, 10, 11])"
      ]
     },
     "execution_count": 24,
     "metadata": {},
     "output_type": "execute_result"
    }
   ],
   "source": [
    "a[2]"
   ]
  },
  {
   "cell_type": "code",
   "execution_count": 25,
   "id": "1a1f6bed",
   "metadata": {},
   "outputs": [
    {
     "data": {
      "text/plain": [
       "np.int64(9)"
      ]
     },
     "execution_count": 25,
     "metadata": {},
     "output_type": "execute_result"
    }
   ],
   "source": [
    "a[2, 1]"
   ]
  },
  {
   "cell_type": "code",
   "execution_count": 26,
   "id": "0cfbc53e",
   "metadata": {},
   "outputs": [
    {
     "data": {
      "text/plain": [
       "array([1, 5, 9])"
      ]
     },
     "execution_count": 26,
     "metadata": {},
     "output_type": "execute_result"
    }
   ],
   "source": [
    "a[:, 1]"
   ]
  },
  {
   "cell_type": "markdown",
   "id": "72992807",
   "metadata": {},
   "source": [
    "**High-level operations for loading, saving, and operating on all elements of a numpy.ndarray**"
   ]
  },
  {
   "cell_type": "code",
   "execution_count": 27,
   "id": "8d579ebc",
   "metadata": {},
   "outputs": [
    {
     "data": {
      "text/plain": [
       "array([[ 0,  4,  8],\n",
       "       [ 1,  5,  9],\n",
       "       [ 2,  6, 10],\n",
       "       [ 3,  7, 11]])"
      ]
     },
     "execution_count": 27,
     "metadata": {},
     "output_type": "execute_result"
    }
   ],
   "source": [
    "a.transpose()"
   ]
  },
  {
   "cell_type": "code",
   "execution_count": 28,
   "id": "433582a3",
   "metadata": {},
   "outputs": [
    {
     "data": {
      "text/plain": [
       "array([[ 1.49890e+04,  7.05410e-02, -2.29033e-01,  0.00000e+00],\n",
       "       [ 1.49900e+04,  7.64190e-02, -2.29033e-01,  0.00000e+00],\n",
       "       [ 1.49910e+04,  7.93580e-02, -2.34926e-01,  0.00000e+00]])"
      ]
     },
     "execution_count": 28,
     "metadata": {},
     "output_type": "execute_result"
    }
   ],
   "source": [
    "import numpy\n",
    "floats = numpy.loadtxt('materials/floats-10M-lines.txt')\n",
    "floats[-3:]"
   ]
  },
  {
   "cell_type": "code",
   "execution_count": 29,
   "id": "317697ea",
   "metadata": {},
   "outputs": [
    {
     "data": {
      "text/plain": [
       "array([[ 7.494500e+03,  3.527050e-02, -1.145165e-01,  0.000000e+00],\n",
       "       [ 7.495000e+03,  3.820950e-02, -1.145165e-01,  0.000000e+00],\n",
       "       [ 7.495500e+03,  3.967900e-02, -1.174630e-01,  0.000000e+00]])"
      ]
     },
     "execution_count": 29,
     "metadata": {},
     "output_type": "execute_result"
    }
   ],
   "source": [
    "floats *= .5\n",
    "floats[-3:]"
   ]
  },
  {
   "cell_type": "code",
   "execution_count": 30,
   "id": "176a302d",
   "metadata": {},
   "outputs": [
    {
     "data": {
      "text/plain": [
       "6.930000381544232e-05"
      ]
     },
     "execution_count": 30,
     "metadata": {},
     "output_type": "execute_result"
    }
   ],
   "source": [
    "# Import the high-resolution performance measurement timer\n",
    "from time import perf_counter as pc\n",
    "t0 = pc();\n",
    "floats /= 3;\n",
    "pc() - t0"
   ]
  },
  {
   "cell_type": "code",
   "execution_count": 31,
   "id": "6bb23216",
   "metadata": {},
   "outputs": [],
   "source": [
    "numpy.save('materials/floats-10M', floats)"
   ]
  },
  {
   "cell_type": "code",
   "execution_count": 32,
   "id": "99c7ca1d",
   "metadata": {},
   "outputs": [
    {
     "data": {
      "text/plain": [
       "memmap([[ 1.49890e+04,  7.05410e-02, -2.29033e-01,  0.00000e+00],\n",
       "        [ 1.49900e+04,  7.64190e-02, -2.29033e-01,  0.00000e+00],\n",
       "        [ 1.49910e+04,  7.93580e-02, -2.34926e-01,  0.00000e+00]])"
      ]
     },
     "execution_count": 32,
     "metadata": {},
     "output_type": "execute_result"
    }
   ],
   "source": [
    "floats2 = numpy.load('materials/floats-10M.npy', 'r+')\n",
    "floats2 *= 6\n",
    "floats2[-3:]"
   ]
  },
  {
   "cell_type": "markdown",
   "id": "4af7e499",
   "metadata": {},
   "source": [
    "## Deques and Other Queues"
   ]
  },
  {
   "cell_type": "markdown",
   "id": "2008d47e",
   "metadata": {},
   "source": [
    "The `.append` and `.pop` methods make a list usable as a stack or a queue (if you use `.append` and `.pop(0)`, you get FIFO behavior). But inserting and removing from the head of a list (the 0-index end) is costly because the entire list must be shifted in memory. \n",
    "\n",
    "The class `collections.deque` is a thread-safe double-ended queue designed for fast inserting and removing from both ends. It is also the way to go if you need to keep a list of “last seen items” or something of that nature, because a `deque` can be bounded —i.e., created with a fixed maximum length. If a bounded deque is full, when you add a new item, it discards an item from the opposite end."
   ]
  },
  {
   "cell_type": "code",
   "execution_count": 33,
   "id": "baa0eaa5",
   "metadata": {},
   "outputs": [
    {
     "data": {
      "text/plain": [
       "deque([0, 1, 2, 3, 4, 5, 6, 7, 8, 9], maxlen=10)"
      ]
     },
     "execution_count": 33,
     "metadata": {},
     "output_type": "execute_result"
    }
   ],
   "source": [
    "from collections import deque\n",
    "dq = deque(range(10), maxlen=10)\n",
    "dq"
   ]
  },
  {
   "cell_type": "code",
   "execution_count": 34,
   "id": "f5c0681e",
   "metadata": {},
   "outputs": [
    {
     "data": {
      "text/plain": [
       "deque([7, 8, 9, 0, 1, 2, 3, 4, 5, 6], maxlen=10)"
      ]
     },
     "execution_count": 34,
     "metadata": {},
     "output_type": "execute_result"
    }
   ],
   "source": [
    "dq.rotate(3)\n",
    "dq"
   ]
  },
  {
   "cell_type": "markdown",
   "id": "a2d6e907",
   "metadata": {},
   "source": [
    "Rotating with `n > 0` takes items from the right end and prepends them to the\n",
    "left; when `n < 0` items are taken from left and appended to the right."
   ]
  },
  {
   "cell_type": "code",
   "execution_count": 35,
   "id": "ef974093",
   "metadata": {},
   "outputs": [
    {
     "data": {
      "text/plain": [
       "deque([1, 2, 3, 4, 5, 6, 7, 8, 9, 0], maxlen=10)"
      ]
     },
     "execution_count": 35,
     "metadata": {},
     "output_type": "execute_result"
    }
   ],
   "source": [
    "dq.rotate(-4)\n",
    "dq"
   ]
  },
  {
   "cell_type": "code",
   "execution_count": 36,
   "id": "3d3f8e2c",
   "metadata": {},
   "outputs": [
    {
     "data": {
      "text/plain": [
       "deque([-1, 1, 2, 3, 4, 5, 6, 7, 8, 9], maxlen=10)"
      ]
     },
     "execution_count": 36,
     "metadata": {},
     "output_type": "execute_result"
    }
   ],
   "source": [
    "dq.appendleft(-1)\n",
    "dq"
   ]
  },
  {
   "cell_type": "markdown",
   "id": "ff9dedb4",
   "metadata": {},
   "source": [
    "Appending to a deque that is full `(len(d) == d.maxlen)` discards items from the other end;"
   ]
  },
  {
   "cell_type": "code",
   "execution_count": 37,
   "id": "1dd16c06",
   "metadata": {},
   "outputs": [],
   "source": [
    "dq.extend([11, 22, 33])"
   ]
  },
  {
   "cell_type": "code",
   "execution_count": 38,
   "id": "005847a2",
   "metadata": {},
   "outputs": [
    {
     "data": {
      "text/plain": [
       "deque([3, 4, 5, 6, 7, 8, 9, 11, 22, 33], maxlen=10)"
      ]
     },
     "execution_count": 38,
     "metadata": {},
     "output_type": "execute_result"
    }
   ],
   "source": [
    "dq"
   ]
  },
  {
   "cell_type": "markdown",
   "id": "a76bfd33",
   "metadata": {},
   "source": [
    "**Note:** But there is a hidden cost: removing items from the middle of a deque is not as fast. It is really optimized for appending\n",
    "and popping from the ends."
   ]
  },
  {
   "cell_type": "markdown",
   "id": "af37bc1d",
   "metadata": {},
   "source": [
    "![Figure 33](https://raw.githubusercontent.com/berserkhmdvhb/Training-Python/main/figures/Part_I/33.PNG)"
   ]
  }
 ],
 "metadata": {
  "kernelspec": {
   "display_name": "env_train",
   "language": "python",
   "name": "python3"
  },
  "language_info": {
   "codemirror_mode": {
    "name": "ipython",
    "version": 3
   },
   "file_extension": ".py",
   "mimetype": "text/x-python",
   "name": "python",
   "nbconvert_exporter": "python",
   "pygments_lexer": "ipython3",
   "version": "3.13.0"
  }
 },
 "nbformat": 4,
 "nbformat_minor": 5
}

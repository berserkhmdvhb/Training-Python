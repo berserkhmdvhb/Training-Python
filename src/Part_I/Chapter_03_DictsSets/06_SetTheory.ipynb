{
 "cells": [
  {
   "cell_type": "markdown",
   "id": "b1128145",
   "metadata": {},
   "source": [
    "# Chapter 3. Dictionaries and Sets\n",
    "---"
   ]
  },
  {
   "cell_type": "markdown",
   "id": "0b4249ab",
   "metadata": {},
   "source": [
    "## ToC\n",
    "\n",
    "\n",
    "1. [Set Theory](#set-theory)  \n",
    "    1.1. [Set Literals](#set-literals)  \n",
    "    1.2. [Set Comprehensions](#set-comprehensions)  \n",
    "2. [Practical Consequences of How Sets Work](#practical-consequences-of-how-sets-work)\n",
    "\n",
    "---"
   ]
  },
  {
   "cell_type": "markdown",
   "id": "23958778",
   "metadata": {},
   "source": [
    "## Set Theory"
   ]
  },
  {
   "cell_type": "markdown",
   "id": "a050a387",
   "metadata": {},
   "source": [
    "A set is a collection of unique objects. A basic use case is removing duplication:"
   ]
  },
  {
   "cell_type": "code",
   "execution_count": 1,
   "id": "d04f35d3",
   "metadata": {},
   "outputs": [
    {
     "data": {
      "text/plain": [
       "{'bacon', 'eggs', 'spam'}"
      ]
     },
     "execution_count": 1,
     "metadata": {},
     "output_type": "execute_result"
    }
   ],
   "source": [
    "l = ['spam', 'spam', 'eggs', 'spam', 'bacon', 'eggs']\n",
    "set(l)"
   ]
  },
  {
   "cell_type": "code",
   "execution_count": 3,
   "id": "db47a905",
   "metadata": {},
   "outputs": [
    {
     "data": {
      "text/plain": [
       "['eggs', 'spam', 'bacon']"
      ]
     },
     "execution_count": 3,
     "metadata": {},
     "output_type": "execute_result"
    }
   ],
   "source": [
    "list(set(l))"
   ]
  },
  {
   "cell_type": "markdown",
   "id": "ec2e3dfb",
   "metadata": {},
   "source": [
    "![Figure 41](https://raw.githubusercontent.com/berserkhmdvhb/Training-Python/main/figures/Part_I/41.PNG)"
   ]
  },
  {
   "cell_type": "markdown",
   "id": "8c18f851",
   "metadata": {},
   "source": [
    "Set elements must be hashable. The `set` type is not hashable, so you can’t build a `set` with nested `set` instances. But `frozenset` is hashable, so you can have `frozenset` elements inside a `set`."
   ]
  },
  {
   "cell_type": "code",
   "execution_count": 11,
   "id": "305f28bb",
   "metadata": {},
   "outputs": [
    {
     "data": {
      "text/plain": [
       "{'spam': None, 'eggs': None, 'bacon': None}"
      ]
     },
     "execution_count": 11,
     "metadata": {},
     "output_type": "execute_result"
    }
   ],
   "source": [
    "dict.fromkeys(l)"
   ]
  },
  {
   "cell_type": "code",
   "execution_count": 12,
   "id": "2050d488",
   "metadata": {},
   "outputs": [
    {
     "data": {
      "text/plain": [
       "dict_keys(['spam', 'eggs', 'bacon'])"
      ]
     },
     "execution_count": 12,
     "metadata": {},
     "output_type": "execute_result"
    }
   ],
   "source": [
    "dict.fromkeys(l).keys()"
   ]
  },
  {
   "cell_type": "code",
   "execution_count": 13,
   "id": "595c0bf9",
   "metadata": {},
   "outputs": [
    {
     "data": {
      "text/plain": [
       "['spam', 'eggs', 'bacon']"
      ]
     },
     "execution_count": 13,
     "metadata": {},
     "output_type": "execute_result"
    }
   ],
   "source": [
    "list(dict.fromkeys(l).keys())"
   ]
  },
  {
   "cell_type": "markdown",
   "id": "7aa97595",
   "metadata": {},
   "source": [
    "#### Set Operations\n",
    "\n",
    "- `a | b`: union\n",
    "- `a & b`: intersection\n",
    "- `a - b`: difference\n",
    "- `a ^ b`: symmetric difference"
   ]
  },
  {
   "cell_type": "markdown",
   "id": "418a9048",
   "metadata": {},
   "source": [
    "#### Methods for finding needle in a haystack"
   ]
  },
  {
   "cell_type": "markdown",
   "id": "b50d7acd",
   "metadata": {},
   "source": [
    "For example, imagine you have a large set of email addresses (the `haystack`) and a\n",
    "smaller set of addresses (the `needles`) and you need to count how many `needles`\n",
    "occur in the `haystack`."
   ]
  },
  {
   "cell_type": "code",
   "execution_count": 21,
   "id": "d1fced15",
   "metadata": {},
   "outputs": [
    {
     "data": {
      "text/plain": [
       "4"
      ]
     },
     "execution_count": 21,
     "metadata": {},
     "output_type": "execute_result"
    }
   ],
   "source": [
    "# Method 1: Requires both needles and haystack objects to be sets\n",
    "needles = {1, 2, 3, 4}\n",
    "haystack = {2, 4, 6, 3, 1, 3, 4}\n",
    "found = len(needles & haystack)\n",
    "found"
   ]
  },
  {
   "cell_type": "code",
   "execution_count": 22,
   "id": "8e3456b5",
   "metadata": {},
   "outputs": [
    {
     "data": {
      "text/plain": [
       "4"
      ]
     },
     "execution_count": 22,
     "metadata": {},
     "output_type": "execute_result"
    }
   ],
   "source": [
    "# Method 2: Works on any object, but takes longer\n",
    "found = 0\n",
    "for n in needles:\n",
    "    if n in haystack:\n",
    "        found += 1\n",
    "found"
   ]
  },
  {
   "cell_type": "code",
   "execution_count": 23,
   "id": "a081b367",
   "metadata": {},
   "outputs": [
    {
     "data": {
      "text/plain": [
       "4"
      ]
     },
     "execution_count": 23,
     "metadata": {},
     "output_type": "execute_result"
    }
   ],
   "source": [
    "# Method 3: Build sets on the fly\n",
    "found = len(set(needles) & set(haystack))\n",
    "found"
   ]
  },
  {
   "cell_type": "code",
   "execution_count": null,
   "id": "9031ae83",
   "metadata": {},
   "outputs": [
    {
     "data": {
      "text/plain": [
       "4"
      ]
     },
     "execution_count": 24,
     "metadata": {},
     "output_type": "execute_result"
    }
   ],
   "source": [
    "# Method 4: When one object is set, and another isn't\n",
    "found = len(set(needles).intersection(haystack))\n",
    "found"
   ]
  },
  {
   "cell_type": "markdown",
   "id": "d02b7254",
   "metadata": {},
   "source": [
    "### Set Literals"
   ]
  },
  {
   "cell_type": "markdown",
   "id": "dcd8a097",
   "metadata": {},
   "source": [
    "![Figure 42](https://raw.githubusercontent.com/berserkhmdvhb/Training-Python/main/figures/Part_I/42.PNG)"
   ]
  },
  {
   "cell_type": "code",
   "execution_count": 25,
   "id": "f94b9081",
   "metadata": {},
   "outputs": [
    {
     "data": {
      "text/plain": [
       "set"
      ]
     },
     "execution_count": 25,
     "metadata": {},
     "output_type": "execute_result"
    }
   ],
   "source": [
    "s = {1}\n",
    "type(s)"
   ]
  },
  {
   "cell_type": "code",
   "execution_count": 26,
   "id": "bdcea4c0",
   "metadata": {},
   "outputs": [
    {
     "data": {
      "text/plain": [
       "{1}"
      ]
     },
     "execution_count": 26,
     "metadata": {},
     "output_type": "execute_result"
    }
   ],
   "source": [
    "s"
   ]
  },
  {
   "cell_type": "code",
   "execution_count": 27,
   "id": "345aafc7",
   "metadata": {},
   "outputs": [
    {
     "data": {
      "text/plain": [
       "1"
      ]
     },
     "execution_count": 27,
     "metadata": {},
     "output_type": "execute_result"
    }
   ],
   "source": [
    "s.pop()"
   ]
  },
  {
   "cell_type": "code",
   "execution_count": 28,
   "id": "b354a62c",
   "metadata": {},
   "outputs": [
    {
     "data": {
      "text/plain": [
       "set()"
      ]
     },
     "execution_count": 28,
     "metadata": {},
     "output_type": "execute_result"
    }
   ],
   "source": [
    "s"
   ]
  },
  {
   "cell_type": "code",
   "execution_count": 30,
   "id": "d2ef945a",
   "metadata": {},
   "outputs": [
    {
     "data": {
      "text/plain": [
       "dict"
      ]
     },
     "execution_count": 30,
     "metadata": {},
     "output_type": "execute_result"
    }
   ],
   "source": [
    "d = {}\n",
    "type(d)"
   ]
  },
  {
   "cell_type": "markdown",
   "id": "4f46e0f9",
   "metadata": {},
   "source": [
    "Literal set syntax like `{1, 2, 3}` is both faster and more readable than calling the\n",
    "constructor (e.g., `set([1, 2, 3])`). The latter form is slower because, to evaluate it,\n",
    "Python has to look up the set name to fetch the constructor, then build a list, and\n",
    "finally pass it to the constructor. In contrast, to process a literal like `{1, 2, 3}`,\n",
    "Python runs a specialized `BUILD_SET` bytecode."
   ]
  },
  {
   "cell_type": "markdown",
   "id": "ead27106",
   "metadata": {},
   "source": [
    "There is no special syntax to represent `frozenset` literals—they must be created by\n",
    "calling the constructor:"
   ]
  },
  {
   "cell_type": "code",
   "execution_count": 31,
   "id": "090f374f",
   "metadata": {},
   "outputs": [
    {
     "data": {
      "text/plain": [
       "frozenset({0, 1, 2, 3, 4, 5, 6, 7, 8, 9})"
      ]
     },
     "execution_count": 31,
     "metadata": {},
     "output_type": "execute_result"
    }
   ],
   "source": [
    "frozenset(range(10))"
   ]
  },
  {
   "cell_type": "markdown",
   "id": "e2cc7c53",
   "metadata": {},
   "source": [
    "### Set Comprehensions"
   ]
  },
  {
   "cell_type": "markdown",
   "id": "ecf84824",
   "metadata": {},
   "source": [
    "The idea of listcomps was adapted to build sets as well.\n",
    "\n",
    "**Example:** Build a set of Latin-1 characters that have the word “SIGN” in their\n",
    "Unicode names"
   ]
  },
  {
   "cell_type": "code",
   "execution_count": 38,
   "id": "76cedb95",
   "metadata": {},
   "outputs": [
    {
     "data": {
      "text/plain": [
       "{'', 'EXCLAMATION MARK', 'QUOTATION MARK', 'SPACE'}"
      ]
     },
     "execution_count": 38,
     "metadata": {},
     "output_type": "execute_result"
    }
   ],
   "source": [
    "{name(chr(i),'') for i in range(31,35)}"
   ]
  },
  {
   "cell_type": "code",
   "execution_count": 39,
   "id": "1dff4c49",
   "metadata": {},
   "outputs": [
    {
     "data": {
      "text/plain": [
       "{'#',\n",
       " '$',\n",
       " '%',\n",
       " '+',\n",
       " '<',\n",
       " '=',\n",
       " '>',\n",
       " '¢',\n",
       " '£',\n",
       " '¤',\n",
       " '¥',\n",
       " '§',\n",
       " '©',\n",
       " '¬',\n",
       " '®',\n",
       " '°',\n",
       " '±',\n",
       " 'µ',\n",
       " '¶',\n",
       " '×',\n",
       " '÷'}"
      ]
     },
     "execution_count": 39,
     "metadata": {},
     "output_type": "execute_result"
    }
   ],
   "source": [
    "from unicodedata import name\n",
    "{chr(i) for i in range(32, 256) if 'SIGN' in name(chr(i),'')}"
   ]
  },
  {
   "cell_type": "markdown",
   "id": "34af5e10",
   "metadata": {},
   "source": [
    "## Practical Consequences of How Sets Work"
   ]
  },
  {
   "cell_type": "markdown",
   "id": "5fcaff32",
   "metadata": {},
   "source": [
    "The `set` and `frozenset` types are both implemented with a hash table. This has these effects:\n",
    "\n",
    "- Set elements must be hashable objects. They must implement proper `__hash__` and `__eq__` methods.\n",
    "- Membership testing is very efficient.\n",
    "- Sets have a significant memory overhead, compared to a low-level array pointers to its elements—which would be more compact but also much slower to search beyond a handful of elements.\n",
    "- Element ordering depends on insertion order, but not in a useful or reliable way. If two elements are different but have the same hash code, their position depends on which element is added first."
   ]
  },
  {
   "cell_type": "markdown",
   "id": "ba0a0939",
   "metadata": {},
   "source": []
  }
 ],
 "metadata": {
  "kernelspec": {
   "display_name": "env_train",
   "language": "python",
   "name": "python3"
  },
  "language_info": {
   "codemirror_mode": {
    "name": "ipython",
    "version": 3
   },
   "file_extension": ".py",
   "mimetype": "text/x-python",
   "name": "python",
   "nbconvert_exporter": "python",
   "pygments_lexer": "ipython3",
   "version": "3.13.0"
  }
 },
 "nbformat": 4,
 "nbformat_minor": 5
}

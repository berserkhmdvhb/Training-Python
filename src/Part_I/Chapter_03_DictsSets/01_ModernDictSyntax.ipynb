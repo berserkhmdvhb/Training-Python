{
 "cells": [
  {
   "cell_type": "markdown",
   "id": "96288da5",
   "metadata": {},
   "source": [
    "# Chapter 3. Dictionaries and Sets\n",
    "---"
   ]
  },
  {
   "cell_type": "markdown",
   "id": "2e51997e",
   "metadata": {},
   "source": [
    "## ToC\n",
    "\n",
    "[Objectives](#objectives)\n",
    "\n",
    "[Modern Dict Syntax](#modern-dict-syntax)  \n",
    "    1. [dict Comprehensions](#dict-comprehensions)  \n",
    "    2. [Unpacking Mappings](#unpacking-mappings)  \n",
    "    3. [Merging Mappings with |](#merging-mappings-with-|)\n",
    "\n",
    "---"
   ]
  },
  {
   "cell_type": "markdown",
   "id": "bd3f7fba",
   "metadata": {},
   "source": [
    "## Objectives\n",
    "- Modern syntax to build and handle dicts and mappings, including enhanced\n",
    "unpacking and pattern matching\n",
    "- Common methods of mapping types\n",
    "- Special handling for missing keys\n",
    "- Variations of dict in the standard library\n",
    "- The set and frozenset types\n",
    "- Implications of hash tables in the behavior of sets and dictionaries"
   ]
  },
  {
   "cell_type": "markdown",
   "id": "049913a4",
   "metadata": {},
   "source": [
    "## Modern dict Syntax"
   ]
  },
  {
   "cell_type": "markdown",
   "id": "42858a7c",
   "metadata": {},
   "source": [
    "### dict Comprehensions"
   ]
  },
  {
   "cell_type": "markdown",
   "id": "f172f1e7",
   "metadata": {},
   "source": [
    "A dictcomp (dict comprehension) builds a `dict` instance by taking `key:value` pairs from any iterable."
   ]
  },
  {
   "cell_type": "markdown",
   "id": "6d14fd28",
   "metadata": {},
   "source": [
    "**Example:** Usage of dict comprehensions to build two dictionaries from the same list of tuples."
   ]
  },
  {
   "cell_type": "code",
   "execution_count": 1,
   "id": "49fca460",
   "metadata": {},
   "outputs": [
    {
     "data": {
      "text/plain": [
       "{'Bangladesh': 880,\n",
       " 'Brazil': 55,\n",
       " 'China': 86,\n",
       " 'India': 91,\n",
       " 'Indonesia': 62,\n",
       " 'Japan': 81,\n",
       " 'Nigeria': 234,\n",
       " 'Pakistan': 92,\n",
       " 'Russia': 7,\n",
       " 'United States': 1}"
      ]
     },
     "execution_count": 1,
     "metadata": {},
     "output_type": "execute_result"
    }
   ],
   "source": [
    "dial_codes = [\n",
    "    (880, 'Bangladesh'),\n",
    "    (55, 'Brazil'),\n",
    "    (86, 'China'),\n",
    "    (91, 'India'),\n",
    "    (62, 'Indonesia'),\n",
    "    (81, 'Japan'),\n",
    "    (234, 'Nigeria'),\n",
    "    (92, 'Pakistan'),\n",
    "    (7, 'Russia'),\n",
    "    (1, 'United States'),\n",
    "]\n",
    "country_dial = {country: code for code, country in dial_codes}\n",
    "country_dial"
   ]
  },
  {
   "cell_type": "code",
   "execution_count": 2,
   "id": "56bfa7db",
   "metadata": {},
   "outputs": [
    {
     "data": {
      "text/plain": [
       "{55: 'BRAZIL', 62: 'INDONESIA', 7: 'RUSSIA', 1: 'UNITED STATES'}"
      ]
     },
     "execution_count": 2,
     "metadata": {},
     "output_type": "execute_result"
    }
   ],
   "source": [
    "{code: country.upper()\n",
    "    for country, code in sorted(country_dial.items())\n",
    "    if code < 70\n",
    "}"
   ]
  },
  {
   "cell_type": "markdown",
   "id": "e0bccadc",
   "metadata": {},
   "source": [
    "### Unpacking Mappings"
   ]
  },
  {
   "cell_type": "markdown",
   "id": "7fc4b939",
   "metadata": {},
   "source": [
    "[PEP 448 – Additional Unpacking Generalizations](https://fpy.li/pep448) enhanced the support of mapping\n",
    "unpackings in two ways, since Python 3.5.\n",
    "1. We can apply `**` to more than one argument in a function call. This works when keys are all strings and unique across all arguments (because duplicate keyword arguments are forbidden):"
   ]
  },
  {
   "cell_type": "code",
   "execution_count": 3,
   "id": "ccf1d7bb",
   "metadata": {},
   "outputs": [
    {
     "data": {
      "text/plain": [
       "{'x': 1, 'x2': 2, 'y': 2, 'z': 3}"
      ]
     },
     "execution_count": 3,
     "metadata": {},
     "output_type": "execute_result"
    }
   ],
   "source": [
    "def dump(**kwargs):\n",
    "    return kwargs\n",
    "\n",
    "dump(**{'x': 1, 'x2': 2}, y=2, **{'z': 3})"
   ]
  },
  {
   "cell_type": "code",
   "execution_count": 4,
   "id": "acfcd070",
   "metadata": {},
   "outputs": [
    {
     "ename": "TypeError",
     "evalue": "keywords must be strings",
     "output_type": "error",
     "traceback": [
      "\u001b[31m---------------------------------------------------------------------------\u001b[39m",
      "\u001b[31mTypeError\u001b[39m                                 Traceback (most recent call last)",
      "\u001b[36mCell\u001b[39m\u001b[36m \u001b[39m\u001b[32mIn[4]\u001b[39m\u001b[32m, line 2\u001b[39m\n\u001b[32m      1\u001b[39m \u001b[38;5;66;03m# violation of string type error\u001b[39;00m\n\u001b[32m----> \u001b[39m\u001b[32m2\u001b[39m \u001b[43mdump\u001b[49m\u001b[43m(\u001b[49m\u001b[43m*\u001b[49m\u001b[43m*\u001b[49m\u001b[43m{\u001b[49m\u001b[33;43m'\u001b[39;49m\u001b[33;43ma\u001b[39;49m\u001b[33;43m'\u001b[39;49m\u001b[43m:\u001b[49m\u001b[43m \u001b[49m\u001b[32;43m1\u001b[39;49m\u001b[43m,\u001b[49m\u001b[43m \u001b[49m\u001b[33;43m'\u001b[39;49m\u001b[33;43mb\u001b[39;49m\u001b[33;43m'\u001b[39;49m\u001b[43m:\u001b[49m\u001b[43m \u001b[49m\u001b[32;43m2\u001b[39;49m\u001b[43m,\u001b[49m\u001b[43m \u001b[49m\u001b[32;43m2\u001b[39;49m\u001b[43m:\u001b[49m\u001b[32;43m3\u001b[39;49m\u001b[43m}\u001b[49m\u001b[43m)\u001b[49m\n",
      "\u001b[31mTypeError\u001b[39m: keywords must be strings"
     ]
    }
   ],
   "source": [
    "# violation of string type error\n",
    "dump(**{'a': 1, 'b': 2, 2:3})"
   ]
  },
  {
   "cell_type": "code",
   "execution_count": 5,
   "id": "046d070f",
   "metadata": {},
   "outputs": [
    {
     "ename": "TypeError",
     "evalue": "__main__.dump() got multiple values for keyword argument 'a'",
     "output_type": "error",
     "traceback": [
      "\u001b[31m---------------------------------------------------------------------------\u001b[39m",
      "\u001b[31mTypeError\u001b[39m                                 Traceback (most recent call last)",
      "\u001b[36mCell\u001b[39m\u001b[36m \u001b[39m\u001b[32mIn[5]\u001b[39m\u001b[32m, line 2\u001b[39m\n\u001b[32m      1\u001b[39m \u001b[38;5;66;03m# violation of unique keys\u001b[39;00m\n\u001b[32m----> \u001b[39m\u001b[32m2\u001b[39m dump(**{\u001b[33m'\u001b[39m\u001b[33ma\u001b[39m\u001b[33m'\u001b[39m: \u001b[32m1\u001b[39m, \u001b[33m'\u001b[39m\u001b[33mb\u001b[39m\u001b[33m'\u001b[39m: \u001b[32m2\u001b[39m, \u001b[32m2\u001b[39m:\u001b[32m3\u001b[39m}, a = \u001b[32m2\u001b[39m)\n",
      "\u001b[31mTypeError\u001b[39m: __main__.dump() got multiple values for keyword argument 'a'"
     ]
    }
   ],
   "source": [
    "# violation of unique keys\n",
    "dump(**{'a': 1, 'b': 2, 2:3}, a = 2)"
   ]
  },
  {
   "cell_type": "markdown",
   "id": "e3981ff2",
   "metadata": {},
   "source": [
    "In following example, Python will evaluate this dictionary before passing it to the function. When Python sees duplicate keys in a dictionary literal, it silently keeps only the last one."
   ]
  },
  {
   "cell_type": "code",
   "execution_count": 6,
   "id": "cb3f754d",
   "metadata": {},
   "outputs": [
    {
     "data": {
      "text/plain": [
       "{'a': 4}"
      ]
     },
     "execution_count": 6,
     "metadata": {},
     "output_type": "execute_result"
    }
   ],
   "source": [
    "dump(**{'a': 1, 'a': 1, 'a': 2, 'a': 4})"
   ]
  },
  {
   "cell_type": "code",
   "execution_count": 7,
   "id": "7afad28b",
   "metadata": {},
   "outputs": [
    {
     "data": {
      "text/plain": [
       "{'a': 0, 'x': 4, 'y': 2, 'z': 3}"
      ]
     },
     "execution_count": 7,
     "metadata": {},
     "output_type": "execute_result"
    }
   ],
   "source": [
    "{'a': 0, **{'x': 1}, 'y': 2, **{'z': 3, 'x': 4}}"
   ]
  },
  {
   "cell_type": "markdown",
   "id": "034d8f32",
   "metadata": {},
   "source": [
    "2. `**` can be used inside a dict literal—also multiple times:"
   ]
  },
  {
   "cell_type": "code",
   "execution_count": 8,
   "id": "c6fd3fa2",
   "metadata": {},
   "outputs": [
    {
     "data": {
      "text/plain": [
       "{'a': 0, 'x': 4, 'y': 2, 'z': 3}"
      ]
     },
     "execution_count": 8,
     "metadata": {},
     "output_type": "execute_result"
    }
   ],
   "source": [
    "{'a': 0, **{'x': 1}, 'y': 2, **{'z': 3, 'x': 4}}"
   ]
  },
  {
   "cell_type": "code",
   "execution_count": 9,
   "id": "e602d142",
   "metadata": {},
   "outputs": [
    {
     "data": {
      "text/plain": [
       "{'a': 0, 'x': 4, 'y': 2, 'z': 3, 4: 5, True: False}"
      ]
     },
     "execution_count": 9,
     "metadata": {},
     "output_type": "execute_result"
    }
   ],
   "source": [
    "dictLat = {'a': 0, **{'x': 1}, 'y': 2, **{'z': 3, 'x': 4}, 4:5, True: False}\n",
    "dictLat"
   ]
  },
  {
   "cell_type": "code",
   "execution_count": 10,
   "id": "daa81928",
   "metadata": {},
   "outputs": [
    {
     "data": {
      "text/plain": [
       "True"
      ]
     },
     "execution_count": 10,
     "metadata": {},
     "output_type": "execute_result"
    }
   ],
   "source": [
    "dictLat.get(True) == False"
   ]
  },
  {
   "cell_type": "markdown",
   "id": "418ec4d4",
   "metadata": {},
   "source": [
    "In this case, duplicate keys and variable key types are both allowed."
   ]
  },
  {
   "cell_type": "markdown",
   "id": "4071a3e8",
   "metadata": {},
   "source": [
    "### Merging Mappings with |"
   ]
  },
  {
   "cell_type": "markdown",
   "id": "dde459fc",
   "metadata": {},
   "source": [
    "`|` and `|=` are also set union operations. The `|` operator creates a new mapping:"
   ]
  },
  {
   "cell_type": "code",
   "execution_count": 11,
   "id": "6c9fdfa4",
   "metadata": {},
   "outputs": [
    {
     "data": {
      "text/plain": [
       "{'a': 2, 'b': 4, 'e': 9, 'c': 6}"
      ]
     },
     "execution_count": 11,
     "metadata": {},
     "output_type": "execute_result"
    }
   ],
   "source": [
    "d1 = {'a': 1, 'b': 3, 'e': 9}\n",
    "d2 = {'a': 2, 'b': 4, 'c': 6}\n",
    "d1 | d2"
   ]
  },
  {
   "cell_type": "markdown",
   "id": "e8e7394a",
   "metadata": {},
   "source": [
    "To update an existing mapping in place, use `|=`."
   ]
  },
  {
   "cell_type": "code",
   "execution_count": 12,
   "id": "c919b8b8",
   "metadata": {},
   "outputs": [
    {
     "data": {
      "text/plain": [
       "{'a': 1, 'b': 3, 'e': 9}"
      ]
     },
     "execution_count": 12,
     "metadata": {},
     "output_type": "execute_result"
    }
   ],
   "source": [
    "d1"
   ]
  },
  {
   "cell_type": "code",
   "execution_count": 13,
   "id": "892ca6d9",
   "metadata": {},
   "outputs": [
    {
     "data": {
      "text/plain": [
       "{'a': 2, 'b': 4, 'e': 9, 'c': 6}"
      ]
     },
     "execution_count": 13,
     "metadata": {},
     "output_type": "execute_result"
    }
   ],
   "source": [
    "d1 |= d2\n",
    "d1"
   ]
  }
 ],
 "metadata": {
  "kernelspec": {
   "display_name": "env_train",
   "language": "python",
   "name": "python3"
  },
  "language_info": {
   "codemirror_mode": {
    "name": "ipython",
    "version": 3
   },
   "file_extension": ".py",
   "mimetype": "text/x-python",
   "name": "python",
   "nbconvert_exporter": "python",
   "pygments_lexer": "ipython3",
   "version": "3.13.0"
  }
 },
 "nbformat": 4,
 "nbformat_minor": 5
}

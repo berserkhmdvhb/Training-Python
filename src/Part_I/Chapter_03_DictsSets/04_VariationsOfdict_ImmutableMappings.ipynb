{
 "cells": [
  {
   "cell_type": "markdown",
   "id": "1b76621d",
   "metadata": {},
   "source": [
    "# Chapter 3. Dictionaries and Sets\n",
    "---"
   ]
  },
  {
   "cell_type": "markdown",
   "id": "543c4df0",
   "metadata": {},
   "source": [
    "## ToC\n",
    "\n",
    "\n",
    "1. [Variations of dict](#variations-of-dict)    \n",
    "    1.1. [`collections.OrderedDict`](#collectionsordereddict)  \n",
    "    1.2. [`collections.ChainMap`](#collectionschainmap)  \n",
    "    1.3. [`collections.Counter`](#collectionscounter)  \n",
    "    1.4. [`shelve.Shelf`](#shelveshelf)  \n",
    "    1.5. [Subclassing `UserDict` Instead of `dict`](#subclassing-userdict-instead-of-dict)\n",
    "2. [Immutable Mappings](#immutable-mappings)\n",
    "\n",
    "\n",
    "---"
   ]
  },
  {
   "cell_type": "markdown",
   "id": "221ad382",
   "metadata": {},
   "source": [
    "## Variations of dict"
   ]
  },
  {
   "cell_type": "markdown",
   "id": "2f2e4b2a",
   "metadata": {},
   "source": [
    "Overview of mapping types included in the standard library, besides `defaultdict`"
   ]
  },
  {
   "cell_type": "markdown",
   "id": "ca3881e2",
   "metadata": {},
   "source": [
    "### `collections.OrderedDict`"
   ]
  },
  {
   "cell_type": "markdown",
   "id": "c0e449e7",
   "metadata": {},
   "source": [
    "Now that the built-in dict also keeps the keys ordered since Python 3.6, the most\n",
    "common reason to use OrderedDict is writing code that is backward compatible with\n",
    "earlier Python versions."
   ]
  },
  {
   "cell_type": "markdown",
   "id": "4ead7ae0",
   "metadata": {},
   "source": [
    "#### `collections.ChainMap`"
   ]
  },
  {
   "cell_type": "markdown",
   "id": "5aa636ba",
   "metadata": {},
   "source": [
    "A ChainMap instance holds a list of mappings that can be searched as one. The lookup\n",
    "is performed on each input mapping in the order it appears in the constructor call,\n",
    "and succeeds as soon as the key is found in one of those mappings. For example:"
   ]
  },
  {
   "cell_type": "code",
   "execution_count": 15,
   "id": "d0b7342d",
   "metadata": {},
   "outputs": [
    {
     "data": {
      "text/plain": [
       "ChainMap({'a': 1, 'b': 3}, {'a': 2, 'b': 4, 'c': 6})"
      ]
     },
     "execution_count": 15,
     "metadata": {},
     "output_type": "execute_result"
    }
   ],
   "source": [
    "d1 = dict(a=1, b=3)\n",
    "d2 = dict(a=2, b=4, c=6)\n",
    "from collections import ChainMap\n",
    "merged_dict = d1 | d2\n",
    "chain = ChainMap(d1, d2)\n",
    "chain"
   ]
  },
  {
   "cell_type": "code",
   "execution_count": 16,
   "id": "6e18e088",
   "metadata": {},
   "outputs": [
    {
     "data": {
      "text/plain": [
       "{'a': 2, 'b': 4, 'c': 6}"
      ]
     },
     "execution_count": 16,
     "metadata": {},
     "output_type": "execute_result"
    }
   ],
   "source": [
    "merged_dict"
   ]
  },
  {
   "cell_type": "code",
   "execution_count": 17,
   "id": "4d7bbaa2",
   "metadata": {},
   "outputs": [
    {
     "data": {
      "text/plain": [
       "1"
      ]
     },
     "execution_count": 17,
     "metadata": {},
     "output_type": "execute_result"
    }
   ],
   "source": [
    "chain['a']"
   ]
  },
  {
   "cell_type": "code",
   "execution_count": 18,
   "id": "d06708e3",
   "metadata": {},
   "outputs": [
    {
     "data": {
      "text/plain": [
       "6"
      ]
     },
     "execution_count": 18,
     "metadata": {},
     "output_type": "execute_result"
    }
   ],
   "source": [
    "chain['c']"
   ]
  },
  {
   "cell_type": "markdown",
   "id": "b826e1d3",
   "metadata": {},
   "source": [
    "The ChainMap instance does not copy the input mappings, but holds references to them. Updates or insertions to a `ChainMap` only affect the first input mapping:"
   ]
  },
  {
   "cell_type": "code",
   "execution_count": 19,
   "id": "fe404212",
   "metadata": {},
   "outputs": [
    {
     "data": {
      "text/plain": [
       "ChainMap({'a': 1, 'b': 3, 'c': -1}, {'a': 2, 'b': 4, 'c': 6})"
      ]
     },
     "execution_count": 19,
     "metadata": {},
     "output_type": "execute_result"
    }
   ],
   "source": [
    "chain['c'] = -1\n",
    "chain"
   ]
  },
  {
   "cell_type": "code",
   "execution_count": 20,
   "id": "feedd70c",
   "metadata": {},
   "outputs": [
    {
     "data": {
      "text/plain": [
       "{'a': 1, 'b': 3, 'c': -1}"
      ]
     },
     "execution_count": 20,
     "metadata": {},
     "output_type": "execute_result"
    }
   ],
   "source": [
    "d1"
   ]
  },
  {
   "cell_type": "code",
   "execution_count": null,
   "id": "203adc19",
   "metadata": {},
   "outputs": [
    {
     "data": {
      "text/plain": [
       "{'a': 2, 'b': 4, 'c': 6}"
      ]
     },
     "execution_count": 21,
     "metadata": {},
     "output_type": "execute_result"
    }
   ],
   "source": [
    "d2"
   ]
  },
  {
   "cell_type": "markdown",
   "id": "9c456924",
   "metadata": {},
   "source": [
    "**Note:** ChainMap is useful to implement interpreters for languages with nested scopes, where each mapping represents a scope context, from the innermost enclosing scope to the outermost scope."
   ]
  },
  {
   "cell_type": "markdown",
   "id": "ead4a107",
   "metadata": {},
   "source": [
    "Several examples in documentation: [collections.ChainMap](https://docs.python.org/3/library/collections.html#collections.ChainMap)\n",
    "```python\n",
    "import builtins\n",
    "pylookup = ChainMap(locals(), globals(), vars(builtins))\n",
    "```"
   ]
  },
  {
   "cell_type": "markdown",
   "id": "b5c43c73",
   "metadata": {},
   "source": [
    "#### `collections.Counter`"
   ]
  },
  {
   "cell_type": "markdown",
   "id": "de2dffb3",
   "metadata": {},
   "source": [
    "A mapping that holds an integer count for each key. Updating an existing key adds to\n",
    "its count. This can be used to count instances of hashable objects or as a multiset"
   ]
  },
  {
   "cell_type": "code",
   "execution_count": 28,
   "id": "9102fd58",
   "metadata": {},
   "outputs": [
    {
     "data": {
      "text/plain": [
       "Counter({'a': 5, 'b': 2, 'r': 2, 'c': 1, 'd': 1})"
      ]
     },
     "execution_count": 28,
     "metadata": {},
     "output_type": "execute_result"
    }
   ],
   "source": [
    "import collections\n",
    "ct = collections.Counter('abracadabra')\n",
    "ct"
   ]
  },
  {
   "cell_type": "code",
   "execution_count": 29,
   "id": "aefbd722",
   "metadata": {},
   "outputs": [
    {
     "data": {
      "text/plain": [
       "Counter({'a': 10, 'z': 3, 'b': 2, 'r': 2, 'c': 1, 'd': 1})"
      ]
     },
     "execution_count": 29,
     "metadata": {},
     "output_type": "execute_result"
    }
   ],
   "source": [
    "ct.update('aaaaazzz')\n",
    "ct"
   ]
  },
  {
   "cell_type": "code",
   "execution_count": 30,
   "id": "5cbc711e",
   "metadata": {},
   "outputs": [
    {
     "data": {
      "text/plain": [
       "[('a', 10), ('z', 3), ('b', 2)]"
      ]
     },
     "execution_count": 30,
     "metadata": {},
     "output_type": "execute_result"
    }
   ],
   "source": [
    "ct.most_common(3)"
   ]
  },
  {
   "cell_type": "markdown",
   "id": "89392dca",
   "metadata": {},
   "source": [
    "### `shelve.Shelf`"
   ]
  },
  {
   "cell_type": "markdown",
   "id": "7bc14380",
   "metadata": {},
   "source": [
    "provides persistent storage for a mapping of string keys to Python objects serialized in the `pickle` binary format. The curious\n",
    "name of shelve makes sense when you realize that pickle jars are stored on shelves.\n",
    "\n",
    "The `shelve.open  module-level function returns a shelve.Shelf instance—a simple\n",
    "key-value DBM database backed by the dbm module, with these characteristics:\n",
    "- `shelve.Shelf` subclasses `abc.MutableMapping`, so it provides the essential methods\n",
    "we expect of a mapping type.\n",
    "- In addition, `shelve.Shelf` provides a few other I/O management methods, like\n",
    "`sync` and `close`.\n",
    "- A `Shelf` instance is a context manager, so you can use a with block to make sure\n",
    "it is closed after use.\n",
    "- Keys and values are saved whenever a new value is assigned to a key.\n",
    "- The keys must be strings.\n",
    "- The values must be objects that the `pickle` module can serialize."
   ]
  },
  {
   "cell_type": "markdown",
   "id": "5a2403ba",
   "metadata": {},
   "source": [
    "![Figure 40](https://raw.githubusercontent.com/berserkhmdvhb/Training-Python/main/figures/Part_I/40.PNG)"
   ]
  },
  {
   "cell_type": "markdown",
   "id": "f2e14911",
   "metadata": {},
   "source": [
    "`OrderedDict`, `ChainMap`, `Counter`, and `Shelf` are ready to use but can also be customized\n",
    "by subclassing. In contrast, `UserDict` is intended only as a base class to be\n",
    "extended (via subclassing)"
   ]
  },
  {
   "cell_type": "markdown",
   "id": "57d184df",
   "metadata": {},
   "source": [
    "### Subclassing `UserDict` Instead of `dict`"
   ]
  },
  {
   "cell_type": "markdown",
   "id": "55dad7ed",
   "metadata": {},
   "source": [
    "It’s better to create a new mapping type by extending collections.UserDict rather than `dict`, because the built-in has some implementation shortcuts that end up forcing us to override methods that we can just inherit from `UserDict` with no problems."
   ]
  },
  {
   "cell_type": "markdown",
   "id": "7c3f9d53",
   "metadata": {},
   "source": [
    "Note that `UserDict` does not inherit from `dict`, but uses composition: it has an internal\n",
    "`dict` instance, called `data`, which holds the actual items. This avoids undesired\n",
    "recursion when coding special methods like `__setitem__`, and simplifies the coding\n",
    "of `__contains__`"
   ]
  },
  {
   "cell_type": "markdown",
   "id": "1562aebd",
   "metadata": {},
   "source": [
    "**Example:** The file `strkeydict0.py` subclasses `dict` but the file file `strkeydict.py` subclasses `UserDict`\n",
    "The differences in the latter implementation:\n",
    "- `__contains__` is simpler: we can assume all stored keys are `str`, and we can check on self.data instead of invoking `self.keys()` as we did in `StrKeyDict0`.\n",
    "- `__setitem__` converts any key to a `str`. This method is easier to overwrite when we can delegate to the `self.data` attribute"
   ]
  },
  {
   "cell_type": "markdown",
   "id": "efb4d7a1",
   "metadata": {},
   "source": []
  },
  {
   "cell_type": "markdown",
   "id": "d5df667c",
   "metadata": {},
   "source": [
    "Tests for item retrieval using `d[key]` notation:"
   ]
  },
  {
   "cell_type": "code",
   "execution_count": 23,
   "id": "c12216b4",
   "metadata": {},
   "outputs": [
    {
     "data": {
      "text/plain": [
       "{'2': 'two', '4': 'four'}"
      ]
     },
     "execution_count": 23,
     "metadata": {},
     "output_type": "execute_result"
    }
   ],
   "source": [
    "from strkeydict import StrKeyDict\n",
    "d = StrKeyDict([('2', 'two'), ('4', 'four')])\n",
    "d"
   ]
  },
  {
   "cell_type": "code",
   "execution_count": 24,
   "id": "967e88c1",
   "metadata": {},
   "outputs": [
    {
     "data": {
      "text/plain": [
       "'two'"
      ]
     },
     "execution_count": 24,
     "metadata": {},
     "output_type": "execute_result"
    }
   ],
   "source": [
    "d['2']"
   ]
  },
  {
   "cell_type": "code",
   "execution_count": 25,
   "id": "2b5f0c20",
   "metadata": {},
   "outputs": [
    {
     "data": {
      "text/plain": [
       "'four'"
      ]
     },
     "execution_count": 25,
     "metadata": {},
     "output_type": "execute_result"
    }
   ],
   "source": [
    "d[4]"
   ]
  },
  {
   "cell_type": "code",
   "execution_count": 26,
   "id": "941a5a25",
   "metadata": {},
   "outputs": [
    {
     "ename": "KeyError",
     "evalue": "'1'",
     "output_type": "error",
     "traceback": [
      "\u001b[31m---------------------------------------------------------------------------\u001b[39m",
      "\u001b[31mKeyError\u001b[39m                                  Traceback (most recent call last)",
      "\u001b[36mCell\u001b[39m\u001b[36m \u001b[39m\u001b[32mIn[26]\u001b[39m\u001b[32m, line 1\u001b[39m\n\u001b[32m----> \u001b[39m\u001b[32m1\u001b[39m \u001b[43md\u001b[49m\u001b[43m[\u001b[49m\u001b[32;43m1\u001b[39;49m\u001b[43m]\u001b[49m\n",
      "\u001b[36mFile \u001b[39m\u001b[32m~\\AppData\\Local\\Programs\\Python\\Python313\\Lib\\collections\\__init__.py:1135\u001b[39m, in \u001b[36mUserDict.__getitem__\u001b[39m\u001b[34m(self, key)\u001b[39m\n\u001b[32m   1133\u001b[39m     \u001b[38;5;28;01mreturn\u001b[39;00m \u001b[38;5;28mself\u001b[39m.data[key]\n\u001b[32m   1134\u001b[39m \u001b[38;5;28;01mif\u001b[39;00m \u001b[38;5;28mhasattr\u001b[39m(\u001b[38;5;28mself\u001b[39m.\u001b[34m__class__\u001b[39m, \u001b[33m\"\u001b[39m\u001b[33m__missing__\u001b[39m\u001b[33m\"\u001b[39m):\n\u001b[32m-> \u001b[39m\u001b[32m1135\u001b[39m     \u001b[38;5;28;01mreturn\u001b[39;00m \u001b[38;5;28;43mself\u001b[39;49m\u001b[43m.\u001b[49m\u001b[34;43m__class__\u001b[39;49m\u001b[43m.\u001b[49m\u001b[34;43m__missing__\u001b[39;49m\u001b[43m(\u001b[49m\u001b[38;5;28;43mself\u001b[39;49m\u001b[43m,\u001b[49m\u001b[43m \u001b[49m\u001b[43mkey\u001b[49m\u001b[43m)\u001b[49m\n\u001b[32m   1136\u001b[39m \u001b[38;5;28;01mraise\u001b[39;00m \u001b[38;5;167;01mKeyError\u001b[39;00m(key)\n",
      "\u001b[36mFile \u001b[39m\u001b[32mc:\\Users\\HamedVAHEB\\Documents\\Training\\Python\\FluentPython\\repo\\Training-Python\\src\\Part_I\\Chapter_03_DictsSets\\strkeydict.py:65\u001b[39m, in \u001b[36mStrKeyDict.__missing__\u001b[39m\u001b[34m(self, key)\u001b[39m\n\u001b[32m     63\u001b[39m \u001b[38;5;28;01mif\u001b[39;00m \u001b[38;5;28misinstance\u001b[39m(key, \u001b[38;5;28mstr\u001b[39m):\n\u001b[32m     64\u001b[39m     \u001b[38;5;28;01mraise\u001b[39;00m \u001b[38;5;167;01mKeyError\u001b[39;00m(key)\n\u001b[32m---> \u001b[39m\u001b[32m65\u001b[39m \u001b[38;5;28;01mreturn\u001b[39;00m \u001b[38;5;28;43mself\u001b[39;49m\u001b[43m[\u001b[49m\u001b[38;5;28;43mstr\u001b[39;49m\u001b[43m(\u001b[49m\u001b[43mkey\u001b[49m\u001b[43m)\u001b[49m\u001b[43m]\u001b[49m\n",
      "\u001b[36mFile \u001b[39m\u001b[32m~\\AppData\\Local\\Programs\\Python\\Python313\\Lib\\collections\\__init__.py:1135\u001b[39m, in \u001b[36mUserDict.__getitem__\u001b[39m\u001b[34m(self, key)\u001b[39m\n\u001b[32m   1133\u001b[39m     \u001b[38;5;28;01mreturn\u001b[39;00m \u001b[38;5;28mself\u001b[39m.data[key]\n\u001b[32m   1134\u001b[39m \u001b[38;5;28;01mif\u001b[39;00m \u001b[38;5;28mhasattr\u001b[39m(\u001b[38;5;28mself\u001b[39m.\u001b[34m__class__\u001b[39m, \u001b[33m\"\u001b[39m\u001b[33m__missing__\u001b[39m\u001b[33m\"\u001b[39m):\n\u001b[32m-> \u001b[39m\u001b[32m1135\u001b[39m     \u001b[38;5;28;01mreturn\u001b[39;00m \u001b[38;5;28;43mself\u001b[39;49m\u001b[43m.\u001b[49m\u001b[34;43m__class__\u001b[39;49m\u001b[43m.\u001b[49m\u001b[34;43m__missing__\u001b[39;49m\u001b[43m(\u001b[49m\u001b[38;5;28;43mself\u001b[39;49m\u001b[43m,\u001b[49m\u001b[43m \u001b[49m\u001b[43mkey\u001b[49m\u001b[43m)\u001b[49m\n\u001b[32m   1136\u001b[39m \u001b[38;5;28;01mraise\u001b[39;00m \u001b[38;5;167;01mKeyError\u001b[39;00m(key)\n",
      "\u001b[36mFile \u001b[39m\u001b[32mc:\\Users\\HamedVAHEB\\Documents\\Training\\Python\\FluentPython\\repo\\Training-Python\\src\\Part_I\\Chapter_03_DictsSets\\strkeydict.py:64\u001b[39m, in \u001b[36mStrKeyDict.__missing__\u001b[39m\u001b[34m(self, key)\u001b[39m\n\u001b[32m     62\u001b[39m \u001b[38;5;28;01mdef\u001b[39;00m\u001b[38;5;250m \u001b[39m\u001b[34m__missing__\u001b[39m(\u001b[38;5;28mself\u001b[39m, key):  \u001b[38;5;66;03m# <2>\u001b[39;00m\n\u001b[32m     63\u001b[39m     \u001b[38;5;28;01mif\u001b[39;00m \u001b[38;5;28misinstance\u001b[39m(key, \u001b[38;5;28mstr\u001b[39m):\n\u001b[32m---> \u001b[39m\u001b[32m64\u001b[39m         \u001b[38;5;28;01mraise\u001b[39;00m \u001b[38;5;167;01mKeyError\u001b[39;00m(key)\n\u001b[32m     65\u001b[39m     \u001b[38;5;28;01mreturn\u001b[39;00m \u001b[38;5;28mself\u001b[39m[\u001b[38;5;28mstr\u001b[39m(key)]\n",
      "\u001b[31mKeyError\u001b[39m: '1'"
     ]
    }
   ],
   "source": [
    "d[1]"
   ]
  },
  {
   "cell_type": "code",
   "execution_count": 27,
   "id": "f556436b",
   "metadata": {},
   "outputs": [
    {
     "ename": "KeyError",
     "evalue": "'one'",
     "output_type": "error",
     "traceback": [
      "\u001b[31m---------------------------------------------------------------------------\u001b[39m",
      "\u001b[31mKeyError\u001b[39m                                  Traceback (most recent call last)",
      "\u001b[36mCell\u001b[39m\u001b[36m \u001b[39m\u001b[32mIn[27]\u001b[39m\u001b[32m, line 1\u001b[39m\n\u001b[32m----> \u001b[39m\u001b[32m1\u001b[39m \u001b[43md\u001b[49m\u001b[43m[\u001b[49m\u001b[33;43m'\u001b[39;49m\u001b[33;43mone\u001b[39;49m\u001b[33;43m'\u001b[39;49m\u001b[43m]\u001b[49m\n",
      "\u001b[36mFile \u001b[39m\u001b[32m~\\AppData\\Local\\Programs\\Python\\Python313\\Lib\\collections\\__init__.py:1135\u001b[39m, in \u001b[36mUserDict.__getitem__\u001b[39m\u001b[34m(self, key)\u001b[39m\n\u001b[32m   1133\u001b[39m     \u001b[38;5;28;01mreturn\u001b[39;00m \u001b[38;5;28mself\u001b[39m.data[key]\n\u001b[32m   1134\u001b[39m \u001b[38;5;28;01mif\u001b[39;00m \u001b[38;5;28mhasattr\u001b[39m(\u001b[38;5;28mself\u001b[39m.\u001b[34m__class__\u001b[39m, \u001b[33m\"\u001b[39m\u001b[33m__missing__\u001b[39m\u001b[33m\"\u001b[39m):\n\u001b[32m-> \u001b[39m\u001b[32m1135\u001b[39m     \u001b[38;5;28;01mreturn\u001b[39;00m \u001b[38;5;28;43mself\u001b[39;49m\u001b[43m.\u001b[49m\u001b[34;43m__class__\u001b[39;49m\u001b[43m.\u001b[49m\u001b[34;43m__missing__\u001b[39;49m\u001b[43m(\u001b[49m\u001b[38;5;28;43mself\u001b[39;49m\u001b[43m,\u001b[49m\u001b[43m \u001b[49m\u001b[43mkey\u001b[49m\u001b[43m)\u001b[49m\n\u001b[32m   1136\u001b[39m \u001b[38;5;28;01mraise\u001b[39;00m \u001b[38;5;167;01mKeyError\u001b[39;00m(key)\n",
      "\u001b[36mFile \u001b[39m\u001b[32mc:\\Users\\HamedVAHEB\\Documents\\Training\\Python\\FluentPython\\repo\\Training-Python\\src\\Part_I\\Chapter_03_DictsSets\\strkeydict.py:64\u001b[39m, in \u001b[36mStrKeyDict.__missing__\u001b[39m\u001b[34m(self, key)\u001b[39m\n\u001b[32m     62\u001b[39m \u001b[38;5;28;01mdef\u001b[39;00m\u001b[38;5;250m \u001b[39m\u001b[34m__missing__\u001b[39m(\u001b[38;5;28mself\u001b[39m, key):  \u001b[38;5;66;03m# <2>\u001b[39;00m\n\u001b[32m     63\u001b[39m     \u001b[38;5;28;01mif\u001b[39;00m \u001b[38;5;28misinstance\u001b[39m(key, \u001b[38;5;28mstr\u001b[39m):\n\u001b[32m---> \u001b[39m\u001b[32m64\u001b[39m         \u001b[38;5;28;01mraise\u001b[39;00m \u001b[38;5;167;01mKeyError\u001b[39;00m(key)\n\u001b[32m     65\u001b[39m     \u001b[38;5;28;01mreturn\u001b[39;00m \u001b[38;5;28mself\u001b[39m[\u001b[38;5;28mstr\u001b[39m(key)]\n",
      "\u001b[31mKeyError\u001b[39m: 'one'"
     ]
    }
   ],
   "source": [
    "d['one']"
   ]
  },
  {
   "cell_type": "markdown",
   "id": "69aaaf14",
   "metadata": {},
   "source": [
    "Tests for item retrieval using `d.get(key)` notation:"
   ]
  },
  {
   "cell_type": "code",
   "execution_count": 28,
   "id": "8e42039a",
   "metadata": {},
   "outputs": [
    {
     "data": {
      "text/plain": [
       "'two'"
      ]
     },
     "execution_count": 28,
     "metadata": {},
     "output_type": "execute_result"
    }
   ],
   "source": [
    "d.get('2')"
   ]
  },
  {
   "cell_type": "code",
   "execution_count": 29,
   "id": "0f1b0d45",
   "metadata": {},
   "outputs": [
    {
     "data": {
      "text/plain": [
       "'four'"
      ]
     },
     "execution_count": 29,
     "metadata": {},
     "output_type": "execute_result"
    }
   ],
   "source": [
    "d.get(4)"
   ]
  },
  {
   "cell_type": "code",
   "execution_count": 30,
   "id": "9d3d936b",
   "metadata": {},
   "outputs": [
    {
     "data": {
      "text/plain": [
       "'N/A'"
      ]
     },
     "execution_count": 30,
     "metadata": {},
     "output_type": "execute_result"
    }
   ],
   "source": [
    "d.get(1, 'N/A')"
   ]
  },
  {
   "cell_type": "code",
   "execution_count": 31,
   "id": "d2ef3089",
   "metadata": {},
   "outputs": [
    {
     "data": {
      "text/plain": [
       "'Dummy Key'"
      ]
     },
     "execution_count": 31,
     "metadata": {},
     "output_type": "execute_result"
    }
   ],
   "source": [
    "d.get(1, 'Dummy Key')"
   ]
  },
  {
   "cell_type": "markdown",
   "id": "a9102637",
   "metadata": {},
   "source": [
    "Tests for the `in` operator:"
   ]
  },
  {
   "cell_type": "code",
   "execution_count": 32,
   "id": "e1f947d0",
   "metadata": {},
   "outputs": [
    {
     "data": {
      "text/plain": [
       "True"
      ]
     },
     "execution_count": 32,
     "metadata": {},
     "output_type": "execute_result"
    }
   ],
   "source": [
    "2 in d"
   ]
  },
  {
   "cell_type": "code",
   "execution_count": 33,
   "id": "399e5cc4",
   "metadata": {},
   "outputs": [
    {
     "data": {
      "text/plain": [
       "False"
      ]
     },
     "execution_count": 33,
     "metadata": {},
     "output_type": "execute_result"
    }
   ],
   "source": [
    "1 in d"
   ]
  },
  {
   "cell_type": "markdown",
   "id": "3aa0fec1",
   "metadata": {},
   "source": [
    "Testing for `set` operator:"
   ]
  },
  {
   "cell_type": "code",
   "execution_count": 34,
   "id": "b2d0e7ce",
   "metadata": {},
   "outputs": [
    {
     "data": {
      "text/plain": [
       "{'2': 'two', '4': 'Four'}"
      ]
     },
     "execution_count": 34,
     "metadata": {},
     "output_type": "execute_result"
    }
   ],
   "source": [
    "d[4] = 'Four'\n",
    "d"
   ]
  },
  {
   "cell_type": "code",
   "execution_count": 35,
   "id": "0f3b1493",
   "metadata": {},
   "outputs": [
    {
     "data": {
      "text/plain": [
       "'Four'"
      ]
     },
     "execution_count": 35,
     "metadata": {},
     "output_type": "execute_result"
    }
   ],
   "source": [
    "d[4]"
   ]
  },
  {
   "cell_type": "code",
   "execution_count": 36,
   "id": "f7b5c2a6",
   "metadata": {},
   "outputs": [
    {
     "data": {
      "text/plain": [
       "{'2': 'two', '4': 'FOUR'}"
      ]
     },
     "execution_count": 36,
     "metadata": {},
     "output_type": "execute_result"
    }
   ],
   "source": [
    "d['4'] = 'FOUR'\n",
    "d"
   ]
  },
  {
   "cell_type": "code",
   "execution_count": 37,
   "id": "e970bdde",
   "metadata": {},
   "outputs": [
    {
     "data": {
      "text/plain": [
       "'two'"
      ]
     },
     "execution_count": 37,
     "metadata": {},
     "output_type": "execute_result"
    }
   ],
   "source": [
    "d[2]"
   ]
  },
  {
   "cell_type": "code",
   "execution_count": null,
   "id": "2182ce69",
   "metadata": {},
   "outputs": [],
   "source": []
  },
  {
   "cell_type": "markdown",
   "id": "850d47bd",
   "metadata": {},
   "source": [
    "## Immutable Mappings"
   ]
  },
  {
   "cell_type": "markdown",
   "id": "e3f5a516",
   "metadata": {},
   "source": [
    "The mapping types provided by the standard library are all mutable, but you may\n",
    "need to prevent users from changing a mapping by accident. A concrete use case can\n",
    "be found, again, in a hardware programming library like *Pingo*:  \n",
    "\n",
    "**Example:** The `board.pins` mapping represents the physical\n",
    "GPIO pins on the device. As such, it’s useful to prevent inadvertent updates to\n",
    "`board.pins` because the hardware can’t be changed via software, so any change in the\n",
    "mapping would make it inconsistent with the physical reality of the device"
   ]
  },
  {
   "cell_type": "code",
   "execution_count": 9,
   "id": "ecf7c625",
   "metadata": {},
   "outputs": [
    {
     "data": {
      "text/plain": [
       "mappingproxy({1: 'A'})"
      ]
     },
     "execution_count": 9,
     "metadata": {},
     "output_type": "execute_result"
    }
   ],
   "source": [
    "from types import MappingProxyType\n",
    "d = {1: 'A'}\n",
    "d_proxy = MappingProxyType(d)\n",
    "d_proxy"
   ]
  },
  {
   "cell_type": "code",
   "execution_count": 10,
   "id": "8fd5ed4a",
   "metadata": {},
   "outputs": [
    {
     "data": {
      "text/plain": [
       "'A'"
      ]
     },
     "execution_count": 10,
     "metadata": {},
     "output_type": "execute_result"
    }
   ],
   "source": [
    "# Items in d can be seen through d_proxy.\n",
    "d_proxy[1]"
   ]
  },
  {
   "cell_type": "code",
   "execution_count": 11,
   "id": "0327e9a0",
   "metadata": {},
   "outputs": [
    {
     "ename": "TypeError",
     "evalue": "'mappingproxy' object does not support item assignment",
     "output_type": "error",
     "traceback": [
      "\u001b[31m---------------------------------------------------------------------------\u001b[39m",
      "\u001b[31mTypeError\u001b[39m                                 Traceback (most recent call last)",
      "\u001b[36mCell\u001b[39m\u001b[36m \u001b[39m\u001b[32mIn[11]\u001b[39m\u001b[32m, line 2\u001b[39m\n\u001b[32m      1\u001b[39m \u001b[38;5;66;03m# Changes cannot be made through d_proxy.\u001b[39;00m\n\u001b[32m----> \u001b[39m\u001b[32m2\u001b[39m \u001b[43md_proxy\u001b[49m\u001b[43m[\u001b[49m\u001b[32;43m2\u001b[39;49m\u001b[43m]\u001b[49m = \u001b[33m'\u001b[39m\u001b[33mx\u001b[39m\u001b[33m'\u001b[39m\n",
      "\u001b[31mTypeError\u001b[39m: 'mappingproxy' object does not support item assignment"
     ]
    }
   ],
   "source": [
    "# Changes cannot be made through d_proxy.\n",
    "d_proxy[2] = 'x'"
   ]
  },
  {
   "cell_type": "code",
   "execution_count": 12,
   "id": "cd882855",
   "metadata": {},
   "outputs": [
    {
     "data": {
      "text/plain": [
       "mappingproxy({1: 'A', 2: 'B'})"
      ]
     },
     "execution_count": 12,
     "metadata": {},
     "output_type": "execute_result"
    }
   ],
   "source": [
    "d[2] = 'B'\n",
    "# d_proxy is dynamic: any change in d is reflected.\n",
    "d_proxy"
   ]
  },
  {
   "cell_type": "code",
   "execution_count": 13,
   "id": "5a0fc914",
   "metadata": {},
   "outputs": [
    {
     "data": {
      "text/plain": [
       "'B'"
      ]
     },
     "execution_count": 13,
     "metadata": {},
     "output_type": "execute_result"
    }
   ],
   "source": [
    "d_proxy[2]"
   ]
  },
  {
   "cell_type": "markdown",
   "id": "e0975bba",
   "metadata": {},
   "source": [
    "Here is how this could be used in practice in the hardware programming scenario:\n",
    "the constructor in a concrete `Board` subclass would fill a private mapping with the pin\n",
    "objects, and expose it to clients of the API via a public `.pins` attribute implemented\n",
    "as a `mappingproxy`. That way the clients would not be able to add, remove, or change\n",
    "pins by accident."
   ]
  },
  {
   "cell_type": "code",
   "execution_count": null,
   "id": "ceded113",
   "metadata": {},
   "outputs": [],
   "source": []
  }
 ],
 "metadata": {
  "kernelspec": {
   "display_name": "env_train",
   "language": "python",
   "name": "python3"
  },
  "language_info": {
   "codemirror_mode": {
    "name": "ipython",
    "version": 3
   },
   "file_extension": ".py",
   "mimetype": "text/x-python",
   "name": "python",
   "nbconvert_exporter": "python",
   "pygments_lexer": "ipython3",
   "version": "3.13.0"
  }
 },
 "nbformat": 4,
 "nbformat_minor": 5
}

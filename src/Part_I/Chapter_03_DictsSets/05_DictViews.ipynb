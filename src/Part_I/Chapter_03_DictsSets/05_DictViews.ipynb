{
 "cells": [
  {
   "cell_type": "markdown",
   "id": "1dbf6094",
   "metadata": {},
   "source": [
    "# Chapter 3. Dictionaries and Sets\n",
    "---"
   ]
  },
  {
   "cell_type": "markdown",
   "id": "7f7a4a3b",
   "metadata": {},
   "source": [
    "## ToC\n",
    "\n",
    "\n",
    "1. [Dictionary Views](#dictionary-views)  \n",
    "2. [Practical Consequences of How dict Works](#practical-consequences-of-how-dict-works)\n",
    "\n",
    "---"
   ]
  },
  {
   "cell_type": "markdown",
   "id": "a88ee146",
   "metadata": {},
   "source": [
    "## Dictionary Views"
   ]
  },
  {
   "cell_type": "code",
   "execution_count": 1,
   "id": "ab19e6a3",
   "metadata": {},
   "outputs": [],
   "source": [
    "d = dict(a=10, b=20, c=30)\n",
    "d_values = d.values()\n",
    "d_keys = d.keys()\n",
    "d_items = d.items()"
   ]
  },
  {
   "cell_type": "code",
   "execution_count": null,
   "id": "27385264",
   "metadata": {},
   "outputs": [
    {
     "name": "stdout",
     "output_type": "stream",
     "text": [
      "Dict Keys: dict_keys(['a', 'b', 'c'])\n",
      "Dict Values: dict_values([10, 20, 30])\n",
      "Dict Items: dict_items([('a', 10), ('b', 20), ('c', 30)])\n"
     ]
    }
   ],
   "source": [
    "print(f\"Dict Keys: {d_keys}\")\n",
    "print(f\"Dict Values: {d_values}\")\n",
    "print(f\"Dict Items: {d_items}\")"
   ]
  },
  {
   "cell_type": "code",
   "execution_count": 16,
   "id": "e37b2f0d",
   "metadata": {},
   "outputs": [
    {
     "data": {
      "text/plain": [
       "3"
      ]
     },
     "execution_count": 16,
     "metadata": {},
     "output_type": "execute_result"
    }
   ],
   "source": [
    "len(d_values)"
   ]
  },
  {
   "cell_type": "code",
   "execution_count": 12,
   "id": "0c5a325c",
   "metadata": {},
   "outputs": [
    {
     "name": "stdout",
     "output_type": "stream",
     "text": [
      "0: a\n",
      "1: b\n",
      "2: c\n"
     ]
    }
   ],
   "source": [
    "print(*[f\"{i}: {v}\" for i, v in enumerate(d)], sep='\\n')"
   ]
  },
  {
   "cell_type": "code",
   "execution_count": 13,
   "id": "108d49b3",
   "metadata": {},
   "outputs": [
    {
     "data": {
      "text/plain": [
       "<dict_reversevalueiterator at 0x2b5c8abe1b0>"
      ]
     },
     "execution_count": 13,
     "metadata": {},
     "output_type": "execute_result"
    }
   ],
   "source": [
    "reversed(d_values)"
   ]
  },
  {
   "cell_type": "code",
   "execution_count": 17,
   "id": "9daa11f3",
   "metadata": {},
   "outputs": [
    {
     "data": {
      "text/plain": [
       "dict_values([10, 20, 30])"
      ]
     },
     "execution_count": 17,
     "metadata": {},
     "output_type": "execute_result"
    }
   ],
   "source": [
    "d_values"
   ]
  },
  {
   "cell_type": "markdown",
   "id": "59388b82",
   "metadata": {},
   "source": [
    "A view object is a dynamic proxy. If the source dict is updated, you can immediately\n",
    "see the changes through an existing view."
   ]
  },
  {
   "cell_type": "code",
   "execution_count": 18,
   "id": "b8b2254e",
   "metadata": {},
   "outputs": [],
   "source": [
    "d['z'] = 99"
   ]
  },
  {
   "cell_type": "code",
   "execution_count": 19,
   "id": "ffdc3bc4",
   "metadata": {},
   "outputs": [
    {
     "data": {
      "text/plain": [
       "dict_values([10, 20, 30, 99])"
      ]
     },
     "execution_count": 19,
     "metadata": {},
     "output_type": "execute_result"
    }
   ],
   "source": [
    "d_values"
   ]
  },
  {
   "cell_type": "markdown",
   "id": "8701e3cc",
   "metadata": {},
   "source": [
    "The classes `dict_keys`, `dict_values`, and `dict_items` are internal: they are not available\n",
    "via `__builtins__` or any standard library module, and even if you get a reference\n",
    "to one of them, you can’t use it to create a view from scratch in Python code:"
   ]
  },
  {
   "cell_type": "code",
   "execution_count": 20,
   "id": "bd4685b9",
   "metadata": {},
   "outputs": [],
   "source": [
    "values_class = type({}.values())\n"
   ]
  },
  {
   "cell_type": "code",
   "execution_count": 21,
   "id": "994b7e31",
   "metadata": {},
   "outputs": [
    {
     "ename": "TypeError",
     "evalue": "cannot create 'dict_values' instances",
     "output_type": "error",
     "traceback": [
      "\u001b[31m---------------------------------------------------------------------------\u001b[39m",
      "\u001b[31mTypeError\u001b[39m                                 Traceback (most recent call last)",
      "\u001b[36mCell\u001b[39m\u001b[36m \u001b[39m\u001b[32mIn[21]\u001b[39m\u001b[32m, line 1\u001b[39m\n\u001b[32m----> \u001b[39m\u001b[32m1\u001b[39m v = \u001b[43mvalues_class\u001b[49m\u001b[43m(\u001b[49m\u001b[43m)\u001b[49m\n",
      "\u001b[31mTypeError\u001b[39m: cannot create 'dict_values' instances"
     ]
    }
   ],
   "source": [
    "v = values_class()"
   ]
  },
  {
   "cell_type": "markdown",
   "id": "4cea16e8",
   "metadata": {},
   "source": [
    "## Practical Consequences of How dict Works"
   ]
  },
  {
   "cell_type": "markdown",
   "id": "5906a9a1",
   "metadata": {},
   "source": [
    "The hash table implementation of Python's dict is very efficient, but it's important to\n",
    "understand the practical effects of this design:\n",
    "\n",
    "- Keys must be hashable objects. They must implement proper `__hash__` and\n",
    "`__eq__` methods\n",
    "\n",
    "- Item access by key is very fast. A `dict` may have millions of keys, but Python can\n",
    "locate a key directly by computing the hash code of the key and deriving an index\n",
    "offset into the hash table.\n",
    "\n",
    "- Despite its new compact layout, dicts inevitably have a significant memory overhead. Python needs to keep at least one-third of the hash table rows empty to remain efficient.\n",
    "\n",
    "- To save memory, avoid creating instance attributes outside of the `__init__` method."
   ]
  },
  {
   "cell_type": "markdown",
   "id": "a0058c0e",
   "metadata": {},
   "source": [
    "### Compare memories \n",
    "\n",
    "That last tip about instance attributes comes from the fact that Python’s default\n",
    "behavior is to store instance attributes in a special `__dict__` attribute, which is a dict\n",
    "attached to each instance. \n",
    "Since [PEP 412—Key-Sharing Dictionary](https://peps.python.org/pep-0412/) was implemented\n",
    "in Python 3.3, instances of a class can share a common hash table, stored with the\n",
    "class. That common hash table is shared by the `__dict__` of each new instance that\n",
    "has the same attributes names as the first instance of that class when `__init__`\n",
    "returns. Each instance `__dict__` can then hold only its own attribute values as a simple\n",
    "array of pointers. Adding an instance attribute after `__init__` forces Python to\n",
    "create a new hash table just for the `__dict__` of that one instance (which was the\n",
    "default behavior for all instances before Python 3.3). According to PEP 412, this optimization\n",
    "reduces memory use by 10% to 20% for object-oriented programs"
   ]
  },
  {
   "cell_type": "code",
   "execution_count": 22,
   "id": "87ab21e1",
   "metadata": {},
   "outputs": [
    {
     "name": "stdout",
     "output_type": "stream",
     "text": [
      "--- Dynamic Attribute (added outside __init__) ---\n",
      "Object size: 48 bytes\n",
      "__dict__ size: 296 bytes\n",
      "Attributes in __dict__: {'a': 1, 'b': 2}\n",
      "\n",
      "--- Init Only (attributes set in __init__) ---\n",
      "Object size: 48 bytes\n",
      "__dict__ size: 296 bytes\n",
      "Attributes in __dict__: {'a': 1, 'b': 2}\n",
      "\n",
      "--- With Slots (memory optimized) ---\n",
      "Object size: 48 bytes\n",
      "No __dict__ (uses __slots__ instead)\n",
      "\n"
     ]
    }
   ],
   "source": [
    "import sys\n",
    "\n",
    "class WithDynamicAttributes:\n",
    "    def __init__(self):\n",
    "        self.a = 1\n",
    "\n",
    "def create_with_dynamic():\n",
    "    obj = WithDynamicAttributes()\n",
    "    obj.b = 2  # added outside __init__\n",
    "    return obj\n",
    "\n",
    "class WithInitOnly:\n",
    "    def __init__(self):\n",
    "        self.a = 1\n",
    "        self.b = 2  # added inside __init__\n",
    "\n",
    "class WithSlots:\n",
    "    __slots__ = ('a', 'b')\n",
    "    \n",
    "    def __init__(self):\n",
    "        self.a = 1\n",
    "        self.b = 2\n",
    "\n",
    "def show_memory(obj, label):\n",
    "    print(f\"--- {label} ---\")\n",
    "    print(f\"Object size: {sys.getsizeof(obj)} bytes\")\n",
    "    if hasattr(obj, '__dict__'):\n",
    "        print(f\"__dict__ size: {sys.getsizeof(obj.__dict__)} bytes\")\n",
    "        print(f\"Attributes in __dict__: {obj.__dict__}\")\n",
    "    else:\n",
    "        print(\"No __dict__ (uses __slots__ instead)\")\n",
    "    print()\n",
    "\n",
    "# Create instances\n",
    "obj_dynamic = create_with_dynamic()\n",
    "obj_init = WithInitOnly()\n",
    "obj_slots = WithSlots()\n",
    "\n",
    "# Show memory usage\n",
    "show_memory(obj_dynamic, \"Dynamic Attribute (added outside __init__)\")\n",
    "show_memory(obj_init, \"Init Only (attributes set in __init__)\")\n",
    "show_memory(obj_slots, \"With Slots (memory optimized)\")\n"
   ]
  },
  {
   "cell_type": "markdown",
   "id": "6b21b59a",
   "metadata": {},
   "source": [
    "More info on [Internals of sets and dicts](https://fpy.li/hashint)"
   ]
  }
 ],
 "metadata": {
  "kernelspec": {
   "display_name": "env_train",
   "language": "python",
   "name": "python3"
  },
  "language_info": {
   "codemirror_mode": {
    "name": "ipython",
    "version": 3
   },
   "file_extension": ".py",
   "mimetype": "text/x-python",
   "name": "python",
   "nbconvert_exporter": "python",
   "pygments_lexer": "ipython3",
   "version": "3.13.0"
  }
 },
 "nbformat": 4,
 "nbformat_minor": 5
}

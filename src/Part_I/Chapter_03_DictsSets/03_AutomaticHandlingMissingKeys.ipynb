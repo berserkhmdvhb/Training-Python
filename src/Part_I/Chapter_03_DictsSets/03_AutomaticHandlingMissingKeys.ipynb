{
 "cells": [
  {
   "cell_type": "markdown",
   "id": "d3303102",
   "metadata": {},
   "source": [
    "# Chapter 3. Dictionaries and Sets\n",
    "---"
   ]
  },
  {
   "cell_type": "markdown",
   "id": "d3bbc4af",
   "metadata": {},
   "source": [
    "## ToC\n",
    "\n",
    "\n",
    "### [Automatic Handling of Missing Keys](#automatic-handling-of-missing-keys)\n",
    "1. [Approach 1. defaultdict: Another Take on Missing Keys](#approach-1-defaultdict-another-take-on-missing-keys)\n",
    "2. [Approach II. The `__missing__` Method](#approach-ii-the-__missing__-method)\n",
    "3. [Inconsistent Usage of `__missing__` in the Standard Library](#inconsistent-usage-of-__missing__-in-the-standard-library)\n",
    "\n",
    "\n",
    "---"
   ]
  },
  {
   "cell_type": "code",
   "execution_count": 2,
   "id": "738c374a",
   "metadata": {},
   "outputs": [],
   "source": [
    "import strkeydict0"
   ]
  },
  {
   "cell_type": "markdown",
   "id": "94910284",
   "metadata": {},
   "source": [
    "## Automatic Handling of Missing Keys"
   ]
  },
  {
   "cell_type": "markdown",
   "id": "e0dd681b",
   "metadata": {},
   "source": [
    "Sometimes it is convenient to have mappings that return some made-up value when a\n",
    "missing key is searched. There are two main approaches to this:  \n",
    "\n",
    "    I. Use a `defaultdict` instead of a plain dict.  \n",
    "    II. Subclass `dict` or any other mapping type and add a `__missing__` method"
   ]
  },
  {
   "cell_type": "markdown",
   "id": "a026845e",
   "metadata": {},
   "source": [
    "### Approach I. defaultdict: Another Take on Missing Keys"
   ]
  },
  {
   "cell_type": "markdown",
   "id": "fb311d3d",
   "metadata": {},
   "source": [
    "A `collections.defaultdict` instance creates items with a default value on demand whenever a missing key is searched using `d[k]` syntax.\n",
    "\n",
    "When instantiating a `defaultdict`, you provide a callable to produce a default value whenever `__getitem__` is passed a nonexistent key argument.\n",
    "\n",
    "For example, given a `defaultdict` created as `dd = defaultdict(list)`, if 'new-key' is not in dd, the expression `dd['new-key']` does the following steps:\n",
    "\n",
    "1. Calls `list()` to create a new list.\n",
    "2. Inserts the list into dd using `'new-key'` as key.\n",
    "3. Returns a reference to that list.\n",
    "\n",
    "The callable that produces the default values is held in an instance attribute named `default_factory`."
   ]
  },
  {
   "cell_type": "markdown",
   "id": "bce22787",
   "metadata": {},
   "source": [
    "Revisiting the example from previous section:"
   ]
  },
  {
   "cell_type": "code",
   "execution_count": null,
   "id": "c50d2ac4",
   "metadata": {},
   "outputs": [
    {
     "name": "stdout",
     "output_type": "stream",
     "text": [
      "a [(19, 48), (20, 53)]\n",
      "Although [(11, 1), (16, 1), (18, 1)]\n",
      "ambiguity [(14, 16)]\n",
      "and [(15, 23)]\n",
      "are [(21, 12)]\n",
      "aren [(10, 15)]\n",
      "at [(16, 38)]\n",
      "bad [(19, 50)]\n",
      "be [(15, 14), (16, 27), (20, 50)]\n",
      "beats [(11, 23)]\n",
      "Beautiful [(3, 1)]\n",
      "better [(3, 14), (4, 13), (5, 11), (6, 12), (7, 9), (8, 11), (17, 8), (18, 25)]\n",
      "break [(10, 40)]\n",
      "by [(1, 20)]\n",
      "cases [(10, 9)]\n",
      "complex [(5, 23)]\n",
      "Complex [(6, 1)]\n",
      "complicated [(6, 24)]\n",
      "counts [(9, 13)]\n",
      "dense [(8, 23)]\n",
      "do [(15, 64), (21, 48)]\n",
      "Dutch [(16, 61)]\n",
      "easy [(20, 26)]\n",
      "enough [(10, 30)]\n",
      "Errors [(12, 1)]\n",
      "explain [(19, 34), (20, 34)]\n",
      "Explicit [(4, 1)]\n",
      "explicitly [(13, 8)]\n",
      "face [(14, 8)]\n",
      "first [(16, 41)]\n",
      "Flat [(7, 1)]\n",
      "good [(20, 55)]\n",
      "great [(21, 28)]\n",
      "guess [(14, 52)]\n",
      "hard [(19, 26)]\n",
      "honking [(21, 20)]\n",
      "idea [(19, 54), (20, 60), (21, 34)]\n",
      "If [(19, 1), (20, 1)]\n",
      "implementation [(19, 8), (20, 8)]\n",
      "implicit [(4, 25)]\n",
      "In [(14, 1)]\n",
      "is [(3, 11), (4, 10), (5, 8), (6, 9), (7, 6), (8, 8), (17, 5), (18, 16), (19, 23), (20, 23)]\n",
      "it [(15, 67), (19, 43), (20, 43)]\n",
      "let [(21, 42)]\n",
      "may [(16, 19), (20, 46)]\n",
      "more [(21, 51)]\n",
      "Namespaces [(21, 1)]\n",
      "nested [(7, 21)]\n",
      "never [(12, 15), (17, 20), (18, 10)]\n",
      "not [(16, 23)]\n",
      "Now [(17, 1)]\n",
      "now [(18, 45)]\n",
      "obvious [(15, 49), (16, 30)]\n",
      "of [(1, 9), (14, 13), (21, 56)]\n",
      "often [(18, 19)]\n",
      "one [(15, 17), (15, 43), (21, 16)]\n",
      "only [(15, 38)]\n",
      "pass [(12, 21)]\n",
      "Peters [(1, 27)]\n",
      "practicality [(11, 10)]\n",
      "preferably [(15, 27)]\n",
      "purity [(11, 29)]\n",
      "Python [(1, 12)]\n",
      "re [(16, 58)]\n",
      "Readability [(9, 1)]\n",
      "refuse [(14, 27)]\n",
      "right [(18, 38)]\n",
      "rules [(10, 50)]\n",
      "s [(19, 46), (21, 46)]\n",
      "should [(12, 8), (15, 7)]\n",
      "silenced [(13, 19)]\n",
      "silently [(12, 26)]\n",
      "Simple [(5, 1)]\n",
      "Sparse [(8, 1)]\n",
      "Special [(10, 1)]\n",
      "special [(10, 22)]\n",
      "t [(10, 20)]\n",
      "temptation [(14, 38)]\n",
      "than [(3, 21), (4, 20), (5, 18), (6, 19), (7, 16), (8, 18), (17, 15), (18, 32)]\n",
      "that [(16, 10)]\n",
      "The [(1, 1)]\n",
      "the [(10, 46), (14, 4), (14, 34), (19, 4), (20, 4)]\n",
      "There [(15, 1)]\n",
      "those [(21, 59)]\n",
      "Tim [(1, 23)]\n",
      "to [(10, 37), (14, 49), (15, 61), (19, 31), (20, 31)]\n",
      "ugly [(3, 26)]\n",
      "Unless [(13, 1)]\n",
      "unless [(16, 47)]\n",
      "way [(15, 57), (16, 15)]\n",
      "you [(16, 54)]\n",
      "Zen [(1, 5)]\n"
     ]
    }
   ],
   "source": [
    "import collections\n",
    "import re\n",
    "import sys\n",
    "\n",
    "WORD_RE = re.compile(r'\\w+')\n",
    "\n",
    "# Create a defaultdict with the list constructor as default_factory\n",
    "index = collections.defaultdict(list)\n",
    "# for terminal \n",
    "# with open(sys.argv[1], encoding='utf-8') as fp:\n",
    "# for notebook\n",
    "with open(\"zen.txt\", encoding='utf-8') as fp:\n",
    "    for line_no, line in enumerate(fp, 1):\n",
    "        for match in WORD_RE.finditer(line):\n",
    "            word = match.group()\n",
    "            column_no = match.start() + 1\n",
    "            location = (line_no, column_no)\n",
    "            index[word].append(location)\n",
    "# display in alphabetical order\n",
    "for word in sorted(index, key=str.upper):\n",
    "    print(word, index[word])"
   ]
  },
  {
   "cell_type": "markdown",
   "id": "6a446409",
   "metadata": {},
   "source": [
    "If no `default_factory` is provided, the usual `KeyError` is raised for missing keys.\n"
   ]
  },
  {
   "cell_type": "markdown",
   "id": "d91ea700",
   "metadata": {},
   "source": [
    "![Figure 37](https://raw.githubusercontent.com/berserkhmdvhb/Training-Python/main/figures/Part_I/37.PNG)"
   ]
  },
  {
   "cell_type": "markdown",
   "id": "ffca0bb6",
   "metadata": {},
   "source": [
    "The mechanism that makes `defaultdict` work by calling default_factory is the\n",
    "`__missing__` special method:"
   ]
  },
  {
   "cell_type": "markdown",
   "id": "340db885",
   "metadata": {},
   "source": [
    "### Approach II. The `__missing__` Method"
   ]
  },
  {
   "cell_type": "markdown",
   "id": "8afa8277",
   "metadata": {},
   "source": [
    "Underlying the way mappings deal with missing keys is the aptly named `__missing__`\n",
    "method. This method is not defined in the base `dict` class, but `dict` is aware of it: if\n",
    "you subclass `dict` and provide a `__missing__` method, the standard `dict.__getitem__` will call it whenever a key is not found, instead of raising `KeyError`"
   ]
  },
  {
   "cell_type": "markdown",
   "id": "03fa8ef8",
   "metadata": {},
   "source": [
    "**Example:** When searching for a nonstring key, `StrKeyDict0` converts it to `str`\n",
    "when it is not found"
   ]
  },
  {
   "cell_type": "markdown",
   "id": "74ec6f56",
   "metadata": {},
   "source": [
    "Tests for item retrieval using `d[key]` notation:"
   ]
  },
  {
   "cell_type": "code",
   "execution_count": 38,
   "id": "9198daf5",
   "metadata": {},
   "outputs": [
    {
     "data": {
      "text/plain": [
       "{'2': 'two', '4': 'four'}"
      ]
     },
     "execution_count": 38,
     "metadata": {},
     "output_type": "execute_result"
    }
   ],
   "source": [
    "from strkeydict0 import StrKeyDict0\n",
    "d = StrKeyDict0([('2', 'two'), ('4', 'four')])\n",
    "d"
   ]
  },
  {
   "cell_type": "code",
   "execution_count": 39,
   "id": "0c50724c",
   "metadata": {},
   "outputs": [
    {
     "data": {
      "text/plain": [
       "'two'"
      ]
     },
     "execution_count": 39,
     "metadata": {},
     "output_type": "execute_result"
    }
   ],
   "source": [
    "d['2']"
   ]
  },
  {
   "cell_type": "code",
   "execution_count": 40,
   "id": "9cad6d5b",
   "metadata": {},
   "outputs": [
    {
     "data": {
      "text/plain": [
       "'four'"
      ]
     },
     "execution_count": 40,
     "metadata": {},
     "output_type": "execute_result"
    }
   ],
   "source": [
    "d[4]"
   ]
  },
  {
   "cell_type": "code",
   "execution_count": 41,
   "id": "ba2436bd",
   "metadata": {},
   "outputs": [
    {
     "ename": "KeyError",
     "evalue": "'1'",
     "output_type": "error",
     "traceback": [
      "\u001b[31m---------------------------------------------------------------------------\u001b[39m",
      "\u001b[31mKeyError\u001b[39m                                  Traceback (most recent call last)",
      "\u001b[36mCell\u001b[39m\u001b[36m \u001b[39m\u001b[32mIn[41]\u001b[39m\u001b[32m, line 1\u001b[39m\n\u001b[32m----> \u001b[39m\u001b[32m1\u001b[39m \u001b[43md\u001b[49m\u001b[43m[\u001b[49m\u001b[32;43m1\u001b[39;49m\u001b[43m]\u001b[49m\n",
      "\u001b[36mFile \u001b[39m\u001b[32mc:\\Users\\HamedVAHEB\\Documents\\Training\\Python\\FluentPython\\repo\\Training-Python\\src\\Part_I\\Chapter_3_DictsSets\\strkeydict0.py:44\u001b[39m, in \u001b[36mStrKeyDict0.__missing__\u001b[39m\u001b[34m(self, key)\u001b[39m\n\u001b[32m     42\u001b[39m \u001b[38;5;28;01mif\u001b[39;00m \u001b[38;5;28misinstance\u001b[39m(key, \u001b[38;5;28mstr\u001b[39m):  \u001b[38;5;66;03m# <2>\u001b[39;00m\n\u001b[32m     43\u001b[39m     \u001b[38;5;28;01mraise\u001b[39;00m \u001b[38;5;167;01mKeyError\u001b[39;00m(key)\n\u001b[32m---> \u001b[39m\u001b[32m44\u001b[39m \u001b[38;5;28;01mreturn\u001b[39;00m \u001b[38;5;28;43mself\u001b[39;49m\u001b[43m[\u001b[49m\u001b[38;5;28;43mstr\u001b[39;49m\u001b[43m(\u001b[49m\u001b[43mkey\u001b[49m\u001b[43m)\u001b[49m\u001b[43m]\u001b[49m\n",
      "\u001b[36mFile \u001b[39m\u001b[32mc:\\Users\\HamedVAHEB\\Documents\\Training\\Python\\FluentPython\\repo\\Training-Python\\src\\Part_I\\Chapter_3_DictsSets\\strkeydict0.py:43\u001b[39m, in \u001b[36mStrKeyDict0.__missing__\u001b[39m\u001b[34m(self, key)\u001b[39m\n\u001b[32m     41\u001b[39m \u001b[38;5;28;01mdef\u001b[39;00m\u001b[38;5;250m \u001b[39m\u001b[34m__missing__\u001b[39m(\u001b[38;5;28mself\u001b[39m, key):\n\u001b[32m     42\u001b[39m     \u001b[38;5;28;01mif\u001b[39;00m \u001b[38;5;28misinstance\u001b[39m(key, \u001b[38;5;28mstr\u001b[39m):  \u001b[38;5;66;03m# <2>\u001b[39;00m\n\u001b[32m---> \u001b[39m\u001b[32m43\u001b[39m         \u001b[38;5;28;01mraise\u001b[39;00m \u001b[38;5;167;01mKeyError\u001b[39;00m(key)\n\u001b[32m     44\u001b[39m     \u001b[38;5;28;01mreturn\u001b[39;00m \u001b[38;5;28mself\u001b[39m[\u001b[38;5;28mstr\u001b[39m(key)]\n",
      "\u001b[31mKeyError\u001b[39m: '1'"
     ]
    }
   ],
   "source": [
    "d[1]"
   ]
  },
  {
   "cell_type": "code",
   "execution_count": 49,
   "id": "ad4a4296",
   "metadata": {},
   "outputs": [
    {
     "ename": "KeyError",
     "evalue": "'one'",
     "output_type": "error",
     "traceback": [
      "\u001b[31m---------------------------------------------------------------------------\u001b[39m",
      "\u001b[31mKeyError\u001b[39m                                  Traceback (most recent call last)",
      "\u001b[36mCell\u001b[39m\u001b[36m \u001b[39m\u001b[32mIn[49]\u001b[39m\u001b[32m, line 1\u001b[39m\n\u001b[32m----> \u001b[39m\u001b[32m1\u001b[39m \u001b[43md\u001b[49m\u001b[43m[\u001b[49m\u001b[33;43m'\u001b[39;49m\u001b[33;43mone\u001b[39;49m\u001b[33;43m'\u001b[39;49m\u001b[43m]\u001b[49m\n",
      "\u001b[36mFile \u001b[39m\u001b[32mc:\\Users\\HamedVAHEB\\Documents\\Training\\Python\\FluentPython\\repo\\Training-Python\\src\\Part_I\\Chapter_3_DictsSets\\strkeydict0.py:43\u001b[39m, in \u001b[36mStrKeyDict0.__missing__\u001b[39m\u001b[34m(self, key)\u001b[39m\n\u001b[32m     41\u001b[39m \u001b[38;5;28;01mdef\u001b[39;00m\u001b[38;5;250m \u001b[39m\u001b[34m__missing__\u001b[39m(\u001b[38;5;28mself\u001b[39m, key):\n\u001b[32m     42\u001b[39m     \u001b[38;5;28;01mif\u001b[39;00m \u001b[38;5;28misinstance\u001b[39m(key, \u001b[38;5;28mstr\u001b[39m):  \u001b[38;5;66;03m# <2>\u001b[39;00m\n\u001b[32m---> \u001b[39m\u001b[32m43\u001b[39m         \u001b[38;5;28;01mraise\u001b[39;00m \u001b[38;5;167;01mKeyError\u001b[39;00m(key)\n\u001b[32m     44\u001b[39m     \u001b[38;5;28;01mreturn\u001b[39;00m \u001b[38;5;28mself\u001b[39m[\u001b[38;5;28mstr\u001b[39m(key)]\n",
      "\u001b[31mKeyError\u001b[39m: 'one'"
     ]
    }
   ],
   "source": [
    "d['one']"
   ]
  },
  {
   "cell_type": "markdown",
   "id": "ea9f2898",
   "metadata": {},
   "source": [
    "Tests for item retrieval using `d.get(key)` notation:"
   ]
  },
  {
   "cell_type": "code",
   "execution_count": 42,
   "id": "ee698d89",
   "metadata": {},
   "outputs": [
    {
     "data": {
      "text/plain": [
       "'two'"
      ]
     },
     "execution_count": 42,
     "metadata": {},
     "output_type": "execute_result"
    }
   ],
   "source": [
    "d.get('2')"
   ]
  },
  {
   "cell_type": "code",
   "execution_count": 43,
   "id": "f0527871",
   "metadata": {},
   "outputs": [
    {
     "data": {
      "text/plain": [
       "'four'"
      ]
     },
     "execution_count": 43,
     "metadata": {},
     "output_type": "execute_result"
    }
   ],
   "source": [
    "d.get(4)"
   ]
  },
  {
   "cell_type": "code",
   "execution_count": 44,
   "id": "a60519bb",
   "metadata": {},
   "outputs": [
    {
     "data": {
      "text/plain": [
       "'N/A'"
      ]
     },
     "execution_count": 44,
     "metadata": {},
     "output_type": "execute_result"
    }
   ],
   "source": [
    "d.get(1, 'N/A')"
   ]
  },
  {
   "cell_type": "code",
   "execution_count": 45,
   "id": "01f23520",
   "metadata": {},
   "outputs": [
    {
     "data": {
      "text/plain": [
       "'Dummy Key'"
      ]
     },
     "execution_count": 45,
     "metadata": {},
     "output_type": "execute_result"
    }
   ],
   "source": [
    "d.get(1, 'Dummy Key')"
   ]
  },
  {
   "cell_type": "markdown",
   "id": "f2adbf4f",
   "metadata": {},
   "source": [
    "Tests for the `in` operator:"
   ]
  },
  {
   "cell_type": "code",
   "execution_count": 46,
   "id": "1cd009c4",
   "metadata": {},
   "outputs": [
    {
     "data": {
      "text/plain": [
       "True"
      ]
     },
     "execution_count": 46,
     "metadata": {},
     "output_type": "execute_result"
    }
   ],
   "source": [
    "2 in d"
   ]
  },
  {
   "cell_type": "code",
   "execution_count": 47,
   "id": "398531c7",
   "metadata": {},
   "outputs": [
    {
     "data": {
      "text/plain": [
       "False"
      ]
     },
     "execution_count": 47,
     "metadata": {},
     "output_type": "execute_result"
    }
   ],
   "source": [
    "1 in d"
   ]
  },
  {
   "cell_type": "markdown",
   "id": "417609e8",
   "metadata": {},
   "source": [
    "![Figure 38](https://raw.githubusercontent.com/berserkhmdvhb/Training-Python/main/figures/Part_I/38.PNG)"
   ]
  },
  {
   "cell_type": "markdown",
   "id": "6f5a8b7f",
   "metadata": {},
   "source": [
    "**Q:** Why the test isinstance(key, str) is necessary in the `__missing__` implementation?  \n",
    "Without that test, our `__missing__` method would work OK for any key `k`—`str` or not `str`—whenever `str(k)` produced an existing key. But if `str(k)` is not an existing key, we’d have an infinite recursion. In the last line of `__missing__`, `self[str(key)]`\n",
    "would call `__getitem__`, passing that `str` key, which in turn would call `__missing__` again."
   ]
  },
  {
   "cell_type": "markdown",
   "id": "3efc8a27",
   "metadata": {},
   "source": [
    "The author had a specific reason to use `self.keys()` in tht `__contains__` method:\n",
    "The check for the unmodified key—key in `self.keys()`—is necessary for correctness because `StrKeyDict0` does not enforce that all keys in the dictionary must be of type str. Our only goal with this simple example is to make searching\n",
    "\"friendlier\" and not enforce types."
   ]
  },
  {
   "cell_type": "markdown",
   "id": "b64dd4ca",
   "metadata": {},
   "source": [
    "![Figure 39](https://raw.githubusercontent.com/berserkhmdvhb/Training-Python/main/figures/Part_I/39.PNG)"
   ]
  },
  {
   "cell_type": "markdown",
   "id": "7f7101b3",
   "metadata": {},
   "source": [
    "### Inconsistent Usage of `__missing__` in the Standard Library"
   ]
  },
  {
   "cell_type": "markdown",
   "id": "bb234c40",
   "metadata": {},
   "source": [
    "Consider the following scenarios, and how the missing key lookups are affected:\n",
    "\n",
    "- #### `dict` subclass\n",
    "    A subclass of dict implementing only `__missing__` and no other method. In this case, `__missing__` may be called only on `d[k]`, which will use the `__getitem__` inherited from dict.\n",
    "\n",
    "\n",
    "\n",
    "- #### `collections.UserDict` subclass\n",
    "    Likewise, a subclass of UserDict implementing only `__missing__` and no other\n",
    "    method. The get method inherited from UserDict calls `__getitem__`. This\n",
    "    means `__missing__` may be called to handle lookups with `d[k]` and `d.get(k)`.\n",
    "\n",
    "\n",
    "\n",
    "\n",
    "- #### `abc.Mapping` subclass with the simplest possible `__getitem__` \n",
    "    A minimal subclass of abc.Mapping implementing `__missing__` and the requiredabstract methods, including an implementation of `__getitem__` that does not call `__missing__`. The `__missing__` method is never triggered in this class.\n"
   ]
  },
  {
   "cell_type": "markdown",
   "id": "178f8629",
   "metadata": {},
   "source": [
    "The four scenarios just described assume minimal implementations. If your subclass\n",
    "implements `__getitem__`, get, and `__contains__`, then you can make those methods\n",
    "use `__missing__` or not, depending on your needs. The point of this section is to\n",
    "show that you must be careful when subclassing standard library mappings to use\n",
    "`__missing__`, because the base classes support different behaviors by default.\n",
    "\n",
    "Don’t forget that the behavior of `setdefault` and `update` is also affected by key lookup."
   ]
  }
 ],
 "metadata": {
  "kernelspec": {
   "display_name": "env_train",
   "language": "python",
   "name": "python3"
  },
  "language_info": {
   "codemirror_mode": {
    "name": "ipython",
    "version": 3
   },
   "file_extension": ".py",
   "mimetype": "text/x-python",
   "name": "python",
   "nbconvert_exporter": "python",
   "pygments_lexer": "ipython3",
   "version": "3.13.0"
  }
 },
 "nbformat": 4,
 "nbformat_minor": 5
}

{
 "cells": [
  {
   "cell_type": "markdown",
   "id": "1ea1d972",
   "metadata": {},
   "source": [
    "# Chapter 1: Python Data Model"
   ]
  },
  {
   "cell_type": "markdown",
   "id": "92509a6c",
   "metadata": {},
   "source": []
  }
 ],
 "metadata": {
  "language_info": {
   "name": "python"
  }
 },
 "nbformat": 4,
 "nbformat_minor": 5
}

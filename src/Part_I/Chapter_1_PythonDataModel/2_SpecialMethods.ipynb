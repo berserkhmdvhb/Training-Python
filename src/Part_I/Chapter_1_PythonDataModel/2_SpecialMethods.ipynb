{
 "cells": [
  {
   "cell_type": "markdown",
   "id": "1ea1d972",
   "metadata": {},
   "source": [
    "# Chapter 1: Python Data Model\n",
    "---"
   ]
  },
  {
   "cell_type": "markdown",
   "id": "afa3254f",
   "metadata": {},
   "source": [
    "## Special Methods"
   ]
  },
  {
   "cell_type": "markdown",
   "id": "92509a6c",
   "metadata": {},
   "source": [
    "The first thing to know about special methods is that they are meant to be called by\n",
    "the Python interpreter, and not by you. You don’t write `my_object.__len__()`. You\n",
    "write `len(my_object)` and, if `my_object` is an instance of a user-defined class, then\n",
    "Python calls the `__len__` method you implemented."
   ]
  },
  {
   "cell_type": "markdown",
   "id": "5ecd77f9",
   "metadata": {},
   "source": [
    "### Compare runtime of special and manual method"
   ]
  },
  {
   "cell_type": "markdown",
   "id": "bed0512b",
   "metadata": {},
   "source": [
    "Python variable-sized collections\n",
    "written in C include a struct2 called PyVarObject, which has an ob_size field holding\n",
    "the number of items in the collection. So, if my_object is an instance of one of those\n",
    "built-ins, then len(my_object) retrieves the value of the ob_size field, and this is\n",
    "much faster than calling a method."
   ]
  },
  {
   "cell_type": "code",
   "execution_count": 5,
   "id": "707c1496",
   "metadata": {},
   "outputs": [
    {
     "name": "stdout",
     "output_type": "stream",
     "text": [
      "Time of native len() on list        - len(my_list):       0.017417 seconds\n",
      "Time of special method via len()    - len(my_obj):        0.056149 seconds\n",
      "Time of user-defined method call    - my_obj.size_udf():  0.029865 seconds\n"
     ]
    }
   ],
   "source": [
    "import timeit\n",
    "\n",
    "# Built-in list\n",
    "my_list = list(range(1000))\n",
    "\n",
    "# Custom class with a user-defined method\n",
    "class MyCollection:\n",
    "    def __init__(self, items):\n",
    "        self.items = items\n",
    "\n",
    "    def size_udf(self):\n",
    "        return len(self.items)\n",
    "\n",
    "    def __len__(self):\n",
    "        return len(self.items)                \n",
    "\n",
    "my_obj = MyCollection(my_list)\n",
    "\n",
    "# Time native len() on list\n",
    "builtin_len_time = timeit.timeit('len(my_list)', globals=globals(), number=1_000_000)\n",
    "\n",
    "# Time special method via len() on custom object\n",
    "special_len_time = timeit.timeit('len(my_obj)', globals=globals(), number=1_000_000)\n",
    "\n",
    "# Time user-defined method call\n",
    "custom_size_time = timeit.timeit('my_obj.size_udf()', globals=globals(), number=1_000_000)\n",
    "\n",
    "# print statements\n",
    "print(f\"Time of native len() on list        - len(my_list):       {builtin_len_time:.6f} seconds\")\n",
    "print(f\"Time of special method via len()    - len(my_obj):        {special_len_time:.6f} seconds\")\n",
    "print(f\"Time of user-defined method call    - my_obj.size_udf():  {custom_size_time:.6f} seconds\")\n"
   ]
  },
  {
   "cell_type": "markdown",
   "id": "24a3bfdc",
   "metadata": {},
   "source": [
    "Normally, your code should not have many direct calls to special methods. Unless\n",
    "you are doing a lot of metaprogramming"
   ]
  },
  {
   "cell_type": "markdown",
   "id": "55113ad6",
   "metadata": {},
   "source": [
    "### Emulating Numeric Types"
   ]
  },
  {
   "cell_type": "markdown",
   "id": "3efa2cd9",
   "metadata": {},
   "source": [
    "![Figure 1](https://raw.githubusercontent.com/berserkhmdvhb/Training-Python/main/figures/Part_I/3.PNG)"
   ]
  },
  {
   "cell_type": "markdown",
   "id": "08483e20",
   "metadata": {},
   "source": [
    "\n",
    "#### Example 1-2. A simple two-dimensional vector class"
   ]
  },
  {
   "cell_type": "code",
   "execution_count": null,
   "id": "2372589d",
   "metadata": {},
   "outputs": [],
   "source": [
    "\"\"\"\n",
    "vector2d.py: a simplistic class demonstrating some special methods\n",
    "\n",
    "It is simplistic for didactic reasons. It lacks proper error handling,\n",
    "especially in the ``__add__`` and ``__mul__`` methods.\n",
    "\n",
    "Addition::\n",
    "    >>> v1 = Vector(2, 4)\n",
    "    >>> v2 = Vector(2, 1)\n",
    "    >>> v1 + v2\n",
    "    Vector(4, 5)\n",
    "\n",
    "Absolute value::\n",
    "\n",
    "    >>> v = Vector(3, 4)\n",
    "    >>> abs(v)\n",
    "    5.0\n",
    "\n",
    "Scalar multiplication::\n",
    "\n",
    "    >>> v * 3\n",
    "    Vector(9, 12)\n",
    "    >>> abs(v * 3)\n",
    "    15.0\n",
    "\"\"\"\n",
    "\n",
    "import math\n",
    "\n",
    "class Vector:\n",
    "\n",
    "    def __init__(self, x=0, y=0):\n",
    "        self.x = x\n",
    "        self.y = y\n",
    "\n",
    "    def __repr__(self):\n",
    "        #return 'Vector(%r, %r)' % (self.x, self.y)\n",
    "        return f\"Vector({self.x!r}, {self.y!r})\"\n",
    "\n",
    "    def __abs__(self):\n",
    "        return math.hypot(self.x, self.y)\n",
    "\n",
    "    def __bool__(self):\n",
    "        return bool(abs(self))\n",
    "\n",
    "    def __add__(self, other):\n",
    "        x = self.x + other.x\n",
    "        y = self.y + other.y\n",
    "        return Vector(x, y)\n",
    "\n",
    "    def __mul__(self, scalar):\n",
    "        return Vector(self.x * scalar, self.y * scalar)"
   ]
  },
  {
   "cell_type": "code",
   "execution_count": 18,
   "id": "6eaf1eee",
   "metadata": {},
   "outputs": [
    {
     "data": {
      "text/plain": [
       "Vector(4, 5)"
      ]
     },
     "execution_count": 18,
     "metadata": {},
     "output_type": "execute_result"
    }
   ],
   "source": [
    "v1 = Vector(2, 4)\n",
    "v2 = Vector(2, 1)\n",
    "v1 + v2"
   ]
  },
  {
   "cell_type": "code",
   "execution_count": 19,
   "id": "81d5fbd6",
   "metadata": {},
   "outputs": [
    {
     "data": {
      "text/plain": [
       "5.0"
      ]
     },
     "execution_count": 19,
     "metadata": {},
     "output_type": "execute_result"
    }
   ],
   "source": [
    "v = Vector(3, 4)\n",
    "abs(v)"
   ]
  },
  {
   "cell_type": "code",
   "execution_count": 20,
   "id": "d8496880",
   "metadata": {},
   "outputs": [
    {
     "data": {
      "text/plain": [
       "Vector(9, 12)"
      ]
     },
     "execution_count": 20,
     "metadata": {},
     "output_type": "execute_result"
    }
   ],
   "source": [
    "v * 3"
   ]
  },
  {
   "cell_type": "code",
   "execution_count": 21,
   "id": "0da7c622",
   "metadata": {},
   "outputs": [
    {
     "data": {
      "text/plain": [
       "15.0"
      ]
     },
     "execution_count": 21,
     "metadata": {},
     "output_type": "execute_result"
    }
   ],
   "source": [
    "abs(v * 3)"
   ]
  },
  {
   "cell_type": "markdown",
   "id": "a368ab78",
   "metadata": {},
   "source": [
    "**Note**: On function think of x!r as f\"{x!r}\"  ==  f\"{repr(x)}\"\n",
    "\n",
    "- `!r` = use repr(x)\n",
    "\n",
    "- `!s` = use str(x) (default, so usually you can omit it)\n",
    "\n",
    "- `!a` = use ascii(x) (for escaped representations)\n",
    "\n",
    "```python\n",
    "x = 'hello\\nworld'\n",
    "\n",
    "print(str(x))   # hello\n",
    "                # world\n",
    "\n",
    "print(repr(x))  # 'hello\\nworld'\n",
    "```"
   ]
  },
  {
   "cell_type": "markdown",
   "id": "9cee552d",
   "metadata": {},
   "source": []
  },
  {
   "cell_type": "markdown",
   "id": "b1e2fe73",
   "metadata": {},
   "source": []
  }
 ],
 "metadata": {
  "kernelspec": {
   "display_name": "env_train",
   "language": "python",
   "name": "python3"
  },
  "language_info": {
   "codemirror_mode": {
    "name": "ipython",
    "version": 3
   },
   "file_extension": ".py",
   "mimetype": "text/x-python",
   "name": "python",
   "nbconvert_exporter": "python",
   "pygments_lexer": "ipython3",
   "version": "3.13.0"
  }
 },
 "nbformat": 4,
 "nbformat_minor": 5
}

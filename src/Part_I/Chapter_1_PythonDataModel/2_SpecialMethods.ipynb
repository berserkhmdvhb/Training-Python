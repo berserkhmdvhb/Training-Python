{
 "cells": [
  {
   "cell_type": "markdown",
   "id": "1ea1d972",
   "metadata": {},
   "source": [
    "# Chapter 1: Python Data Model\n",
    "---"
   ]
  },
  {
   "cell_type": "markdown",
   "id": "7a31598c",
   "metadata": {},
   "source": [
    "## ToC\n",
    "### [Special Methods](#Special-Methods)\n",
    "1. [Compare runtime](#Compare-runtime-of-special-and-manual-method)\n",
    "2. [Emulating Numeric Types](#Emulating-Numeric-Types)\n",
    "    - 2.1. [String Representation](#String-Representation)\n",
    "    - 2.2. [Booleav value of a custom type](#boolean-value-of-a-custom-type)\n",
    "    - 2.3. [Collection API](#Collection-API)\n",
    "3. [Overview of Special Methods](#overview-of-special-methods)    \n",
    "---    "
   ]
  },
  {
   "cell_type": "markdown",
   "id": "afa3254f",
   "metadata": {},
   "source": [
    "## Special Methods"
   ]
  },
  {
   "cell_type": "markdown",
   "id": "92509a6c",
   "metadata": {},
   "source": [
    "The first thing to know about special methods is that they are meant to be called by\n",
    "the Python interpreter, and not by you. You don’t write `my_object.__len__()`. You\n",
    "write `len(my_object)` and, if `my_object` is an instance of a user-defined class, then\n",
    "Python calls the `__len__` method you implemented."
   ]
  },
  {
   "cell_type": "markdown",
   "id": "5ecd77f9",
   "metadata": {},
   "source": [
    "### Compare runtime of special and manual method"
   ]
  },
  {
   "cell_type": "markdown",
   "id": "bed0512b",
   "metadata": {},
   "source": [
    "Python variable-sized collections\n",
    "written in C include a struct2 called PyVarObject, which has an ob_size field holding\n",
    "the number of items in the collection. So, if my_object is an instance of one of those\n",
    "built-ins, then len(my_object) retrieves the value of the ob_size field, and this is\n",
    "much faster than calling a method."
   ]
  },
  {
   "cell_type": "code",
   "execution_count": 2,
   "id": "707c1496",
   "metadata": {},
   "outputs": [
    {
     "name": "stdout",
     "output_type": "stream",
     "text": [
      "Time of native len() on list        - len(my_list):       0.021010 seconds\n",
      "Time of special method via len()    - len(my_obj):        0.059026 seconds\n",
      "Time of user-defined method call    - my_obj.size_udf():  0.032694 seconds\n"
     ]
    }
   ],
   "source": [
    "import timeit\n",
    "\n",
    "# Built-in list\n",
    "my_list = list(range(1000))\n",
    "\n",
    "# Custom class with a user-defined method\n",
    "class MyCollection:\n",
    "    def __init__(self, items):\n",
    "        self.items = items\n",
    "\n",
    "    def size_udf(self):\n",
    "        return len(self.items)\n",
    "\n",
    "    def __len__(self):\n",
    "        return len(self.items)                \n",
    "\n",
    "my_obj = MyCollection(my_list)\n",
    "\n",
    "# Time native len() on list\n",
    "builtin_len_time = timeit.timeit('len(my_list)', globals=globals(), number=1_000_000)\n",
    "\n",
    "# Time special method via len() on custom object\n",
    "special_len_time = timeit.timeit('len(my_obj)', globals=globals(), number=1_000_000)\n",
    "\n",
    "# Time user-defined method call\n",
    "custom_size_time = timeit.timeit('my_obj.size_udf()', globals=globals(), number=1_000_000)\n",
    "\n",
    "# print statements\n",
    "print(f\"Time of native len() on list        - len(my_list):       {builtin_len_time:.6f} seconds\")\n",
    "print(f\"Time of special method via len()    - len(my_obj):        {special_len_time:.6f} seconds\")\n",
    "print(f\"Time of user-defined method call    - my_obj.size_udf():  {custom_size_time:.6f} seconds\")\n"
   ]
  },
  {
   "cell_type": "markdown",
   "id": "24a3bfdc",
   "metadata": {},
   "source": [
    "Normally, your code should not have many direct calls to special methods. Unless\n",
    "you are doing a lot of metaprogramming"
   ]
  },
  {
   "cell_type": "markdown",
   "id": "55113ad6",
   "metadata": {},
   "source": [
    "### Emulating Numeric Types"
   ]
  },
  {
   "cell_type": "markdown",
   "id": "3efa2cd9",
   "metadata": {},
   "source": [
    "![Figure 3](https://raw.githubusercontent.com/berserkhmdvhb/Training-Python/main/figures/Part_I/3.PNG)"
   ]
  },
  {
   "cell_type": "markdown",
   "id": "08483e20",
   "metadata": {},
   "source": [
    "\n",
    "#### Example 1-2. A simple two-dimensional vector class"
   ]
  },
  {
   "cell_type": "code",
   "execution_count": 3,
   "id": "2372589d",
   "metadata": {},
   "outputs": [],
   "source": [
    "\"\"\"\n",
    "vector2d.py: a simplistic class demonstrating some special methods\n",
    "\n",
    "It is simplistic for didactic reasons. It lacks proper error handling,\n",
    "especially in the ``__add__`` and ``__mul__`` methods.\n",
    "\n",
    "Addition::\n",
    "    >>> v1 = Vector(2, 4)\n",
    "    >>> v2 = Vector(2, 1)\n",
    "    >>> v1 + v2\n",
    "    Vector(4, 5)\n",
    "\n",
    "Absolute value::\n",
    "\n",
    "    >>> v = Vector(3, 4)\n",
    "    >>> abs(v)\n",
    "    5.0\n",
    "\n",
    "Scalar multiplication::\n",
    "\n",
    "    >>> v * 3\n",
    "    Vector(9, 12)\n",
    "    >>> abs(v * 3)\n",
    "    15.0\n",
    "\"\"\"\n",
    "\n",
    "import math\n",
    "\n",
    "class Vector:\n",
    "\n",
    "    def __init__(self, x=0, y=0):\n",
    "        self.x = x\n",
    "        self.y = y\n",
    "\n",
    "    def __repr__(self):\n",
    "        #return 'Vector(%r, %r)' % (self.x, self.y)\n",
    "        return f\"Vector({self.x!r}, {self.y!r})\"\n",
    "\n",
    "    def __abs__(self):\n",
    "        return math.hypot(self.x, self.y)\n",
    "\n",
    "    def __bool__(self):\n",
    "        return bool(abs(self))\n",
    "\n",
    "    def __add__(self, other):\n",
    "        x = self.x + other.x\n",
    "        y = self.y + other.y\n",
    "        return Vector(x, y)\n",
    "\n",
    "    def __mul__(self, scalar):\n",
    "        return Vector(self.x * scalar, self.y * scalar)"
   ]
  },
  {
   "cell_type": "code",
   "execution_count": 4,
   "id": "6eaf1eee",
   "metadata": {},
   "outputs": [
    {
     "data": {
      "text/plain": [
       "Vector(4, 5)"
      ]
     },
     "execution_count": 4,
     "metadata": {},
     "output_type": "execute_result"
    }
   ],
   "source": [
    "v1 = Vector(2, 4)\n",
    "v2 = Vector(2, 1)\n",
    "v1 + v2"
   ]
  },
  {
   "cell_type": "code",
   "execution_count": 5,
   "id": "81d5fbd6",
   "metadata": {},
   "outputs": [
    {
     "data": {
      "text/plain": [
       "5.0"
      ]
     },
     "execution_count": 5,
     "metadata": {},
     "output_type": "execute_result"
    }
   ],
   "source": [
    "v = Vector(3, 4)\n",
    "abs(v)"
   ]
  },
  {
   "cell_type": "code",
   "execution_count": 6,
   "id": "d8496880",
   "metadata": {},
   "outputs": [
    {
     "data": {
      "text/plain": [
       "Vector(9, 12)"
      ]
     },
     "execution_count": 6,
     "metadata": {},
     "output_type": "execute_result"
    }
   ],
   "source": [
    "v * 3"
   ]
  },
  {
   "cell_type": "code",
   "execution_count": 7,
   "id": "0da7c622",
   "metadata": {},
   "outputs": [
    {
     "data": {
      "text/plain": [
       "15.0"
      ]
     },
     "execution_count": 7,
     "metadata": {},
     "output_type": "execute_result"
    }
   ],
   "source": [
    "abs(v * 3)"
   ]
  },
  {
   "cell_type": "code",
   "execution_count": 8,
   "id": "9dbeb845",
   "metadata": {},
   "outputs": [
    {
     "name": "stdout",
     "output_type": "stream",
     "text": [
      "Vector is zero\n"
     ]
    }
   ],
   "source": [
    "v = Vector(0, 0)\n",
    "if v:\n",
    "    print(\"Vector is non-zero\")\n",
    "else:\n",
    "    print(\"Vector is zero\")"
   ]
  },
  {
   "cell_type": "code",
   "execution_count": 12,
   "id": "d63a575a",
   "metadata": {},
   "outputs": [
    {
     "data": {
      "text/plain": [
       "Vector(6, 12)"
      ]
     },
     "execution_count": 12,
     "metadata": {},
     "output_type": "execute_result"
    }
   ],
   "source": [
    "v1 * 3"
   ]
  },
  {
   "cell_type": "code",
   "execution_count": 11,
   "id": "9f502246",
   "metadata": {},
   "outputs": [
    {
     "ename": "TypeError",
     "evalue": "unsupported operand type(s) for *: 'int' and 'Vector'",
     "output_type": "error",
     "traceback": [
      "\u001b[31m---------------------------------------------------------------------------\u001b[39m",
      "\u001b[31mTypeError\u001b[39m                                 Traceback (most recent call last)",
      "\u001b[36mCell\u001b[39m\u001b[36m \u001b[39m\u001b[32mIn[11]\u001b[39m\u001b[32m, line 1\u001b[39m\n\u001b[32m----> \u001b[39m\u001b[32m1\u001b[39m \u001b[32;43m3\u001b[39;49m\u001b[43m \u001b[49m\u001b[43m*\u001b[49m\u001b[43m \u001b[49m\u001b[43mv1\u001b[49m\n",
      "\u001b[31mTypeError\u001b[39m: unsupported operand type(s) for *: 'int' and 'Vector'"
     ]
    }
   ],
   "source": [
    "3 * v1"
   ]
  },
  {
   "cell_type": "markdown",
   "id": "5ded6f4c",
   "metadata": {},
   "source": [
    "![Figure 4](https://raw.githubusercontent.com/berserkhmdvhb/Training-Python/main/figures/Part_I/4.PNG)"
   ]
  },
  {
   "cell_type": "markdown",
   "id": "44e6782f",
   "metadata": {},
   "source": [
    "### String Representation"
   ]
  },
  {
   "cell_type": "markdown",
   "id": "e8b52709",
   "metadata": {},
   "source": [
    "Without a custom `__repr__`, Python’s console\n",
    "would display a Vector instance `<Vector object at 0x10e100070>`."
   ]
  },
  {
   "cell_type": "markdown",
   "id": "b748ec0e",
   "metadata": {},
   "source": [
    "**Note**: On function think of `x!r` as `f\"{x!r}\"  ==  f\"{repr(x)}\"`\n",
    "\n",
    "- `!r` = use repr(x)\n",
    "\n",
    "- `!s` = use str(x) (default, so usually you can omit it)\n",
    "\n",
    "- `!a` = use ascii(x) (for escaped representations)\n",
    "\n",
    "```python\n",
    "x = 'hello\\nworld'\n",
    "\n",
    "print(str(x))   # hello\n",
    "                # world\n",
    "\n",
    "print(repr(x))  # 'hello\\nworld'\n",
    "```"
   ]
  },
  {
   "cell_type": "markdown",
   "id": "241cb038",
   "metadata": {},
   "source": [
    "More about difference between `__str__` and `__repr__` in\n",
    "Python? [StackOverFlow](https://fpy.li/1-5)"
   ]
  },
  {
   "cell_type": "markdown",
   "id": "dda9e9da",
   "metadata": {},
   "source": [
    "### Boolean Value of a Custom Type"
   ]
  },
  {
   "cell_type": "markdown",
   "id": "54368511",
   "metadata": {},
   "source": [
    "We defined following `__bool__` method:\n",
    "```python\n",
    "def __bool__(self):\n",
    "    return bool(abs(self))\n",
    "```"
   ]
  },
  {
   "cell_type": "markdown",
   "id": "45a67573",
   "metadata": {},
   "source": [
    "![Figure 5](https://raw.githubusercontent.com/berserkhmdvhb/Training-Python/main/figures/Part_I/5.PNG)"
   ]
  },
  {
   "cell_type": "markdown",
   "id": "fb243f4d",
   "metadata": {},
   "source": [
    "### Collection API"
   ]
  },
  {
   "cell_type": "markdown",
   "id": "18a82045",
   "metadata": {},
   "source": [
    "![Figure 6](https://raw.githubusercontent.com/berserkhmdvhb/Training-Python/main/figures/Part_I/6.PNG)"
   ]
  },
  {
   "cell_type": "markdown",
   "id": "8775eca4",
   "metadata": {},
   "source": [
    "All the classes in the diagram are ABCs—abstract base classes.\n",
    "\n",
    "```plaintext\n",
    "            +-----------------------------------------------+\n",
    "            |                   Collection                  |  (Python 3.6+)\n",
    "            |-------------------interfaces------------------|\n",
    "            | • Iterable: supports `for`, unpacking         |\n",
    "            | • Sized: supports `len`                       |\n",
    "            | • Container: supports `in`                    |\n",
    "            +-----------------------------------------------+\n",
    "                                    ▲\n",
    "                   ┌─────────special┼izations───────┐\n",
    "                   │                │               │\n",
    "             +-------------+ +-------------+  +-----------+\n",
    "             |  Sequence   | |  Mapping    |  |  Set      |\n",
    "             |-------------| |-------------|  |-----------|\n",
    "             | list, str   | | dict,       |  | set,      |\n",
    "             | tuple, etc. | | defaultdict |  | frozenset |\n",
    "             +-------------+ +-------------+  +-----------+\n",
    "```\n",
    "\n",
    "Only Sequence is Reversible, because sequences support arbitrary ordering of their\n",
    "contents, while mappings and sets do not."
   ]
  },
  {
   "cell_type": "markdown",
   "id": "29264ea6",
   "metadata": {},
   "source": [
    "![Figure 7](https://raw.githubusercontent.com/berserkhmdvhb/Training-Python/main/figures/Part_I/7.PNG)"
   ]
  },
  {
   "cell_type": "markdown",
   "id": "94e41545",
   "metadata": {},
   "source": [
    "## Overview of Special Methods\n",
    "\n",
    "![Figure 8](https://raw.githubusercontent.com/berserkhmdvhb/Training-Python/main/figures/Part_I/8.PNG)\n",
    "\n",
    "![Figure 9](https://raw.githubusercontent.com/berserkhmdvhb/Training-Python/main/figures/Part_I/9.PNG)"
   ]
  },
  {
   "cell_type": "markdown",
   "id": "55e92421",
   "metadata": {},
   "source": [
    "When Python tries to do a + b, it first checks if a can handle it:\n",
    "\n",
    "```python\n",
    "a.__add__(b)\n",
    "```\n",
    "\n",
    "If a doesn’t know how to add b (maybe they're different types), then Python tries the reversed version:\n",
    "\n",
    "```python\n",
    "b.__radd__(a)\n",
    "```"
   ]
  },
  {
   "cell_type": "markdown",
   "id": "81f2828f",
   "metadata": {},
   "source": [
    "![Figure 10](https://raw.githubusercontent.com/berserkhmdvhb/Training-Python/main/figures/Part_I/10.PNG)"
   ]
  },
  {
   "cell_type": "markdown",
   "id": "a9687f43",
   "metadata": {},
   "source": [
    "### Why len Is Not a Method"
   ]
  },
  {
   "cell_type": "markdown",
   "id": "1f11b6c2",
   "metadata": {},
   "source": [
    "practicality beats purity. `len` is not called as a method because it gets special treatment as part\n",
    "of the Python Data Model, just like `abs`. But thanks to the special method `__len__`,\n",
    "you can also make `len` work with your own custom objects."
   ]
  }
 ],
 "metadata": {
  "kernelspec": {
   "display_name": "env_train",
   "language": "python",
   "name": "python3"
  },
  "language_info": {
   "codemirror_mode": {
    "name": "ipython",
    "version": 3
   },
   "file_extension": ".py",
   "mimetype": "text/x-python",
   "name": "python",
   "nbconvert_exporter": "python",
   "pygments_lexer": "ipython3",
   "version": "3.13.0"
  }
 },
 "nbformat": 4,
 "nbformat_minor": 5
}

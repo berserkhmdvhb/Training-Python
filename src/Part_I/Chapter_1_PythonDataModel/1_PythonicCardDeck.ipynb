{
 "cells": [
  {
   "cell_type": "markdown",
   "id": "6c7ede1a",
   "metadata": {},
   "source": [
    "# Chapter 1: Python Data Model"
   ]
  },
  {
   "cell_type": "markdown",
   "id": "5b06e4a7",
   "metadata": {},
   "source": [
    "![Figure 1](https://raw.githubusercontent.com/berserkhmdvhb/Training-Python/main/figures/Part_I/1.PNG)"
   ]
  },
  {
   "cell_type": "markdown",
   "id": "7d38d7c2",
   "metadata": {},
   "source": [
    "## Pythonic Card Deck"
   ]
  },
  {
   "cell_type": "code",
   "execution_count": 98,
   "id": "f278aeb6",
   "metadata": {},
   "outputs": [],
   "source": [
    "import collections\n",
    "from enum import Enum\n",
    "\n",
    "class Mode(str, Enum):\n",
    "    TOP = \"t\"\n",
    "    BOTTOM = \"b\"\n",
    "    MIDDLE = \"m\"\n",
    "\n",
    "Card = collections.namedtuple('Card', ['rank', 'suit'])\n",
    "\n",
    "class FrenchDeck:\n",
    "    ranks = [str(n) for n in range(2, 11)] + list('JQKA')\n",
    "    suits = 'spades diamonds clubs hearts'.split()\n",
    "\n",
    "    def __init__(self):\n",
    "        self._cards = [Card(rank, suit) for suit in self.suits for rank in self.ranks]\n",
    "\n",
    "    def __len__(self):\n",
    "        return len(self._cards)\n",
    "\n",
    "    def __getitem__(self, position):\n",
    "        return self._cards[position]\n",
    "          \n",
    "    def _resolve_mode(self, mode: str) -> Mode:\n",
    "        try:\n",
    "            return Mode(mode)\n",
    "        except ValueError:\n",
    "            raise ValueError(\"Invalid mode. Expected 't', 'b', or 'm'.\")\n",
    "\n",
    "    def get_itemlist(self, n: int, mode: str = \"t\") -> list[Card]:\n",
    "        \"\"\"\n",
    "        Retrieve a subset of cards based on the specified mode.\n",
    "\n",
    "        Parameters:\n",
    "            n (int): The number of elements to retrieve.\n",
    "            mode (str): 't' (top), 'b' (bottom), or 'm' (middle)\n",
    "\n",
    "        Returns:\n",
    "            list[Card]: A slice of the deck based on the selected mode.\n",
    "        \"\"\"\n",
    "        mode_enum = self._resolve_mode(mode)\n",
    "\n",
    "        if mode_enum == Mode.MIDDLE:\n",
    "            mid = len(self._cards) // 2\n",
    "            start = max(0, mid - n)\n",
    "            end = min(len(self._cards), mid + n + 1)\n",
    "            return self._cards[start:end]\n",
    "\n",
    "        slicers = {\n",
    "            Mode.TOP: lambda: self._cards[:n],\n",
    "            Mode.BOTTOM: lambda: self._cards[-n:]\n",
    "        }\n",
    "\n",
    "        return slicers[mode_enum]()"
   ]
  },
  {
   "cell_type": "markdown",
   "id": "5482b333",
   "metadata": {},
   "source": [
    "Retrieve items as element or list"
   ]
  },
  {
   "cell_type": "code",
   "execution_count": 99,
   "id": "6bacabcc",
   "metadata": {},
   "outputs": [
    {
     "data": {
      "text/plain": [
       "Card(rank='7', suit='diamonds')"
      ]
     },
     "execution_count": 99,
     "metadata": {},
     "output_type": "execute_result"
    }
   ],
   "source": [
    "beer_card = Card('7', 'diamonds')\n",
    "beer_card"
   ]
  },
  {
   "cell_type": "code",
   "execution_count": 100,
   "id": "5c97f5ad",
   "metadata": {},
   "outputs": [
    {
     "name": "stdout",
     "output_type": "stream",
     "text": [
      "Deck ranks: ['2', '3', '4', '5', '6', '7', '8', '9', '10', 'J', 'Q', 'K', 'A']\n",
      "Deck suits: ['spades', 'diamonds', 'clubs', 'hearts']\n",
      "Deck len(): 52\n"
     ]
    }
   ],
   "source": [
    "deck = FrenchDeck()\n",
    "\n",
    "print(f\"Deck ranks: {deck.ranks}\")\n",
    "print(f\"Deck suits: {deck.suits}\")\n",
    "print(f\"Deck len(): {len(deck)}\")\n"
   ]
  },
  {
   "cell_type": "code",
   "execution_count": 102,
   "id": "9cef9bdd",
   "metadata": {},
   "outputs": [
    {
     "name": "stdout",
     "output_type": "stream",
     "text": [
      "Get Top 4 cards: [Card(rank='2', suit='spades'), Card(rank='3', suit='spades'), Card(rank='4', suit='spades'), Card(rank='5', suit='spades')]\n",
      "\n",
      "\n",
      "Get Top 4 cards: [Card(rank='J', suit='hearts'), Card(rank='Q', suit='hearts'), Card(rank='K', suit='hearts'), Card(rank='A', suit='hearts')]\n",
      "\n",
      "\n",
      "Get Top 4 cards: [Card(rank='J', suit='diamonds'), Card(rank='Q', suit='diamonds'), Card(rank='K', suit='diamonds'), Card(rank='A', suit='diamonds'), Card(rank='2', suit='clubs'), Card(rank='3', suit='clubs'), Card(rank='4', suit='clubs'), Card(rank='5', suit='clubs'), Card(rank='6', suit='clubs')]\n"
     ]
    }
   ],
   "source": [
    "n = 4\n",
    "# Get top n cards\n",
    "print(f\"Get Top {n} cards: {deck.get_itemlist(n, \"t\")}\")\n",
    "print(\"\\n\")\n",
    "# Get bottom n cards\n",
    "print(f\"Get Top {n} cards: {deck.get_itemlist(n, \"b\")}\")\n",
    "print(\"\\n\")\n",
    "# Get n on either side of the middle\n",
    "print(f\"Get Top {n} cards: {deck.get_itemlist(n, \"m\")}\")"
   ]
  },
  {
   "cell_type": "code",
   "execution_count": 125,
   "id": "6c9bd809",
   "metadata": {},
   "outputs": [
    {
     "name": "stdout",
     "output_type": "stream",
     "text": [
      "Card(rank='2', suit='spades')\n",
      "Card(rank='A', suit='hearts')\n",
      "[Card(rank='2', suit='spades'), Card(rank='3', suit='spades'), Card(rank='4', suit='spades')]\n",
      "[Card(rank='A', suit='spades'), Card(rank='A', suit='diamonds'), Card(rank='A', suit='clubs'), Card(rank='A', suit='hearts')]\n"
     ]
    }
   ],
   "source": [
    "print(deck[0])\n",
    "print(deck[-1])\n",
    "print(deck[:3])\n",
    "print(deck[12::13])"
   ]
  },
  {
   "cell_type": "markdown",
   "id": "346e89fa",
   "metadata": {},
   "source": [
    "Just by implementing the `__getitem__` special method, our deck is also iterable:"
   ]
  },
  {
   "cell_type": "code",
   "execution_count": 127,
   "id": "381e1f3b",
   "metadata": {},
   "outputs": [
    {
     "name": "stdout",
     "output_type": "stream",
     "text": [
      "Card(rank='2', suit='spades')\n",
      "Card(rank='3', suit='spades')\n",
      "Card(rank='4', suit='spades')\n",
      "Card(rank='5', suit='spades')\n",
      "Card(rank='6', suit='spades')\n",
      "Card(rank='7', suit='spades')\n",
      "Card(rank='8', suit='spades')\n",
      "Card(rank='9', suit='spades')\n",
      "Card(rank='10', suit='spades')\n",
      "Card(rank='J', suit='spades')\n",
      "Card(rank='Q', suit='spades')\n",
      "Card(rank='K', suit='spades')\n",
      "Card(rank='A', suit='spades')\n",
      "Card(rank='2', suit='diamonds')\n",
      "Card(rank='3', suit='diamonds')\n",
      "Card(rank='4', suit='diamonds')\n",
      "Card(rank='5', suit='diamonds')\n",
      "Card(rank='6', suit='diamonds')\n",
      "Card(rank='7', suit='diamonds')\n",
      "Card(rank='8', suit='diamonds')\n",
      "Card(rank='9', suit='diamonds')\n",
      "Card(rank='10', suit='diamonds')\n",
      "Card(rank='J', suit='diamonds')\n",
      "Card(rank='Q', suit='diamonds')\n",
      "Card(rank='K', suit='diamonds')\n",
      "Card(rank='A', suit='diamonds')\n",
      "Card(rank='2', suit='clubs')\n",
      "Card(rank='3', suit='clubs')\n",
      "Card(rank='4', suit='clubs')\n",
      "Card(rank='5', suit='clubs')\n",
      "Card(rank='6', suit='clubs')\n",
      "Card(rank='7', suit='clubs')\n",
      "Card(rank='8', suit='clubs')\n",
      "Card(rank='9', suit='clubs')\n",
      "Card(rank='10', suit='clubs')\n",
      "Card(rank='J', suit='clubs')\n",
      "Card(rank='Q', suit='clubs')\n",
      "Card(rank='K', suit='clubs')\n",
      "Card(rank='A', suit='clubs')\n",
      "Card(rank='2', suit='hearts')\n",
      "Card(rank='3', suit='hearts')\n",
      "Card(rank='4', suit='hearts')\n",
      "Card(rank='5', suit='hearts')\n",
      "Card(rank='6', suit='hearts')\n",
      "Card(rank='7', suit='hearts')\n",
      "Card(rank='8', suit='hearts')\n",
      "Card(rank='9', suit='hearts')\n",
      "Card(rank='10', suit='hearts')\n",
      "Card(rank='J', suit='hearts')\n",
      "Card(rank='Q', suit='hearts')\n",
      "Card(rank='K', suit='hearts')\n",
      "Card(rank='A', suit='hearts')\n"
     ]
    }
   ],
   "source": [
    "for card in deck: # doctest: +ELLIPSIS\n",
    "    print(card)"
   ]
  },
  {
   "cell_type": "markdown",
   "id": "0056bb00",
   "metadata": {},
   "source": [
    "**Two advantages** of using special methods to leverage the Python Data\n",
    "Model:\n",
    "- Users of your classes don’t have to memorize arbitrary method names for standard\n",
    "operations. (“How to get the number of items? Is it `.size()`, `.length()`, or\n",
    "what?”)\n",
    "- It’s easier to benefit from the rich Python standard library and avoid reinventing\n",
    "the wheel, like the random.choice function."
   ]
  },
  {
   "cell_type": "markdown",
   "id": "fae463c7",
   "metadata": {},
   "source": [
    "**Random Selection**"
   ]
  },
  {
   "cell_type": "code",
   "execution_count": 123,
   "id": "1dcc68a1",
   "metadata": {},
   "outputs": [
    {
     "data": {
      "text/plain": [
       "Card(rank='A', suit='diamonds')"
      ]
     },
     "execution_count": 123,
     "metadata": {},
     "output_type": "execute_result"
    }
   ],
   "source": [
    "from random import choice\n",
    "choice(deck)"
   ]
  },
  {
   "cell_type": "markdown",
   "id": "0f989511",
   "metadata": {},
   "source": [
    "Iteration is often implicit."
   ]
  },
  {
   "cell_type": "code",
   "execution_count": 128,
   "id": "9a3cb9d3",
   "metadata": {},
   "outputs": [
    {
     "data": {
      "text/plain": [
       "True"
      ]
     },
     "execution_count": 128,
     "metadata": {},
     "output_type": "execute_result"
    }
   ],
   "source": [
    "Card('Q', 'hearts') in deck"
   ]
  },
  {
   "cell_type": "code",
   "execution_count": 129,
   "id": "fff0b8f9",
   "metadata": {},
   "outputs": [
    {
     "data": {
      "text/plain": [
       "False"
      ]
     },
     "execution_count": 129,
     "metadata": {},
     "output_type": "execute_result"
    }
   ],
   "source": [
    "Card('7', 'beasts') in deck"
   ]
  },
  {
   "cell_type": "markdown",
   "id": "78012fe0",
   "metadata": {},
   "source": [
    "**Sorting**"
   ]
  },
  {
   "cell_type": "code",
   "execution_count": 142,
   "id": "ba1a57cf",
   "metadata": {},
   "outputs": [
    {
     "data": {
      "text/plain": [
       "0"
      ]
     },
     "execution_count": 142,
     "metadata": {},
     "output_type": "execute_result"
    }
   ],
   "source": [
    "# reindex from 0 for ranking purpose\n",
    "deck.suits\n",
    "deck.ranks.index(\"2\")"
   ]
  },
  {
   "cell_type": "code",
   "execution_count": 144,
   "id": "2a36a73f",
   "metadata": {},
   "outputs": [
    {
     "data": {
      "text/plain": [
       "{'spades': 3, 'hearts': 2, 'diamonds': 1, 'clubs': 0}"
      ]
     },
     "execution_count": 144,
     "metadata": {},
     "output_type": "execute_result"
    }
   ],
   "source": [
    "suit_values = dict(spades=3, hearts=2, diamonds=1, clubs=0)\n",
    "suit_values"
   ]
  },
  {
   "cell_type": "code",
   "execution_count": 145,
   "id": "4e06b67a",
   "metadata": {},
   "outputs": [],
   "source": [
    "def spades_high(card):\n",
    "    rank_value = FrenchDeck.ranks.index(card.rank)\n",
    "    return rank_value * len(suit_values) + suit_values[card.suit]"
   ]
  },
  {
   "cell_type": "code",
   "execution_count": 148,
   "id": "130f8419",
   "metadata": {},
   "outputs": [
    {
     "name": "stdout",
     "output_type": "stream",
     "text": [
      "Card(rank='2', suit='clubs')\n",
      "Card(rank='2', suit='diamonds')\n",
      "Card(rank='2', suit='hearts')\n",
      "Card(rank='2', suit='spades')\n",
      "Card(rank='3', suit='clubs')\n"
     ]
    }
   ],
   "source": [
    "for card in sorted(deck, key=spades_high)[0:5]: # doctest: +ELLIPSIS\n",
    "    print(card)"
   ]
  },
  {
   "cell_type": "markdown",
   "id": "39d30eb5",
   "metadata": {},
   "source": [
    "![Figure 1](https://raw.githubusercontent.com/berserkhmdvhb/Training-Python/main/figures/Part_I/2.PNG)\n"
   ]
  }
 ],
 "metadata": {
  "kernelspec": {
   "display_name": "env_train",
   "language": "python",
   "name": "python3"
  },
  "language_info": {
   "codemirror_mode": {
    "name": "ipython",
    "version": 3
   },
   "file_extension": ".py",
   "mimetype": "text/x-python",
   "name": "python",
   "nbconvert_exporter": "python",
   "pygments_lexer": "ipython3",
   "version": "3.13.0"
  }
 },
 "nbformat": 4,
 "nbformat_minor": 5
}

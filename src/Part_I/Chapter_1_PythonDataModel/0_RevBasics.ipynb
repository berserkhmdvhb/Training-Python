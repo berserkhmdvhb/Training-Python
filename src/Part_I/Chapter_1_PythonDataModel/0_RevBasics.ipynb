{
 "cells": [
  {
   "cell_type": "code",
   "execution_count": null,
   "id": "49f66eaf",
   "metadata": {},
   "outputs": [
    {
     "name": "stdout",
     "output_type": "stream",
     "text": [
      "John Doe\n"
     ]
    }
   ],
   "source": []
  },
  {
   "cell_type": "markdown",
   "id": "6db6bb97",
   "metadata": {},
   "source": [
    "# Review Bascis"
   ]
  },
  {
   "cell_type": "markdown",
   "id": "569314d9",
   "metadata": {},
   "source": [
    "## DocString, Type Hints"
   ]
  },
  {
   "cell_type": "code",
   "execution_count": null,
   "id": "605f78bf",
   "metadata": {},
   "outputs": [],
   "source": [
    "# DocString, type hints\n",
    "def get_full_name(first_name, last_name):\n",
    "    full_name = first_name.title() + \" \" + last_name.title()\n",
    "    return full_name\n",
    "\n",
    "print(get_full_name(\"john\", \"doe\"))"
   ]
  },
  {
   "cell_type": "code",
   "execution_count": 2,
   "id": "53439582",
   "metadata": {},
   "outputs": [
    {
     "name": "stdout",
     "output_type": "stream",
     "text": [
      "False\n"
     ]
    }
   ],
   "source": [
    "print(\"aa\".istitle())"
   ]
  },
  {
   "cell_type": "code",
   "execution_count": 7,
   "id": "5d79ac7f",
   "metadata": {},
   "outputs": [
    {
     "name": "stdout",
     "output_type": "stream",
     "text": [
      "\n",
      "Greets a person with the given name.\n",
      "\n",
      "Args:\n",
      "    name (str): The name of the person to greet. Defaults to 'You'.\n",
      "\n",
      "Returns:\n",
      "    str: A greeting message including the given name.\n",
      "\n",
      "Examples:\n",
      "    >>> greet(name='John Doe')\n",
      "    'Hello John Doe'\n",
      "\n",
      "    >>> greet()\n",
      "    'Hello You'\n",
      "\n"
     ]
    },
    {
     "data": {
      "text/plain": [
       "'Hello You'"
      ]
     },
     "execution_count": 7,
     "metadata": {},
     "output_type": "execute_result"
    }
   ],
   "source": [
    "NameList = ['a','g','s']\n",
    "#new_rows_temp = new_rows.select([col(c).alias(c + append_a) for c in matching_cols] + ['Id'])  \n",
    "\n",
    "def greet(name:str = 'You') -> str:\n",
    "    \"\"\"\n",
    "    Greets a person with the given name.\n",
    "\n",
    "    Args:\n",
    "        name (str): The name of the person to greet. Defaults to 'You'.\n",
    "\n",
    "    Returns:\n",
    "        str: A greeting message including the given name.\n",
    "\n",
    "    Examples:\n",
    "        >>> greet(name='John Doe')\n",
    "        'Hello John Doe'\n",
    "\n",
    "        >>> greet()\n",
    "        'Hello You'\n",
    "    \"\"\"\n",
    "    return f'Hello {name}'\n",
    "\n",
    "\n",
    "print(greet.__doc__)\n",
    "greet()\n",
    "\n"
   ]
  },
  {
   "cell_type": "markdown",
   "id": "8bd789e2",
   "metadata": {},
   "source": [
    "## Enumeration and Objects"
   ]
  },
  {
   "cell_type": "code",
   "execution_count": null,
   "id": "5eb661bb",
   "metadata": {},
   "outputs": [],
   "source": [
    "\n",
    "dict_items = [('sape', 4139), ('guido', 4127), ('jack', 4098)]\n",
    "my_dict = dict(dict_items)\n",
    "print([(k, v) for k, v in my_dict.items()])"
   ]
  },
  {
   "cell_type": "code",
   "execution_count": 9,
   "id": "95940b93",
   "metadata": {},
   "outputs": [
    {
     "data": {
      "text/plain": [
       "[(1, 'a', 'u'), (2, 'b', 'w'), (3, 'c', 'r')]"
      ]
     },
     "execution_count": 9,
     "metadata": {},
     "output_type": "execute_result"
    }
   ],
   "source": [
    "#Enumerate two lists\n",
    "A = ['a', 'b', 'c']\n",
    "B = ['u', 'w', 'r']\n",
    "\n",
    "# Using enumerate and zip to combine both lists with an index\n",
    "result = [(i + 1, a, b) for i, (a, b) in enumerate(zip(A, B))]\n",
    "result"
   ]
  },
  {
   "cell_type": "code",
   "execution_count": null,
   "id": "2a3752c1",
   "metadata": {},
   "outputs": [],
   "source": [
    "# Enumerate a tuple\n",
    "mytuple = ('a', 'b', 'c')\n",
    "print(*[f\"{i}: {v}\" for i, v in enumerate(mytuple)], sep=' | ')"
   ]
  },
  {
   "cell_type": "code",
   "execution_count": null,
   "id": "d7f8c7fd",
   "metadata": {},
   "outputs": [
    {
     "name": "stdout",
     "output_type": "stream",
     "text": [
      "1\n",
      "24\n",
      "\n",
      "\n",
      "TV\n",
      "92.2\n",
      "\n",
      "\n",
      "Blabla\n",
      "No Price\n",
      "\n",
      "\n"
     ]
    }
   ],
   "source": [
    "def process_items(prices: dict[str, int | str]):\n",
    "    for item_name, item_price in prices.items():\n",
    "        print(item_name)\n",
    "        print(item_price)\n",
    "        print('\\n')\n",
    "\n",
    "dict_items = [('Shoe', 24), ('TV', 92.2), ('Blabla', 'No Price')]     \n",
    "my_dict = dict(dict_items)\n",
    "\n",
    "process_items(my_dict)"
   ]
  },
  {
   "cell_type": "markdown",
   "id": "db2c895b",
   "metadata": {},
   "source": [
    "## Classes"
   ]
  },
  {
   "cell_type": "markdown",
   "id": "4567d36d",
   "metadata": {},
   "source": [
    "### Dunder Functions"
   ]
  },
  {
   "cell_type": "markdown",
   "id": "9925f702",
   "metadata": {},
   "source": [
    "#### Init"
   ]
  },
  {
   "cell_type": "code",
   "execution_count": null,
   "id": "cc815f22",
   "metadata": {},
   "outputs": [
    {
     "name": "stdout",
     "output_type": "stream",
     "text": [
      "Buddy\n"
     ]
    }
   ],
   "source": [
    "# With __init__\n",
    "class Dog:\n",
    "    def __init__(self, name):\n",
    "        self.name = name\n",
    "\n",
    "d = Dog(\"Buddy\")\n",
    "print(d.name)"
   ]
  },
  {
   "cell_type": "code",
   "execution_count": 20,
   "id": "cee424f7",
   "metadata": {},
   "outputs": [
    {
     "name": "stdout",
     "output_type": "stream",
     "text": [
      "Buddy\n"
     ]
    }
   ],
   "source": [
    "# Without __init__\n",
    "\n",
    "class Dog:\n",
    "    pass\n",
    "\n",
    "d = Dog()\n",
    "d.name = \"Buddy\"\n",
    "print(d.name)\n"
   ]
  },
  {
   "cell_type": "markdown",
   "id": "bc496189",
   "metadata": {},
   "source": [
    "### Overview"
   ]
  },
  {
   "cell_type": "code",
   "execution_count": 21,
   "id": "110a5494",
   "metadata": {},
   "outputs": [
    {
     "name": "stdout",
     "output_type": "stream",
     "text": [
      "True\n",
      "False\n",
      "Miles barks Arf\n",
      "Jack barks BarkBark!\n",
      "Miles barks ArfModified\n",
      "MyDog barks DogSound\n",
      "gr barks Bark\n"
     ]
    }
   ],
   "source": [
    "#Classes\n",
    "\n",
    "class Dog:\n",
    "    species = \"Canis familiaris\"\n",
    "\n",
    "    def __init__(self, name, age):\n",
    "        self.name = name\n",
    "        self.age = age\n",
    "\n",
    "    def __str__(self):\n",
    "        return f\"{self.name} is {self.age} years old\"\n",
    "\n",
    "    def speak(self, sound):\n",
    "        return f\"{self.name} barks {sound}\"\n",
    "\n",
    "\n",
    "class JackRussellTerrier(Dog):\n",
    "    def speak(self, sound=\"Arf\"):\n",
    "        return super().speak(sound)\n",
    "    pass\n",
    "    \n",
    "\n",
    "class Dachshund(Dog):\n",
    "    def speak(self, sound=\"Woof\"):\n",
    "        return f\"{self.name} says {sound}\"\n",
    "\n",
    "class GoldenRetriever(Dog):\n",
    "    def speak(self, sound=\"Bark\"):\n",
    "        return super().speak(sound)\n",
    "\n",
    "class Bulldog(Dog):\n",
    "    pass\n",
    "\n",
    "\n",
    "dogInst = Dog(\"MyDog\", 6)\n",
    "miles = JackRussellTerrier(\"Miles\", 4)\n",
    "buddy = Dachshund(\"Buddy\", 9)\n",
    "jack = Bulldog(\"Jack\", 3)\n",
    "jim = Bulldog(\"Jim\", 5)\n",
    "gr = GoldenRetriever(\"gr\", 5)\n",
    "\n",
    "print(isinstance(miles, Dog))\n",
    "print(isinstance(miles, Bulldog))\n",
    "\n",
    "print(miles.speak())\n",
    "print(jack.speak(\"BarkBark!\"))\n",
    "print(miles.speak(\"ArfModified\"))\n",
    "print(dogInst.speak(\"DogSound\"))\n",
    "print(gr.speak())\n"
   ]
  },
  {
   "cell_type": "code",
   "execution_count": null,
   "id": "b39c92d7",
   "metadata": {},
   "outputs": [],
   "source": []
  }
 ],
 "metadata": {
  "kernelspec": {
   "display_name": "env_train",
   "language": "python",
   "name": "python3"
  },
  "language_info": {
   "codemirror_mode": {
    "name": "ipython",
    "version": 3
   },
   "file_extension": ".py",
   "mimetype": "text/x-python",
   "name": "python",
   "nbconvert_exporter": "python",
   "pygments_lexer": "ipython3",
   "version": "3.13.0"
  }
 },
 "nbformat": 4,
 "nbformat_minor": 5
}
